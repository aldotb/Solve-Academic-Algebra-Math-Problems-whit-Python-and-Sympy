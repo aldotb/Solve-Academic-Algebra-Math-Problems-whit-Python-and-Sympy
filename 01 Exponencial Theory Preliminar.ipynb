{
 "cells": [
  {
   "cell_type": "code",
   "execution_count": 1,
   "id": "7a88009f-f351-42b1-b8cd-68f9931850b9",
   "metadata": {},
   "outputs": [],
   "source": [
    "#Nota: si hablas español vas a disfrutar este repositorio.. cagandote de risa \n",
    "from sympy import *   \n",
    "from libaldo_polyclass  import *\n",
    "from libaldo_lib import *\n",
    "from libaldo__util import *\n",
    "import lib_algebraEq as ae\n",
    "init_printing()\n",
    "x,y,z,m=symbols('x y z m')"
   ]
  },
  {
   "cell_type": "markdown",
   "id": "a5fd20d4-dde3-4529-a000-9185465813e6",
   "metadata": {},
   "source": [
    " <img src=\"images/pre1.png\" alt=\"ml\" style=\"width : 100%;\"/>"
   ]
  },
  {
   "cell_type": "code",
   "execution_count": 3,
   "id": "d8fd5ede-264d-4751-a6cb-0913b41db8cb",
   "metadata": {
    "tags": []
   },
   "outputs": [
    {
     "data": {
      "text/latex": [
       "$\\displaystyle This\\;library\\;only\\;help\\;you\\;to\\;find\\;algebrate\\;solution,\\;does\\;not\\;automatically\\;find\\;the\\;answers\\;is\\;not\\;fun\\;$"
      ],
      "text/plain": [
       "<IPython.core.display.Math object>"
      ]
     },
     "metadata": {},
     "output_type": "display_data"
    }
   ],
   "source": [
    "show_exp(['This library only help you to find algebrate  solution, does not automatically find the answers is not fun '])   "
   ]
  },
  {
   "cell_type": "code",
   "execution_count": 5,
   "id": "eb5aca13-94a7-4c82-a6f0-3a9ebdc3b604",
   "metadata": {},
   "outputs": [
    {
     "data": {
      "text/latex": [
       "$\\displaystyle if\\;x=5\\;and\\;3 x\\;=\\;3 x\\;then\\;f(10y)=\\;90 x\\;$"
      ],
      "text/plain": [
       "<IPython.core.display.Math object>"
      ]
     },
     "metadata": {},
     "output_type": "display_data"
    }
   ],
   "source": [
    "def f(x):\n",
    "    return(3*x)\n",
    "y=3*x\n",
    "show_exp(['if x=5 and',y,'=',3*x,'then ','f(10y)=',f(10*y) ])"
   ]
  },
  {
   "cell_type": "markdown",
   "id": "aa709acd-e9e6-4793-8532-6ba61189cc0e",
   "metadata": {},
   "source": [
    " <img src=\"images/pre2.png\" alt=\"ml\" style=\"width : 100%;\"/>"
   ]
  },
  {
   "cell_type": "code",
   "execution_count": 6,
   "id": "fcbea9a9-8639-446a-80b5-cd34149191e7",
   "metadata": {},
   "outputs": [
    {
     "data": {
      "image/png": "[encoded data removed]",
      "text/latex": [
       "$\\displaystyle 0.5$"
      ],
      "text/plain": [
       "0.5"
      ]
     },
     "execution_count": 6,
     "metadata": {},
     "output_type": "execute_result"
    }
   ],
   "source": [
    "x=1/2;x  # whit sympy..."
   ]
  },
  {
   "cell_type": "code",
   "execution_count": 7,
   "id": "3a1f28d1-e9e6-4675-a108-fcd90c37811b",
   "metadata": {},
   "outputs": [
    {
     "data": {
      "image/png": "[encoded data removed]",
      "text/latex": [
       "$\\displaystyle \\frac{1}{2}$"
      ],
      "text/plain": [
       "1/2"
      ]
     },
     "execution_count": 7,
     "metadata": {},
     "output_type": "execute_result"
    }
   ],
   "source": [
    "x=frs(1,2);x  # frs(numera,denom..).. ensure fration return if you need it"
   ]
  },
  {
   "cell_type": "code",
   "execution_count": 9,
   "id": "5acf05d7-5688-471d-b711-e92991bf5493",
   "metadata": {},
   "outputs": [
    {
     "data": {
      "image/png": "[encoded data removed]",
      "text/latex": [
       "$\\displaystyle 0.707106781186548$"
      ],
      "text/plain": [
       "0.707106781186548"
      ]
     },
     "execution_count": 9,
     "metadata": {},
     "output_type": "execute_result"
    }
   ],
   "source": [
    "x= pow(x,1/2);x # = sqrt(2)"
   ]
  },
  {
   "cell_type": "code",
   "execution_count": 13,
   "id": "50e69a48-866c-415a-a346-292fe880cd86",
   "metadata": {},
   "outputs": [
    {
     "data": {
      "image/png": "[encoded data removed]",
      "text/latex": [
       "$\\displaystyle \\sqrt{z}$"
      ],
      "text/plain": [
       "√z"
      ]
     },
     "execution_count": 13,
     "metadata": {},
     "output_type": "execute_result"
    }
   ],
   "source": [
    "rpow(z,2) # with rpow also ensure symbols return"
   ]
  },
  {
   "cell_type": "code",
   "execution_count": 18,
   "id": "4ce9088e-050b-4265-a9c7-9cbcf860cd46",
   "metadata": {},
   "outputs": [
    {
     "data": {
      "image/png": "[encoded data removed]",
      "text/latex": [
       "$\\displaystyle \\left(\\left(x^{y} + y^{x}\\right)^{z}\\right)^{\\frac{13}{5}}$"
      ],
      "text/plain": [
       "            13/5\n",
       "⎛         z⎞    \n",
       "⎜⎛ y    x⎞ ⎟    \n",
       "⎝⎝x  + y ⎠ ⎠    "
      ]
     },
     "execution_count": 18,
     "metadata": {},
     "output_type": "execute_result"
    }
   ],
   "source": [
    "x,y,z=symbols('x y z')  # put all together\n",
    "kpow(kpow((kpow(x,y)+kpow(y,x)),z),frs(13,5))"
   ]
  },
  {
   "cell_type": "markdown",
   "id": "64f5286a-5b2f-4975-bca2-8f5bc054d531",
   "metadata": {},
   "source": [
    " <img src=\"images/pre3.png\" alt=\"ml\" style=\"width : 100%;\"/>"
   ]
  },
  {
   "cell_type": "code",
   "execution_count": 26,
   "id": "de0346a4-5232-432b-a694-ecfaa31cc109",
   "metadata": {},
   "outputs": [
    {
     "data": {
      "image/png": "[encoded data removed]",
      "text/latex": [
       "$\\displaystyle 2 x^{2} + 2 x \\left(y + 1\\right) - \\left(x + y\\right)^{2}$"
      ],
      "text/plain": [
       "   2                        2\n",
       "2⋅x  + 2⋅x⋅(y + 1) - (x + y) "
      ]
     },
     "execution_count": 26,
     "metadata": {},
     "output_type": "execute_result"
    }
   ],
   "source": [
    "x,y,z=symbols('x y z')\n",
    "P=2*kpow(x,2)-kpow(x+y,2)+2*x*(y+1);P"
   ]
  },
  {
   "cell_type": "code",
   "execution_count": 28,
   "id": "ae91e90d-835d-4957-a110-82d7aaf45fa9",
   "metadata": {
    "tags": []
   },
   "outputs": [
    {
     "data": {
      "image/png": "[encoded data removed]",
      "text/latex": [
       "$\\displaystyle x^{2} + 2 x - y^{2}$"
      ],
      "text/plain": [
       " 2          2\n",
       "x  + 2⋅x - y "
      ]
     },
     "execution_count": 28,
     "metadata": {},
     "output_type": "execute_result"
    }
   ],
   "source": [
    "expand(P)"
   ]
  },
  {
   "cell_type": "markdown",
   "id": "8d047f4f-7bb7-4437-9771-e8128c851cc1",
   "metadata": {},
   "source": [
    " <img src=\"images/pre4.png\" alt=\"ml\" style=\"width : 100%;\"/>"
   ]
  },
  {
   "cell_type": "code",
   "execution_count": 34,
   "id": "47e8c8cc-4fd0-4964-8751-935cdf2c89bb",
   "metadata": {},
   "outputs": [
    {
     "data": {
      "text/latex": [
       "$\\displaystyle monomath(\\;\\left(x^{y}\\right)^{y}\\;'O')=\\;x^{y z}\\;$"
      ],
      "text/plain": [
       "<IPython.core.display.Math object>"
      ]
     },
     "metadata": {},
     "output_type": "display_data"
    }
   ],
   "source": [
    "x,y,z=symbols('x y z')\n",
    "# op = 'O', reduce exponente in monomie to only one\n",
    "show_exp(['monomath(',kpow(kpow(x,y),y),'\\'O\\')=',monomath(kpow(kpow(x,y),z),'O')])"
   ]
  },
  {
   "cell_type": "code",
   "execution_count": 4,
   "id": "2d864352-847a-49ce-942e-0eac28e43aa7",
   "metadata": {},
   "outputs": [
    {
     "data": {
      "text/latex": [
       "$\\displaystyle monomath(\\;x^{2 y^{2} z}\\;,'S')=\\;x^{2 y z + 2 y}\\;$"
      ],
      "text/plain": [
       "<IPython.core.display.Math object>"
      ]
     },
     "metadata": {},
     "output_type": "display_data"
    }
   ],
   "source": [
    "x,y,z=symbols('x y z')\n",
    "# op = 'S', expand exponente in monomie to Add\n",
    "show_exp(['monomath(',kpow(x,2*y*z*y),',\\'S\\')=',monomath(kpow(x,2*y*z+2*y),'S')])"
   ]
  },
  {
   "cell_type": "code",
   "execution_count": 39,
   "id": "999e27a1-da9b-4243-a116-e48264ffee79",
   "metadata": {},
   "outputs": [
    {
     "data": {
      "text/latex": [
       "$\\displaystyle monomath(\\;x^{2 y z + y}\\;'S')=\\;x^{y \\left(2 z + 1\\right)}\\;$"
      ],
      "text/plain": [
       "<IPython.core.display.Math object>"
      ]
     },
     "metadata": {},
     "output_type": "display_data"
    }
   ],
   "source": [
    "x,y,z=symbols('x y z')\n",
    "# op = 'F', factorize exponent\n",
    "show_exp(['monomath(',kpow(x,2*y*z+y),'\\'S\\')=',monomath(kpow(x,2*y*z+y),'F')])"
   ]
  },
  {
   "cell_type": "markdown",
   "id": "75713715-8065-4aea-b720-13d0e533d5d4",
   "metadata": {},
   "source": [
    " <img src=\"images/pre5.png\" alt=\"ml\" style=\"width : 100%;\"/>"
   ]
  },
  {
   "cell_type": "code",
   "execution_count": 35,
   "id": "e4bf872a-7fd1-4a65-83a9-b7a176f255f7",
   "metadata": {},
   "outputs": [
    {
     "data": {
      "text/latex": [
       "$\\displaystyle all\\;letters\\;includinn\\;in\\;op1\\;will\\;be\\;ejecuted\\;$"
      ],
      "text/plain": [
       "<IPython.core.display.Math object>"
      ]
     },
     "metadata": {},
     "output_type": "display_data"
    },
    {
     "data": {
      "text/latex": [
       "$\\displaystyle monomath(f(x),SeOf...)\\;or\\;Eq.polymath(SeOf..)\\;$"
      ],
      "text/plain": [
       "<IPython.core.display.Math object>"
      ]
     },
     "metadata": {},
     "output_type": "display_data"
    },
    {
     "data": {
      "text/latex": [
       "$\\displaystyle O\\;=\\;\\left(x^{a}\\right)^{b}\\;to\\;x^{a b}\\;$"
      ],
      "text/plain": [
       "<IPython.core.display.Math object>"
      ]
     },
     "metadata": {},
     "output_type": "display_data"
    },
    {
     "data": {
      "text/latex": [
       "$\\displaystyle S\\;=\\;x^{a}\\;to\\;x^{b + c}\\;$"
      ],
      "text/plain": [
       "<IPython.core.display.Math object>"
      ]
     },
     "metadata": {},
     "output_type": "display_data"
    },
    {
     "data": {
      "text/latex": [
       "$\\displaystyle F\\;=\\;x^{a}\\;to\\;x^{b c}\\;$"
      ],
      "text/plain": [
       "<IPython.core.display.Math object>"
      ]
     },
     "metadata": {},
     "output_type": "display_data"
    },
    {
     "data": {
      "text/latex": [
       "$\\displaystyle e\\;expand,\\;f\\;factor,\\;s\\;implify,\\;1\\;only\\;left\\;Eq,\\;2\\;only\\;right\\;Eq\\;$"
      ],
      "text/plain": [
       "<IPython.core.display.Math object>"
      ]
     },
     "metadata": {},
     "output_type": "display_data"
    }
   ],
   "source": [
    "monomath()"
   ]
  },
  {
   "cell_type": "markdown",
   "id": "9753f123-6915-49c8-9c7b-0e9405a944aa",
   "metadata": {},
   "source": [
    " <img src=\"images/pre6.png\" alt=\"ml\" style=\"width : 100%;\"/>"
   ]
  },
  {
   "cell_type": "markdown",
   "id": "459425a0-cbae-4c7a-b101-c9d90f5c72a4",
   "metadata": {},
   "source": [
    " <img src=\"images/linep.png\" alt=\"ml\" style=\"width : 100%;\"/>"
   ]
  },
  {
   "cell_type": "markdown",
   "id": "5b63e7c6-24f7-4e24-8d9e-b61e31ef7bc6",
   "metadata": {},
   "source": [
    " <img src=\"images/preg1.png\" alt=\"ml\" style=\"width : 100%;\"/>"
   ]
  },
  {
   "cell_type": "code",
   "execution_count": 1,
   "id": "ddb41056-5f59-480d-a6ce-110ab29796a4",
   "metadata": {},
   "outputs": [],
   "source": [
    "#Nota: si hablas español vas a disfrutar este repositorio.. cagandote de risa \n",
    "from sympy import *   \n",
    "from libaldo_polyclass  import *\n",
    "from libaldo_lib import *\n",
    "from libaldo__util import *\n",
    "import lib_algebraEq as ae\n",
    "init_printing()\n",
    "x,y,z,a,b,c,d=symbols('x y z a b c d')"
   ]
  },
  {
   "cell_type": "code",
   "execution_count": 7,
   "id": "2877aa9f-34ed-42b0-b667-f7bbcefaa9d5",
   "metadata": {
    "tags": []
   },
   "outputs": [
    {
     "data": {
      "image/png": "[encoded data removed]",
      "text/latex": [
       "$\\displaystyle x^{2 a - 2} y^{3 b} \\left(a + b\\right)$"
      ],
      "text/plain": [
       " 2⋅a - 2  3⋅b        \n",
       "x       ⋅y   ⋅(a + b)"
      ]
     },
     "execution_count": 7,
     "metadata": {},
     "output_type": "execute_result"
    }
   ],
   "source": [
    "x,y,a,b=symbols('x y a b')\n",
    "M=(a+b)*kpow(x,2*(a-1))*kpow(y,3*b);M"
   ]
  },
  {
   "cell_type": "markdown",
   "id": "1eb80667-0536-4358-b7fc-88a60e68d9f8",
   "metadata": {},
   "source": [
    " <img src=\"images/linesex.png\" alt=\"ml\" style=\"width : 100%;\"/>"
   ]
  },
  {
   "cell_type": "code",
   "execution_count": 8,
   "id": "f1c1588a-bae0-4cb6-bcc2-b9840adc860e",
   "metadata": {},
   "outputs": [
    {
     "data": {
      "image/png": "[encoded data removed]",
      "text/latex": [
       "$\\displaystyle 5 x^{2} y^{6}$"
      ],
      "text/plain": [
       "   2  6\n",
       "5⋅x ⋅y "
      ]
     },
     "execution_count": 8,
     "metadata": {},
     "output_type": "execute_result"
    }
   ],
   "source": [
    "# function get_exp_in_mono(P())\n",
    "P=5*kpow(x,2)*kpow(y,6);P"
   ]
  },
  {
   "cell_type": "code",
   "execution_count": 9,
   "id": "df5e02bf-b621-4a28-8bfb-df76e23019dc",
   "metadata": {},
   "outputs": [
    {
     "data": {
      "image/png": "[encoded data removed]",
      "text/latex": [
       "$\\displaystyle 2$"
      ],
      "text/plain": [
       "2"
      ]
     },
     "execution_count": 9,
     "metadata": {},
     "output_type": "execute_result"
    }
   ],
   "source": [
    "get_exp_in_mono(P,x) # return the exponent from x variable in P monomial"
   ]
  },
  {
   "cell_type": "code",
   "execution_count": 10,
   "id": "81c61d49-e9b2-4076-bdde-ab93026f1462",
   "metadata": {},
   "outputs": [
    {
     "data": {
      "image/png": "[encoded data removed]",
      "text/latex": [
       "$\\displaystyle 6$"
      ],
      "text/plain": [
       "6"
      ]
     },
     "execution_count": 10,
     "metadata": {},
     "output_type": "execute_result"
    }
   ],
   "source": [
    "get_exp_in_mono(P,y) # return the exponent from y variable in P monomial"
   ]
  },
  {
   "cell_type": "code",
   "execution_count": 11,
   "id": "e41f0cad-aa44-4a0a-a71c-0392d8f8d9eb",
   "metadata": {
    "tags": []
   },
   "outputs": [
    {
     "data": {
      "image/png": "[encoded data removed]",
      "text/latex": [
       "$\\displaystyle 5 x^{2} y^{6}$"
      ],
      "text/plain": [
       "   2  6\n",
       "5⋅x ⋅y "
      ]
     },
     "execution_count": 11,
     "metadata": {},
     "output_type": "execute_result"
    }
   ],
   "source": [
    "get_exp_in_mono(P,z) # return P if not find z"
   ]
  },
  {
   "cell_type": "markdown",
   "id": "0c60e209-82ed-4bd5-bca0-4dfbb5104592",
   "metadata": {},
   "source": [
    " <img src=\"images/linesexe.png\" alt=\"ml\" style=\"width : 100%;\"/>"
   ]
  },
  {
   "cell_type": "markdown",
   "id": "27587820-0c13-4343-bbea-eb36c34e2b7b",
   "metadata": {},
   "source": [
    " <img src=\"images/preg1.png\" alt=\"ml\" style=\"width : 100%;\"/>"
   ]
  },
  {
   "cell_type": "code",
   "execution_count": 12,
   "id": "b2d741e1-f694-418f-ba5f-2846d97f37c3",
   "metadata": {},
   "outputs": [
    {
     "data": {
      "image/png": "[encoded data removed]",
      "text/latex": [
       "$\\displaystyle 2 a - 2$"
      ],
      "text/plain": [
       "2⋅a - 2"
      ]
     },
     "execution_count": 12,
     "metadata": {},
     "output_type": "execute_result"
    }
   ],
   "source": [
    "get_exp_in_mono(M,x)"
   ]
  },
  {
   "cell_type": "code",
   "execution_count": 15,
   "id": "3023a88e-6582-4783-bfdc-e2d73742c029",
   "metadata": {
    "tags": []
   },
   "outputs": [
    {
     "data": {
      "text/latex": [
       "$\\displaystyle we\\;will\\;solve\\;function\\;from\\;sympy\\;to\\;get\\;b,\\;a + b\\;=\\;2 a - 2\\;$"
      ],
      "text/plain": [
       "<IPython.core.display.Math object>"
      ]
     },
     "metadata": {},
     "output_type": "display_data"
    }
   ],
   "source": [
    "show_exp(['we will solve function from sympy to  get b,',a+b,'=',get_exp_in_mono(M,x)])"
   ]
  },
  {
   "cell_type": "code",
   "execution_count": 16,
   "id": "f16d53b5-3841-41f7-8b67-267633e4846e",
   "metadata": {
    "tags": []
   },
   "outputs": [
    {
     "data": {
      "image/png": "[encoded data removed]",
      "text/latex": [
       "$\\displaystyle \\left[ a - 2\\right]$"
      ],
      "text/plain": [
       "[a - 2]"
      ]
     },
     "execution_count": 16,
     "metadata": {},
     "output_type": "execute_result"
    }
   ],
   "source": [
    "solve(a+b-get_exp_in_mono(M,x),b)"
   ]
  },
  {
   "cell_type": "markdown",
   "id": "430b94b8-6ea1-4351-9b7c-acef5c1184ff",
   "metadata": {},
   "source": [
    " <img src=\"images/pre7.png\" alt=\"ml\" style=\"width : 100%;\"/>"
   ]
  },
  {
   "cell_type": "code",
   "execution_count": 17,
   "id": "6fd230c4-0328-4e82-8f6d-c5d5278ab9df",
   "metadata": {},
   "outputs": [
    {
     "data": {
      "text/latex": [
       "$\\displaystyle b1 =a - 2$"
      ],
      "text/plain": [
       "<IPython.core.display.Math object>"
      ]
     },
     "metadata": {},
     "output_type": "display_data"
    }
   ],
   "source": [
    "# solve from sympy return a matriz and we  need transfor to used value\n",
    "# instead csolve   return a simple answer and also store in variable\n",
    "b1=csolve(a+b-get_exp_in_mono(M,x),b,'b1')  "
   ]
  },
  {
   "cell_type": "code",
   "execution_count": null,
   "id": "e0005a30-919f-4c89-af51-bdc71c912c86",
   "metadata": {},
   "outputs": [],
   "source": [
    "# take note that use temp var b1 and not b becuase is better when subs "
   ]
  },
  {
   "cell_type": "code",
   "execution_count": 18,
   "id": "91e1f814-8f65-4a86-b209-44bff1cc4fac",
   "metadata": {},
   "outputs": [
    {
     "data": {
      "image/png": "[encoded data removed]",
      "text/latex": [
       "$\\displaystyle 2 a + 3 b - 2$"
      ],
      "text/plain": [
       "2⋅a + 3⋅b - 2"
      ]
     },
     "execution_count": 18,
     "metadata": {},
     "output_type": "execute_result"
    }
   ],
   "source": [
    "Se=get_exp_in_mono(M,x)+get_exp_in_mono(M,y);Se # Se = sum of grde mono.."
   ]
  },
  {
   "cell_type": "code",
   "execution_count": 20,
   "id": "eecf906a-4f69-4684-99db-22f102a17294",
   "metadata": {},
   "outputs": [
    {
     "data": {
      "text/latex": [
       "$\\displaystyle a =5$"
      ],
      "text/plain": [
       "<IPython.core.display.Math object>"
      ]
     },
     "metadata": {},
     "output_type": "display_data"
    }
   ],
   "source": [
    "a1=csolve(Se.subs(b,a-2)-17,a,'a') # agin store in a1 ,no on a and 'a' to nice view"
   ]
  },
  {
   "cell_type": "code",
   "execution_count": 21,
   "id": "a880d342-126e-4769-9f38-1e91695d1e0b",
   "metadata": {},
   "outputs": [
    {
     "data": {
      "text/latex": [
       "$\\displaystyle if\\;a\\;=5\\;and\\;b=a-2\\;then\\;b=3\\;$"
      ],
      "text/plain": [
       "<IPython.core.display.Math object>"
      ]
     },
     "metadata": {},
     "output_type": "display_data"
    }
   ],
   "source": [
    "show_exp(['if a =5 and b=a-2 then b=3'])"
   ]
  },
  {
   "cell_type": "markdown",
   "id": "1c959a55-bb24-4910-abe2-7bf22a10fac2",
   "metadata": {},
   "source": [
    " <img src=\"images/linep.png\" alt=\"ml\" style=\"width : 100%;\"/>"
   ]
  },
  {
   "cell_type": "markdown",
   "id": "1ba5eebd-5515-4ba4-ac0b-c3a051441aa8",
   "metadata": {},
   "source": [
    " <img src=\"images/preg2.png\" alt=\"ml\" style=\"width : 100%;\"/>"
   ]
  },
  {
   "cell_type": "code",
   "execution_count": 22,
   "id": "8a7dd047-c50a-41dd-bd24-4d3f246fcf5c",
   "metadata": {},
   "outputs": [
    {
     "data": {
      "image/png": "[encoded data removed]",
      "text/latex": [
       "$\\displaystyle \\frac{1}{b + c} + \\frac{1}{b - c} + \\frac{1}{a + b} + \\frac{1}{- a + b}$"
      ],
      "text/plain": [
       "  1       1       1       1   \n",
       "───── + ───── + ───── + ──────\n",
       "b + c   b - c   a + b   -a + b"
      ]
     },
     "execution_count": 22,
     "metadata": {},
     "output_type": "execute_result"
    }
   ],
   "source": [
    "P=kpow(b+c,-1)+kpow(b-a,-1)+kpow(b-c,-1)+kpow(b+a,-1);P"
   ]
  },
  {
   "cell_type": "code",
   "execution_count": 23,
   "id": "56d69f7b-1d6e-4620-a493-d1389c079e48",
   "metadata": {},
   "outputs": [
    {
     "data": {
      "image/png": "[encoded data removed]",
      "text/latex": [
       "$\\displaystyle \\frac{2 b \\left(a^{2} - 2 b^{2} + c^{2}\\right)}{\\left(a - b\\right) \\left(a + b\\right) \\left(b - c\\right) \\left(b + c\\right)}$"
      ],
      "text/plain": [
       "          ⎛ 2      2    2⎞     \n",
       "      2⋅b⋅⎝a  - 2⋅b  + c ⎠     \n",
       "───────────────────────────────\n",
       "(a - b)⋅(a + b)⋅(b - c)⋅(b + c)"
      ]
     },
     "execution_count": 23,
     "metadata": {},
     "output_type": "execute_result"
    }
   ],
   "source": [
    "factor(P)"
   ]
  },
  {
   "cell_type": "code",
   "execution_count": 24,
   "id": "ffdd0e8a-eb73-453c-b5c4-1976f1f98b09",
   "metadata": {},
   "outputs": [
    {
     "data": {
      "image/png": "[encoded data removed]",
      "text/latex": [
       "$\\displaystyle a^{2} - 2 b^{2} + c^{2}$"
      ],
      "text/plain": [
       " 2      2    2\n",
       "a  - 2⋅b  + c "
      ]
     },
     "execution_count": 24,
     "metadata": {},
     "output_type": "execute_result"
    }
   ],
   "source": [
    "# to get the upper second monomie make...\n",
    "numer(factor(P))/(2*b)"
   ]
  },
  {
   "cell_type": "markdown",
   "id": "d56835e6-212e-463a-ad25-e97bee4714a8",
   "metadata": {},
   "source": [
    " <img src=\"images/linesex.png\" alt=\"ml\" style=\"width : 100%;\"/>"
   ]
  },
  {
   "cell_type": "code",
   "execution_count": null,
   "id": "22bead5e-efa8-47d1-84cc-6c23e508dd85",
   "metadata": {},
   "outputs": [],
   "source": [
    "# Note : Please review factor, simplify ,expand, numer, denom function from \n",
    "#        Sympy library to understand opemath()\n",
    "# opemath() function make the upper function describe in order follow op2\n",
    "# f=factor,e=expand,s=simplify,N=numerator,D=denominator...\n",
    "#  opemath(P,'eNfsDef.... ') first expand P, later get Numer from answer...\n",
    "#  later factor... later.....\n"
   ]
  },
  {
   "cell_type": "code",
   "execution_count": 25,
   "id": "a0de10c8-1cc9-4f01-b72c-ea03cf0a3988",
   "metadata": {},
   "outputs": [
    {
     "data": {
      "text/latex": [
       "$\\displaystyle  =\\left[ \\mathtt{\\text{P=}}, \\  \\frac{1}{b + c} + \\frac{1}{b - c} + \\frac{1}{a + b} + \\frac{1}{- a + b}, \\  \\mathtt{\\text{if we want}}, \\  a^{2} - 2 b^{2}, \\  \\mathtt{\\text{we use opemath(P}}, \\  \\mathtt{\\text{'fN'}}, \\  \\mathtt{\\text{)}}\\right]$"
      ],
      "text/plain": [
       "<IPython.core.display.Math object>"
      ]
     },
     "metadata": {},
     "output_type": "display_data"
    },
    {
     "data": {
      "image/png": "[encoded data removed]",
      "text/latex": [
       "$\\displaystyle a^{2} - 2 b^{2} + c^{2}$"
      ],
      "text/plain": [
       " 2      2    2\n",
       "a  - 2⋅b  + c "
      ]
     },
     "execution_count": 25,
     "metadata": {},
     "output_type": "execute_result"
    }
   ],
   "source": [
    "show_res(['P=',P, 'if we want', a*a-2*b*b,'we use opemath(P','\\'fN\\'',')'])\n",
    "opemath(P,'fN')/(2*b)"
   ]
  },
  {
   "cell_type": "markdown",
   "id": "4ef4f0c1-ee42-4752-b1ab-2b3408d47c6a",
   "metadata": {},
   "source": [
    " <img src=\"images/linesexe.png\" alt=\"ml\" style=\"width : 100%;\"/>"
   ]
  },
  {
   "cell_type": "code",
   "execution_count": 26,
   "id": "6dfe6b51-4ee5-46e4-9a94-f66467b0f42b",
   "metadata": {},
   "outputs": [
    {
     "data": {
      "text/latex": [
       "$\\displaystyle note\\;1:\\;from\\;upper\\;\\frac{\\frac{1}{b + c} + \\frac{1}{b - c} + \\frac{1}{a + b} + \\frac{1}{- a + b}}{2 b}\\;=\\;0\\;then\\;2 b^{2}\\;=\\;a^{2} + c^{2}\\;$"
      ],
      "text/plain": [
       "<IPython.core.display.Math object>"
      ]
     },
     "metadata": {},
     "output_type": "display_data"
    }
   ],
   "source": [
    "show_exp(['note 1: from upper ',numer(P)/(2*b),'=',0,'then',2*b*b,'=',a*a+c*c])"
   ]
  },
  {
   "cell_type": "code",
   "execution_count": 27,
   "id": "066215a5-0fae-43e8-8525-4db09d946b9e",
   "metadata": {},
   "outputs": [
    {
     "data": {
      "image/png": "[encoded data removed]",
      "text/latex": [
       "$\\displaystyle \\frac{a + c}{b + c} + \\frac{a + c}{a + b}$"
      ],
      "text/plain": [
       "a + c   a + c\n",
       "───── + ─────\n",
       "b + c   a + b"
      ]
     },
     "execution_count": 27,
     "metadata": {},
     "output_type": "execute_result"
    }
   ],
   "source": [
    "G=(c+a)/(a+b)+(a+c)/(b+c);G"
   ]
  },
  {
   "cell_type": "code",
   "execution_count": 29,
   "id": "f20cc279-804f-4931-83ad-6d4aa71b839b",
   "metadata": {},
   "outputs": [
    {
     "data": {
      "text/latex": [
       "$\\displaystyle G =\\frac{\\left(a + c\\right) \\left(a + 2 b + c\\right)}{\\left(a + b\\right) \\left(b + c\\right)}$"
      ],
      "text/plain": [
       "<IPython.core.display.Math object>"
      ]
     },
     "metadata": {},
     "output_type": "display_data"
    }
   ],
   "source": [
    "show_res(opemath(G,'f'),'G')"
   ]
  },
  {
   "cell_type": "code",
   "execution_count": 31,
   "id": "366b3706-00d5-4668-a13d-5ab2ab9e84c7",
   "metadata": {},
   "outputs": [
    {
     "data": {
      "image/png": "[encoded data removed]",
      "text/latex": [
       "$\\displaystyle a^{2} + 2 a b + 2 a c + 2 b c + c^{2}$"
      ],
      "text/plain": [
       " 2                            2\n",
       "a  + 2⋅a⋅b + 2⋅a⋅c + 2⋅b⋅c + c "
      ]
     },
     "execution_count": 31,
     "metadata": {},
     "output_type": "execute_result"
    }
   ],
   "source": [
    "# G1=opemath(G,'fNe') = \n",
    "#   1. f.. applied  factor to G\n",
    "#   2. N.. get only numertor, \n",
    "#   3. e.. and this expand please and send me \n",
    "G1=opemath(G,'fNe');G1 # 1. appli factor, 2. get only numertor, 3. expand this"
   ]
  },
  {
   "cell_type": "code",
   "execution_count": 38,
   "id": "45f0f8ec-f2cd-4d94-94f3-c942354dbaf9",
   "metadata": {},
   "outputs": [
    {
     "data": {
      "image/png": "[encoded data removed]",
      "text/latex": [
       "$\\displaystyle a b + a c + b^{2} + b c$"
      ],
      "text/plain": [
       "             2      \n",
       "a⋅b + a⋅c + b  + b⋅c"
      ]
     },
     "execution_count": 38,
     "metadata": {},
     "output_type": "execute_result"
    }
   ],
   "source": [
    "G2=opemath(G,'fDe');G2 # factor,get Denominator, expand"
   ]
  },
  {
   "cell_type": "markdown",
   "id": "d729c692-17ec-4d5f-96e1-8eea7cad513f",
   "metadata": {},
   "source": [
    " <img src=\"images/linesex.png\" alt=\"ml\" style=\"width : 100%;\"/>"
   ]
  },
  {
   "cell_type": "markdown",
   "id": "5dd4b126-20cd-4db9-9761-fd7a5e70e422",
   "metadata": {},
   "source": [
    " <img src=\"images/pre9.png\" alt=\"ml\" style=\"width : 100%;\"/>"
   ]
  },
  {
   "cell_type": "code",
   "execution_count": 39,
   "id": "2e0e61ec-133d-4ede-be47-d0c489947220",
   "metadata": {},
   "outputs": [
    {
     "data": {
      "text/latex": [
       "$\\displaystyle rememeber\\;that\\;a^{2} + c^{2}\\;=\\;2 b^{2}\\;$"
      ],
      "text/plain": [
       "<IPython.core.display.Math object>"
      ]
     },
     "metadata": {},
     "output_type": "display_data"
    },
    {
     "data": {
      "text/latex": [
       "$\\displaystyle then...\\;G1=\\;2 a b + 2 a c + 2 b^{2} + 2 b c\\;$"
      ],
      "text/plain": [
       "<IPython.core.display.Math object>"
      ]
     },
     "metadata": {},
     "output_type": "display_data"
    }
   ],
   "source": [
    "show_exp(['rememeber that',a*a+c*c,'=',2*b*b])\n",
    "G1=G1.subs(a*a+c*c,2*b*b);\n",
    "show_exp(['then... G1=',G1])"
   ]
  },
  {
   "cell_type": "code",
   "execution_count": 41,
   "id": "8c4fae6b-b908-44b7-8f13-fb1e0a061141",
   "metadata": {},
   "outputs": [
    {
     "data": {
      "image/png": "[encoded data removed]",
      "text/latex": [
       "$\\displaystyle \\frac{2 a b + 2 a c + 2 b^{2} + 2 b c}{a b + a c + b^{2} + b c}$"
      ],
      "text/plain": [
       "                   2        \n",
       "2⋅a⋅b + 2⋅a⋅c + 2⋅b  + 2⋅b⋅c\n",
       "────────────────────────────\n",
       "                 2          \n",
       "    a⋅b + a⋅c + b  + b⋅c    "
      ]
     },
     "execution_count": 41,
     "metadata": {},
     "output_type": "execute_result"
    }
   ],
   "source": [
    "G1/G2"
   ]
  },
  {
   "cell_type": "code",
   "execution_count": 42,
   "id": "a6d0f1b5-6c01-4cc3-946b-45c3e8d89fd1",
   "metadata": {},
   "outputs": [
    {
     "data": {
      "image/png": "[encoded data removed]",
      "text/latex": [
       "$\\displaystyle 2$"
      ],
      "text/plain": [
       "2"
      ]
     },
     "execution_count": 42,
     "metadata": {},
     "output_type": "execute_result"
    }
   ],
   "source": [
    "# better used factor a simplify\n",
    "opemath(G1/G2,'fs') # voalaaa"
   ]
  },
  {
   "cell_type": "markdown",
   "id": "7aa80d24-672b-44ce-97e1-a50f752bf1eb",
   "metadata": {},
   "source": [
    " <img src=\"images/linesex.png\" alt=\"ml\" style=\"width : 100%;\"/>"
   ]
  },
  {
   "cell_type": "markdown",
   "id": "8bd4e377-73ad-4900-b8ea-424c097a0a92",
   "metadata": {},
   "source": [
    " <img src=\"images/pre8.png\" alt=\"ml\" style=\"width : 100%;\"/>"
   ]
  },
  {
   "cell_type": "markdown",
   "id": "dcbcd022-11fc-4dbc-8900-fac053283483",
   "metadata": {},
   "source": [
    " <img src=\"images/linep.png\" alt=\"ml\" style=\"width : 100%;\"/>"
   ]
  },
  {
   "cell_type": "markdown",
   "id": "207de95e-9619-4c97-9c96-3007bcf72ceb",
   "metadata": {},
   "source": [
    " <img src=\"images/p1.png\" alt=\"ml\" style=\"width : 100%;\"/>"
   ]
  },
  {
   "cell_type": "markdown",
   "id": "df93db38-6bcd-4dd6-9c6e-306b74aedd72",
   "metadata": {
    "tags": []
   },
   "source": [
    " <img src=\"images/linesex.png\" alt=\"ml\" style=\"width : 100%;\"/>"
   ]
  },
  {
   "cell_type": "markdown",
   "id": "dba9ac23-b6b6-4b85-8d45-f702bbdfa4d4",
   "metadata": {},
   "source": [
    " <img src=\"images/tut001.png\" alt=\"ml\" style=\"width :100%;\"/>"
   ]
  },
  {
   "cell_type": "code",
   "execution_count": 46,
   "id": "d3378c7b-75e0-4d8f-91ae-de8687b8f51e",
   "metadata": {
    "tags": []
   },
   "outputs": [
    {
     "data": {
      "text/latex": [
       "$\\displaystyle P=\\;x^{2 x^{x + 2}} x^{x^{x + 3}}\\;$"
      ],
      "text/plain": [
       "<IPython.core.display.Math object>"
      ]
     },
     "metadata": {},
     "output_type": "display_data"
    }
   ],
   "source": [
    "P=monoclass( x**(x**(x+3))*(x**(2*x**(x+2))))\n",
    "show_exp(['P=',P.Q]) "
   ]
  },
  {
   "cell_type": "code",
   "execution_count": 47,
   "id": "9995bb69-5aae-4749-97a7-b597c97d78fd",
   "metadata": {
    "tags": []
   },
   "outputs": [
    {
     "data": {
      "text/latex": [
       "$\\displaystyle Q=\\;a^{a^{\\frac{1 - a}{a}}}\\;$"
      ],
      "text/plain": [
       "<IPython.core.display.Math object>"
      ]
     },
     "metadata": {},
     "output_type": "display_data"
    }
   ],
   "source": [
    "Q=monoclass(a**(a**((1-a)/a)))\n",
    "show_exp(['Q=',Q.Q])"
   ]
  },
  {
   "cell_type": "code",
   "execution_count": 49,
   "id": "28784019-fca7-4008-afd5-6463a24a0be0",
   "metadata": {
    "tags": []
   },
   "outputs": [
    {
     "data": {
      "text/latex": [
       "$\\displaystyle W=\\;x^{2 x^{x + 2}} x^{x^{x + 3}}=a^{a^{\\frac{1 - a}{a}}}\\;$"
      ],
      "text/plain": [
       "<IPython.core.display.Math object>"
      ]
     },
     "metadata": {},
     "output_type": "display_data"
    }
   ],
   "source": [
    "# Create our Equation algebrate expresion\n",
    "W=polyclass(P.Q,Q.Q)\n",
    "show_exp(['W=',W.Q])"
   ]
  },
  {
   "cell_type": "code",
   "execution_count": 51,
   "id": "1a67f33d-ac85-42b8-923d-6287109ac566",
   "metadata": {},
   "outputs": [
    {
     "data": {
      "text/latex": [
       "$\\displaystyle id\\;valid\\;too\\;W=polyclass(\\;x^{2 x^{x + 2}} x^{x^{x + 3}}\\;,\\;a^{a^{\\frac{1 - a}{a}}}\\;)\\;$"
      ],
      "text/plain": [
       "<IPython.core.display.Math object>"
      ]
     },
     "metadata": {},
     "output_type": "display_data"
    }
   ],
   "source": [
    "show_exp(['id valid too W=polyclass(',P.Q,',',Q.Q,')'])"
   ]
  },
  {
   "cell_type": "code",
   "execution_count": 52,
   "id": "83108188-42ab-4a43-8d2f-a62bf6bfcc59",
   "metadata": {
    "tags": []
   },
   "outputs": [
    {
     "data": {
      "image/png": "[encoded data removed]",
      "text/latex": [
       "$\\displaystyle x^{2 x^{x + 2}} x^{x^{x + 3}}$"
      ],
      "text/plain": [
       "    x + 2  ⎛ x + 3⎞\n",
       " 2⋅x       ⎝x     ⎠\n",
       "x        ⋅x        "
      ]
     },
     "execution_count": 52,
     "metadata": {},
     "output_type": "execute_result"
    }
   ],
   "source": [
    "W.q1  # to get   left side eq"
   ]
  },
  {
   "cell_type": "code",
   "execution_count": 53,
   "id": "92d8b45b-4db3-449a-9834-2440ee63bcbd",
   "metadata": {
    "tags": []
   },
   "outputs": [
    {
     "data": {
      "image/png": "[encoded data removed]",
      "text/latex": [
       "$\\displaystyle a^{a^{\\frac{1 - a}{a}}}$"
      ],
      "text/plain": [
       " ⎛ 1 - a⎞\n",
       " ⎜ ─────⎟\n",
       " ⎜   a  ⎟\n",
       " ⎝a     ⎠\n",
       "a        "
      ]
     },
     "execution_count": 53,
     "metadata": {},
     "output_type": "execute_result"
    }
   ],
   "source": [
    "W.q2  # to get right side eq"
   ]
  },
  {
   "cell_type": "markdown",
   "id": "05dd46e1-3e18-4d5f-bac4-357d1725db71",
   "metadata": {
    "tags": []
   },
   "source": [
    " <img src=\"images/linesexe.png\" alt=\"ml\" style=\"width : 100%;\"/>"
   ]
  },
  {
   "cell_type": "code",
   "execution_count": 59,
   "id": "1ed211be-0115-4159-a7bc-78cb0d3325c3",
   "metadata": {},
   "outputs": [
    {
     "data": {
      "image/png": "[encoded data removed]",
      "text/latex": [
       "$\\displaystyle x^{2 x^{x + 2}} x^{x^{x + 3}}=a^{a^{\\frac{1 - a}{a}}}$"
      ],
      "text/plain": [
       "x**(2*x**(x + 2))*x**(x**(x + 3))=a**(a**((1 - a)/a))"
      ]
     },
     "execution_count": 59,
     "metadata": {},
     "output_type": "execute_result"
    }
   ],
   "source": [
    "W.Q"
   ]
  },
  {
   "cell_type": "code",
   "execution_count": 62,
   "id": "c752152a-b754-4471-ad07-d721c6ea26da",
   "metadata": {},
   "outputs": [
    {
     "data": {
      "text/latex": [
       "$\\displaystyle all\\;letters\\;includinn\\;in\\;op1\\;will\\;be\\;ejecuted\\;$"
      ],
      "text/plain": [
       "<IPython.core.display.Math object>"
      ]
     },
     "metadata": {},
     "output_type": "display_data"
    },
    {
     "data": {
      "text/latex": [
       "$\\displaystyle monomath(f(x),SeOf...)\\;or\\;Eq.polymath(SeOf..)\\;$"
      ],
      "text/plain": [
       "<IPython.core.display.Math object>"
      ]
     },
     "metadata": {},
     "output_type": "display_data"
    },
    {
     "data": {
      "text/latex": [
       "$\\displaystyle O\\;=\\;\\left(x^{a}\\right)^{b}\\;to\\;x^{a b}\\;$"
      ],
      "text/plain": [
       "<IPython.core.display.Math object>"
      ]
     },
     "metadata": {},
     "output_type": "display_data"
    },
    {
     "data": {
      "text/latex": [
       "$\\displaystyle S\\;=\\;x^{a}\\;to\\;x^{b + c}\\;$"
      ],
      "text/plain": [
       "<IPython.core.display.Math object>"
      ]
     },
     "metadata": {},
     "output_type": "display_data"
    },
    {
     "data": {
      "text/latex": [
       "$\\displaystyle F\\;=\\;x^{a}\\;to\\;x^{b c}\\;$"
      ],
      "text/plain": [
       "<IPython.core.display.Math object>"
      ]
     },
     "metadata": {},
     "output_type": "display_data"
    },
    {
     "data": {
      "text/latex": [
       "$\\displaystyle e\\;expand,\\;f\\;factor,\\;s\\;implify,\\;1\\;only\\;left\\;Eq,\\;2\\;only\\;right\\;Eq\\;$"
      ],
      "text/plain": [
       "<IPython.core.display.Math object>"
      ]
     },
     "metadata": {},
     "output_type": "display_data"
    }
   ],
   "source": [
    "W.polymath()"
   ]
  },
  {
   "cell_type": "code",
   "execution_count": 65,
   "id": "e0c77163-5e93-444c-b9de-4f18cbc643f9",
   "metadata": {
    "tags": []
   },
   "outputs": [
    {
     "data": {
      "text/latex": [
       "$\\displaystyle we\\;will\\;make\\;e1=\\;x^{x + 2}\\;$"
      ],
      "text/plain": [
       "<IPython.core.display.Math object>"
      ]
     },
     "metadata": {},
     "output_type": "display_data"
    }
   ],
   "source": [
    "show_exp(['we will make e1= ',kpow(x,x+2)])\n",
    "e1=kpow(x,x+2)"
   ]
  },
  {
   "cell_type": "code",
   "execution_count": 66,
   "id": "f525b21a-d24d-4b44-beda-0a15ea64075e",
   "metadata": {
    "tags": []
   },
   "outputs": [
    {
     "data": {
      "text/latex": [
       "$\\displaystyle we\\;will\\;make\\;e2=\\;a^{\\frac{1}{a}}\\;$"
      ],
      "text/plain": [
       "<IPython.core.display.Math object>"
      ]
     },
     "metadata": {},
     "output_type": "display_data"
    }
   ],
   "source": [
    "show_exp(['we will make e2= ',kpow(a,1/a)])\n",
    "e2=kpow(a,1/a)"
   ]
  },
  {
   "cell_type": "code",
   "execution_count": 67,
   "id": "0e8b1278-359e-4423-b9ef-67cb2f70b8d9",
   "metadata": {},
   "outputs": [
    {
     "data": {
      "image/png": "[encoded data removed]",
      "text/latex": [
       "$\\displaystyle \\left(x^{x + 2}\\right)^{x^{x + 2}}=\\left(a^{\\frac{1}{a}}\\right)^{a^{\\frac{1}{a}}}$"
      ],
      "text/plain": [
       "(x**(x + 2))**(x**(x + 2))=(a**(1/a))**(a**(1/a))"
      ]
     },
     "execution_count": 67,
     "metadata": {},
     "output_type": "execute_result"
    }
   ],
   "source": [
    "W= polyclass(e1**e1,e2**e2);W.Q # Redefine the Eq"
   ]
  },
  {
   "cell_type": "code",
   "execution_count": 70,
   "id": "da7b71f8-53be-4410-b0f6-9a59eff35ff6",
   "metadata": {},
   "outputs": [
    {
     "data": {
      "text/latex": [
       "$\\displaystyle if\\;\\left(x^{x + 2}\\right)^{x^{x + 2}}=\\left(a^{\\frac{1}{a}}\\right)^{a^{\\frac{1}{a}}}\\;then\\;x^{x + 2}\\;=\\;a^{\\frac{1}{a}}\\;and\\;create\\;a\\;new\\;simple\\;Eq\\;called\\;B\\;$"
      ],
      "text/plain": [
       "<IPython.core.display.Math object>"
      ]
     },
     "metadata": {},
     "output_type": "display_data"
    }
   ],
   "source": [
    "show_exp(['if',W.Q,'then',e1,'=',e2, 'and create a new simple Eq called B'])"
   ]
  },
  {
   "cell_type": "code",
   "execution_count": 71,
   "id": "24a890bd-c228-4905-adce-1b8ec4213fb8",
   "metadata": {},
   "outputs": [
    {
     "data": {
      "text/latex": [
       "$\\displaystyle Now\\;we\\;can\\;reduce\\;the\\;equation\\;to\\;x^{x + 2}=a^{\\frac{1}{a}}\\;$"
      ],
      "text/plain": [
       "<IPython.core.display.Math object>"
      ]
     },
     "metadata": {},
     "output_type": "display_data"
    }
   ],
   "source": [
    "B=polyclass(e1,e2) # takin important part and create Eq\n",
    "show_exp(['Now we can reduce the equation to',B.Q])"
   ]
  },
  {
   "cell_type": "code",
   "execution_count": 72,
   "id": "5783b7cc-ccbd-4673-9496-a11d460efe9b",
   "metadata": {},
   "outputs": [
    {
     "data": {
      "image/png": "[encoded data removed]",
      "text/latex": [
       "$\\displaystyle x^{2} x^{x}=a^{\\frac{1}{a}}$"
      ],
      "text/plain": [
       "x**2*x**x=a**(1/a)"
      ]
     },
     "execution_count": 72,
     "metadata": {},
     "output_type": "execute_result"
    }
   ],
   "source": [
    "B.opemat('e') # only expand Eq but no save"
   ]
  },
  {
   "cell_type": "code",
   "execution_count": 77,
   "id": "f0514ae0-0ec8-4849-809b-c68a0dc6bd84",
   "metadata": {
    "tags": []
   },
   "outputs": [
    {
     "data": {
      "text/latex": [
       "$\\displaystyle if\\;use\\;B.Q\\;to\\;see\\;Eq\\;=\\;x^{x + 2}=a^{\\frac{1}{a}}\\;note\\;that\\;not\\;was\\;expanded\\;$"
      ],
      "text/plain": [
       "<IPython.core.display.Math object>"
      ]
     },
     "metadata": {},
     "output_type": "display_data"
    }
   ],
   "source": [
    "show_exp(['if use B.Q to see Eq =',B.Q,'note that not was expanded '])"
   ]
  },
  {
   "cell_type": "code",
   "execution_count": 78,
   "id": "a857f4ca-895b-409a-8c75-ccc31cafbd58",
   "metadata": {},
   "outputs": [
    {
     "data": {
      "image/png": "[encoded data removed]",
      "text/latex": [
       "$\\displaystyle x^{2} x^{x}=a^{\\frac{1}{a}}$"
      ],
      "text/plain": [
       "x**2*x**x=a**(1/a)"
      ]
     },
     "execution_count": 78,
     "metadata": {},
     "output_type": "execute_result"
    }
   ],
   "source": [
    "B.opemat('e',1) # expand Eq number 1 or wathever update the Eq"
   ]
  },
  {
   "cell_type": "markdown",
   "id": "091f8384-67d3-4292-8811-570213e2b01e",
   "metadata": {
    "tags": []
   },
   "source": [
    " <img src=\"images/linesex.png\" alt=\"ml\" style=\"width : 100%;\"/>"
   ]
  },
  {
   "cell_type": "code",
   "execution_count": 79,
   "id": "049005ab-d2fc-4f3b-8f12-1ddce1e759bd",
   "metadata": {},
   "outputs": [],
   "source": [
    "# polyclass.ope4() can Add,Multiply,Divide or Pow the Equtaion in both side \n",
    "#ope4('S',3*x) Add 3*x both side \n",
    "#ope4('S',3*x,1) Add 3*x both side and update the last result\n",
    "# 'M' mult, 'D' divide, 'P' pow"
   ]
  },
  {
   "cell_type": "markdown",
   "id": "ac11bd4b-7e5f-466c-a851-801fe8a6ec3f",
   "metadata": {
    "tags": []
   },
   "source": [
    " <img src=\"images/linesexe.png\" alt=\"ml\" style=\"width : 100%;\"/>"
   ]
  },
  {
   "cell_type": "code",
   "execution_count": 80,
   "id": "0e5d8dc5-ee82-41b6-a90b-bad63fd93b07",
   "metadata": {
    "tags": []
   },
   "outputs": [
    {
     "data": {
      "image/png": "[encoded data removed]",
      "text/latex": [
       "$\\displaystyle x^{2}=a^{\\frac{1}{a}} x^{- x}$"
      ],
      "text/plain": [
       "x**2=a**(1/a)*x**(-x)"
      ]
     },
     "execution_count": 80,
     "metadata": {},
     "output_type": "execute_result"
    }
   ],
   "source": [
    "B.ope4('D',x**x,1) # Divide Eq by x**x,1 and update"
   ]
  },
  {
   "cell_type": "code",
   "execution_count": 81,
   "id": "952613fb-e0e0-4df9-94d6-68211aeb55d9",
   "metadata": {},
   "outputs": [
    {
     "data": {
      "text/latex": [
       "$\\displaystyle Solution\\;is....\\;x^{- x} \\left(\\frac{1}{a}\\right)^{\\frac{1}{a}}\\;=\\;x^{2}\\;$"
      ],
      "text/plain": [
       "<IPython.core.display.Math object>"
      ]
     },
     "metadata": {},
     "output_type": "display_data"
    }
   ],
   "source": [
    "show_exp(['Solution is....',kpow(frs(1,a),frs(1,a))*kpow(x,-x),'=',x*x])"
   ]
  },
  {
   "cell_type": "markdown",
   "id": "0151f60c-59eb-4e0d-8d67-b91e7fb87bb4",
   "metadata": {},
   "source": [
    " <img src=\"images/linep.png\" alt=\"ml\" style=\"width : 100%;\"/>"
   ]
  },
  {
   "cell_type": "markdown",
   "id": "147973e8-3eb7-4e6f-a374-135f158f2310",
   "metadata": {},
   "source": [
    " <img src=\"images/p8.png\" alt=\"ml\" style=\"width : 100%;\"/>"
   ]
  },
  {
   "cell_type": "markdown",
   "id": "cb860360-2908-4fd6-98f2-1322a8ba07b3",
   "metadata": {},
   "source": [
    " <img src=\"images/lines.png\" alt=\"ml\" style=\"width : 100%;\"/>"
   ]
  },
  {
   "cell_type": "code",
   "execution_count": 82,
   "id": "66dd2d40-990b-4c8c-8f01-d93be997c75f",
   "metadata": {
    "tags": []
   },
   "outputs": [],
   "source": [
    "m,x,M=symbols('m,x,M')\n",
    "a,b=1/(m+1),1/(m-1)"
   ]
  },
  {
   "cell_type": "markdown",
   "id": "74329ca2-0b69-45d6-971e-e1fe7940a778",
   "metadata": {},
   "source": [
    " <img src=\"images/p8e1.png\" alt=\"ml\" style=\"width : 100%;\"/>"
   ]
  },
  {
   "cell_type": "code",
   "execution_count": 89,
   "id": "425aaed1-64d6-45da-83fd-546084a9fbeb",
   "metadata": {},
   "outputs": [
    {
     "data": {
      "image/png": "[encoded data removed]",
      "text/latex": [
       "$\\displaystyle x=m^{\\frac{m}{m^{2} - 1}}$"
      ],
      "text/plain": [
       "x=m**(m/(m**2 - 1))"
      ]
     },
     "execution_count": 89,
     "metadata": {},
     "output_type": "execute_result"
    }
   ],
   "source": [
    "P=polyclass(x,simplify(kpow(m,a)*kpow(m,a*b)));P.Q"
   ]
  },
  {
   "cell_type": "code",
   "execution_count": 90,
   "id": "31810d8d-bd93-42e2-b92f-6a38116d2e91",
   "metadata": {},
   "outputs": [
    {
     "data": {
      "text/latex": [
       "$\\displaystyle we\\;will\\;try\\;o\\;find\\;x^{m}\\;manipulating\\;and\\;playing\\;with\\;x=m^{\\frac{m}{m^{2} - 1}}\\;$"
      ],
      "text/plain": [
       "<IPython.core.display.Math object>"
      ]
     },
     "metadata": {},
     "output_type": "display_data"
    }
   ],
   "source": [
    "show_exp(['we will try o find',kpow(x,m),'manipulating and playing with',P.Q])"
   ]
  },
  {
   "cell_type": "code",
   "execution_count": 91,
   "id": "500592ea-413b-420e-8031-be217a779857",
   "metadata": {
    "tags": []
   },
   "outputs": [
    {
     "data": {
      "image/png": "[encoded data removed]",
      "text/latex": [
       "$\\displaystyle x^{\\frac{m^{2} - 1}{m}}=\\left(m^{\\frac{m}{m^{2} - 1}}\\right)^{\\frac{m^{2} - 1}{m}}$"
      ],
      "text/plain": [
       "x**((m**2 - 1)/m)=(m**(m/(m**2 - 1)))**((m**2 - 1)/m)"
      ]
     },
     "execution_count": 91,
     "metadata": {},
     "output_type": "execute_result"
    }
   ],
   "source": [
    "P.ope4('P',(m*m-1)/m,1) "
   ]
  },
  {
   "cell_type": "code",
   "execution_count": 93,
   "id": "a8387c4f-9c4d-4015-97ea-271b0b9dca8b",
   "metadata": {},
   "outputs": [
    {
     "data": {
      "image/png": "[encoded data removed]",
      "text/latex": [
       "$\\displaystyle x^{\\frac{m^{2} - 1}{m}}=m$"
      ],
      "text/plain": [
       "x**((m**2 - 1)/m)=m"
      ]
     },
     "execution_count": 93,
     "metadata": {},
     "output_type": "execute_result"
    }
   ],
   "source": [
    "P.polymath('O',1)  # to cancel exponentes"
   ]
  },
  {
   "cell_type": "code",
   "execution_count": 94,
   "id": "c543a921-db56-4b60-8299-bac1c24f585e",
   "metadata": {},
   "outputs": [
    {
     "data": {
      "image/png": "[encoded data removed]",
      "text/latex": [
       "$\\displaystyle x^{m - \\frac{1}{m}}=m$"
      ],
      "text/plain": [
       "x**(m - 1/m)=m"
      ]
     },
     "execution_count": 94,
     "metadata": {},
     "output_type": "execute_result"
    }
   ],
   "source": [
    "P.polymath('OS',1) # convert exponents from Mul to Add"
   ]
  },
  {
   "cell_type": "code",
   "execution_count": 95,
   "id": "89c4d3c7-69e3-4699-9feb-29ec1304bc76",
   "metadata": {},
   "outputs": [
    {
     "data": {
      "text/latex": [
       "$\\displaystyle Take\\;Note\\;1:\\;x^{m - \\frac{1}{m}}=m\\;,now\\;lets\\;continue..\\;we\\;need\\;expand\\;the\\;EQ\\;$"
      ],
      "text/plain": [
       "<IPython.core.display.Math object>"
      ]
     },
     "metadata": {},
     "output_type": "display_data"
    }
   ],
   "source": [
    "show_exp(['Take Note 1:',P.Q,',now lets continue.. we need expand the EQ'])"
   ]
  },
  {
   "cell_type": "code",
   "execution_count": 96,
   "id": "61e3e514-118c-4e84-9c10-a5e579bb468c",
   "metadata": {},
   "outputs": [
    {
     "data": {
      "image/png": "[encoded data removed]",
      "text/latex": [
       "$\\displaystyle x^{- \\frac{1}{m}} x^{m}=m$"
      ],
      "text/plain": [
       "x**(-1/m)*x**m=m"
      ]
     },
     "execution_count": 96,
     "metadata": {},
     "output_type": "execute_result"
    }
   ],
   "source": [
    "P.polymath('e',1)"
   ]
  },
  {
   "cell_type": "code",
   "execution_count": 101,
   "id": "ff18cbf5-349a-412f-941c-cf66da109c45",
   "metadata": {
    "jupyter": {
     "source_hidden": true
    },
    "tags": []
   },
   "outputs": [
    {
     "data": {
      "text/latex": [
       "$\\displaystyle we\\;will\\;Divide\\;the\\;Eq\\;to\\;x^{- \\frac{1}{m}}\\;and\\;eliminate\\;x^{- \\frac{1}{m}}\\;in\\;left\\;side\\;$"
      ],
      "text/plain": [
       "<IPython.core.display.Math object>"
      ]
     },
     "metadata": {},
     "output_type": "display_data"
    },
    {
     "data": {
      "image/png": "[encoded data removed]",
      "text/latex": [
       "$\\displaystyle x^{\\frac{1}{m}} x^{m}=m x^{\\frac{2}{m}}$"
      ],
      "text/plain": [
       "x**(1/m)*x**m=m*x**(2/m)"
      ]
     },
     "execution_count": 101,
     "metadata": {},
     "output_type": "execute_result"
    }
   ],
   "source": [
    "show_exp([' we will Divide the Eq to ',kpow(x,(-1/m)),'and eliminate ',kpow(x,(-1/m)),'in left side'])\n",
    "P.ope4('D',kpow(x,(-1/m)),1) # dive both side by "
   ]
  },
  {
   "cell_type": "code",
   "execution_count": 102,
   "id": "9aace226-f05d-406c-a1ed-3e4f06a0fd0e",
   "metadata": {
    "jupyter": {
     "source_hidden": true
    },
    "tags": []
   },
   "outputs": [
    {
     "data": {
      "text/latex": [
       "$\\displaystyle Take\\;Note\\;2:\\;x^{\\frac{1}{m}} x^{m}=m x^{\\frac{2}{m}}\\;,now\\;lets\\;continue..\\;$"
      ],
      "text/plain": [
       "<IPython.core.display.Math object>"
      ]
     },
     "metadata": {},
     "output_type": "display_data"
    }
   ],
   "source": [
    "show_exp(['Take Note 2:',P.Q,',now lets continue.. '])"
   ]
  },
  {
   "cell_type": "markdown",
   "id": "75a6b420-d49b-4a3b-89f1-1364dcfd75e6",
   "metadata": {},
   "source": [
    " <img src=\"images/p8e2.png\" alt=\"ml\" style=\"width : 50%;\"/>"
   ]
  },
  {
   "cell_type": "code",
   "execution_count": 103,
   "id": "369b13b3-68c1-40e2-b4a2-84f82c9c6410",
   "metadata": {},
   "outputs": [
    {
     "data": {
      "text/latex": [
       "$\\displaystyle from\\;note\\;2...\\;x^{\\frac{1}{m}} + x^{m}\\;=\\;m x^{\\frac{1}{m}} + x^{\\frac{1}{m}}\\;$"
      ],
      "text/plain": [
       "<IPython.core.display.Math object>"
      ]
     },
     "metadata": {},
     "output_type": "display_data"
    }
   ],
   "source": [
    "e1=kpow(x,1/m)\n",
    "e2=m*kpow(x,1/m)\n",
    "\n",
    "show_exp(['from note 2...',kpow(x,m)+kpow(x,1/m),'=',e2+kpow(x,1/m)])"
   ]
  },
  {
   "cell_type": "code",
   "execution_count": 104,
   "id": "03b94be8-ca1a-471e-b91e-a8eb73d51adb",
   "metadata": {},
   "outputs": [
    {
     "data": {
      "image/png": "[encoded data removed]",
      "text/latex": [
       "$\\displaystyle x^{\\frac{1}{m}} \\left(m + 1\\right)$"
      ],
      "text/plain": [
       "m ___        \n",
       "╲╱ x ⋅(m + 1)"
      ]
     },
     "execution_count": 104,
     "metadata": {},
     "output_type": "execute_result"
    }
   ],
   "source": [
    "e3=factor(e2+kpow(x,1/m));e3"
   ]
  },
  {
   "cell_type": "code",
   "execution_count": 105,
   "id": "50f01d87-8589-4fd9-9daa-fd10c6cc456c",
   "metadata": {},
   "outputs": [
    {
     "data": {
      "text/latex": [
       "$\\displaystyle finaly\\;we\\;can\\;make\\;this\\;M m=\\left(x^{\\frac{1}{m}}\\right)^{m^{2} - 1}\\;$"
      ],
      "text/plain": [
       "<IPython.core.display.Math object>"
      ]
     },
     "metadata": {},
     "output_type": "display_data"
    }
   ],
   "source": [
    "W=polyclass(M*m,kpow(kpow(x,1/m),(m*m-1)));W.Q\n",
    "show_exp(['finaly we can make this',W.Q])"
   ]
  },
  {
   "cell_type": "code",
   "execution_count": 106,
   "id": "9234a6c1-1baa-4e8d-9a65-f286e55748be",
   "metadata": {},
   "outputs": [
    {
     "data": {
      "text/latex": [
       "$\\displaystyle reducing\\;exponents\\;with\\;polymath..\\;M m=x^{m - \\frac{1}{m}}\\;$"
      ],
      "text/plain": [
       "<IPython.core.display.Math object>"
      ]
     },
     "metadata": {},
     "output_type": "display_data"
    }
   ],
   "source": [
    "W.polymath('OS',1)\n",
    "show_exp(['reducing exponents with polymath..',W.Q])"
   ]
  },
  {
   "cell_type": "code",
   "execution_count": 107,
   "id": "02962676-7d2b-479e-8e1f-13b3d8509156",
   "metadata": {},
   "outputs": [
    {
     "data": {
      "text/latex": [
       "$\\displaystyle from\\;take\\;note\\;1\\;..\\;x^{m - \\frac{1}{m}}\\;=\\;m\\;then\\;M m\\;=\\;m\\;concluding\\;that..\\;$"
      ],
      "text/plain": [
       "<IPython.core.display.Math object>"
      ]
     },
     "metadata": {},
     "output_type": "display_data"
    }
   ],
   "source": [
    "show_exp(['from take note 1 ..',W.q2,'=',m,'then ',W.q1,'=',m,' concluding that..'])"
   ]
  },
  {
   "cell_type": "code",
   "execution_count": 108,
   "id": "7d8b8629-d656-472c-9b72-40be3331a1ad",
   "metadata": {},
   "outputs": [
    {
     "data": {
      "text/latex": [
       "$\\displaystyle M =1$"
      ],
      "text/plain": [
       "<IPython.core.display.Math object>"
      ]
     },
     "metadata": {},
     "output_type": "display_data"
    }
   ],
   "source": [
    "show_res(1,'M')"
   ]
  },
  {
   "cell_type": "code",
   "execution_count": null,
   "id": "55a9081f-0005-4f8d-83e2-125969f15bdf",
   "metadata": {},
   "outputs": [],
   "source": []
  }
 ],
 "metadata": {
  "kernelspec": {
   "display_name": "Python 3",
   "language": "python",
   "name": "python3"
  },
  "language_info": {
   "codemirror_mode": {
    "name": "ipython",
    "version": 3
   },
   "file_extension": ".py",
   "mimetype": "text/x-python",
   "name": "python",
   "nbconvert_exporter": "python",
   "pygments_lexer": "ipython3",
   "version": "3.6.6"
  }
 },
 "nbformat": 4,
 "nbformat_minor": 5
}
