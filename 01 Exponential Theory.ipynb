{
 "cells": [
  {
   "cell_type": "code",
   "execution_count": 1,
   "id": "0ca73c4b-6ba3-477a-80e3-96a416e8964a",
   "metadata": {},
   "outputs": [],
   "source": [
    "from sympy import *   \n",
    "from libaldo_polyclass  import *\n",
    "from libaldo_lib import *\n",
    "from libaldo__util import *\n",
    "import lib_algebraEq as ae\n",
    "init_printing()"
   ]
  },
  {
   "cell_type": "code",
   "execution_count": 3,
   "id": "ce47c12a-a6b9-4117-b56c-2f617da2cc53",
   "metadata": {},
   "outputs": [],
   "source": [
    "x,y=symbols('x y')"
   ]
  },
  {
   "cell_type": "markdown",
   "id": "e44c4d6a-e62d-4b3f-942f-8a01038f0e3d",
   "metadata": {},
   "source": [
    " Why??? create new functions if wonderfull sympy library have all...??\n",
    " * Because some time we need especifi answer like not Vector,\n",
    " * We need answer that not evaluate yet and ..more\n",
    " * here bellow some sample used in this repository"
   ]
  },
  {
   "cell_type": "code",
   "execution_count": 4,
   "id": "b7db22be-49d7-4ab3-81d4-edcff0a330ea",
   "metadata": {},
   "outputs": [
    {
     "data": {
      "image/png": "[encoded data removed]",
      "text/latex": [
       "$\\displaystyle 2.23606797749979$"
      ],
      "text/plain": [
       "2.23606797749979"
      ]
     },
     "execution_count": 4,
     "metadata": {},
     "output_type": "execute_result"
    }
   ],
   "source": [
    "pow(5,1/2) # sympy function"
   ]
  },
  {
   "cell_type": "code",
   "execution_count": 5,
   "id": "312dff80-751d-4ce5-9a55-248a20e70a95",
   "metadata": {},
   "outputs": [
    {
     "data": {
      "image/png": "[encoded data removed]",
      "text/latex": [
       "$\\displaystyle \\sqrt{5}$"
      ],
      "text/plain": [
       "√5"
      ]
     },
     "execution_count": 5,
     "metadata": {},
     "output_type": "execute_result"
    }
   ],
   "source": [
    "sqrs(5,2)  #  Libaldo_algebra Lib "
   ]
  },
  {
   "cell_type": "code",
   "execution_count": 6,
   "id": "09f537ae-1595-4183-9381-906362f648ab",
   "metadata": {},
   "outputs": [
    {
     "data": {
      "image/png": "[encoded data removed]",
      "text/latex": [
       "$\\displaystyle 0.5$"
      ],
      "text/plain": [
       "0.5"
      ]
     },
     "execution_count": 6,
     "metadata": {},
     "output_type": "execute_result"
    }
   ],
   "source": [
    "1/2"
   ]
  },
  {
   "cell_type": "code",
   "execution_count": 7,
   "id": "b2fee2d5-072f-4400-b369-f8b8cca3a620",
   "metadata": {},
   "outputs": [
    {
     "data": {
      "image/png": "[encoded data removed]",
      "text/latex": [
       "$\\displaystyle \\frac{1}{2}$"
      ],
      "text/plain": [
       "1/2"
      ]
     },
     "execution_count": 7,
     "metadata": {},
     "output_type": "execute_result"
    }
   ],
   "source": [
    "frs(1,2) # frs(a,b) = a/b"
   ]
  },
  {
   "cell_type": "code",
   "execution_count": 8,
   "id": "ac7f95d0-72bf-48e4-b7a7-1f4a9c153c9a",
   "metadata": {},
   "outputs": [
    {
     "data": {
      "image/png": "[encoded data removed]",
      "text/latex": [
       "$\\displaystyle x^{2} x^{x}$"
      ],
      "text/plain": [
       " 2  x\n",
       "x ⋅x "
      ]
     },
     "execution_count": 8,
     "metadata": {},
     "output_type": "execute_result"
    }
   ],
   "source": [
    "kpow(x,2)*kpow(x,x)"
   ]
  },
  {
   "cell_type": "markdown",
   "id": "a1492bd4-6575-4e52-8fe4-abeff7eed8e5",
   "metadata": {},
   "source": [
    " ## We love Latex but   sucks write it..... but maybe??"
   ]
  },
  {
   "cell_type": "code",
   "execution_count": 9,
   "id": "c03e2595-b05a-4da8-87d5-8a116f8a9105",
   "metadata": {},
   "outputs": [
    {
     "data": {
      "text/latex": [
       "$\\displaystyle Algebra\\;is\\;letters\\;and\\;number\\;like\\;x\\;y\\;1\\;3\\;etc\\;$"
      ],
      "text/plain": [
       "<IPython.core.display.Math object>"
      ]
     },
     "metadata": {},
     "output_type": "display_data"
    }
   ],
   "source": [
    "# Not wonderfull but usefull..... I hope...\n",
    "show_exp(['Algebra is letters and number like ',x ,y,1,3,'etc' ])"
   ]
  },
  {
   "cell_type": "code",
   "execution_count": 11,
   "id": "cb637302-5ec0-42be-9e9f-3295c91ce02c",
   "metadata": {
    "tags": []
   },
   "outputs": [],
   "source": [
    "def f(a,b,c):\n",
    "    return(kpow(a*x,b)+c)"
   ]
  },
  {
   "cell_type": "code",
   "execution_count": 12,
   "id": "557485fe-7848-466f-9ed1-8bd2761d6322",
   "metadata": {},
   "outputs": [
    {
     "data": {
      "text/latex": [
       "$\\displaystyle if\\;a\\;=\\;4\\;b=5\\;and\\;c=20\\;then\\;f(a,b,c)=\\;1024 x^{5} + 20\\;$"
      ],
      "text/plain": [
       "<IPython.core.display.Math object>"
      ]
     },
     "metadata": {},
     "output_type": "display_data"
    }
   ],
   "source": [
    "show_exp(['if a = 4 b=5 and c=20 then f(a,b,c)=',f(4,5,20)])"
   ]
  },
  {
   "cell_type": "code",
   "execution_count": 13,
   "id": "a84f4b21-45f3-4922-b2cd-717a6829bd6a",
   "metadata": {},
   "outputs": [
    {
     "data": {
      "text/latex": [
       "$\\displaystyle f(1,2,3)+f(3,2,1) =10 x^{2} + 4$"
      ],
      "text/plain": [
       "<IPython.core.display.Math object>"
      ]
     },
     "metadata": {},
     "output_type": "display_data"
    }
   ],
   "source": [
    "# show_res(a,b) only two parameters, a= answer... b..all text before =\n",
    "show_res(f(1,2,3)+f(3,2,1),'f(1,2,3)+f(3,2,1)')"
   ]
  },
  {
   "cell_type": "markdown",
   "id": "9a0cd6bc-5ce5-47fa-8da7-8024b671df0d",
   "metadata": {},
   "source": [
    " <img src=\"images/linep.png\" alt=\"ml\" style=\"width : 100%;\"/>"
   ]
  },
  {
   "cell_type": "markdown",
   "id": "127df233-eaae-4a6b-bb86-880487fb8901",
   "metadata": {},
   "source": [
    " <img src=\"images/p1.png\" alt=\"ml\" style=\"width : 100%;\"/>"
   ]
  },
  {
   "cell_type": "markdown",
   "id": "79c31d97-d3ac-4017-a547-44cc86dff28a",
   "metadata": {
    "tags": []
   },
   "source": [
    " <img src=\"images/lines.png\" alt=\"ml\" style=\"width : 100%;\"/>"
   ]
  },
  {
   "cell_type": "markdown",
   "id": "0cd1063e-6e97-47ce-966a-c3230f2cd2eb",
   "metadata": {},
   "source": [
    " <img src=\"images/tut001.png\" alt=\"ml\" style=\"width : 80%;\"/>"
   ]
  },
  {
   "cell_type": "code",
   "execution_count": 14,
   "id": "c507ad05-44b1-4d2b-99b2-5a81bc2989d5",
   "metadata": {
    "tags": []
   },
   "outputs": [
    {
     "data": {
      "image/png": "[encoded data removed]",
      "text/latex": [
       "$\\displaystyle x^{2 x^{x + 2}} x^{x^{x + 3}}$"
      ],
      "text/plain": [
       "    x + 2  ⎛ x + 3⎞\n",
       " 2⋅x       ⎝x     ⎠\n",
       "x        ⋅x        "
      ]
     },
     "execution_count": 14,
     "metadata": {},
     "output_type": "execute_result"
    }
   ],
   "source": [
    "P=monoclass( x**(x**(x+3))*(x**(2*x**(x+2))));P.Q"
   ]
  },
  {
   "cell_type": "code",
   "execution_count": 15,
   "id": "408d9ed9-e01e-4582-b2e2-8109250bedd1",
   "metadata": {
    "tags": []
   },
   "outputs": [
    {
     "data": {
      "image/png": "[encoded data removed]",
      "text/latex": [
       "$\\displaystyle a^{a^{\\frac{1 - a}{a}}}$"
      ],
      "text/plain": [
       " ⎛ 1 - a⎞\n",
       " ⎜ ─────⎟\n",
       " ⎜   a  ⎟\n",
       " ⎝a     ⎠\n",
       "a        "
      ]
     },
     "execution_count": 15,
     "metadata": {},
     "output_type": "execute_result"
    }
   ],
   "source": [
    "Q=monoclass(a**(a**((1-a)/a)));Q.Q"
   ]
  },
  {
   "cell_type": "code",
   "execution_count": 16,
   "id": "81249301-fe66-4e12-bbc7-db2d48ab5a2e",
   "metadata": {
    "tags": []
   },
   "outputs": [
    {
     "data": {
      "image/png": "[encoded data removed]",
      "text/latex": [
       "$\\displaystyle x^{2 x^{x + 2}} x^{x^{x + 3}}=a^{a^{\\frac{1 - a}{a}}}$"
      ],
      "text/plain": [
       "x**(2*x**(x + 2))*x**(x**(x + 3))=a**(a**((1 - a)/a))"
      ]
     },
     "execution_count": 16,
     "metadata": {},
     "output_type": "execute_result"
    }
   ],
   "source": [
    "# Create our Equation algebrate expresion\n",
    "W=polyclass(P.Q,Q.Q);W.Q"
   ]
  },
  {
   "cell_type": "markdown",
   "id": "84da5ca1-6e96-4942-8017-edb1ab0e7310",
   "metadata": {
    "tags": []
   },
   "source": [
    " <img src=\"images/linesex.png\" alt=\"ml\" style=\"width : 100%;\"/>"
   ]
  },
  {
   "cell_type": "code",
   "execution_count": 17,
   "id": "60ff6ee7-d7ea-4692-b475-102131068eeb",
   "metadata": {},
   "outputs": [],
   "source": [
    "# opemat()   function is factor,simplify,expand,..etc in Sympy but allinone\n",
    "\n",
    "# with sympy \n",
    "#factor(trigsimp(simplify(Equation.evalf(apart(cancel(Equation(A))))))\n",
    "# with opemat\n",
    "# opemat(A,'ftxvcE')\n",
    "# opemat also is aplied in monoclass and polyclass\n",
    "# P.opemat('sef')... simplify(expand(factor(P(x))))"
   ]
  },
  {
   "cell_type": "code",
   "execution_count": 18,
   "id": "d35d156f-c224-4b15-b40f-be3514a8a094",
   "metadata": {
    "tags": []
   },
   "outputs": [
    {
     "data": {
      "text/plain": [
       "\u001b[1;31mSignature:\u001b[0m \u001b[0mopemat\u001b[0m\u001b[1;33m(\u001b[0m\u001b[0mkres\u001b[0m\u001b[1;33m,\u001b[0m \u001b[0mkope\u001b[0m\u001b[1;33m=\u001b[0m\u001b[1;34m''\u001b[0m\u001b[1;33m)\u001b[0m\u001b[1;33m\u001b[0m\u001b[0m\n",
       "\u001b[1;31mDocstring:\u001b[0m\n",
       "opemat(Equation,kope=opt)\n",
       "opt \n",
       "    'f'= factor(Equation),    \n",
       "    't'= trigsimp(Equation)\n",
       "    'x'= simplify(Equation)\n",
       "    'v'= Equation.evalf()\n",
       "    'a'= apart(Equation)\n",
       "    'c'= cancel(Equation)\n",
       "    'E'= Equation.expand(force=True)\n",
       "\u001b[1;31mFile:\u001b[0m      d:\\onedrive\\solvelib\\algebra2\\libaldo_lib.py\n",
       "\u001b[1;31mType:\u001b[0m      function\n"
      ]
     },
     "metadata": {},
     "output_type": "display_data"
    }
   ],
   "source": [
    "opemat?"
   ]
  },
  {
   "cell_type": "markdown",
   "id": "4f540f93-810c-4b4d-8476-0456b6e215a3",
   "metadata": {
    "tags": []
   },
   "source": [
    " <img src=\"images/linesexe.png\" alt=\"ml\" style=\"width : 100%;\"/>"
   ]
  },
  {
   "cell_type": "code",
   "execution_count": 19,
   "id": "f18976a3-ddcb-49f6-8167-f4fc27120b8f",
   "metadata": {},
   "outputs": [
    {
     "data": {
      "image/png": "[encoded data removed]",
      "text/latex": [
       "$\\displaystyle x^{2 x^{x + 2}} x^{x^{x + 3}}=a^{a^{\\frac{1 - a}{a}}}$"
      ],
      "text/plain": [
       "x**(2*x**(x + 2))*x**(x**(x + 3))=a**(a**((1 - a)/a))"
      ]
     },
     "execution_count": 19,
     "metadata": {},
     "output_type": "execute_result"
    }
   ],
   "source": [
    "W.Q"
   ]
  },
  {
   "cell_type": "code",
   "execution_count": 21,
   "id": "8e8c616e-6b51-4333-9739-f7d6bed51761",
   "metadata": {
    "tags": []
   },
   "outputs": [
    {
     "data": {
      "text/latex": [
       "$\\displaystyle we\\;will\\;make\\;e1=\\;x^{x + 2}\\;$"
      ],
      "text/plain": [
       "<IPython.core.display.Math object>"
      ]
     },
     "metadata": {},
     "output_type": "display_data"
    }
   ],
   "source": [
    "show_exp(['we will make e1= ',kpow(x,x+2)])\n",
    "e1=kpow(x,x+2)"
   ]
  },
  {
   "cell_type": "code",
   "execution_count": 23,
   "id": "e8a3dd67-9673-4625-b67f-2c1c2584e786",
   "metadata": {
    "tags": []
   },
   "outputs": [
    {
     "data": {
      "text/latex": [
       "$\\displaystyle we\\;will\\;make\\;e2=\\;a^{\\frac{1}{a}}\\;$"
      ],
      "text/plain": [
       "<IPython.core.display.Math object>"
      ]
     },
     "metadata": {},
     "output_type": "display_data"
    }
   ],
   "source": [
    "show_exp(['we will make e2= ',kpow(a,1/a)])\n",
    "e2=kpow(a,1/a)"
   ]
  },
  {
   "cell_type": "code",
   "execution_count": 25,
   "id": "71b5690e-8533-4072-930f-55ed86cb7502",
   "metadata": {},
   "outputs": [
    {
     "data": {
      "image/png": "[encoded data removed]",
      "text/latex": [
       "$\\displaystyle \\left(x^{x + 2}\\right)^{x^{x + 2}}=\\left(a^{\\frac{1}{a}}\\right)^{a^{\\frac{1}{a}}}$"
      ],
      "text/plain": [
       "(x**(x + 2))**(x**(x + 2))=(a**(1/a))**(a**(1/a))"
      ]
     },
     "execution_count": 25,
     "metadata": {},
     "output_type": "execute_result"
    }
   ],
   "source": [
    "W.re_eQ(e1**e1,e2**e2)"
   ]
  },
  {
   "cell_type": "code",
   "execution_count": 24,
   "id": "3f6c8573-319b-452f-b756-87c4b3980993",
   "metadata": {},
   "outputs": [
    {
     "data": {
      "text/latex": [
       "$\\displaystyle if\\;x^{2 x^{x + 2}} x^{x^{x + 3}}=a^{a^{\\frac{1 - a}{a}}}\\;then\\;x^{x + 2}\\;=\\;a^{\\frac{1}{a}}\\;$"
      ],
      "text/plain": [
       "<IPython.core.display.Math object>"
      ]
     },
     "metadata": {},
     "output_type": "display_data"
    }
   ],
   "source": [
    "show_exp(['if',W.Q,'then',e1,'=',e2])"
   ]
  },
  {
   "cell_type": "code",
   "execution_count": 25,
   "id": "e995c21c-7f10-4a1a-85b5-685242b160e2",
   "metadata": {},
   "outputs": [
    {
     "data": {
      "text/latex": [
       "$\\displaystyle Now\\;we\\;can\\;reduce\\;the\\;equation\\;to\\;x^{x + 2}=a^{\\frac{1}{a}}\\;$"
      ],
      "text/plain": [
       "<IPython.core.display.Math object>"
      ]
     },
     "metadata": {},
     "output_type": "display_data"
    }
   ],
   "source": [
    "B=polyclass(e1,e2)\n",
    "show_exp(['Now we can reduce the equation to',B.Q])"
   ]
  },
  {
   "cell_type": "code",
   "execution_count": 26,
   "id": "84f6a707-c68e-497a-a14f-d722e3fda5b9",
   "metadata": {},
   "outputs": [
    {
     "data": {
      "image/png": "[encoded data removed]",
      "text/latex": [
       "$\\displaystyle x^{2} x^{x}=a^{\\frac{1}{a}}$"
      ],
      "text/plain": [
       "x**2*x**x=a**(1/a)"
      ]
     },
     "execution_count": 26,
     "metadata": {},
     "output_type": "execute_result"
    }
   ],
   "source": [
    "B.opemat('e') # only expand Eq but no save"
   ]
  },
  {
   "cell_type": "code",
   "execution_count": 28,
   "id": "1d3b4756-101a-4bc4-a717-b8a4f3be782e",
   "metadata": {
    "tags": []
   },
   "outputs": [
    {
     "data": {
      "text/latex": [
       "$\\displaystyle if\\;calling\\;B\\;with\\;B.Q\\;see\\;answer\\;->\\;x^{x + 2}=a^{\\frac{1}{a}}\\;$"
      ],
      "text/plain": [
       "<IPython.core.display.Math object>"
      ]
     },
     "metadata": {},
     "output_type": "display_data"
    }
   ],
   "source": [
    "show_exp(['if calling B with B.Q see answer ->',B.Q,'is tha same '])"
   ]
  },
  {
   "cell_type": "code",
   "execution_count": 29,
   "id": "07422202-246d-4d96-8736-4147471f5ba0",
   "metadata": {},
   "outputs": [
    {
     "data": {
      "image/png": "[encoded data removed]",
      "text/latex": [
       "$\\displaystyle x^{2} x^{x}=a^{\\frac{1}{a}}$"
      ],
      "text/plain": [
       "x**2*x**x=a**(1/a)"
      ]
     },
     "execution_count": 29,
     "metadata": {},
     "output_type": "execute_result"
    }
   ],
   "source": [
    "B.opemat('e',1) # expand Eq number 1 or wathever number or letter is update"
   ]
  },
  {
   "cell_type": "code",
   "execution_count": 10,
   "id": "b3359f1a-a6ba-4712-b421-0f3d102864e7",
   "metadata": {
    "tags": []
   },
   "outputs": [
    {
     "data": {
      "image/png": "[encoded data removed]",
      "text/latex": [
       "$\\displaystyle x^{2}=a^{\\frac{1}{a}} x^{- x}$"
      ],
      "text/plain": [
       "x**2=a**(1/a)*x**(-x)"
      ]
     },
     "execution_count": 10,
     "metadata": {},
     "output_type": "execute_result"
    }
   ],
   "source": [
    "B.ope4('D',x**x,1) # Divide Eq by value after 'D'"
   ]
  },
  {
   "cell_type": "code",
   "execution_count": 35,
   "id": "4c1ed55c-8e26-4eb7-9f8d-f6aa79145cdc",
   "metadata": {},
   "outputs": [
    {
     "data": {
      "text/latex": [
       "$\\displaystyle Solution\\;is....\\;x^{- x} \\left(\\frac{1}{a}\\right)^{\\frac{1}{a}}\\;=\\;x^{2}\\;$"
      ],
      "text/plain": [
       "<IPython.core.display.Math object>"
      ]
     },
     "metadata": {},
     "output_type": "display_data"
    }
   ],
   "source": [
    "show_exp(['Solution is....',kpow(frs(1,a),frs(1,a))*kpow(x,-x),'=',x*x])"
   ]
  },
  {
   "cell_type": "markdown",
   "id": "b02d5362-6892-407a-9469-00d52990f5b1",
   "metadata": {},
   "source": [
    " <img src=\"images/linep.png\" alt=\"ml\" style=\"width : 100%;\"/>"
   ]
  },
  {
   "cell_type": "markdown",
   "id": "8640f05e-9fe9-4cc7-95c8-881cdeb75cbd",
   "metadata": {},
   "source": [
    " <img src=\"images/p2.png\" alt=\"ml\" style=\"width : 100%;\"/>"
   ]
  },
  {
   "cell_type": "markdown",
   "id": "5293e655-2fec-4b2d-8e84-284f1f5cb69c",
   "metadata": {},
   "source": [
    " <img src=\"images/lines.png\" alt=\"ml\" style=\"width : 100%;\"/>"
   ]
  },
  {
   "cell_type": "code",
   "execution_count": 36,
   "id": "c379acba-7acc-41f5-9d2b-a0db0f86038f",
   "metadata": {
    "tags": []
   },
   "outputs": [
    {
     "data": {
      "image/png": "[encoded data removed]",
      "text/latex": [
       "$\\displaystyle x^{\\left(x - 1\\right)^{2}}=2 x + 1$"
      ],
      "text/plain": [
       "x**((x - 1)**2)=2*x + 1"
      ]
     },
     "execution_count": 36,
     "metadata": {},
     "output_type": "execute_result"
    }
   ],
   "source": [
    "x=symbols('x',positive=True)\n",
    "P=polyclass( x**(pow(x-1,2)),2*x+1);P.Q"
   ]
  },
  {
   "cell_type": "markdown",
   "id": "d26158f7-0acb-468f-b203-85a390075c26",
   "metadata": {
    "tags": []
   },
   "source": [
    " <img src=\"images/linesex.png\" alt=\"ml\" style=\"width : 100%;\"/>"
   ]
  },
  {
   "cell_type": "code",
   "execution_count": 17,
   "id": "7cc02cbf-44bb-4bba-badf-03e1f1e039e2",
   "metadata": {},
   "outputs": [],
   "source": [
    "# ope4('op..',Exp(x))\n",
    "  # this function Add,Multi,Divide,Pow ..etc our Mono o Polynomie\n",
    "# P.ope4('S',3*x) , Add 3*x to P\n",
    "# P.ope4('M',3*x) , Mul 3*x to P\n",
    "# P.ope4('D',3*x) , Divide 3*x to P\n",
    "# P.ope4('P',3*x) , Pow 3*x to P"
   ]
  },
  {
   "cell_type": "markdown",
   "id": "593513bb-034c-44b7-b736-2a2c05eb5cc5",
   "metadata": {
    "tags": []
   },
   "source": [
    " <img src=\"images/linesexe.png\" alt=\"ml\" style=\"width : 100%;\"/>"
   ]
  },
  {
   "cell_type": "code",
   "execution_count": 37,
   "id": "8d075c15-e965-485e-b630-c1ce13d22ec6",
   "metadata": {},
   "outputs": [
    {
     "data": {
      "image/png": "[encoded data removed]",
      "text/latex": [
       "$\\displaystyle x^{\\left(x - 1\\right)^{2}} x^{2 x + 1}=x^{2 x + 1} \\left(2 x + 1\\right)$"
      ],
      "text/plain": [
       "x**((x - 1)**2)*x**(2*x + 1)=x**(2*x + 1)*(2*x + 1)"
      ]
     },
     "execution_count": 37,
     "metadata": {},
     "output_type": "execute_result"
    }
   ],
   "source": [
    "P.ope4('M',x**(2*x+1),1) # Multi Eq by value after 'M' remember 1 is update"
   ]
  },
  {
   "cell_type": "code",
   "execution_count": 38,
   "id": "55d91bea-9475-43c9-b200-d5c7488494a8",
   "metadata": {},
   "outputs": [
    {
     "data": {
      "image/png": "[encoded data removed]",
      "text/latex": [
       "$\\displaystyle x^{x^{2} + 2}=x^{2 x + 1} \\left(2 x + 1\\right)$"
      ],
      "text/plain": [
       "x**(x**2 + 2)=x**(2*x + 1)*(2*x + 1)"
      ]
     },
     "execution_count": 38,
     "metadata": {},
     "output_type": "execute_result"
    }
   ],
   "source": [
    "P.opemat('s',1)  # simplify Eq and update"
   ]
  },
  {
   "cell_type": "code",
   "execution_count": 39,
   "id": "1051b986-0ed6-4975-ac28-4e7345d742a9",
   "metadata": {},
   "outputs": [
    {
     "data": {
      "image/png": "[encoded data removed]",
      "text/latex": [
       "$\\displaystyle x^{2} x^{x^{2}}=x^{2 x + 1} \\left(2 x + 1\\right)$"
      ],
      "text/plain": [
       "x**2*x**(x**2)=x**(2*x + 1)*(2*x + 1)"
      ]
     },
     "execution_count": 39,
     "metadata": {},
     "output_type": "execute_result"
    }
   ],
   "source": [
    "# sometimes we need to make math ope only in one side, left or right\n",
    "# expand only left side P.opemat('e','1',2), (right would been P.opemat('e','1',1))\n",
    "P.opemat('e','1',1)  "
   ]
  },
  {
   "cell_type": "code",
   "execution_count": 42,
   "id": "b73188dd-7d06-4043-91a5-a65045f5711e",
   "metadata": {
    "tags": []
   },
   "outputs": [
    {
     "data": {
      "text/latex": [
       "$\\displaystyle if\\;x^{2} x^{x^{2}}=x^{2 x + 1} \\left(2 x + 1\\right)\\;then\\;x^{2}\\;=\\;2 x + 1\\;and\\;again\\;create\\;Eq\\;A\\;to\\;solve\\;$"
      ],
      "text/plain": [
       "<IPython.core.display.Math object>"
      ]
     },
     "metadata": {},
     "output_type": "display_data"
    },
    {
     "data": {
      "image/png": "[encoded data removed]",
      "text/latex": [
       "$\\displaystyle x^{2}=2 x + 1$"
      ],
      "text/plain": [
       "x**2=2*x + 1"
      ]
     },
     "execution_count": 42,
     "metadata": {},
     "output_type": "execute_result"
    }
   ],
   "source": [
    "show_exp(['if',P.Q,'then',x*x,'=',2*x+1,'and again create Eq A to solve'])\n",
    "A=polyclass( x**2,2*x+1);A.Q"
   ]
  },
  {
   "cell_type": "code",
   "execution_count": 43,
   "id": "f039a272-40af-40f5-b1ad-07d6a16f442d",
   "metadata": {},
   "outputs": [
    {
     "data": {
      "image/png": "[encoded data removed]",
      "text/latex": [
       "$\\displaystyle x^{2} - 2 x + 1=2$"
      ],
      "text/plain": [
       "x**2 - 2*x + 1=2"
      ]
     },
     "execution_count": 43,
     "metadata": {},
     "output_type": "execute_result"
    }
   ],
   "source": [
    "A.ope4('S',-2*x+1,1)   # Add -2*x+1 two sides of  Eq and update"
   ]
  },
  {
   "cell_type": "code",
   "execution_count": 44,
   "id": "d5715f93-e23d-4dc8-84ac-5e3c69d00671",
   "metadata": {},
   "outputs": [
    {
     "data": {
      "image/png": "[encoded data removed]",
      "text/latex": [
       "$\\displaystyle \\left(x - 1\\right)^{2}=2$"
      ],
      "text/plain": [
       "(x - 1)**2=2"
      ]
     },
     "execution_count": 44,
     "metadata": {},
     "output_type": "execute_result"
    }
   ],
   "source": [
    "A.opemat('f',1)  # factor Eq and update"
   ]
  },
  {
   "cell_type": "code",
   "execution_count": 47,
   "id": "05fc008e-9c9d-465f-84d5-5aca07504f09",
   "metadata": {
    "tags": []
   },
   "outputs": [
    {
     "data": {
      "text/latex": [
       "$\\displaystyle In\\;polyclass\\;exp\\;or\\;Eq.solve(x)\\;is\\;find\\;the\\;value\\;of\\;x\\;in\\;Eq\\;$"
      ],
      "text/plain": [
       "<IPython.core.display.Math object>"
      ]
     },
     "metadata": {},
     "output_type": "display_data"
    },
    {
     "data": {
      "text/latex": [
       "$\\displaystyle x\\;=\\;1 + \\sqrt{2}\\;......voala....\\;$"
      ],
      "text/plain": [
       "<IPython.core.display.Math object>"
      ]
     },
     "metadata": {},
     "output_type": "display_data"
    }
   ],
   "source": [
    "show_exp(['In polyclass exp or Eq.solve(x) is find the  value of x in Eq '])\n",
    "show_exp(['x =',A.solve(x),'......voala....'])"
   ]
  },
  {
   "cell_type": "markdown",
   "id": "b9c10288-6b2e-46a4-a498-d0e1a5562cfa",
   "metadata": {},
   "source": [
    " <img src=\"images/linep.png\" alt=\"ml\" style=\"width : 100%;\"/>"
   ]
  },
  {
   "cell_type": "markdown",
   "id": "fdb7b39c-1f90-40ef-abca-f7da53a5e935",
   "metadata": {
    "tags": []
   },
   "source": [
    " <img src=\"images/p26.png\" alt=\"ml\" style=\"width : 100%;\"/>"
   ]
  },
  {
   "cell_type": "code",
   "execution_count": 1,
   "id": "e0d20a7e-b459-4d05-9f23-8982c3945220",
   "metadata": {},
   "outputs": [],
   "source": [
    "from sympy import *   \n",
    "from libaldo_polyclass  import *\n",
    "from libaldo_lib import *\n",
    "from libaldo__util import *\n",
    "import lib_algebraEq as ae\n",
    "init_printing()"
   ]
  },
  {
   "cell_type": "code",
   "execution_count": 2,
   "id": "28126876-4b02-415b-b445-e9a8ca05ccbf",
   "metadata": {},
   "outputs": [
    {
     "data": {
      "text/latex": [
       "$\\displaystyle In\\;my\\;native\\;language\\;maybe\\;I\\;would\\;say...\\;$"
      ],
      "text/plain": [
       "<IPython.core.display.Math object>"
      ]
     },
     "metadata": {},
     "output_type": "display_data"
    },
    {
     "data": {
      "text/latex": [
       "$\\displaystyle ESTE\\;PROBLEMA\\;ES\\;UN\\;REVERENDA\\;MIERDAAAA....\\;$"
      ],
      "text/plain": [
       "<IPython.core.display.Math object>"
      ]
     },
     "metadata": {},
     "output_type": "display_data"
    }
   ],
   "source": [
    "show_exp(['In my native language maybe I would say... '])\n",
    "show_exp([' ESTE PROBLEMA ES UN REVERENDA MIERDAAAA.... '])"
   ]
  },
  {
   "cell_type": "markdown",
   "id": "4c49266d-83c0-498e-8b7c-5c05c482ff64",
   "metadata": {},
   "source": [
    " <img src=\"images/lines.png\" alt=\"ml\" style=\"width : 100%;\"/>"
   ]
  },
  {
   "cell_type": "markdown",
   "id": "6106ca09-abcb-462b-b0c8-f541fd747755",
   "metadata": {
    "tags": []
   },
   "source": [
    " <img src=\"images/26a.png\" alt=\"ml\" style=\"width :65%;\"/>"
   ]
  },
  {
   "cell_type": "code",
   "execution_count": 2,
   "id": "15cc6c0f-313a-4ec8-8610-01dfeb784cda",
   "metadata": {},
   "outputs": [],
   "source": [
    "a,b,c,z=symbols('a b c z')\n",
    "# we will make z=a*b*c\n",
    "P0=lambdify(a,(a**3-z)/z) "
   ]
  },
  {
   "cell_type": "code",
   "execution_count": 3,
   "id": "2c189394-fb2f-440e-9602-efda4fada2c0",
   "metadata": {},
   "outputs": [
    {
     "data": {
      "image/png": "[encoded data removed]",
      "text/latex": [
       "$\\displaystyle \\frac{a^{3}}{z} + \\frac{b^{3}}{z} + \\frac{c^{3}}{z} - 3$"
      ],
      "text/plain": [
       " 3    3    3    \n",
       "a    b    c     \n",
       "── + ── + ── - 3\n",
       "z    z    z     "
      ]
     },
     "execution_count": 3,
     "metadata": {},
     "output_type": "execute_result"
    }
   ],
   "source": [
    "e1= opemat(P0(a)+P0(b)+P0(c) ,'e');e1"
   ]
  },
  {
   "cell_type": "code",
   "execution_count": 4,
   "id": "4bbcba6a-6ad9-42bd-aaa1-266899b9cf2c",
   "metadata": {},
   "outputs": [
    {
     "data": {
      "image/png": "[encoded data removed]",
      "text/latex": [
       "$\\displaystyle \\frac{a + b}{c} + \\frac{a + c}{b} + \\frac{b + c}{a}$"
      ],
      "text/plain": [
       "a + b   a + c   b + c\n",
       "───── + ───── + ─────\n",
       "  c       b       a  "
      ]
     },
     "execution_count": 4,
     "metadata": {},
     "output_type": "execute_result"
    }
   ],
   "source": [
    "e2=((b+c)/a+(c+a)/b+(a+b)/c);e2 "
   ]
  },
  {
   "cell_type": "markdown",
   "id": "8cfc4974-8d8e-466e-8a4f-58461d4ce5fa",
   "metadata": {
    "tags": []
   },
   "source": [
    " <img src=\"images/linesex.png\" alt=\"ml\" style=\"width : 100%;\"/>"
   ]
  },
  {
   "cell_type": "code",
   "execution_count": 5,
   "id": "a845475e-41d4-41a0-b9d2-3189a3f85e6f",
   "metadata": {},
   "outputs": [],
   "source": [
    "# fpoly() is a resumme....or.. compilation or is a most common \n",
    "# and relevant functions that allways you need to solve a monomial \n",
    "# or polynomial equation."
   ]
  },
  {
   "cell_type": "code",
   "execution_count": 6,
   "id": "77cc86fb-4f19-4cb8-a39a-1763b9f68014",
   "metadata": {},
   "outputs": [
    {
     "data": {
      "text/latex": [
       "$\\displaystyle for\\;example\\;if\\;we\\;have\\;W=\\;9 x^{2} - 6 x + 9\\;then...;\\;$"
      ],
      "text/plain": [
       "<IPython.core.display.Math object>"
      ]
     },
     "metadata": {},
     "output_type": "display_data"
    }
   ],
   "source": [
    "show_exp([' for example if we have W=',9*x*x-6*x+9,'then...;'])\n",
    "W=9*x*x-6*x+9"
   ]
  },
  {
   "cell_type": "code",
   "execution_count": 7,
   "id": "daa92684-b101-4ccc-8fd8-b845c0ff9aea",
   "metadata": {},
   "outputs": [
    {
     "data": {
      "image/png": "[encoded data removed]",
      "text/latex": [
       "$\\displaystyle 3$"
      ],
      "text/plain": [
       "3"
      ]
     },
     "execution_count": 7,
     "metadata": {},
     "output_type": "execute_result"
    }
   ],
   "source": [
    "fpoly(W,'n') # numbers of args"
   ]
  },
  {
   "cell_type": "code",
   "execution_count": 8,
   "id": "8caa8afa-efd5-449b-9491-a17bf3a2b29f",
   "metadata": {},
   "outputs": [
    {
     "data": {
      "image/png": "[encoded data removed]",
      "text/latex": [
       "$\\displaystyle \\left[ 9, \\  - 6 x, \\  9 x^{2}\\right]$"
      ],
      "text/plain": [
       "⎡            2⎤\n",
       "⎣9, -6⋅x, 9⋅x ⎦"
      ]
     },
     "execution_count": 8,
     "metadata": {},
     "output_type": "execute_result"
    }
   ],
   "source": [
    "fpoly(W,'list') # all args in list form"
   ]
  },
  {
   "cell_type": "code",
   "execution_count": 9,
   "id": "050feb7e-17e7-46ff-8b8f-b20bbdd1efd4",
   "metadata": {},
   "outputs": [
    {
     "data": {
      "image/png": "[encoded data removed]",
      "text/latex": [
       "$\\displaystyle 9$"
      ],
      "text/plain": [
       "9"
      ]
     },
     "execution_count": 9,
     "metadata": {},
     "output_type": "execute_result"
    }
   ],
   "source": [
    "fpoly(W,'get',0) # get first args  "
   ]
  },
  {
   "cell_type": "code",
   "execution_count": 10,
   "id": "2a89aa76-4db2-4ed1-864e-1a4a915822bd",
   "metadata": {},
   "outputs": [
    {
     "data": {
      "image/png": "[encoded data removed]",
      "text/latex": [
       "$\\displaystyle - 6 x$"
      ],
      "text/plain": [
       "-6⋅x"
      ]
     },
     "execution_count": 10,
     "metadata": {},
     "output_type": "execute_result"
    }
   ],
   "source": [
    "fpoly(W,'get',1) # get second args  "
   ]
  },
  {
   "cell_type": "code",
   "execution_count": 11,
   "id": "a6a4951a-bd12-4cc2-ba48-ad209b424644",
   "metadata": {},
   "outputs": [
    {
     "data": {
      "image/png": "[encoded data removed]",
      "text/latex": [
       "$\\displaystyle 9 x^{2}$"
      ],
      "text/plain": [
       "   2\n",
       "9⋅x "
      ]
     },
     "execution_count": 11,
     "metadata": {},
     "output_type": "execute_result"
    }
   ],
   "source": [
    "fpoly(W,'get',2) # get No.... args  "
   ]
  },
  {
   "cell_type": "code",
   "execution_count": 12,
   "id": "fb90bf63-a59b-4986-85bf-d2ba70e7576e",
   "metadata": {},
   "outputs": [
    {
     "data": {
      "image/png": "[encoded data removed]",
      "text/latex": [
       "$\\displaystyle \\frac{9 x^{2} - 6 x}{12 x}$"
      ],
      "text/plain": [
       "   2      \n",
       "9⋅x  - 6⋅x\n",
       "──────────\n",
       "   12⋅x   "
      ]
     },
     "execution_count": 12,
     "metadata": {},
     "output_type": "execute_result"
    }
   ],
   "source": [
    "#  At now we will change the algebrate exp\n",
    "W=(9*x*x-6*x)/(12*x);W"
   ]
  },
  {
   "cell_type": "code",
   "execution_count": 13,
   "id": "ca625b87-0726-45f0-a934-07b4a349e594",
   "metadata": {},
   "outputs": [
    {
     "data": {
      "image/png": "[encoded data removed]",
      "text/latex": [
       "$\\displaystyle 3$"
      ],
      "text/plain": [
       "3"
      ]
     },
     "execution_count": 13,
     "metadata": {},
     "output_type": "execute_result"
    }
   ],
   "source": [
    "fpoly(W,'n') # numbers of args"
   ]
  },
  {
   "cell_type": "code",
   "execution_count": 14,
   "id": "429b7dff-08e9-4d31-8156-9dd915449602",
   "metadata": {},
   "outputs": [
    {
     "data": {
      "image/png": "[encoded data removed]",
      "text/latex": [
       "$\\displaystyle \\left[ \\frac{1}{12}, \\  \\frac{1}{x}, \\  9 x^{2} - 6 x\\right]$"
      ],
      "text/plain": [
       "⎡      1     2      ⎤\n",
       "⎢1/12, ─, 9⋅x  - 6⋅x⎥\n",
       "⎣      x            ⎦"
      ]
     },
     "execution_count": 14,
     "metadata": {},
     "output_type": "execute_result"
    }
   ],
   "source": [
    "fpoly(W,'list')  "
   ]
  },
  {
   "cell_type": "markdown",
   "id": "7e6cb7f0-8fb8-4185-ac37-70686af0c30e",
   "metadata": {
    "tags": []
   },
   "source": [
    " <img src=\"images/linesexe.png\" alt=\"ml\" style=\"width : 100%;\"/>"
   ]
  },
  {
   "cell_type": "code",
   "execution_count": 17,
   "id": "7f462e00-431e-4bce-869f-1e021b528f97",
   "metadata": {
    "tags": []
   },
   "outputs": [],
   "source": [
    "a1,b1,c1=symbols('a1 b1 c1')"
   ]
  },
  {
   "cell_type": "code",
   "execution_count": 25,
   "id": "62dfff0e-fb4f-4ab9-b252-f6118e13b0cd",
   "metadata": {},
   "outputs": [
    {
     "data": {
      "text/latex": [
       "$\\displaystyle we\\;will\\;make\\;a b c\\;=\\;k\\;and\\;and\\;temporarily\\;a1,a2,a3\\;if\\;not\\;this\\;pie\\;of\\;ch..\\;auto\\;canceled\\;$"
      ],
      "text/plain": [
       "<IPython.core.display.Math object>"
      ]
     },
     "metadata": {},
     "output_type": "display_data"
    }
   ],
   "source": [
    "show_exp(['we will make ',a*b*c,'= k and and temporarily a1,a2,a3 if not this pie of ch..  auto canceled'])"
   ]
  },
  {
   "cell_type": "code",
   "execution_count": 26,
   "id": "5f916b10-3432-4395-98c8-1559d6673b47",
   "metadata": {},
   "outputs": [
    {
     "data": {
      "text/latex": [
       "$\\displaystyle if\\;a b c\\;=k\\;then\\;a1=\\;\\frac{z}{b_{1} c_{1}}\\;b1=\\;\\frac{z}{a_{1} c_{1}}\\;...\\;$"
      ],
      "text/plain": [
       "<IPython.core.display.Math object>"
      ]
     },
     "metadata": {},
     "output_type": "display_data"
    }
   ],
   "source": [
    "show_exp(['if',a*b*c,'=k then a1=',z/(b1*c1),'b1=',z/(c1*a1),'...' ])"
   ]
  },
  {
   "cell_type": "markdown",
   "id": "8b24bd7a-26e0-4dba-8e7f-3173e66bc6b3",
   "metadata": {
    "tags": []
   },
   "source": [
    " <img src=\"images/linesex.png\" alt=\"ml\" style=\"width : 100%;\"/>"
   ]
  },
  {
   "cell_type": "code",
   "execution_count": 5,
   "id": "35d26f6f-e72e-45ec-b658-61e1045364f2",
   "metadata": {},
   "outputs": [],
   "source": [
    "# fpoly( P(x),'Zubs',x,y) = in P(x) change all x to y\n",
    "# fpoly( P(x),'ZubsV',[x,y],[10,8]) = in P(x) change all x for 10 and all yfor 8"
   ]
  },
  {
   "cell_type": "code",
   "execution_count": 28,
   "id": "af74eba2-2867-4905-b4cb-d721603fb438",
   "metadata": {
    "tags": []
   },
   "outputs": [
    {
     "data": {
      "text/latex": [
       "$\\displaystyle in\\;e2..change\\;a\\;to\\;\\frac{z}{b_{1} c_{1}}\\;b\\;to\\;\\frac{z}{a_{1} c_{1}}\\;and\\;c\\;to\\;\\frac{z}{a_{1} b_{1}}\\;$"
      ],
      "text/plain": [
       "<IPython.core.display.Math object>"
      ]
     },
     "metadata": {},
     "output_type": "display_data"
    },
    {
     "data": {
      "image/png": "[encoded data removed]",
      "text/latex": [
       "$\\displaystyle \\frac{a_{1} b_{1} \\left(\\frac{z}{b_{1} c_{1}} + \\frac{z}{a_{1} c_{1}}\\right)}{z} + \\frac{a_{1} c_{1} \\left(\\frac{z}{b_{1} c_{1}} + \\frac{z}{a_{1} b_{1}}\\right)}{z} + \\frac{b_{1} c_{1} \\left(\\frac{z}{a_{1} c_{1}} + \\frac{z}{a_{1} b_{1}}\\right)}{z}$"
      ],
      "text/plain": [
       "      ⎛  z       z  ⎞         ⎛  z       z  ⎞         ⎛  z       z  ⎞\n",
       "a₁⋅b₁⋅⎜───── + ─────⎟   a₁⋅c₁⋅⎜───── + ─────⎟   b₁⋅c₁⋅⎜───── + ─────⎟\n",
       "      ⎝b₁⋅c₁   a₁⋅c₁⎠         ⎝b₁⋅c₁   a₁⋅b₁⎠         ⎝a₁⋅c₁   a₁⋅b₁⎠\n",
       "───────────────────── + ───────────────────── + ─────────────────────\n",
       "          z                       z                       z          "
      ]
     },
     "execution_count": 28,
     "metadata": {},
     "output_type": "execute_result"
    }
   ],
   "source": [
    "show_exp(['in e2..change a to ',z/(b1*c1),'b to',z/(c1*a1),'and c to',z/(a1*b1)])\n",
    "e3=fpoly(e2,'zubsV',[a,b,c],[z/(b1*c1),z/(c1*a1),z/(a1*b1)]);e3"
   ]
  },
  {
   "cell_type": "markdown",
   "id": "316a6974-5ea0-4075-bf1b-454bc93c1406",
   "metadata": {
    "tags": []
   },
   "source": [
    " <img src=\"images/linesexe.png\" alt=\"ml\" style=\"width : 100%;\"/>"
   ]
  },
  {
   "cell_type": "code",
   "execution_count": 29,
   "id": "dde91a2a-aee5-44f4-928b-1b2b0e74911f",
   "metadata": {},
   "outputs": [
    {
     "data": {
      "image/png": "[encoded data removed]",
      "text/latex": [
       "$\\displaystyle \\frac{a_{1} b_{1} \\left(\\frac{z}{b_{1} c_{1}} + \\frac{z}{a_{1} c_{1}}\\right)}{z} + \\frac{a_{1} c_{1} \\left(\\frac{z}{b_{1} c_{1}} + \\frac{z}{a_{1} b_{1}}\\right)}{z} + \\frac{b_{1} c_{1} \\left(\\frac{z}{a_{1} c_{1}} + \\frac{z}{a_{1} b_{1}}\\right)}{z}$"
      ],
      "text/plain": [
       "      ⎛  z       z  ⎞         ⎛  z       z  ⎞         ⎛  z       z  ⎞\n",
       "a₁⋅b₁⋅⎜───── + ─────⎟   a₁⋅c₁⋅⎜───── + ─────⎟   b₁⋅c₁⋅⎜───── + ─────⎟\n",
       "      ⎝b₁⋅c₁   a₁⋅c₁⎠         ⎝b₁⋅c₁   a₁⋅b₁⎠         ⎝a₁⋅c₁   a₁⋅b₁⎠\n",
       "───────────────────── + ───────────────────── + ─────────────────────\n",
       "          z                       z                       z          "
      ]
     },
     "execution_count": 29,
     "metadata": {},
     "output_type": "execute_result"
    }
   ],
   "source": [
    "e3"
   ]
  },
  {
   "cell_type": "code",
   "execution_count": 31,
   "id": "9cef387f-cab9-4060-a5ab-b98c93cd60c5",
   "metadata": {},
   "outputs": [
    {
     "data": {
      "image/png": "[encoded data removed]",
      "text/latex": [
       "$\\displaystyle \\frac{a_{1}}{c_{1}} + \\frac{a_{1}}{b_{1}} + \\frac{b_{1}}{c_{1}} + \\frac{c_{1}}{b_{1}} + \\frac{b_{1}}{a_{1}} + \\frac{c_{1}}{a_{1}}$"
      ],
      "text/plain": [
       "a₁   a₁   b₁   c₁   b₁   c₁\n",
       "── + ── + ── + ── + ── + ──\n",
       "c₁   b₁   c₁   b₁   a₁   a₁"
      ]
     },
     "execution_count": 31,
     "metadata": {},
     "output_type": "execute_result"
    }
   ],
   "source": [
    "e4=opemat(e3,'s');e4 # simplifyyyyyyyyy"
   ]
  },
  {
   "cell_type": "code",
   "execution_count": 34,
   "id": "79e67652-8ea5-4fb0-89a8-7f85f71d2e0b",
   "metadata": {},
   "outputs": [
    {
     "data": {
      "text/latex": [
       "$\\displaystyle returning\\;a1\\;b1,c1\\;to\\;a\\;b\\;c\\;$"
      ],
      "text/plain": [
       "<IPython.core.display.Math object>"
      ]
     },
     "metadata": {},
     "output_type": "display_data"
    },
    {
     "data": {
      "image/png": "[encoded data removed]",
      "text/latex": [
       "$\\displaystyle \\frac{a}{c} + \\frac{a}{b} + \\frac{b}{c} + \\frac{c}{b} + \\frac{b}{a} + \\frac{c}{a}$"
      ],
      "text/plain": [
       "a   a   b   c   b   c\n",
       "─ + ─ + ─ + ─ + ─ + ─\n",
       "c   b   c   b   a   a"
      ]
     },
     "execution_count": 34,
     "metadata": {},
     "output_type": "execute_result"
    }
   ],
   "source": [
    "show_exp(['returning a1 b1,c1 to a b c'])\n",
    "e4=fpoly(e4,'zubsV',[a1,b1,c1],[a,b,c]);e4"
   ]
  },
  {
   "cell_type": "code",
   "execution_count": 35,
   "id": "d515b8c1-bcc7-44bc-8ab0-05bc9ffc6b78",
   "metadata": {},
   "outputs": [
    {
     "data": {
      "image/png": "[encoded data removed]",
      "text/latex": [
       "$\\displaystyle \\frac{a}{c} + \\frac{a}{b} + \\frac{b}{c} + \\frac{c}{b} + \\frac{b}{a} + \\frac{c}{a}$"
      ],
      "text/plain": [
       "a   a   b   c   b   c\n",
       "─ + ─ + ─ + ─ + ─ + ─\n",
       "c   b   c   b   a   a"
      ]
     },
     "execution_count": 35,
     "metadata": {},
     "output_type": "execute_result"
    }
   ],
   "source": [
    "opemat(e4,'s')"
   ]
  },
  {
   "cell_type": "code",
   "execution_count": 36,
   "id": "7be374c6-fc20-408d-badc-957ef2a27c83",
   "metadata": {},
   "outputs": [
    {
     "data": {
      "image/png": "[encoded data removed]",
      "text/latex": [
       "$\\displaystyle \\frac{a^{3} - z}{z} + \\frac{b^{3} - z}{z} + \\frac{c^{3} - z}{z} + \\frac{d^{3} - z}{z}$"
      ],
      "text/plain": [
       " 3        3        3        3    \n",
       "a  - z   b  - z   c  - z   d  - z\n",
       "────── + ────── + ────── + ──────\n",
       "  z        z        z        z   "
      ]
     },
     "execution_count": 36,
     "metadata": {},
     "output_type": "execute_result"
    }
   ],
   "source": [
    "e1=P0(a)+P0(b)+P0(c)+P0(d);e1"
   ]
  },
  {
   "cell_type": "code",
   "execution_count": 37,
   "id": "ecd36f9c-2e72-44a2-ae08-4574665146ff",
   "metadata": {},
   "outputs": [],
   "source": [
    "P1=lambdify(a,a*a/(z-1)-a*z/(z-a)+a/(z-a)+a)"
   ]
  },
  {
   "cell_type": "code",
   "execution_count": 38,
   "id": "cdc01e7a-5433-44af-9af5-c269e82e4e8a",
   "metadata": {},
   "outputs": [
    {
     "data": {
      "image/png": "[encoded data removed]",
      "text/latex": [
       "$\\displaystyle \\frac{a^{2}}{z - 1} - \\frac{a z}{- a + z} + \\frac{a}{- a + z} + \\frac{b^{2}}{z - 1} - \\frac{b z}{- b + z} + \\frac{b}{- b + z} + \\frac{c^{2}}{z - 1} - \\frac{c z}{- c + z} + \\frac{c}{- c + z} + \\frac{d^{2}}{z - 1} - \\frac{d z}{- d + z} + \\frac{d}{- d + z} + z$"
      ],
      "text/plain": [
       "   2                         2                         2                      \n",
       "  a      a⋅z       a        b      b⋅z       b        c      c⋅z       c      \n",
       "───── - ────── + ────── + ───── - ────── + ────── + ───── - ────── + ────── + \n",
       "z - 1   -a + z   -a + z   z - 1   -b + z   -b + z   z - 1   -c + z   -c + z   \n",
       "\n",
       "   2                       \n",
       "  d      d⋅z       d       \n",
       "───── - ────── + ────── + z\n",
       "z - 1   -d + z   -d + z    "
      ]
     },
     "execution_count": 38,
     "metadata": {},
     "output_type": "execute_result"
    }
   ],
   "source": [
    "e2=P1(a)+P1(b)+P1(c)+P1(d)-a-b-c-d+z;e2"
   ]
  },
  {
   "cell_type": "code",
   "execution_count": 39,
   "id": "5227c3d1-d946-4af2-82fc-64c13d11f42b",
   "metadata": {},
   "outputs": [
    {
     "data": {
      "image/png": "[encoded data removed]",
      "text/latex": [
       "$\\displaystyle \\frac{a^{2}}{z - 1} - \\frac{a z}{- a + z} + \\frac{a}{- a + z} + \\frac{b^{2}}{z - 1} - \\frac{b z}{- b + z} + \\frac{b}{- b + z} + \\frac{c^{2}}{z - 1} - \\frac{c z}{- c + z} + \\frac{c}{- c + z} + \\frac{d^{2}}{z - 1} - \\frac{d z}{- d + z} + \\frac{d}{- d + z} + z + 1 - \\frac{a^{3} - z}{z} - \\frac{b^{3} - z}{z} - \\frac{c^{3} - z}{z} - \\frac{d^{3} - z}{z}$"
      ],
      "text/plain": [
       "   2                         2                         2                      \n",
       "  a      a⋅z       a        b      b⋅z       b        c      c⋅z       c      \n",
       "───── - ────── + ────── + ───── - ────── + ────── + ───── - ────── + ────── + \n",
       "z - 1   -a + z   -a + z   z - 1   -b + z   -b + z   z - 1   -c + z   -c + z   \n",
       "\n",
       "   2                               3        3        3        3    \n",
       "  d      d⋅z       d              a  - z   b  - z   c  - z   d  - z\n",
       "───── - ────── + ────── + z + 1 - ────── - ────── - ────── - ──────\n",
       "z - 1   -d + z   -d + z             z        z        z        z   "
      ]
     },
     "execution_count": 39,
     "metadata": {},
     "output_type": "execute_result"
    }
   ],
   "source": [
    "e3=e2-e1+1;e3"
   ]
  },
  {
   "cell_type": "code",
   "execution_count": 40,
   "id": "003a34b7-b8c0-47f6-900c-979d88304ff5",
   "metadata": {},
   "outputs": [],
   "source": [
    "P2=lambdify(a,a*a/(z-1))"
   ]
  },
  {
   "cell_type": "code",
   "execution_count": 42,
   "id": "f727a817-d770-484f-b126-24f234fd40f4",
   "metadata": {},
   "outputs": [
    {
     "data": {
      "image/png": "[encoded data removed]",
      "text/latex": [
       "$\\displaystyle - \\frac{a z}{- a + z} + \\frac{a}{- a + z} - \\frac{b z}{- b + z} + \\frac{b}{- b + z} - \\frac{c z}{- c + z} + \\frac{c}{- c + z} - \\frac{d z}{- d + z} + \\frac{d}{- d + z} + m + z + 1 - \\frac{a^{3} - z}{z} - \\frac{b^{3} - z}{z} - \\frac{c^{3} - z}{z} - \\frac{d^{3} - z}{z}$"
      ],
      "text/plain": [
       "                                                                              \n",
       "   a⋅z       a       b⋅z       b       c⋅z       c       d⋅z       d          \n",
       "- ────── + ────── - ────── + ────── - ────── + ────── - ────── + ────── + m + \n",
       "  -a + z   -a + z   -b + z   -b + z   -c + z   -c + z   -d + z   -d + z       \n",
       "\n",
       "         3        3        3        3    \n",
       "        a  - z   b  - z   c  - z   d  - z\n",
       "z + 1 - ────── - ────── - ────── - ──────\n",
       "          z        z        z        z   "
      ]
     },
     "execution_count": 42,
     "metadata": {},
     "output_type": "execute_result"
    }
   ],
   "source": [
    "m=symbols('m')\n",
    "e4=e3-(P2(a)+P2(b)+P2(c)+P2(d))+m;e4"
   ]
  },
  {
   "cell_type": "code",
   "execution_count": 43,
   "id": "0d388a0b-ec81-488c-8372-61377c6441df",
   "metadata": {},
   "outputs": [
    {
     "data": {
      "image/png": "[encoded data removed]",
      "text/latex": [
       "$\\displaystyle - \\frac{a z}{- a + z} + \\frac{a}{- a + z} - \\frac{b z}{- b + z} + \\frac{b}{- b + z} - \\frac{c z}{- c + z} + \\frac{c}{- c + z} - \\frac{d z}{- d + z} + \\frac{d}{- d + z} + m + z + 1 - \\frac{a^{3} - z}{z} - \\frac{b^{3} - z}{z} - \\frac{c^{3} - z}{z} - \\frac{d^{3} - z}{z}=1$"
      ],
      "text/plain": [
       "-a*z/(-a + z) + a/(-a + z) - b*z/(-b + z) + b/(-b + z) - c*z/(-c + z) + c/(-c + z) - d*z/(-d + z) + d/(-d + z) + m + z + 1 - (a**3 - z)/z - (b**3 - z)/z - (c**3 - z)/z - (d**3 - z)/z=1"
      ]
     },
     "execution_count": 43,
     "metadata": {},
     "output_type": "execute_result"
    }
   ],
   "source": [
    "A=polyclass(e4,1);A.Q"
   ]
  },
  {
   "cell_type": "code",
   "execution_count": 44,
   "id": "eaf50fc7-2f4a-4a49-9f08-e76ea5b13c50",
   "metadata": {},
   "outputs": [
    {
     "data": {
      "image/png": "[encoded data removed]",
      "text/latex": [
       "$\\displaystyle - \\frac{a z}{- a + z} + \\frac{a}{- a + z} - \\frac{b z}{- b + z} + \\frac{b}{- b + z} - \\frac{c z}{- c + z} + \\frac{c}{- c + z} - \\frac{d z}{- d + z} + \\frac{d}{- d + z} - \\frac{a^{3} - z}{z} - \\frac{b^{3} - z}{z} - \\frac{c^{3} - z}{z} - \\frac{d^{3} - z}{z}=- m - z$"
      ],
      "text/plain": [
       "-a*z/(-a + z) + a/(-a + z) - b*z/(-b + z) + b/(-b + z) - c*z/(-c + z) + c/(-c + z) - d*z/(-d + z) + d/(-d + z) - (a**3 - z)/z - (b**3 - z)/z - (c**3 - z)/z - (d**3 - z)/z=-m - z"
      ]
     },
     "execution_count": 44,
     "metadata": {},
     "output_type": "execute_result"
    }
   ],
   "source": [
    "A.ope4('S',-1-z-m,1)"
   ]
  },
  {
   "cell_type": "code",
   "execution_count": 45,
   "id": "6126ae26-5b06-47f1-9571-0c9a3b4fde64",
   "metadata": {},
   "outputs": [
    {
     "data": {
      "image/png": "[encoded data removed]",
      "text/latex": [
       "$\\displaystyle \\frac{a z}{- a + z} - \\frac{a}{- a + z} + \\frac{b z}{- b + z} - \\frac{b}{- b + z} + \\frac{c z}{- c + z} - \\frac{c}{- c + z} + \\frac{d z}{- d + z} - \\frac{d}{- d + z} + \\frac{a^{3} - z}{z} + \\frac{b^{3} - z}{z} + \\frac{c^{3} - z}{z} + \\frac{d^{3} - z}{z}=m + z$"
      ],
      "text/plain": [
       "a*z/(-a + z) - a/(-a + z) + b*z/(-b + z) - b/(-b + z) + c*z/(-c + z) - c/(-c + z) + d*z/(-d + z) - d/(-d + z) + (a**3 - z)/z + (b**3 - z)/z + (c**3 - z)/z + (d**3 - z)/z=m + z"
      ]
     },
     "execution_count": 45,
     "metadata": {},
     "output_type": "execute_result"
    }
   ],
   "source": [
    "A.ope4('M',-1,1)"
   ]
  },
  {
   "cell_type": "code",
   "execution_count": 46,
   "id": "4e7e022c-9ffa-40fd-9e2d-565b78bc3eed",
   "metadata": {},
   "outputs": [
    {
     "data": {
      "image/png": "[encoded data removed]",
      "text/latex": [
       "$\\displaystyle z \\left(\\frac{a^{3} - z}{z} + \\frac{b^{3} - z}{z} + \\frac{c^{3} - z}{z} + \\frac{d^{3} - z}{z}\\right)=m + z$"
      ],
      "text/plain": [
       "z*((a**3 - z)/z + (b**3 - z)/z + (c**3 - z)/z + (d**3 - z)/z)=m + z"
      ]
     },
     "execution_count": 46,
     "metadata": {},
     "output_type": "execute_result"
    }
   ],
   "source": [
    "A.re_eQ(z*e1,m+z)"
   ]
  },
  {
   "cell_type": "code",
   "execution_count": 47,
   "id": "27169928-3173-4f40-be3a-b773c1e396d0",
   "metadata": {},
   "outputs": [
    {
     "data": {
      "image/png": "[encoded data removed]",
      "text/latex": [
       "$\\displaystyle z=m + z$"
      ],
      "text/plain": [
       "z=m + z"
      ]
     },
     "execution_count": 47,
     "metadata": {},
     "output_type": "execute_result"
    }
   ],
   "source": [
    "A.re_eQ(z,m+z)"
   ]
  },
  {
   "cell_type": "code",
   "execution_count": 48,
   "id": "20bcb84c-c962-4166-9c05-98c8a2e810e0",
   "metadata": {},
   "outputs": [
    {
     "data": {
      "image/png": "[encoded data removed]",
      "text/latex": [
       "$\\displaystyle 0$"
      ],
      "text/plain": [
       "0"
      ]
     },
     "execution_count": 48,
     "metadata": {},
     "output_type": "execute_result"
    }
   ],
   "source": [
    "A.solve(m)"
   ]
  },
  {
   "cell_type": "markdown",
   "id": "9e475ac8-7ecf-4e7d-8b4c-8694ebebc628",
   "metadata": {},
   "source": [
    " <img src=\"images/linep.png\" alt=\"ml\" style=\"width : 100%;\"/>"
   ]
  },
  {
   "cell_type": "markdown",
   "id": "d1a3ecf7-a41d-4362-b382-ed759714b545",
   "metadata": {},
   "source": [
    " <img src=\"images/p5.png\" alt=\"ml\" style=\"width : 100%;\"/>"
   ]
  },
  {
   "cell_type": "markdown",
   "id": "c0858b42-6d87-41b9-aa36-81d0545d7db3",
   "metadata": {},
   "source": [
    " <img src=\"images/lines.png\" alt=\"ml\" style=\"width : 100%;\"/>"
   ]
  },
  {
   "cell_type": "code",
   "execution_count": 49,
   "id": "191e7199-8c4c-4828-89aa-ae971ec42500",
   "metadata": {
    "tags": []
   },
   "outputs": [
    {
     "data": {
      "image/png": "[encoded data removed]",
      "text/latex": [
       "$\\displaystyle x=t^{\\frac{1}{t - 1}}$"
      ],
      "text/plain": [
       "x=t**(1/(t - 1))"
      ]
     },
     "execution_count": 49,
     "metadata": {},
     "output_type": "execute_result"
    }
   ],
   "source": [
    "X=polyclass(x,sqrs(t,1/(t-1)));X.Q"
   ]
  },
  {
   "cell_type": "code",
   "execution_count": 50,
   "id": "1d2e42c5-df1e-4dee-b0c3-4fd350fe4ce2",
   "metadata": {
    "tags": []
   },
   "outputs": [
    {
     "data": {
      "image/png": "[encoded data removed]",
      "text/latex": [
       "$\\displaystyle y=t^{\\frac{t}{t - 1}}$"
      ],
      "text/plain": [
       "y=t**(t/(t - 1))"
      ]
     },
     "execution_count": 50,
     "metadata": {},
     "output_type": "execute_result"
    }
   ],
   "source": [
    "Y=polyclass(y,pow(t,t/(t-1))) ;Y.Q"
   ]
  },
  {
   "cell_type": "code",
   "execution_count": 51,
   "id": "e21cc6d8-b201-48ac-9394-524287c0a449",
   "metadata": {},
   "outputs": [
    {
     "data": {
      "image/png": "[encoded data removed]",
      "text/latex": [
       "$\\displaystyle x^{t - 1}=\\left(t^{\\frac{1}{t - 1}}\\right)^{t - 1}$"
      ],
      "text/plain": [
       "x**(t - 1)=(t**(1/(t - 1)))**(t - 1)"
      ]
     },
     "execution_count": 51,
     "metadata": {},
     "output_type": "execute_result"
    }
   ],
   "source": [
    "e3=X.get_exp(2)  # get exponete right side and pow eQ to t-1\n",
    "X.ope4('P',t-1,1)   # Pow Eq by value after 'P'"
   ]
  },
  {
   "cell_type": "code",
   "execution_count": 52,
   "id": "da599603-9231-4b9b-a0a2-70023fdffa87",
   "metadata": {},
   "outputs": [
    {
     "data": {
      "image/png": "[encoded data removed]",
      "text/latex": [
       "$\\displaystyle x^{t - 1}=t$"
      ],
      "text/plain": [
       "x**(t - 1)=t"
      ]
     },
     "execution_count": 52,
     "metadata": {},
     "output_type": "execute_result"
    }
   ],
   "source": [
    "X.re_eQ(X.q1,fpoly(X.q2,'simpow')) # simplify exponent  right side, and rewriete"
   ]
  },
  {
   "cell_type": "code",
   "execution_count": 53,
   "id": "902d2d9b-345c-462a-93cb-89f8d9c25891",
   "metadata": {},
   "outputs": [
    {
     "data": {
      "image/png": "[encoded data removed]",
      "text/latex": [
       "$\\displaystyle x x^{t - 1}=t x$"
      ],
      "text/plain": [
       "x*x**(t - 1)=t*x"
      ]
     },
     "execution_count": 53,
     "metadata": {},
     "output_type": "execute_result"
    }
   ],
   "source": [
    "X.ope4('M',x,1)  # Multiply Eq by value after 'M'"
   ]
  },
  {
   "cell_type": "code",
   "execution_count": 54,
   "id": "14ffb34d-84a5-424d-a6e5-366dddddb824",
   "metadata": {},
   "outputs": [
    {
     "data": {
      "image/png": "[encoded data removed]",
      "text/latex": [
       "$\\displaystyle x^{t}=t x$"
      ],
      "text/plain": [
       "x**t=t*x"
      ]
     },
     "execution_count": 54,
     "metadata": {},
     "output_type": "execute_result"
    }
   ],
   "source": [
    "X.opemat('e',1)  # expand Eq"
   ]
  },
  {
   "cell_type": "code",
   "execution_count": 55,
   "id": "7c062e40-7bcb-4f84-b1b3-5adc9dd9bff4",
   "metadata": {},
   "outputs": [
    {
     "data": {
      "image/png": "[encoded data removed]",
      "text/latex": [
       "$\\displaystyle y=\\left(t^{\\frac{1}{t - 1}}\\right)^{t}$"
      ],
      "text/plain": [
       "y=(t**(1/(t - 1)))**t"
      ]
     },
     "execution_count": 55,
     "metadata": {},
     "output_type": "execute_result"
    }
   ],
   "source": [
    "Y.re_eQ(Y.q1,pow(pow(t,1/(t-1)),t))"
   ]
  },
  {
   "cell_type": "code",
   "execution_count": 56,
   "id": "fe69e01e-250c-4f7b-b324-a2bd38d9f7e1",
   "metadata": {},
   "outputs": [
    {
     "data": {
      "image/png": "[encoded data removed]",
      "text/latex": [
       "$\\displaystyle y=x^{t}$"
      ],
      "text/plain": [
       "y=x**t"
      ]
     },
     "execution_count": 56,
     "metadata": {},
     "output_type": "execute_result"
    }
   ],
   "source": [
    "Y.re_eQ(y,pow(x,t))"
   ]
  },
  {
   "cell_type": "code",
   "execution_count": 57,
   "id": "f19675d7-b634-4243-8834-a9eb58a3eae3",
   "metadata": {},
   "outputs": [
    {
     "data": {
      "image/png": "[encoded data removed]",
      "text/latex": [
       "$\\displaystyle y=t x$"
      ],
      "text/plain": [
       "y=t*x"
      ]
     },
     "execution_count": 57,
     "metadata": {},
     "output_type": "execute_result"
    }
   ],
   "source": [
    "# new Eq called C\n",
    "C=polyclass(y,x*t);C.Q"
   ]
  },
  {
   "cell_type": "code",
   "execution_count": 59,
   "id": "15a81514-e808-4286-907e-38f6d6404279",
   "metadata": {},
   "outputs": [
    {
     "data": {
      "text/latex": [
       "$\\displaystyle t=\\;\\frac{y}{x}\\;$"
      ],
      "text/plain": [
       "<IPython.core.display.Math object>"
      ]
     },
     "metadata": {},
     "output_type": "display_data"
    }
   ],
   "source": [
    "show_exp([' t=',C.solve(t) ])"
   ]
  },
  {
   "cell_type": "markdown",
   "id": "336b0b36-1d62-42ec-aec9-ac92a1e4fcfe",
   "metadata": {},
   "source": [
    " <img src=\"images/linep.png\" alt=\"ml\" style=\"width : 100%;\"/>"
   ]
  },
  {
   "cell_type": "markdown",
   "id": "1fc7c064-eb09-4072-92e8-144a53ff7d01",
   "metadata": {},
   "source": [
    " <img src=\"images/p6.png\" alt=\"ml\" style=\"width : 100%;\"/>"
   ]
  },
  {
   "cell_type": "markdown",
   "id": "dc7f46c2-f68c-4527-9365-edd5d575f3f4",
   "metadata": {},
   "source": [
    " <img src=\"images/lines.png\" alt=\"ml\" style=\"width : 100%;\"/>"
   ]
  },
  {
   "cell_type": "code",
   "execution_count": 78,
   "id": "8d5e9bf5-39e7-426a-a962-c0e2c07e3784",
   "metadata": {
    "tags": []
   },
   "outputs": [
    {
     "data": {
      "image/png": "[encoded data removed]",
      "text/latex": [
       "$\\displaystyle 2 x + 1=\\frac{3 \\left(\\frac{1}{x}\\right)^{\\frac{x}{4} - 1}}{2}$"
      ],
      "text/plain": [
       "2*x + 1=3*(1/x)**(x/4 - 1)/2"
      ]
     },
     "execution_count": 78,
     "metadata": {},
     "output_type": "execute_result"
    }
   ],
   "source": [
    "#  w will be 4*x+2 but define later\n",
    "w,x=symbols('w x')\n",
    "#first Eq\n",
    "Eq1=polyclass(2*x+1,frs(3,2)*rpow(frs(1,x),4*x-1));Eq1.Q"
   ]
  },
  {
   "cell_type": "code",
   "execution_count": 83,
   "id": "77539317-29f8-49ae-9dbd-d0c1b75c48c3",
   "metadata": {},
   "outputs": [
    {
     "data": {
      "image/png": "[encoded data removed]",
      "text/latex": [
       "$\\displaystyle \\frac{2 \\left(2 x + 1\\right)}{3}=\\left(\\frac{1}{x}\\right)^{\\frac{x}{4} - 1}$"
      ],
      "text/plain": [
       "2*(2*x + 1)/3=(1/x)**(x/4 - 1)"
      ]
     },
     "execution_count": 83,
     "metadata": {},
     "output_type": "execute_result"
    }
   ],
   "source": [
    "# accommodating the equation with basic operations \n",
    "# to be able  solve it\n",
    "# first 3 and 2 to ther side\n",
    "Eq1.ope4('M',frs(2,3),'f',1) # mult Eq1 by 2/3 and factorize...and update"
   ]
  },
  {
   "cell_type": "code",
   "execution_count": 87,
   "id": "b4539895-0c8b-4a9a-b231-54d743049bd8",
   "metadata": {},
   "outputs": [
    {
     "data": {
      "text/latex": [
       "$\\displaystyle if\\;w=\\;4 x + 2\\;then\\;\\frac{x}{4} - 1\\;=\\;\\frac{w}{2} - \\frac{3}{2}\\;$"
      ],
      "text/plain": [
       "<IPython.core.display.Math object>"
      ]
     },
     "metadata": {},
     "output_type": "display_data"
    }
   ],
   "source": [
    "show_exp(['if w=',4*x+2,'then ',x/4-1,'=',w/2-frs(3,2)])"
   ]
  },
  {
   "cell_type": "code",
   "execution_count": 88,
   "id": "f47a041b-9714-4d20-a1db-f38aaced4d79",
   "metadata": {},
   "outputs": [
    {
     "data": {
      "image/png": "[encoded data removed]",
      "text/latex": [
       "$\\displaystyle \\frac{w}{3}=x^{\\frac{w}{2} - \\frac{3}{2}}$"
      ],
      "text/plain": [
       "w/3=x**(w/2 - 3/2)"
      ]
     },
     "execution_count": 88,
     "metadata": {},
     "output_type": "execute_result"
    }
   ],
   "source": [
    "P=polyclass(w/3,kpow(rpow(x,2),w-3));P.Q"
   ]
  },
  {
   "cell_type": "code",
   "execution_count": 89,
   "id": "09ddd0bc-b3c7-4744-bb44-c5736ea2c1bd",
   "metadata": {},
   "outputs": [],
   "source": [
    "P.Q=expand(P.ope4('P',2))"
   ]
  },
  {
   "cell_type": "code",
   "execution_count": 90,
   "id": "4c41ed5d-d196-4d85-8aeb-cc0896750a5e",
   "metadata": {},
   "outputs": [
    {
     "data": {
      "image/png": "[encoded data removed]",
      "text/latex": [
       "$\\displaystyle w^{2} x^{3}=9 x^{w}$"
      ],
      "text/plain": [
       "w**2*x**3=9*x**w"
      ]
     },
     "execution_count": 90,
     "metadata": {},
     "output_type": "execute_result"
    }
   ],
   "source": [
    "P.ope4('M',9*x**3,1)"
   ]
  },
  {
   "cell_type": "code",
   "execution_count": 91,
   "id": "c7d019bf-85bb-4664-9e50-bb005db26c4d",
   "metadata": {},
   "outputs": [
    {
     "name": "stdout",
     "output_type": "stream",
     "text": [
      "True\n"
     ]
    },
    {
     "data": {
      "image/png": "[encoded data removed]",
      "text/latex": [
       "$\\displaystyle 9 x^{3}=9 x^{3}$"
      ],
      "text/plain": [
       "9*x**3=9*x**3"
      ]
     },
     "execution_count": 91,
     "metadata": {},
     "output_type": "execute_result"
    }
   ],
   "source": [
    "P.evalue_if(w,3)"
   ]
  },
  {
   "cell_type": "code",
   "execution_count": 92,
   "id": "26be5754-f48d-4614-a55c-3b90a440987c",
   "metadata": {},
   "outputs": [
    {
     "data": {
      "image/png": "[encoded data removed]",
      "text/latex": [
       "$\\displaystyle \\frac{1}{4}$"
      ],
      "text/plain": [
       "1/4"
      ]
     },
     "execution_count": 92,
     "metadata": {},
     "output_type": "execute_result"
    }
   ],
   "source": [
    "csolve(4*x+2-3,x)"
   ]
  },
  {
   "cell_type": "code",
   "execution_count": 93,
   "id": "2088f8eb-686c-4c58-80ae-cb3babc085dc",
   "metadata": {},
   "outputs": [
    {
     "data": {
      "image/png": "[encoded data removed]",
      "text/latex": [
       "$\\displaystyle \\left(\\frac{1}{x}\\right)^{\\frac{1}{x}}$"
      ],
      "text/plain": [
       "    ___\n",
       "   ╱ 1 \n",
       "x ╱  ─ \n",
       "╲╱   x "
      ]
     },
     "execution_count": 93,
     "metadata": {},
     "output_type": "execute_result"
    }
   ],
   "source": [
    "k=kpow(1/x,1/x);k"
   ]
  },
  {
   "cell_type": "code",
   "execution_count": 94,
   "id": "f50c557d-95a0-43fb-a44d-88d23fc04d51",
   "metadata": {},
   "outputs": [
    {
     "data": {
      "image/png": "[encoded data removed]",
      "text/latex": [
       "$\\displaystyle 256.0$"
      ],
      "text/plain": [
       "256.000000000000"
      ]
     },
     "execution_count": 94,
     "metadata": {},
     "output_type": "execute_result"
    }
   ],
   "source": [
    "k.subs(x,1/4)"
   ]
  },
  {
   "cell_type": "markdown",
   "id": "397af922-af4c-4251-9888-25b36ed657eb",
   "metadata": {},
   "source": [
    "### Comming soon....\n",
    "### Common Product\n",
    "### Polynomials Div\n",
    "### Divisibility of Polynomials\n",
    "### Comun Quotient\n",
    "### Functions ...\n",
    "### Etc.. etc... "
   ]
  },
  {
   "cell_type": "code",
   "execution_count": null,
   "id": "f71af8f7-4e30-48dd-8331-dd1848d16575",
   "metadata": {},
   "outputs": [],
   "source": []
  },
  {
   "cell_type": "code",
   "execution_count": null,
   "id": "6e60aac2-5900-4de3-83c7-415fcfd2528c",
   "metadata": {},
   "outputs": [],
   "source": []
  }
 ],
 "metadata": {
  "kernelspec": {
   "display_name": "Python 3",
   "language": "python",
   "name": "python3"
  },
  "language_info": {
   "codemirror_mode": {
    "name": "ipython",
    "version": 3
   },
   "file_extension": ".py",
   "mimetype": "text/x-python",
   "name": "python",
   "nbconvert_exporter": "python",
   "pygments_lexer": "ipython3",
   "version": "3.6.6"
  }
 },
 "nbformat": 4,
 "nbformat_minor": 5
}
