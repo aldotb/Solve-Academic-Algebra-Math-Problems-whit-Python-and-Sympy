{
 "cells": [
  {
   "cell_type": "code",
   "execution_count": 1,
   "id": "0ca73c4b-6ba3-477a-80e3-96a416e8964a",
   "metadata": {
    "tags": []
   },
   "outputs": [],
   "source": [
    "from sympy import *   \n",
    "from libaldo_polyclass  import *\n",
    "from libaldo_lib import *\n",
    "from libaldo__util import *\n",
    "import lib_algebraEq as ae\n",
    "init_printing()"
   ]
  },
  {
   "cell_type": "markdown",
   "id": "b02d5362-6892-407a-9469-00d52990f5b1",
   "metadata": {},
   "source": [
    " <img src=\"images/linep.png\" alt=\"ml\" style=\"width : 100%;\"/>"
   ]
  },
  {
   "cell_type": "markdown",
   "id": "8640f05e-9fe9-4cc7-95c8-881cdeb75cbd",
   "metadata": {},
   "source": [
    " <img src=\"images/p2.png\" alt=\"ml\" style=\"width : 100%;\"/>"
   ]
  },
  {
   "cell_type": "markdown",
   "id": "5293e655-2fec-4b2d-8e84-284f1f5cb69c",
   "metadata": {},
   "source": [
    " <img src=\"images/lines.png\" alt=\"ml\" style=\"width : 100%;\"/>"
   ]
  },
  {
   "cell_type": "code",
   "execution_count": 2,
   "id": "c379acba-7acc-41f5-9d2b-a0db0f86038f",
   "metadata": {
    "tags": []
   },
   "outputs": [
    {
     "data": {
      "text/latex": [
       "$\\displaystyle Create\\;the\\;Eq\\;P\\;whit\\;policlass\\;>\\;x^{\\left(x - 1\\right)^{2}}=2 x + 1\\;$"
      ],
      "text/plain": [
       "<IPython.core.display.Math object>"
      ]
     },
     "metadata": {},
     "output_type": "display_data"
    }
   ],
   "source": [
    "x=symbols('x',positive=True)\n",
    "P=polyclass( x**(pow(x-1,2)),2*x+1)\n",
    "show_exp(['Create the Eq P whit policlass >',P.Q ])"
   ]
  },
  {
   "cell_type": "markdown",
   "id": "d26158f7-0acb-468f-b203-85a390075c26",
   "metadata": {
    "tags": []
   },
   "source": [
    " <img src=\"images/linesex.png\" alt=\"ml\" style=\"width : 100%;\"/>"
   ]
  },
  {
   "cell_type": "code",
   "execution_count": 3,
   "id": "7cc02cbf-44bb-4bba-badf-03e1f1e039e2",
   "metadata": {},
   "outputs": [],
   "source": [
    "# ope4('op..',Exp(x))\n",
    "  # this function Add,Multi,Divide,Pow ..etc our Mono o Polynomie\n",
    "# P.ope4('S',3*x) , Add 3*x to P\n",
    "# P.ope4('M',3*x) , Mul 3*x to P\n",
    "# P.ope4('D',3*x) , Divide 3*x to P\n",
    "# P.ope4('P',3*x) , Pow 3*x to P"
   ]
  },
  {
   "cell_type": "markdown",
   "id": "593513bb-034c-44b7-b736-2a2c05eb5cc5",
   "metadata": {
    "tags": []
   },
   "source": [
    " <img src=\"images/linesexe.png\" alt=\"ml\" style=\"width : 100%;\"/>"
   ]
  },
  {
   "cell_type": "code",
   "execution_count": 4,
   "id": "8d075c15-e965-485e-b630-c1ce13d22ec6",
   "metadata": {},
   "outputs": [
    {
     "data": {
      "text/latex": [
       "$\\displaystyle we\\;Mul\\;the\\;Eq\\;by\\;x^{2 x + 1}\\;using\\;ope4\\;$"
      ],
      "text/plain": [
       "<IPython.core.display.Math object>"
      ]
     },
     "metadata": {},
     "output_type": "display_data"
    },
    {
     "data": {
      "image/png": "[encoded data removed]",
      "text/latex": [
       "$\\displaystyle x^{\\left(x - 1\\right)^{2}} x^{2 x + 1}=x^{2 x + 1} \\left(2 x + 1\\right)$"
      ],
      "text/plain": [
       "x**((x - 1)**2)*x**(2*x + 1)=x**(2*x + 1)*(2*x + 1)"
      ]
     },
     "execution_count": 4,
     "metadata": {},
     "output_type": "execute_result"
    }
   ],
   "source": [
    "show_exp(['we Mul the Eq by ',x**(2*x+1),'using ope4'])\n",
    "P.ope4('M',x**(2*x+1),1)  "
   ]
  },
  {
   "cell_type": "code",
   "execution_count": 5,
   "id": "55d91bea-9475-43c9-b200-d5c7488494a8",
   "metadata": {},
   "outputs": [
    {
     "data": {
      "image/png": "[encoded data removed]",
      "text/latex": [
       "$\\displaystyle x^{x^{2} + 2}=x^{2 x + 1} \\left(2 x + 1\\right)$"
      ],
      "text/plain": [
       "x**(x**2 + 2)=x**(2*x + 1)*(2*x + 1)"
      ]
     },
     "execution_count": 5,
     "metadata": {},
     "output_type": "execute_result"
    }
   ],
   "source": [
    "P.opemat('s',1)  # simplify Eq and update"
   ]
  },
  {
   "cell_type": "code",
   "execution_count": 6,
   "id": "1051b986-0ed6-4975-ac28-4e7345d742a9",
   "metadata": {},
   "outputs": [
    {
     "data": {
      "image/png": "[encoded data removed]",
      "text/latex": [
       "$\\displaystyle x^{2} x^{x^{2}}=x^{2 x + 1} \\left(2 x + 1\\right)$"
      ],
      "text/plain": [
       "x**2*x**(x**2)=x**(2*x + 1)*(2*x + 1)"
      ]
     },
     "execution_count": 6,
     "metadata": {},
     "output_type": "execute_result"
    }
   ],
   "source": [
    "# sometimes we need to make math ope only in one side, left or right\n",
    "# expand only left side P.opemat('e','1',2), (right would been P.opemat('e','1',1))\n",
    "P.opemat('e','1',1)  "
   ]
  },
  {
   "cell_type": "code",
   "execution_count": 7,
   "id": "b73188dd-7d06-4043-91a5-a65045f5711e",
   "metadata": {
    "tags": []
   },
   "outputs": [
    {
     "data": {
      "text/latex": [
       "$\\displaystyle if\\;x^{2} x^{x^{2}}=x^{2 x + 1} \\left(2 x + 1\\right)\\;then\\;x^{2}\\;=\\;2 x + 1\\;and\\;again\\;create\\;Eq\\;A\\;to\\;solve\\;$"
      ],
      "text/plain": [
       "<IPython.core.display.Math object>"
      ]
     },
     "metadata": {},
     "output_type": "display_data"
    },
    {
     "data": {
      "image/png": "[encoded data removed]",
      "text/latex": [
       "$\\displaystyle x^{2}=2 x + 1$"
      ],
      "text/plain": [
       "x**2=2*x + 1"
      ]
     },
     "execution_count": 7,
     "metadata": {},
     "output_type": "execute_result"
    }
   ],
   "source": [
    "show_exp(['if',P.Q,'then',x*x,'=',2*x+1,'and again create Eq A to solve'])\n",
    "A=polyclass( x**2,2*x+1);A.Q"
   ]
  },
  {
   "cell_type": "code",
   "execution_count": 8,
   "id": "f039a272-40af-40f5-b1ad-07d6a16f442d",
   "metadata": {},
   "outputs": [
    {
     "data": {
      "image/png": "[encoded data removed]",
      "text/latex": [
       "$\\displaystyle x^{2} - 2 x + 1=2$"
      ],
      "text/plain": [
       "x**2 - 2*x + 1=2"
      ]
     },
     "execution_count": 8,
     "metadata": {},
     "output_type": "execute_result"
    }
   ],
   "source": [
    "A.ope4('S',-2*x+1,1)   # Add -2*x+1 to both sides of  Eq and update"
   ]
  },
  {
   "cell_type": "code",
   "execution_count": 12,
   "id": "d5715f93-e23d-4dc8-84ac-5e3c69d00671",
   "metadata": {},
   "outputs": [
    {
     "data": {
      "image/png": "[encoded data removed]",
      "text/latex": [
       "$\\displaystyle \\left(x - 1\\right)^{2}=2$"
      ],
      "text/plain": [
       "(x - 1)**2=2"
      ]
     },
     "execution_count": 12,
     "metadata": {},
     "output_type": "execute_result"
    }
   ],
   "source": [
    "A.opemat('f',1)  # factor Eq and update"
   ]
  },
  {
   "cell_type": "code",
   "execution_count": 13,
   "id": "05fc008e-9c9d-465f-84d5-5aca07504f09",
   "metadata": {
    "jupyter": {
     "source_hidden": true
    },
    "tags": []
   },
   "outputs": [
    {
     "data": {
      "text/latex": [
       "$\\displaystyle In\\;polyclass\\;exp\\;or\\;Eq.solve(x)\\;is\\;find\\;the\\;value\\;of\\;x\\;in\\;Eq\\;$"
      ],
      "text/plain": [
       "<IPython.core.display.Math object>"
      ]
     },
     "metadata": {},
     "output_type": "display_data"
    },
    {
     "data": {
      "text/latex": [
       "$\\displaystyle x\\;=\\;1 + \\sqrt{2}\\;......voala....\\;$"
      ],
      "text/plain": [
       "<IPython.core.display.Math object>"
      ]
     },
     "metadata": {},
     "output_type": "display_data"
    }
   ],
   "source": [
    "show_exp(['In polyclass exp or Eq.solve(x) is find the  value of x in Eq '])\n",
    "show_exp(['x =',A.solve(x),'......voala....'])"
   ]
  },
  {
   "cell_type": "markdown",
   "id": "b9c10288-6b2e-46a4-a498-d0e1a5562cfa",
   "metadata": {},
   "source": [
    " <img src=\"images/linep.png\" alt=\"ml\" style=\"width : 100%;\"/>"
   ]
  },
  {
   "cell_type": "markdown",
   "id": "fdb7b39c-1f90-40ef-abca-f7da53a5e935",
   "metadata": {
    "tags": []
   },
   "source": [
    " <img src=\"images/p26.png\" alt=\"ml\" style=\"width : 100%;\"/>"
   ]
  },
  {
   "cell_type": "code",
   "execution_count": 14,
   "id": "28126876-4b02-415b-b445-e9a8ca05ccbf",
   "metadata": {
    "jupyter": {
     "source_hidden": true
    },
    "tags": []
   },
   "outputs": [
    {
     "data": {
      "text/latex": [
       "$\\displaystyle In\\;my\\;native\\;language\\;maybe\\;I\\;would\\;say...\\;$"
      ],
      "text/plain": [
       "<IPython.core.display.Math object>"
      ]
     },
     "metadata": {},
     "output_type": "display_data"
    },
    {
     "data": {
      "text/latex": [
       "$\\displaystyle ESTE\\;PROBLEMA\\;ES\\;UN\\;REVERENDA\\;MIERDAAAA....\\;$"
      ],
      "text/plain": [
       "<IPython.core.display.Math object>"
      ]
     },
     "metadata": {},
     "output_type": "display_data"
    }
   ],
   "source": [
    "show_exp(['In my native language maybe I would say... '])\n",
    "show_exp([' ESTE PROBLEMA ES UN REVERENDA MIERDAAAA.... '])"
   ]
  },
  {
   "cell_type": "markdown",
   "id": "4c49266d-83c0-498e-8b7c-5c05c482ff64",
   "metadata": {},
   "source": [
    " <img src=\"images/lines.png\" alt=\"ml\" style=\"width : 100%;\"/>"
   ]
  },
  {
   "cell_type": "markdown",
   "id": "6106ca09-abcb-462b-b0c8-f541fd747755",
   "metadata": {
    "tags": []
   },
   "source": [
    " <img src=\"images/26a.png\" alt=\"ml\" style=\"width :65%;\"/>"
   ]
  },
  {
   "cell_type": "code",
   "execution_count": 15,
   "id": "15cc6c0f-313a-4ec8-8610-01dfeb784cda",
   "metadata": {},
   "outputs": [],
   "source": [
    "a,b,c,z,y,k=symbols('a b c z y k')\n",
    "# we will make z=a*b*c\n",
    "P0=lambdify(a,(a**3-z)/z) # lambdify are in sympy library"
   ]
  },
  {
   "cell_type": "code",
   "execution_count": 16,
   "id": "2c189394-fb2f-440e-9602-efda4fada2c0",
   "metadata": {},
   "outputs": [
    {
     "data": {
      "text/latex": [
       "$\\displaystyle e1=\\;\\frac{a^{3}}{z} + \\frac{b^{3}}{z} + \\frac{c^{3}}{z} - 3\\;$"
      ],
      "text/plain": [
       "<IPython.core.display.Math object>"
      ]
     },
     "metadata": {},
     "output_type": "display_data"
    }
   ],
   "source": [
    "e1= opemat(P0(a)+P0(b)+P0(c) ,'e')\n",
    "show_exp(['e1=',e1])"
   ]
  },
  {
   "cell_type": "code",
   "execution_count": 17,
   "id": "4bbcba6a-6ad9-42bd-aaa1-266899b9cf2c",
   "metadata": {},
   "outputs": [
    {
     "data": {
      "text/latex": [
       "$\\displaystyle e2=\\;\\frac{a + b}{c} + \\frac{a + c}{b} + \\frac{b + c}{a}\\;$"
      ],
      "text/plain": [
       "<IPython.core.display.Math object>"
      ]
     },
     "metadata": {},
     "output_type": "display_data"
    }
   ],
   "source": [
    "e2=((b+c)/a+(c+a)/b+(a+b)/c)\n",
    "show_exp(['e2=',e2])"
   ]
  },
  {
   "cell_type": "markdown",
   "id": "8cfc4974-8d8e-466e-8a4f-58461d4ce5fa",
   "metadata": {
    "tags": []
   },
   "source": [
    " <img src=\"images/linesex.png\" alt=\"ml\" style=\"width : 100%;\"/>"
   ]
  },
  {
   "cell_type": "code",
   "execution_count": 18,
   "id": "a845475e-41d4-41a0-b9d2-3189a3f85e6f",
   "metadata": {},
   "outputs": [],
   "source": [
    "# fpoly() is a resumme....or.. compilation from  most common \n",
    "# and relevant functions that allways you need to solve a monomial \n",
    "# or polynomial equation. and derive from sympy\n",
    "# please i clarify that my library is based on wonderful sympy...."
   ]
  },
  {
   "cell_type": "code",
   "execution_count": 19,
   "id": "77cc86fb-4f19-4cb8-a39a-1763b9f68014",
   "metadata": {
    "jupyter": {
     "source_hidden": true
    },
    "tags": []
   },
   "outputs": [
    {
     "data": {
      "text/latex": [
       "$\\displaystyle some\\;example\\;of\\;fpoly()\\;funtion.\\;If\\;we\\;have\\;W=\\;9 k y + 9 x^{2} - 6 x\\;then...;\\;$"
      ],
      "text/plain": [
       "<IPython.core.display.Math object>"
      ]
     },
     "metadata": {},
     "output_type": "display_data"
    }
   ],
   "source": [
    "W=9*x*x-6*x+9*k*y\n",
    "show_exp(['some example of fpoly() funtion. If we have W=',W,'then...;'])"
   ]
  },
  {
   "cell_type": "code",
   "execution_count": 20,
   "id": "daa92684-b101-4ccc-8fd8-b845c0ff9aea",
   "metadata": {},
   "outputs": [
    {
     "data": {
      "image/png": "[encoded data removed]",
      "text/latex": [
       "$\\displaystyle 3$"
      ],
      "text/plain": [
       "3"
      ]
     },
     "execution_count": 20,
     "metadata": {},
     "output_type": "execute_result"
    }
   ],
   "source": [
    "fpoly(W,'n') # numbers of args"
   ]
  },
  {
   "cell_type": "code",
   "execution_count": 21,
   "id": "8caa8afa-efd5-449b-9491-a17bf3a2b29f",
   "metadata": {},
   "outputs": [
    {
     "data": {
      "image/png": "[encoded data removed]",
      "text/latex": [
       "$\\displaystyle \\left[ - 6 x, \\  9 x^{2}, \\  9 k y\\right]$"
      ],
      "text/plain": [
       "⎡         2       ⎤\n",
       "⎣-6⋅x, 9⋅x , 9⋅k⋅y⎦"
      ]
     },
     "execution_count": 21,
     "metadata": {},
     "output_type": "execute_result"
    }
   ],
   "source": [
    "fpoly(W,'list') # all args in list form"
   ]
  },
  {
   "cell_type": "code",
   "execution_count": 22,
   "id": "050feb7e-17e7-46ff-8b8f-b20bbdd1efd4",
   "metadata": {},
   "outputs": [
    {
     "data": {
      "image/png": "[encoded data removed]",
      "text/latex": [
       "$\\displaystyle - 6 x$"
      ],
      "text/plain": [
       "-6⋅x"
      ]
     },
     "execution_count": 22,
     "metadata": {},
     "output_type": "execute_result"
    }
   ],
   "source": [
    "fpoly(W,'get',0) # return first args  "
   ]
  },
  {
   "cell_type": "code",
   "execution_count": 23,
   "id": "2a89aa76-4db2-4ed1-864e-1a4a915822bd",
   "metadata": {},
   "outputs": [
    {
     "data": {
      "image/png": "[encoded data removed]",
      "text/latex": [
       "$\\displaystyle 9 x^{2}$"
      ],
      "text/plain": [
       "   2\n",
       "9⋅x "
      ]
     },
     "execution_count": 23,
     "metadata": {},
     "output_type": "execute_result"
    }
   ],
   "source": [
    "fpoly(W,'get',1) # return second args  "
   ]
  },
  {
   "cell_type": "code",
   "execution_count": 24,
   "id": "a6a4951a-bd12-4cc2-ba48-ad209b424644",
   "metadata": {},
   "outputs": [
    {
     "data": {
      "image/png": "[encoded data removed]",
      "text/latex": [
       "$\\displaystyle 9 k y$"
      ],
      "text/plain": [
       "9⋅k⋅y"
      ]
     },
     "execution_count": 24,
     "metadata": {},
     "output_type": "execute_result"
    }
   ],
   "source": [
    "fpoly(W,'get',2) # return No.... args  "
   ]
  },
  {
   "cell_type": "code",
   "execution_count": 25,
   "id": "2d4167c3-bea8-43d7-a55b-6ebe5acf3f43",
   "metadata": {},
   "outputs": [
    {
     "data": {
      "image/png": "[encoded data removed]",
      "text/latex": [
       "$\\displaystyle 9 x^{2} + 9 x y - 6 x$"
      ],
      "text/plain": [
       "   2              \n",
       "9⋅x  + 9⋅x⋅y - 6⋅x"
      ]
     },
     "execution_count": 25,
     "metadata": {},
     "output_type": "execute_result"
    }
   ],
   "source": [
    "fpoly(W,'zubsV',[k],[x]) "
   ]
  },
  {
   "cell_type": "code",
   "execution_count": 26,
   "id": "92c07e5f-114a-4cac-b4e4-600de50046c6",
   "metadata": {},
   "outputs": [
    {
     "data": {
      "image/png": "[encoded data removed]",
      "text/latex": [
       "$\\displaystyle 18 x^{2} - 6 x$"
      ],
      "text/plain": [
       "    2      \n",
       "18⋅x  - 6⋅x"
      ]
     },
     "execution_count": 26,
     "metadata": {},
     "output_type": "execute_result"
    }
   ],
   "source": [
    "fpoly(W,'zubsV',[k,y],[x,x]) "
   ]
  },
  {
   "cell_type": "code",
   "execution_count": 35,
   "id": "fb90bf63-a59b-4986-85bf-d2ba70e7576e",
   "metadata": {
    "tags": []
   },
   "outputs": [
    {
     "data": {
      "text/latex": [
       "$\\displaystyle for\\;example\\;if\\;we\\;have\\;A=\\;30 x + \\frac{9 x^{2} - 6 x + 15}{12 x}\\;then...\\;$"
      ],
      "text/plain": [
       "<IPython.core.display.Math object>"
      ]
     },
     "metadata": {},
     "output_type": "display_data"
    }
   ],
   "source": [
    "A=(9*x*x-6*x+15)/(12*x)+30*x\n",
    "show_exp(['for example if we have A=', A, 'then... '])"
   ]
  },
  {
   "cell_type": "code",
   "execution_count": 36,
   "id": "ca625b87-0726-45f0-a934-07b4a349e594",
   "metadata": {},
   "outputs": [
    {
     "data": {
      "image/png": "[encoded data removed]",
      "text/latex": [
       "$\\displaystyle 2$"
      ],
      "text/plain": [
       "2"
      ]
     },
     "execution_count": 36,
     "metadata": {},
     "output_type": "execute_result"
    }
   ],
   "source": [
    "fpoly(A,'n') # numbers of args"
   ]
  },
  {
   "cell_type": "code",
   "execution_count": 37,
   "id": "429b7dff-08e9-4d31-8156-9dd915449602",
   "metadata": {},
   "outputs": [
    {
     "data": {
      "image/png": "[encoded data removed]",
      "text/latex": [
       "$\\displaystyle \\left[ 30 x, \\  \\frac{9 x^{2} - 6 x + 15}{12 x}\\right]$"
      ],
      "text/plain": [
       "⎡         2           ⎤\n",
       "⎢      9⋅x  - 6⋅x + 15⎥\n",
       "⎢30⋅x, ───────────────⎥\n",
       "⎣            12⋅x     ⎦"
      ]
     },
     "execution_count": 37,
     "metadata": {},
     "output_type": "execute_result"
    }
   ],
   "source": [
    "fpoly(A,'list')  "
   ]
  },
  {
   "cell_type": "code",
   "execution_count": 38,
   "id": "1874ee6b-ff84-461e-b7ef-51ad000bf81b",
   "metadata": {},
   "outputs": [
    {
     "data": {
      "image/png": "[encoded data removed]",
      "text/latex": [
       "$\\displaystyle 30 x^{2} + \\frac{9 x^{4} - 6 x^{2} + 15}{12 x^{2}}$"
      ],
      "text/plain": [
       "           4      2     \n",
       "    2   9⋅x  - 6⋅x  + 15\n",
       "30⋅x  + ────────────────\n",
       "                 2      \n",
       "             12⋅x       "
      ]
     },
     "execution_count": 38,
     "metadata": {},
     "output_type": "execute_result"
    }
   ],
   "source": [
    "fpoly(A,'zubsV',[x],[x*x])"
   ]
  },
  {
   "cell_type": "code",
   "execution_count": 39,
   "id": "9d1ee2b7-4ffa-44c9-a88d-8192f48eac40",
   "metadata": {},
   "outputs": [
    {
     "data": {
      "image/png": "[encoded data removed]",
      "text/latex": [
       "$\\displaystyle 30 x^{x^{x}} \\left(x - 2\\right) + \\frac{x^{- x^{x}} \\left(9 x^{2 x^{x}} \\left(x - 2\\right)^{2} - 6 x^{x^{x}} \\left(x - 2\\right) + 15\\right)}{12 \\left(x - 2\\right)}$"
      ],
      "text/plain": [
       "                      x ⎛      x               ⎛ x⎞             ⎞\n",
       "    ⎛ x⎞            -x  ⎜   2⋅x         2      ⎝x ⎠             ⎟\n",
       "    ⎝x ⎠           x   ⋅⎝9⋅x    ⋅(x - 2)  - 6⋅x    ⋅(x - 2) + 15⎠\n",
       "30⋅x    ⋅(x - 2) + ──────────────────────────────────────────────\n",
       "                                     12⋅(x - 2)                  "
      ]
     },
     "execution_count": 39,
     "metadata": {},
     "output_type": "execute_result"
    }
   ],
   "source": [
    "fpoly(A,'zubsV',[x],[(x-2)*kpow(x,kpow(x,x))])"
   ]
  },
  {
   "cell_type": "markdown",
   "id": "7e6cb7f0-8fb8-4185-ac37-70686af0c30e",
   "metadata": {
    "tags": []
   },
   "source": [
    " <img src=\"images/linesexe.png\" alt=\"ml\" style=\"width : 100%;\"/>"
   ]
  },
  {
   "cell_type": "code",
   "execution_count": 40,
   "id": "7f462e00-431e-4bce-869f-1e021b528f97",
   "metadata": {
    "tags": []
   },
   "outputs": [],
   "source": [
    "a1,b1,c1=symbols('a1 b1 c1')"
   ]
  },
  {
   "cell_type": "code",
   "execution_count": 41,
   "id": "62dfff0e-fb4f-4ab9-b252-f6118e13b0cd",
   "metadata": {
    "tags": []
   },
   "outputs": [
    {
     "data": {
      "text/latex": [
       "$\\displaystyle we\\;will\\;make\\;a b c\\;=\\;k\\;and\\;and\\;temporaly\\;a1,a2,a3\\;if\\;not\\;esta\\;mierda\\;..\\;auto\\;canceled\\;$"
      ],
      "text/plain": [
       "<IPython.core.display.Math object>"
      ]
     },
     "metadata": {},
     "output_type": "display_data"
    }
   ],
   "source": [
    "show_exp(['we will make ',a*b*c,'= k and and temporaly a1,a2,a3 if not esta mierda ..  auto canceled'])"
   ]
  },
  {
   "cell_type": "code",
   "execution_count": 42,
   "id": "5f916b10-3432-4395-98c8-1559d6673b47",
   "metadata": {
    "jupyter": {
     "source_hidden": true
    },
    "tags": []
   },
   "outputs": [
    {
     "data": {
      "text/latex": [
       "$\\displaystyle if\\;a b c\\;=k\\;then\\;a1=\\;\\frac{z}{b_{1} c_{1}}\\;b1=\\;\\frac{z}{a_{1} c_{1}}\\;...\\;$"
      ],
      "text/plain": [
       "<IPython.core.display.Math object>"
      ]
     },
     "metadata": {},
     "output_type": "display_data"
    }
   ],
   "source": [
    "show_exp(['if',a*b*c,'=k then a1=',z/(b1*c1),'b1=',z/(c1*a1),'...' ])"
   ]
  },
  {
   "cell_type": "code",
   "execution_count": 43,
   "id": "af74eba2-2867-4905-b4cb-d721603fb438",
   "metadata": {
    "jupyter": {
     "source_hidden": true
    },
    "tags": []
   },
   "outputs": [
    {
     "data": {
      "text/latex": [
       "$\\displaystyle in\\;e2..change\\;a\\;to\\;\\frac{z}{b_{1} c_{1}}\\;b\\;to\\;\\frac{z}{a_{1} c_{1}}\\;and\\;c\\;to\\;\\frac{z}{a_{1} b_{1}}\\;$"
      ],
      "text/plain": [
       "<IPython.core.display.Math object>"
      ]
     },
     "metadata": {},
     "output_type": "display_data"
    },
    {
     "data": {
      "text/latex": [
       "$\\displaystyle e3=\\;\\frac{a_{1} b_{1} \\left(\\frac{z}{b_{1} c_{1}} + \\frac{z}{a_{1} c_{1}}\\right)}{z} + \\frac{a_{1} c_{1} \\left(\\frac{z}{b_{1} c_{1}} + \\frac{z}{a_{1} b_{1}}\\right)}{z} + \\frac{b_{1} c_{1} \\left(\\frac{z}{a_{1} c_{1}} + \\frac{z}{a_{1} b_{1}}\\right)}{z}\\;$"
      ],
      "text/plain": [
       "<IPython.core.display.Math object>"
      ]
     },
     "metadata": {},
     "output_type": "display_data"
    }
   ],
   "source": [
    "e3=fpoly(e2,'zubsV',[a,b,c],[z/(b1*c1),z/(c1*a1),z/(a1*b1)]) \n",
    "show_exp(['in e2..change a to ',z/(b1*c1),'b to',z/(c1*a1),'and c to',z/(a1*b1)])\n",
    "show_exp(['e3=',e3]) "
   ]
  },
  {
   "cell_type": "markdown",
   "id": "316a6974-5ea0-4075-bf1b-454bc93c1406",
   "metadata": {
    "tags": []
   },
   "source": [
    " <img src=\"images/linesexe.png\" alt=\"ml\" style=\"width : 100%;\"/>"
   ]
  },
  {
   "cell_type": "code",
   "execution_count": 44,
   "id": "9cef387f-cab9-4060-a5ab-b98c93cd60c5",
   "metadata": {},
   "outputs": [
    {
     "data": {
      "image/png": "[encoded data removed]",
      "text/latex": [
       "$\\displaystyle \\frac{a_{1}}{c_{1}} + \\frac{a_{1}}{b_{1}} + \\frac{b_{1}}{c_{1}} + \\frac{c_{1}}{b_{1}} + \\frac{b_{1}}{a_{1}} + \\frac{c_{1}}{a_{1}}$"
      ],
      "text/plain": [
       "a₁   a₁   b₁   c₁   b₁   c₁\n",
       "── + ── + ── + ── + ── + ──\n",
       "c₁   b₁   c₁   b₁   a₁   a₁"
      ]
     },
     "execution_count": 44,
     "metadata": {},
     "output_type": "execute_result"
    }
   ],
   "source": [
    "e4=opemat(e3,'s');e4 # simplifyyyyyyyyy"
   ]
  },
  {
   "cell_type": "code",
   "execution_count": 45,
   "id": "79e67652-8ea5-4fb0-89a8-7f85f71d2e0b",
   "metadata": {
    "jupyter": {
     "source_hidden": true
    },
    "tags": []
   },
   "outputs": [
    {
     "data": {
      "text/latex": [
       "$\\displaystyle returning\\;a1\\;b1,c1\\;to\\;a\\;b\\;c\\;$"
      ],
      "text/plain": [
       "<IPython.core.display.Math object>"
      ]
     },
     "metadata": {},
     "output_type": "display_data"
    },
    {
     "data": {
      "image/png": "[encoded data removed]",
      "text/latex": [
       "$\\displaystyle \\frac{a}{c} + \\frac{a}{b} + \\frac{b}{c} + \\frac{c}{b} + \\frac{b}{a} + \\frac{c}{a}$"
      ],
      "text/plain": [
       "a   a   b   c   b   c\n",
       "─ + ─ + ─ + ─ + ─ + ─\n",
       "c   b   c   b   a   a"
      ]
     },
     "execution_count": 45,
     "metadata": {},
     "output_type": "execute_result"
    }
   ],
   "source": [
    "show_exp(['returning a1 b1,c1 to a b c'])\n",
    "e4=fpoly(e4,'zubsV',[a1,b1,c1],[a,b,c]);e4"
   ]
  },
  {
   "cell_type": "code",
   "execution_count": 46,
   "id": "d515b8c1-bcc7-44bc-8ab0-05bc9ffc6b78",
   "metadata": {},
   "outputs": [
    {
     "data": {
      "image/png": "[encoded data removed]",
      "text/latex": [
       "$\\displaystyle \\frac{a}{c} + \\frac{a}{b} + \\frac{b}{c} + \\frac{c}{b} + \\frac{b}{a} + \\frac{c}{a}$"
      ],
      "text/plain": [
       "a   a   b   c   b   c\n",
       "─ + ─ + ─ + ─ + ─ + ─\n",
       "c   b   c   b   a   a"
      ]
     },
     "execution_count": 46,
     "metadata": {},
     "output_type": "execute_result"
    }
   ],
   "source": [
    "opemat(e4,'s')"
   ]
  },
  {
   "cell_type": "code",
   "execution_count": 47,
   "id": "7be374c6-fc20-408d-badc-957ef2a27c83",
   "metadata": {},
   "outputs": [
    {
     "data": {
      "image/png": "[encoded data removed]",
      "text/latex": [
       "$\\displaystyle \\frac{a^{3} - z}{z} + \\frac{b^{3} - z}{z} + \\frac{c^{3} - z}{z} + \\frac{d^{3} - z}{z}$"
      ],
      "text/plain": [
       " 3        3        3        3    \n",
       "a  - z   b  - z   c  - z   d  - z\n",
       "────── + ────── + ────── + ──────\n",
       "  z        z        z        z   "
      ]
     },
     "execution_count": 47,
     "metadata": {},
     "output_type": "execute_result"
    }
   ],
   "source": [
    "e1=P0(a)+P0(b)+P0(c)+P0(d);e1"
   ]
  },
  {
   "cell_type": "code",
   "execution_count": 48,
   "id": "ecd36f9c-2e72-44a2-ae08-4574665146ff",
   "metadata": {},
   "outputs": [],
   "source": [
    "P1=lambdify(a,a*a/(z-1)-a*z/(z-a)+a/(z-a)+a)"
   ]
  },
  {
   "cell_type": "code",
   "execution_count": 49,
   "id": "cdc01e7a-5433-44af-9af5-c269e82e4e8a",
   "metadata": {},
   "outputs": [
    {
     "data": {
      "image/png": "[encoded data removed]",
      "text/latex": [
       "$\\displaystyle \\frac{a^{2}}{z - 1} - \\frac{a z}{- a + z} + \\frac{a}{- a + z} + \\frac{b^{2}}{z - 1} - \\frac{b z}{- b + z} + \\frac{b}{- b + z} + \\frac{c^{2}}{z - 1} - \\frac{c z}{- c + z} + \\frac{c}{- c + z} + \\frac{d^{2}}{z - 1} - \\frac{d z}{- d + z} + \\frac{d}{- d + z} + z$"
      ],
      "text/plain": [
       "   2                         2                         2                      \n",
       "  a      a⋅z       a        b      b⋅z       b        c      c⋅z       c      \n",
       "───── - ────── + ────── + ───── - ────── + ────── + ───── - ────── + ────── + \n",
       "z - 1   -a + z   -a + z   z - 1   -b + z   -b + z   z - 1   -c + z   -c + z   \n",
       "\n",
       "   2                       \n",
       "  d      d⋅z       d       \n",
       "───── - ────── + ────── + z\n",
       "z - 1   -d + z   -d + z    "
      ]
     },
     "execution_count": 49,
     "metadata": {},
     "output_type": "execute_result"
    }
   ],
   "source": [
    "e2=P1(a)+P1(b)+P1(c)+P1(d)-a-b-c-d+z;e2"
   ]
  },
  {
   "cell_type": "code",
   "execution_count": 50,
   "id": "5227c3d1-d946-4af2-82fc-64c13d11f42b",
   "metadata": {},
   "outputs": [
    {
     "data": {
      "image/png": "[encoded data removed]",
      "text/latex": [
       "$\\displaystyle \\frac{a^{2}}{z - 1} - \\frac{a z}{- a + z} + \\frac{a}{- a + z} + \\frac{b^{2}}{z - 1} - \\frac{b z}{- b + z} + \\frac{b}{- b + z} + \\frac{c^{2}}{z - 1} - \\frac{c z}{- c + z} + \\frac{c}{- c + z} + \\frac{d^{2}}{z - 1} - \\frac{d z}{- d + z} + \\frac{d}{- d + z} + z + 1 - \\frac{a^{3} - z}{z} - \\frac{b^{3} - z}{z} - \\frac{c^{3} - z}{z} - \\frac{d^{3} - z}{z}$"
      ],
      "text/plain": [
       "   2                         2                         2                      \n",
       "  a      a⋅z       a        b      b⋅z       b        c      c⋅z       c      \n",
       "───── - ────── + ────── + ───── - ────── + ────── + ───── - ────── + ────── + \n",
       "z - 1   -a + z   -a + z   z - 1   -b + z   -b + z   z - 1   -c + z   -c + z   \n",
       "\n",
       "   2                               3        3        3        3    \n",
       "  d      d⋅z       d              a  - z   b  - z   c  - z   d  - z\n",
       "───── - ────── + ────── + z + 1 - ────── - ────── - ────── - ──────\n",
       "z - 1   -d + z   -d + z             z        z        z        z   "
      ]
     },
     "execution_count": 50,
     "metadata": {},
     "output_type": "execute_result"
    }
   ],
   "source": [
    "e3=e2-e1+1;e3"
   ]
  },
  {
   "cell_type": "code",
   "execution_count": 51,
   "id": "003a34b7-b8c0-47f6-900c-979d88304ff5",
   "metadata": {},
   "outputs": [],
   "source": [
    "P2=lambdify(a,a*a/(z-1))"
   ]
  },
  {
   "cell_type": "code",
   "execution_count": 52,
   "id": "f727a817-d770-484f-b126-24f234fd40f4",
   "metadata": {},
   "outputs": [
    {
     "data": {
      "image/png": "[encoded data removed]",
      "text/latex": [
       "$\\displaystyle - \\frac{a z}{- a + z} + \\frac{a}{- a + z} - \\frac{b z}{- b + z} + \\frac{b}{- b + z} - \\frac{c z}{- c + z} + \\frac{c}{- c + z} - \\frac{d z}{- d + z} + \\frac{d}{- d + z} + m + z + 1 - \\frac{a^{3} - z}{z} - \\frac{b^{3} - z}{z} - \\frac{c^{3} - z}{z} - \\frac{d^{3} - z}{z}$"
      ],
      "text/plain": [
       "                                                                              \n",
       "   a⋅z       a       b⋅z       b       c⋅z       c       d⋅z       d          \n",
       "- ────── + ────── - ────── + ────── - ────── + ────── - ────── + ────── + m + \n",
       "  -a + z   -a + z   -b + z   -b + z   -c + z   -c + z   -d + z   -d + z       \n",
       "\n",
       "         3        3        3        3    \n",
       "        a  - z   b  - z   c  - z   d  - z\n",
       "z + 1 - ────── - ────── - ────── - ──────\n",
       "          z        z        z        z   "
      ]
     },
     "execution_count": 52,
     "metadata": {},
     "output_type": "execute_result"
    }
   ],
   "source": [
    "m=symbols('m')\n",
    "e4=e3-(P2(a)+P2(b)+P2(c)+P2(d))+m;e4"
   ]
  },
  {
   "cell_type": "code",
   "execution_count": 53,
   "id": "0d388a0b-ec81-488c-8372-61377c6441df",
   "metadata": {},
   "outputs": [
    {
     "data": {
      "image/png": "[encoded data removed]",
      "text/latex": [
       "$\\displaystyle - \\frac{a z}{- a + z} + \\frac{a}{- a + z} - \\frac{b z}{- b + z} + \\frac{b}{- b + z} - \\frac{c z}{- c + z} + \\frac{c}{- c + z} - \\frac{d z}{- d + z} + \\frac{d}{- d + z} + m + z + 1 - \\frac{a^{3} - z}{z} - \\frac{b^{3} - z}{z} - \\frac{c^{3} - z}{z} - \\frac{d^{3} - z}{z}=1$"
      ],
      "text/plain": [
       "-a*z/(-a + z) + a/(-a + z) - b*z/(-b + z) + b/(-b + z) - c*z/(-c + z) + c/(-c + z) - d*z/(-d + z) + d/(-d + z) + m + z + 1 - (a**3 - z)/z - (b**3 - z)/z - (c**3 - z)/z - (d**3 - z)/z=1"
      ]
     },
     "execution_count": 53,
     "metadata": {},
     "output_type": "execute_result"
    }
   ],
   "source": [
    "A=polyclass(e4,1);A.Q"
   ]
  },
  {
   "cell_type": "code",
   "execution_count": 54,
   "id": "eaf50fc7-2f4a-4a49-9f08-e76ea5b13c50",
   "metadata": {},
   "outputs": [
    {
     "data": {
      "image/png": "[encoded data removed]",
      "text/latex": [
       "$\\displaystyle - \\frac{a z}{- a + z} + \\frac{a}{- a + z} - \\frac{b z}{- b + z} + \\frac{b}{- b + z} - \\frac{c z}{- c + z} + \\frac{c}{- c + z} - \\frac{d z}{- d + z} + \\frac{d}{- d + z} - \\frac{a^{3} - z}{z} - \\frac{b^{3} - z}{z} - \\frac{c^{3} - z}{z} - \\frac{d^{3} - z}{z}=- m - z$"
      ],
      "text/plain": [
       "-a*z/(-a + z) + a/(-a + z) - b*z/(-b + z) + b/(-b + z) - c*z/(-c + z) + c/(-c + z) - d*z/(-d + z) + d/(-d + z) - (a**3 - z)/z - (b**3 - z)/z - (c**3 - z)/z - (d**3 - z)/z=-m - z"
      ]
     },
     "execution_count": 54,
     "metadata": {},
     "output_type": "execute_result"
    }
   ],
   "source": [
    "A.ope4('S',-1-z-m,1)"
   ]
  },
  {
   "cell_type": "code",
   "execution_count": 55,
   "id": "6126ae26-5b06-47f1-9571-0c9a3b4fde64",
   "metadata": {},
   "outputs": [
    {
     "data": {
      "image/png": "[encoded data removed]",
      "text/latex": [
       "$\\displaystyle \\frac{a z}{- a + z} - \\frac{a}{- a + z} + \\frac{b z}{- b + z} - \\frac{b}{- b + z} + \\frac{c z}{- c + z} - \\frac{c}{- c + z} + \\frac{d z}{- d + z} - \\frac{d}{- d + z} + \\frac{a^{3} - z}{z} + \\frac{b^{3} - z}{z} + \\frac{c^{3} - z}{z} + \\frac{d^{3} - z}{z}=m + z$"
      ],
      "text/plain": [
       "a*z/(-a + z) - a/(-a + z) + b*z/(-b + z) - b/(-b + z) + c*z/(-c + z) - c/(-c + z) + d*z/(-d + z) - d/(-d + z) + (a**3 - z)/z + (b**3 - z)/z + (c**3 - z)/z + (d**3 - z)/z=m + z"
      ]
     },
     "execution_count": 55,
     "metadata": {},
     "output_type": "execute_result"
    }
   ],
   "source": [
    "A.ope4('M',-1,1)"
   ]
  },
  {
   "cell_type": "code",
   "execution_count": 56,
   "id": "4e7e022c-9ffa-40fd-9e2d-565b78bc3eed",
   "metadata": {},
   "outputs": [
    {
     "data": {
      "image/png": "[encoded data removed]",
      "text/latex": [
       "$\\displaystyle z \\left(\\frac{a^{3} - z}{z} + \\frac{b^{3} - z}{z} + \\frac{c^{3} - z}{z} + \\frac{d^{3} - z}{z}\\right)=m + z$"
      ],
      "text/plain": [
       "z*((a**3 - z)/z + (b**3 - z)/z + (c**3 - z)/z + (d**3 - z)/z)=m + z"
      ]
     },
     "execution_count": 56,
     "metadata": {},
     "output_type": "execute_result"
    }
   ],
   "source": [
    "A.re_eQ(z*e1,m+z)"
   ]
  },
  {
   "cell_type": "code",
   "execution_count": 57,
   "id": "27169928-3173-4f40-be3a-b773c1e396d0",
   "metadata": {},
   "outputs": [
    {
     "data": {
      "image/png": "[encoded data removed]",
      "text/latex": [
       "$\\displaystyle z=m + z$"
      ],
      "text/plain": [
       "z=m + z"
      ]
     },
     "execution_count": 57,
     "metadata": {},
     "output_type": "execute_result"
    }
   ],
   "source": [
    "A.re_eQ(z,m+z)"
   ]
  },
  {
   "cell_type": "code",
   "execution_count": 59,
   "id": "20bcb84c-c962-4166-9c05-98c8a2e810e0",
   "metadata": {
    "tags": []
   },
   "outputs": [
    {
     "data": {
      "text/latex": [
       "$\\displaystyle tanta\\;huevada\\;paque\\;salga\\;cero\\;$"
      ],
      "text/plain": [
       "<IPython.core.display.Math object>"
      ]
     },
     "metadata": {},
     "output_type": "display_data"
    },
    {
     "data": {
      "text/latex": [
       "$\\displaystyle from\\;upper\\;cell\\;we\\;solve\\;the\\;Eq\\;and\\;then\\;....\\;m=\\;0\\;$"
      ],
      "text/plain": [
       "<IPython.core.display.Math object>"
      ]
     },
     "metadata": {},
     "output_type": "display_data"
    }
   ],
   "source": [
    "show_exp(['tanta huevada paque salga cero'])\n",
    "show_exp(['from upper cell we solve the Eq and then .... m=',A.solve(m)])"
   ]
  },
  {
   "cell_type": "markdown",
   "id": "9e475ac8-7ecf-4e7d-8b4c-8694ebebc628",
   "metadata": {},
   "source": [
    " <img src=\"images/linep.png\" alt=\"ml\" style=\"width : 100%;\"/>"
   ]
  },
  {
   "cell_type": "markdown",
   "id": "d1a3ecf7-a41d-4362-b382-ed759714b545",
   "metadata": {},
   "source": [
    " <img src=\"images/p5.png\" alt=\"ml\" style=\"width : 100%;\"/>"
   ]
  },
  {
   "cell_type": "markdown",
   "id": "c0858b42-6d87-41b9-aa36-81d0545d7db3",
   "metadata": {},
   "source": [
    " <img src=\"images/lines.png\" alt=\"ml\" style=\"width : 100%;\"/>"
   ]
  },
  {
   "cell_type": "code",
   "execution_count": 60,
   "id": "540d480c-5d67-4c09-8f56-c65c9dfc552d",
   "metadata": {
    "jupyter": {
     "source_hidden": true
    },
    "tags": []
   },
   "outputs": [],
   "source": [
    "from sympy import *   \n",
    "from libaldo_polyclass  import *\n",
    "from libaldo_lib import *\n",
    "from libaldo__util import *\n",
    "import lib_algebraEq as ae\n",
    "init_printing()"
   ]
  },
  {
   "cell_type": "code",
   "execution_count": 61,
   "id": "191e7199-8c4c-4828-89aa-ae971ec42500",
   "metadata": {
    "tags": []
   },
   "outputs": [
    {
     "data": {
      "text/latex": [
       "$\\displaystyle we\\;now\\;create\\;Eq1>\\;x=t^{\\frac{1}{t - 1}}\\;$"
      ],
      "text/plain": [
       "<IPython.core.display.Math object>"
      ]
     },
     "metadata": {},
     "output_type": "display_data"
    }
   ],
   "source": [
    "Eq1=polyclass(x,sqrs(t,1/(t-1)))\n",
    "show_exp(['we now create Eq1> ',Eq1.Q])"
   ]
  },
  {
   "cell_type": "code",
   "execution_count": 62,
   "id": "1d2e42c5-df1e-4dee-b0c3-4fd350fe4ce2",
   "metadata": {
    "tags": []
   },
   "outputs": [
    {
     "data": {
      "text/latex": [
       "$\\displaystyle also\\;create\\;Eq2>\\;y=t^{\\frac{t}{t - 1}}\\;$"
      ],
      "text/plain": [
       "<IPython.core.display.Math object>"
      ]
     },
     "metadata": {},
     "output_type": "display_data"
    }
   ],
   "source": [
    "Eq2=polyclass(y,pow(t,t/(t-1))) \n",
    "show_exp(['also create Eq2> ',Eq2.Q])"
   ]
  },
  {
   "cell_type": "code",
   "execution_count": 63,
   "id": "02d512cd-e5b9-4a23-b6ff-6e4ca942894f",
   "metadata": {
    "jupyter": {
     "source_hidden": true
    },
    "tags": []
   },
   "outputs": [
    {
     "data": {
      "text/latex": [
       "$\\displaystyle RESUME\\;RESUMEN..\\;RESPUTOSUMEN\\;RES....\\;etc\\;etc\\;$"
      ],
      "text/plain": [
       "<IPython.core.display.Math object>"
      ]
     },
     "metadata": {},
     "output_type": "display_data"
    },
    {
     "data": {
      "text/latex": [
       "$\\displaystyle Remember\\;that\\;if\\;you\\;create\\;Eq\\;with\\;name\\;P\\;like\\;this\\;:\\;$"
      ],
      "text/plain": [
       "<IPython.core.display.Math object>"
      ]
     },
     "metadata": {},
     "output_type": "display_data"
    },
    {
     "data": {
      "text/latex": [
       "$\\displaystyle P=polyclass(2*x+1,3*y*y+2*y-10\\;..\\;$"
      ],
      "text/plain": [
       "<IPython.core.display.Math object>"
      ]
     },
     "metadata": {},
     "output_type": "display_data"
    },
    {
     "data": {
      "text/latex": [
       "$\\displaystyle to\\;see\\;all\\;Eq\\;use\\;P.Q\\;command>\\;2 x + 1=3 y^{2} + 2 y - 10\\;$"
      ],
      "text/plain": [
       "<IPython.core.display.Math object>"
      ]
     },
     "metadata": {},
     "output_type": "display_data"
    },
    {
     "data": {
      "text/latex": [
       "$\\displaystyle to\\;see\\;left\\;side\\;use\\;P.q1\\;command>\\;2 x + 1\\;$"
      ],
      "text/plain": [
       "<IPython.core.display.Math object>"
      ]
     },
     "metadata": {},
     "output_type": "display_data"
    },
    {
     "data": {
      "text/latex": [
       "$\\displaystyle to\\;see\\;left\\;side\\;use\\;P.q2\\;command>\\;3 y^{2} + 2 y - 10\\;$"
      ],
      "text/plain": [
       "<IPython.core.display.Math object>"
      ]
     },
     "metadata": {},
     "output_type": "display_data"
    },
    {
     "data": {
      "text/latex": [
       "$\\displaystyle Add\\;2*x\\;to\\;Eq\\;4 x + 1=2 x + 3 y^{2} + 2 y - 10\\;$"
      ],
      "text/plain": [
       "<IPython.core.display.Math object>"
      ]
     },
     "metadata": {},
     "output_type": "display_data"
    },
    {
     "data": {
      "text/latex": [
       "$\\displaystyle to\\;see\\;all\\;Eq\\;again\\;but\\;no\\;update\\;the\\;Add\\;include\\;1>\\;2 x + 1=3 y^{2} + 2 y - 10\\;$"
      ],
      "text/plain": [
       "<IPython.core.display.Math object>"
      ]
     },
     "metadata": {},
     "output_type": "display_data"
    },
    {
     "data": {
      "text/latex": [
       "$\\displaystyle Add\\;2 x\\;to\\;Eq\\;and\\;update\\;2 y \\left(2 x + 1\\right)=2 y \\left(3 y^{2} + 2 y - 10\\right)\\;$"
      ],
      "text/plain": [
       "<IPython.core.display.Math object>"
      ]
     },
     "metadata": {},
     "output_type": "display_data"
    },
    {
     "data": {
      "text/latex": [
       "$\\displaystyle solve\\;x\\;\\frac{3 y^{2}}{2} + y - \\frac{11}{2}\\;$"
      ],
      "text/plain": [
       "<IPython.core.display.Math object>"
      ]
     },
     "metadata": {},
     "output_type": "display_data"
    },
    {
     "data": {
      "text/latex": [
       "$\\displaystyle solve\\;y\\;\\left[ - \\frac{\\sqrt{6 x + 34}}{3} - \\frac{1}{3}, \\  \\frac{\\sqrt{6 x + 34}}{3} - \\frac{1}{3}\\right]\\;$"
      ],
      "text/plain": [
       "<IPython.core.display.Math object>"
      ]
     },
     "metadata": {},
     "output_type": "display_data"
    }
   ],
   "source": [
    "show_exp(['RESUME  RESUMEN..  RESPUTOSUMEN  RES....  etc etc'])\n",
    "show_exp(['Remember that if you create Eq with name P like this :'])\n",
    "show_exp(['P=polyclass(2*x+1,3*y*y+2*y-10 ..',])\n",
    "P=polyclass(2*x+1,3*y*y+2*y-10 )\n",
    "show_exp(['to see all Eq use P.Q command>',P.Q])\n",
    "show_exp(['to see left side use P.q1 command>',P.q1])\n",
    "show_exp(['to see left side use P.q2 command>',P.q2])\n",
    "show_exp(['Add 2*x to Eq',P.ope4('S',2*x)])\n",
    "show_exp(['to see all Eq again but no update the Add include 1>',P.Q])\n",
    "show_exp(['Add', 2*x, 'to Eq and update',P.ope4('M',2*y)])\n",
    "show_exp(['solve x ',P.solve(x)])\n",
    "show_exp(['solve y ',P.solve(y)])"
   ]
  },
  {
   "cell_type": "code",
   "execution_count": 64,
   "id": "55552e85-6bfb-45a0-b2fd-57dd04889e50",
   "metadata": {},
   "outputs": [
    {
     "data": {
      "image/png": "[encoded data removed]",
      "text/latex": [
       "$\\displaystyle \\frac{1}{t - 1}$"
      ],
      "text/plain": [
       "  1  \n",
       "─────\n",
       "t - 1"
      ]
     },
     "execution_count": 64,
     "metadata": {},
     "output_type": "execute_result"
    }
   ],
   "source": [
    "# get_expo_fr_mono(monom_exp,var that get exponent)\n",
    "get_exp_in_mono(Eq1.q2,t) # get exponent of t in left side of Eq1  "
   ]
  },
  {
   "cell_type": "code",
   "execution_count": 65,
   "id": "e21cc6d8-b201-48ac-9394-524287c0a449",
   "metadata": {},
   "outputs": [
    {
     "data": {
      "text/latex": [
       "$\\displaystyle e3=\\;\\frac{1}{t - 1}\\;$"
      ],
      "text/plain": [
       "<IPython.core.display.Math object>"
      ]
     },
     "metadata": {},
     "output_type": "display_data"
    },
    {
     "data": {
      "image/png": "[encoded data removed]",
      "text/latex": [
       "$\\displaystyle x^{t - 1}=\\left(t^{\\frac{1}{t - 1}}\\right)^{t - 1}$"
      ],
      "text/plain": [
       "x**(t - 1)=(t**(1/(t - 1)))**(t - 1)"
      ]
     },
     "execution_count": 65,
     "metadata": {},
     "output_type": "execute_result"
    }
   ],
   "source": [
    "e3=get_exp_in_mono(Eq1.q2,t);show_exp(['e3=',e3])\n",
    "Eq1.ope4('P',t-1,1)   # Pow Eq  t-1 and update"
   ]
  },
  {
   "cell_type": "code",
   "execution_count": 66,
   "id": "def612b5-ed8c-47ea-b4dc-2311e2a985da",
   "metadata": {},
   "outputs": [
    {
     "data": {
      "text/latex": [
       "$\\displaystyle all\\;letters\\;includinn\\;in\\;op1\\;will\\;be\\;ejecuted\\;$"
      ],
      "text/plain": [
       "<IPython.core.display.Math object>"
      ]
     },
     "metadata": {},
     "output_type": "display_data"
    },
    {
     "data": {
      "text/latex": [
       "$\\displaystyle monomath(f(x),SeOf...)\\;or\\;Eq.polymath(SeOf..)\\;$"
      ],
      "text/plain": [
       "<IPython.core.display.Math object>"
      ]
     },
     "metadata": {},
     "output_type": "display_data"
    },
    {
     "data": {
      "text/latex": [
       "$\\displaystyle O\\;=\\;\\left(x^{a}\\right)^{b}\\;to\\;x^{a b}\\;$"
      ],
      "text/plain": [
       "<IPython.core.display.Math object>"
      ]
     },
     "metadata": {},
     "output_type": "display_data"
    },
    {
     "data": {
      "text/latex": [
       "$\\displaystyle S\\;=\\;x^{a}\\;to\\;x^{b + c}\\;$"
      ],
      "text/plain": [
       "<IPython.core.display.Math object>"
      ]
     },
     "metadata": {},
     "output_type": "display_data"
    },
    {
     "data": {
      "text/latex": [
       "$\\displaystyle F\\;=\\;x^{a}\\;to\\;x^{b c}\\;$"
      ],
      "text/plain": [
       "<IPython.core.display.Math object>"
      ]
     },
     "metadata": {},
     "output_type": "display_data"
    },
    {
     "data": {
      "text/latex": [
       "$\\displaystyle e\\;expand,\\;f\\;factor,\\;s\\;implify,\\;1\\;only\\;left\\;Eq,\\;2\\;only\\;right\\;Eq\\;$"
      ],
      "text/plain": [
       "<IPython.core.display.Math object>"
      ]
     },
     "metadata": {},
     "output_type": "display_data"
    }
   ],
   "source": [
    "Eq1.polymath()  # show help polymath , see that op 'O' is nedeed"
   ]
  },
  {
   "cell_type": "code",
   "execution_count": 67,
   "id": "507c34fb-4306-4dc0-afd3-e586273f7ed6",
   "metadata": {},
   "outputs": [
    {
     "data": {
      "image/png": "[encoded data removed]",
      "text/latex": [
       "$\\displaystyle x^{t - 1}=t$"
      ],
      "text/plain": [
       "x**(t - 1)=t"
      ]
     },
     "execution_count": 67,
     "metadata": {},
     "output_type": "execute_result"
    }
   ],
   "source": [
    "Eq1.polymath('O',1)"
   ]
  },
  {
   "cell_type": "code",
   "execution_count": 68,
   "id": "902d2d9b-345c-462a-93cb-89f8d9c25891",
   "metadata": {},
   "outputs": [
    {
     "data": {
      "image/png": "[encoded data removed]",
      "text/latex": [
       "$\\displaystyle x x^{t - 1}=t x$"
      ],
      "text/plain": [
       "x*x**(t - 1)=t*x"
      ]
     },
     "execution_count": 68,
     "metadata": {},
     "output_type": "execute_result"
    }
   ],
   "source": [
    "Eq1.ope4('M',x,1)  # Multiply Eq1 by x"
   ]
  },
  {
   "cell_type": "code",
   "execution_count": 69,
   "id": "14ffb34d-84a5-424d-a6e5-366dddddb824",
   "metadata": {},
   "outputs": [
    {
     "data": {
      "image/png": "[encoded data removed]",
      "text/latex": [
       "$\\displaystyle x^{t}=t x$"
      ],
      "text/plain": [
       "x**t=t*x"
      ]
     },
     "execution_count": 69,
     "metadata": {},
     "output_type": "execute_result"
    }
   ],
   "source": [
    "Eq1.opemat('e',1)  # expand Eq"
   ]
  },
  {
   "cell_type": "code",
   "execution_count": 70,
   "id": "97b8fbc2-4dfd-44e9-979e-6a04e077148e",
   "metadata": {},
   "outputs": [
    {
     "data": {
      "text/latex": [
       "$\\displaystyle take\\;note\\;to\\;more\\;advance..\\;x^{t}=t x\\;$"
      ],
      "text/plain": [
       "<IPython.core.display.Math object>"
      ]
     },
     "metadata": {},
     "output_type": "display_data"
    }
   ],
   "source": [
    "show_exp(['take note to more advance..',Eq1.Q])"
   ]
  },
  {
   "cell_type": "code",
   "execution_count": 71,
   "id": "6e31fc6a-d284-4f2b-a90a-e4d9cc4553b3",
   "metadata": {},
   "outputs": [
    {
     "data": {
      "image/png": "[encoded data removed]",
      "text/latex": [
       "$\\displaystyle y=t^{\\frac{t}{t - 1}}$"
      ],
      "text/plain": [
       "y=t**(t/(t - 1))"
      ]
     },
     "execution_count": 71,
     "metadata": {},
     "output_type": "execute_result"
    }
   ],
   "source": [
    "Eq2.Q"
   ]
  },
  {
   "cell_type": "code",
   "execution_count": 72,
   "id": "bdf553bd-93fb-4282-9302-1b46feedb61d",
   "metadata": {},
   "outputs": [
    {
     "data": {
      "image/png": "[encoded data removed]",
      "text/latex": [
       "$\\displaystyle y^{t - 1}=\\left(t^{\\frac{t}{t - 1}}\\right)^{t - 1}$"
      ],
      "text/plain": [
       "y**(t - 1)=(t**(t/(t - 1)))**(t - 1)"
      ]
     },
     "execution_count": 72,
     "metadata": {},
     "output_type": "execute_result"
    }
   ],
   "source": [
    "Eq2.ope4('P',(t-1),1)"
   ]
  },
  {
   "cell_type": "code",
   "execution_count": 73,
   "id": "34561d07-4f48-4137-a39b-ef62a73ead2b",
   "metadata": {},
   "outputs": [
    {
     "data": {
      "image/png": "[encoded data removed]",
      "text/latex": [
       "$\\displaystyle y^{t - 1}=t^{t}$"
      ],
      "text/plain": [
       "y**(t - 1)=t**t"
      ]
     },
     "execution_count": 73,
     "metadata": {},
     "output_type": "execute_result"
    }
   ],
   "source": [
    "Eq2.polymath('O',1)"
   ]
  },
  {
   "cell_type": "code",
   "execution_count": 74,
   "id": "cc05cb06-0784-4e19-a4d5-35be7e6d1126",
   "metadata": {},
   "outputs": [
    {
     "data": {
      "image/png": "[encoded data removed]",
      "text/latex": [
       "$\\displaystyle \\left(y^{t - 1}\\right)^{\\frac{1}{t}}=\\left(t^{t}\\right)^{\\frac{1}{t}}$"
      ],
      "text/plain": [
       "(y**(t - 1))**(1/t)=(t**t)**(1/t)"
      ]
     },
     "execution_count": 74,
     "metadata": {},
     "output_type": "execute_result"
    }
   ],
   "source": [
    "Eq2.ope4('P',1/t,1)"
   ]
  },
  {
   "cell_type": "code",
   "execution_count": 75,
   "id": "90c5d4b9-5629-4c44-89f4-d8a01687875b",
   "metadata": {},
   "outputs": [
    {
     "data": {
      "image/png": "[encoded data removed]",
      "text/latex": [
       "$\\displaystyle y^{\\frac{t - 1}{t}}=t$"
      ],
      "text/plain": [
       "y**((t - 1)/t)=t"
      ]
     },
     "execution_count": 75,
     "metadata": {},
     "output_type": "execute_result"
    }
   ],
   "source": [
    "Eq2.polymath('O',1)"
   ]
  },
  {
   "cell_type": "code",
   "execution_count": 77,
   "id": "cde2d09e-91ca-448b-a0c7-a82e788efe57",
   "metadata": {},
   "outputs": [
    {
     "data": {
      "text/latex": [
       "$\\displaystyle remmeber\\;that\\;t=\\;x^{t - 1}\\;$"
      ],
      "text/plain": [
       "<IPython.core.display.Math object>"
      ]
     },
     "metadata": {},
     "output_type": "display_data"
    }
   ],
   "source": [
    "show_exp(['remmeber that t=',kpow(x,t-1)])"
   ]
  },
  {
   "cell_type": "code",
   "execution_count": 80,
   "id": "d4fce531-bec5-4ee8-85ed-cee411ce256c",
   "metadata": {},
   "outputs": [
    {
     "data": {
      "image/png": "[encoded data removed]",
      "text/latex": [
       "$\\displaystyle y^{\\frac{t - 1}{t}}=x^{t - 1}$"
      ],
      "text/plain": [
       "y**((t - 1)/t)=x**(t - 1)"
      ]
     },
     "execution_count": 80,
     "metadata": {},
     "output_type": "execute_result"
    }
   ],
   "source": [
    "Eq3=polyclass(Eq2.q1,kpow(x,t-1));Eq3.Q"
   ]
  },
  {
   "cell_type": "code",
   "execution_count": 83,
   "id": "c89866f9-99f6-406b-a41e-48d7a9b4ba88",
   "metadata": {},
   "outputs": [
    {
     "data": {
      "image/png": "[encoded data removed]",
      "text/latex": [
       "$\\displaystyle \\left(y^{\\frac{t - 1}{t}}\\right)^{\\frac{t}{t - 1}}=\\left(x^{t - 1}\\right)^{\\frac{t}{t - 1}}$"
      ],
      "text/plain": [
       "(y**((t - 1)/t))**(t/(t - 1))=(x**(t - 1))**(t/(t - 1))"
      ]
     },
     "execution_count": 83,
     "metadata": {},
     "output_type": "execute_result"
    }
   ],
   "source": [
    "Eq3.ope4('P',t/(t-1),1) # New Eq3 po to (t/(t-1)) to eliminate expone"
   ]
  },
  {
   "cell_type": "code",
   "execution_count": 85,
   "id": "9a76f4b5-66b9-45d0-9a46-08bbafd065a5",
   "metadata": {},
   "outputs": [
    {
     "data": {
      "image/png": "[encoded data removed]",
      "text/latex": [
       "$\\displaystyle y=x^{t}$"
      ],
      "text/plain": [
       "y=x**t"
      ]
     },
     "execution_count": 85,
     "metadata": {},
     "output_type": "execute_result"
    }
   ],
   "source": [
    "Eq3.polymath('O',1)"
   ]
  },
  {
   "cell_type": "code",
   "execution_count": 88,
   "id": "cc4360aa-db53-4d51-9cd5-172c91808bab",
   "metadata": {},
   "outputs": [
    {
     "data": {
      "text/latex": [
       "$\\displaystyle upper\\;cell\\;we\\;find\\;that\\;x^{t}\\;=\\;t x\\;subs\\;this\\;data\\;in\\;Eq3\\;$"
      ],
      "text/plain": [
       "<IPython.core.display.Math object>"
      ]
     },
     "metadata": {},
     "output_type": "display_data"
    }
   ],
   "source": [
    "show_exp(['upper cell we find that  ',kpow(x,t),'=',x*t,' subs this data in Eq3'])"
   ]
  },
  {
   "cell_type": "code",
   "execution_count": 90,
   "id": "bb1140e7-4f28-416b-8b15-4ec2da6ca1cb",
   "metadata": {},
   "outputs": [
    {
     "data": {
      "image/png": "[encoded data removed]",
      "text/latex": [
       "$\\displaystyle y=t x$"
      ],
      "text/plain": [
       "y=t*x"
      ]
     },
     "execution_count": 90,
     "metadata": {},
     "output_type": "execute_result"
    }
   ],
   "source": [
    "Eq3.subs(kpow(x,t),x*t,1)"
   ]
  },
  {
   "cell_type": "code",
   "execution_count": 92,
   "id": "f19675d7-b634-4243-8834-a9eb58a3eae3",
   "metadata": {},
   "outputs": [
    {
     "data": {
      "text/latex": [
       "$\\displaystyle t=\\;\\frac{y}{x}\\;$"
      ],
      "text/plain": [
       "<IPython.core.display.Math object>"
      ]
     },
     "metadata": {},
     "output_type": "display_data"
    }
   ],
   "source": [
    "# applied simple solve\n",
    "show_exp([' t=',Eq3.solve(t) ])"
   ]
  },
  {
   "cell_type": "markdown",
   "id": "4a8b32ee-e98f-4741-ad4b-b93d3edb139b",
   "metadata": {},
   "source": [
    " <img src=\"images/linep.png\" alt=\"ml\" style=\"width : 100%;\"/>"
   ]
  },
  {
   "cell_type": "markdown",
   "id": "5f7cb7b7-09be-49fc-b62e-c6da299c5769",
   "metadata": {},
   "source": [
    " <img src=\"images/p6.png\" alt=\"ml\" style=\"width : 100%;\"/>"
   ]
  },
  {
   "cell_type": "markdown",
   "id": "a7bbd39b-b5bd-488e-b6f2-3673bb59478d",
   "metadata": {},
   "source": [
    " <img src=\"images/lines.png\" alt=\"ml\" style=\"width : 100%;\"/>"
   ]
  },
  {
   "cell_type": "code",
   "execution_count": 93,
   "id": "7d81a29d-30a3-4fe3-8345-a78ee5d19c25",
   "metadata": {
    "tags": []
   },
   "outputs": [],
   "source": [
    "#  w will be 4*x+2 but define later\n",
    "w,x=symbols('w x')"
   ]
  },
  {
   "cell_type": "code",
   "execution_count": 94,
   "id": "87aa80c4-d157-4f0f-8632-fa6499c14eed",
   "metadata": {},
   "outputs": [
    {
     "data": {
      "image/png": "[encoded data removed]",
      "text/latex": [
       "$\\displaystyle \\frac{w}{3}=x^{\\frac{w}{2} - \\frac{3}{2}}$"
      ],
      "text/plain": [
       "w/3=x**(w/2 - 3/2)"
      ]
     },
     "execution_count": 94,
     "metadata": {},
     "output_type": "execute_result"
    }
   ],
   "source": [
    "P=polyclass(w/3,kpow(rpow(x,2),w-3));P.Q"
   ]
  },
  {
   "cell_type": "code",
   "execution_count": 95,
   "id": "3efc8028-4ff4-479d-8332-c22526494e71",
   "metadata": {},
   "outputs": [],
   "source": [
    "P.Q=expand(P.ope4('P',2))"
   ]
  },
  {
   "cell_type": "code",
   "execution_count": 96,
   "id": "c01ff4b1-4dee-484d-9aea-51a865a98f0c",
   "metadata": {},
   "outputs": [
    {
     "data": {
      "image/png": "[encoded data removed]",
      "text/latex": [
       "$\\displaystyle w^{2} x^{3}=9 x^{w}$"
      ],
      "text/plain": [
       "w**2*x**3=9*x**w"
      ]
     },
     "execution_count": 96,
     "metadata": {},
     "output_type": "execute_result"
    }
   ],
   "source": [
    "P.ope4('M',9*x**3,1)"
   ]
  },
  {
   "cell_type": "code",
   "execution_count": 97,
   "id": "9357bbf4-2a95-4e99-b91d-699a23ef6662",
   "metadata": {},
   "outputs": [
    {
     "name": "stdout",
     "output_type": "stream",
     "text": [
      "True\n"
     ]
    },
    {
     "data": {
      "image/png": "[encoded data removed]",
      "text/latex": [
       "$\\displaystyle 9 x^{3}=9 x^{3}$"
      ],
      "text/plain": [
       "9*x**3=9*x**3"
      ]
     },
     "execution_count": 97,
     "metadata": {},
     "output_type": "execute_result"
    }
   ],
   "source": [
    "P.evalue_if(w,3)"
   ]
  },
  {
   "cell_type": "code",
   "execution_count": 98,
   "id": "4b00cb73-14fd-400f-aed2-36dcd7a2e253",
   "metadata": {},
   "outputs": [
    {
     "data": {
      "image/png": "[encoded data removed]",
      "text/latex": [
       "$\\displaystyle \\frac{1}{4}$"
      ],
      "text/plain": [
       "1/4"
      ]
     },
     "execution_count": 98,
     "metadata": {},
     "output_type": "execute_result"
    }
   ],
   "source": [
    "csolve(4*x+2-3,x)"
   ]
  },
  {
   "cell_type": "code",
   "execution_count": 99,
   "id": "96e7907a-70f6-4eca-b271-b413d5ed6902",
   "metadata": {},
   "outputs": [
    {
     "data": {
      "text/latex": [
       "$\\displaystyle if\\;K=\\;\\left(\\frac{1}{x}\\right)^{\\frac{1}{x}}\\;then\\;...\\;K=\\;256.0\\;$"
      ],
      "text/plain": [
       "<IPython.core.display.Math object>"
      ]
     },
     "metadata": {},
     "output_type": "display_data"
    }
   ],
   "source": [
    "k=kpow(1/x,1/x)\n",
    "show_exp(['if  K=',k,'then ... K=',k.subs(x,1/4)])"
   ]
  },
  {
   "cell_type": "markdown",
   "id": "6dd60af1-b012-4ee9-a5db-fa895985930f",
   "metadata": {},
   "source": [
    " <img src=\"images/linep.png\" alt=\"ml\" style=\"width : 100%;\"/>"
   ]
  },
  {
   "cell_type": "markdown",
   "id": "3e95077f-550a-4750-9739-97d86b30ecc4",
   "metadata": {},
   "source": [
    " <img src=\"images/p14.png\" alt=\"ml\" style=\"width : 100%;\"/>"
   ]
  },
  {
   "cell_type": "markdown",
   "id": "a31f799b-81ce-4924-9909-3cae67b9e850",
   "metadata": {},
   "source": [
    " <img src=\"images/lines.png\" alt=\"ml\" style=\"width : 100%;\"/>"
   ]
  },
  {
   "cell_type": "code",
   "execution_count": 110,
   "id": "a8d789c9-1c66-4a46-8dd2-ac129d6c97a5",
   "metadata": {
    "tags": []
   },
   "outputs": [],
   "source": [
    "#  w will be 4*x+2 but define later\n",
    "w,x,m=symbols('w x m')"
   ]
  },
  {
   "cell_type": "markdown",
   "id": "1a3935ec-a299-4115-913e-2320301e6c5a",
   "metadata": {},
   "source": [
    " <img src=\"images/p14e1.png\" alt=\"ml\" style=\"width : 80%;\"/>"
   ]
  },
  {
   "cell_type": "code",
   "execution_count": 111,
   "id": "0b76c1bd-9ccc-4880-9241-c74a3e8653e0",
   "metadata": {
    "tags": []
   },
   "outputs": [],
   "source": [
    "e1,e2,e3,e4,e5=kpow(x,-1/w+w),kpow(x,-w),kpow(x,1/w),kpow(x,-1/w),kpow(x,w)"
   ]
  },
  {
   "cell_type": "code",
   "execution_count": 112,
   "id": "f58e8c7b-993c-41b0-a780-7699815a4f84",
   "metadata": {},
   "outputs": [
    {
     "data": {
      "image/png": "[encoded data removed]",
      "text/latex": [
       "$\\displaystyle \\frac{x^{w - \\frac{1}{w}} \\left(x^{\\frac{1}{w}} + x^{- w}\\right)}{x^{w} + x^{- \\frac{1}{w}}}$"
      ],
      "text/plain": [
       "     1              \n",
       " w - ─              \n",
       "     w ⎛w ___    -w⎞\n",
       "x     ⋅⎝╲╱ x  + x  ⎠\n",
       "────────────────────\n",
       "           -1       \n",
       "           ───      \n",
       "      w     w       \n",
       "     x  + x         "
      ]
     },
     "execution_count": 112,
     "metadata": {},
     "output_type": "execute_result"
    }
   ],
   "source": [
    "e1*((e2+e3)/(e4+e5)) "
   ]
  },
  {
   "cell_type": "code",
   "execution_count": 113,
   "id": "2f0ae578-8a4a-4298-831f-7267a73fd559",
   "metadata": {},
   "outputs": [
    {
     "data": {
      "image/png": "[encoded data removed]",
      "text/latex": [
       "$\\displaystyle -1$"
      ],
      "text/plain": [
       "-1"
      ]
     },
     "execution_count": 113,
     "metadata": {},
     "output_type": "execute_result"
    }
   ],
   "source": [
    "e7=-1*simplify(e1*((e2+e3)/(e4+e5)));e7"
   ]
  },
  {
   "cell_type": "code",
   "execution_count": null,
   "id": "f71af8f7-4e30-48dd-8331-dd1848d16575",
   "metadata": {},
   "outputs": [],
   "source": []
  },
  {
   "cell_type": "code",
   "execution_count": 114,
   "id": "6e60aac2-5900-4de3-83c7-415fcfd2528c",
   "metadata": {
    "jupyter": {
     "source_hidden": true
    },
    "tags": []
   },
   "outputs": [
    {
     "data": {
      "text/latex": [
       "$\\displaystyle YOU..\\;WANT...\\;MORE....\\;see\\;some\\;super\\;easy\\;problems\\;and\\;try\\;solve\\;whatever\\;method\\;$"
      ],
      "text/plain": [
       "<IPython.core.display.Math object>"
      ]
     },
     "metadata": {},
     "output_type": "display_data"
    },
    {
     "data": {
      "text/latex": [
       "$\\displaystyle Haber\\;trata\\;de\\;resolver\\;con\\;cualquier\\;chucha\\;metodo\\;que\\;quieras\\;haber\\;si\\;puedes..\\;$"
      ],
      "text/plain": [
       "<IPython.core.display.Math object>"
      ]
     },
     "metadata": {},
     "output_type": "display_data"
    }
   ],
   "source": [
    "show_exp([' YOU.. WANT...  MORE.... see some super easy problems and try solve whatever method'])\n",
    "show_exp([' Haber trata de resolver  con cualquier chucha metodo que quieras haber si puedes..'])"
   ]
  },
  {
   "cell_type": "markdown",
   "id": "37a55d94-4586-4bd4-ac6d-4c364b470606",
   "metadata": {},
   "source": [
    " <img src=\"images/pp1.png\" alt=\"ml\" style=\"width : 100%;\"/>"
   ]
  },
  {
   "cell_type": "markdown",
   "id": "1994f6ef-95b1-4c1e-9095-3a8202809f85",
   "metadata": {
    "tags": []
   },
   "source": [
    "#####  Coming soon\n",
    "     * polynomies\n",
    "     * Functions\n",
    "     * Factorize\n",
    "     * Y muchas wevadas masssss\n",
    "     "
   ]
  },
  {
   "cell_type": "markdown",
   "id": "9605634c-4e49-46c7-b405-a7c7c323a0c4",
   "metadata": {},
   "source": [
    "#####  some help or propose how to improve the library weite to aldotb@gmail.com\n",
    "        "
   ]
  },
  {
   "cell_type": "markdown",
   "id": "474b2b03-25de-4941-8628-c2c9e59b49d2",
   "metadata": {},
   "source": [
    "# eternal life to the nerds"
   ]
  },
  {
   "cell_type": "code",
   "execution_count": null,
   "id": "76f077e0-6de5-4938-8bcf-b66189c9eaa1",
   "metadata": {},
   "outputs": [],
   "source": []
  }
 ],
 "metadata": {
  "kernelspec": {
   "display_name": "Python 3",
   "language": "python",
   "name": "python3"
  },
  "language_info": {
   "codemirror_mode": {
    "name": "ipython",
    "version": 3
   },
   "file_extension": ".py",
   "mimetype": "text/x-python",
   "name": "python",
   "nbconvert_exporter": "python",
   "pygments_lexer": "ipython3",
   "version": "3.6.6"
  }
 },
 "nbformat": 4,
 "nbformat_minor": 5
}
