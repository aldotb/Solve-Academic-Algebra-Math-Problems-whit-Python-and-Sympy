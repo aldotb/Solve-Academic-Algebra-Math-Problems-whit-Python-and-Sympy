{
 "cells": [
  {
   "cell_type": "code",
   "execution_count": 1,
   "id": "0ca73c4b-6ba3-477a-80e3-96a416e8964a",
   "metadata": {
    "tags": []
   },
   "outputs": [],
   "source": [
    "from sympy import *   \n",
    "from libaldo_polyclass  import *\n",
    "from libaldo_lib import *\n",
    "from libaldo__util import *\n",
    "import lib_algebraEq as ae\n",
    "init_printing()"
   ]
  },
  {
   "cell_type": "code",
   "execution_count": 2,
   "id": "74fc70cb-8095-4e19-ba7d-ab8bfa0534bc",
   "metadata": {},
   "outputs": [
    {
     "data": {
      "text/latex": [
       "$\\displaystyle Sample\\;problems\\;for\\;not\\;nerds....\\;humm\\;Basic\\;levels..\\;$"
      ],
      "text/plain": [
       "<IPython.core.display.Math object>"
      ]
     },
     "metadata": {},
     "output_type": "display_data"
    }
   ],
   "source": [
    "show_exp(['Sample problems for not nerds.... humm Basic levels..'])"
   ]
  },
  {
   "cell_type": "markdown",
   "id": "a712a77f-fc3f-4bdd-a443-e5e97c994b57",
   "metadata": {},
   "source": [
    " <img src=\"images/linep.png\" alt=\"ml\" style=\"width : 100%;\"/>"
   ]
  },
  {
   "cell_type": "markdown",
   "id": "09dd69b9-999c-41be-a898-1a263d2f6778",
   "metadata": {},
   "source": [
    " <img src=\"images/p17.png\" alt=\"ml\" style=\"width : 100%;\"/>"
   ]
  },
  {
   "cell_type": "markdown",
   "id": "b2ea0a0b-33b2-47d8-bea3-abac070356ae",
   "metadata": {},
   "source": [
    " <img src=\"images/lines.png\" alt=\"ml\" style=\"width : 100%;\"/>"
   ]
  },
  {
   "cell_type": "markdown",
   "id": "16ef0c9c-0aa3-4163-b628-bdbae0fe60a2",
   "metadata": {},
   "source": [
    " <img src=\"images/p17a.png\" alt=\"ml\" style=\"width : 100%;\"/>"
   ]
  },
  {
   "cell_type": "code",
   "execution_count": 3,
   "id": "d16c2e7d-b44b-4c8a-970c-0731d6e3a84d",
   "metadata": {},
   "outputs": [
    {
     "data": {
      "image/png": "[encoded data removed]",
      "text/latex": [
       "$\\displaystyle \\frac{x^{3} + 3 x y + 3 x z + y^{3} + 3 y z + z^{3} - 1}{x y z}$"
      ],
      "text/plain": [
       " 3                    3            3    \n",
       "x  + 3⋅x⋅y + 3⋅x⋅z + y  + 3⋅y⋅z + z  - 1\n",
       "────────────────────────────────────────\n",
       "                 x⋅y⋅z                  "
      ]
     },
     "execution_count": 3,
     "metadata": {},
     "output_type": "execute_result"
    }
   ],
   "source": [
    "x,y,z ,w=symbols('x y z w')\n",
    "e1=kpow(x,3)+kpow(y,3)+kpow(z,3)\n",
    "e2=3*(x*y+x*z+y*z)\n",
    "e3=e1+e2-1\n",
    "e4=x*y*z\n",
    "e5=e3/e4;e5"
   ]
  },
  {
   "cell_type": "code",
   "execution_count": 4,
   "id": "b785faaf-a981-4d2b-be88-a1bddda19059",
   "metadata": {},
   "outputs": [
    {
     "data": {
      "image/png": "[encoded data removed]",
      "text/latex": [
       "$\\displaystyle w=\\frac{x^{3} + 3 x y + 3 x z + y^{3} + 3 y z + z^{3} - 1}{x y z}$"
      ],
      "text/plain": [
       "w=(x**3 + 3*x*y + 3*x*z + y**3 + 3*y*z + z**3 - 1)/(x*y*z)"
      ]
     },
     "execution_count": 4,
     "metadata": {},
     "output_type": "execute_result"
    }
   ],
   "source": [
    "P=polyclass(w,e5);P.Q # show the Eq(P) "
   ]
  },
  {
   "cell_type": "code",
   "execution_count": 5,
   "id": "fe4aa99c-74d1-4085-bf89-459c0ad7952b",
   "metadata": {},
   "outputs": [
    {
     "data": {
      "image/png": "[encoded data removed]",
      "text/latex": [
       "$\\displaystyle w=\\frac{y^{3} + 3 y z + 3 y \\left(- y - z + 1\\right) + z^{3} + 3 z \\left(- y - z + 1\\right) + \\left(- y - z + 1\\right)^{3} - 1}{y z \\left(- y - z + 1\\right)}$"
      ],
      "text/plain": [
       "w=(y**3 + 3*y*z + 3*y*(-y - z + 1) + z**3 + 3*z*(-y - z + 1) + (-y - z + 1)**3 - 1)/(y*z*(-y - z + 1))"
      ]
     },
     "execution_count": 5,
     "metadata": {},
     "output_type": "execute_result"
    }
   ],
   "source": [
    "P.subs(x,1-z-y,1) # in the Eq reemplace  x by 1-z and update"
   ]
  },
  {
   "cell_type": "code",
   "execution_count": 7,
   "id": "3b92ab7f-ab71-4e40-9bb7-ebdc2c576b1b",
   "metadata": {},
   "outputs": [
    {
     "data": {
      "image/png": "[encoded data removed]",
      "text/latex": [
       "$\\displaystyle w=3$"
      ],
      "text/plain": [
       "w=3"
      ]
     },
     "execution_count": 7,
     "metadata": {},
     "output_type": "execute_result"
    }
   ],
   "source": [
    "P.opemat('f') # applied factor"
   ]
  },
  {
   "cell_type": "markdown",
   "id": "b02d5362-6892-407a-9469-00d52990f5b1",
   "metadata": {},
   "source": [
    " <img src=\"images/linep.png\" alt=\"ml\" style=\"width : 100%;\"/>"
   ]
  },
  {
   "cell_type": "markdown",
   "id": "8640f05e-9fe9-4cc7-95c8-881cdeb75cbd",
   "metadata": {},
   "source": [
    " <img src=\"images/p16.png\" alt=\"ml\" style=\"width : 100%;\"/>"
   ]
  },
  {
   "cell_type": "markdown",
   "id": "5293e655-2fec-4b2d-8e84-284f1f5cb69c",
   "metadata": {},
   "source": [
    " <img src=\"images/lines.png\" alt=\"ml\" style=\"width : 100%;\"/>"
   ]
  },
  {
   "cell_type": "code",
   "execution_count": 9,
   "id": "ef54b0fd-9438-4633-81dc-1d0e2f54cd34",
   "metadata": {},
   "outputs": [
    {
     "data": {
      "text/latex": [
       "$\\displaystyle we\\;make\\;e1=\\;\\left(- x + z\\right)^{2} + \\left(x - y\\right)^{2} + \\left(y - z\\right)^{2}\\;$"
      ],
      "text/plain": [
       "<IPython.core.display.Math object>"
      ]
     },
     "metadata": {},
     "output_type": "display_data"
    },
    {
     "data": {
      "text/latex": [
       "$\\displaystyle we\\;make\\;e2=\\;\\left(- 2 x + y + z\\right)^{2} + \\left(x - 2 y + z\\right)^{2} + \\left(x + y - 2 z\\right)^{2}\\;$"
      ],
      "text/plain": [
       "<IPython.core.display.Math object>"
      ]
     },
     "metadata": {},
     "output_type": "display_data"
    },
    {
     "data": {
      "text/latex": [
       "$\\displaystyle also..make\\;a=\\;x - y\\;,b=\\;y - z\\;,c=\\;- a + z\\;$"
      ],
      "text/plain": [
       "<IPython.core.display.Math object>"
      ]
     },
     "metadata": {},
     "output_type": "display_data"
    },
    {
     "data": {
      "image/png": "[encoded data removed]",
      "text/latex": [
       "$\\displaystyle \\left(- x + z\\right)^{2} + \\left(x - y\\right)^{2} + \\left(y - z\\right)^{2}=\\left(- 2 x + y + z\\right)^{2} + \\left(x - 2 y + z\\right)^{2} + \\left(x + y - 2 z\\right)^{2}$"
      ],
      "text/plain": [
       "(-x + z)**2 + (x - y)**2 + (y - z)**2=(-2*x + y + z)**2 + (x - 2*y + z)**2 + (x + y - 2*z)**2"
      ]
     },
     "execution_count": 9,
     "metadata": {},
     "output_type": "execute_result"
    }
   ],
   "source": [
    "x,y,z,w =symbols('x y z w')\n",
    "e1=kpow(x-y,2)+kpow(y-z,2)+kpow(z-x,2);show_exp(['we make e1=',e1])\n",
    "e2=kpow(x+y-2*z,2)+kpow(y+z-2*x,2)+kpow(z+x-2*y,2);show_exp(['we make e2=',e2])\n",
    "# a,b,c=x-y,y-z,z-x\n",
    "show_exp([' also..make a=',x-y,',b=',y-z,',c=',z-a])\n",
    "Eq1=polyclass(e1,e2);Eq1.Q"
   ]
  },
  {
   "cell_type": "markdown",
   "id": "342856ea-805e-4cf7-99d1-8a6b30951512",
   "metadata": {},
   "source": [
    " <img src=\"images/p16e.png\" alt=\"ml\" style=\"width : 100%;\"/>"
   ]
  },
  {
   "cell_type": "code",
   "execution_count": 8,
   "id": "f52bb271-e5a4-46ff-b4a2-603e41dee035",
   "metadata": {},
   "outputs": [
    {
     "data": {
      "text/latex": [
       "$\\displaystyle if\\;follow\\;our\\;new\\;def..\\;then\\;(a-b)=\\;\\left(x + y - 2 z\\right)^{2}\\;,(b-c)=\\;\\left(- 2 x + y + z\\right)^{2}\\;and\\;(c-a)=\\;\\left(x - 2 y + z\\right)^{2}\\;$"
      ],
      "text/plain": [
       "<IPython.core.display.Math object>"
      ]
     },
     "metadata": {},
     "output_type": "display_data"
    }
   ],
   "source": [
    "show_exp(['if follow our new def.. then  (a-b)=',kpow(x+y-2*z,2),',(b-c)=',kpow(y+z-2*x,2),'and (c-a)=',kpow(z+x-2*y,2)])"
   ]
  },
  {
   "cell_type": "markdown",
   "id": "7f50f71c-2e54-49e7-b122-da5e4ec69ae5",
   "metadata": {},
   "source": [
    " <img src=\"images/p16b.png\" alt=\"ml\" style=\"width : 100%;\"/>"
   ]
  },
  {
   "cell_type": "code",
   "execution_count": 9,
   "id": "80e33462-e42f-49a0-947c-496b73e3250c",
   "metadata": {},
   "outputs": [
    {
     "data": {
      "text/latex": [
       "$\\displaystyle whit\\;all\\;this\\;redefine\\;Eq1\\;again\\;$"
      ],
      "text/plain": [
       "<IPython.core.display.Math object>"
      ]
     },
     "metadata": {},
     "output_type": "display_data"
    },
    {
     "data": {
      "image/png": "[encoded data removed]",
      "text/latex": [
       "$\\displaystyle a^{2} + b^{2} + c^{2}=\\left(- a + c\\right)^{2} + \\left(a - b\\right)^{2} + \\left(b - c\\right)^{2}$"
      ],
      "text/plain": [
       "a**2 + b**2 + c**2=(-a + c)**2 + (a - b)**2 + (b - c)**2"
      ]
     },
     "execution_count": 9,
     "metadata": {},
     "output_type": "execute_result"
    }
   ],
   "source": [
    "show_exp(['whit all this redefine Eq1 again'])\n",
    "Eq2=polyclass(a*a+b*b+c*c,kpow(a-b,2)+kpow(b-c,2)+kpow(c-a,2));Eq2.Q"
   ]
  },
  {
   "cell_type": "code",
   "execution_count": 10,
   "id": "2471c872-13d9-4db8-af10-fa24381c9afa",
   "metadata": {},
   "outputs": [
    {
     "data": {
      "image/png": "[encoded data removed]",
      "text/latex": [
       "$\\displaystyle a^{2} + b^{2} + c^{2}=2 a^{2} - 2 a b - 2 a c + 2 b^{2} - 2 b c + 2 c^{2}$"
      ],
      "text/plain": [
       "a**2 + b**2 + c**2=2*a**2 - 2*a*b - 2*a*c + 2*b**2 - 2*b*c + 2*c**2"
      ]
     },
     "execution_count": 10,
     "metadata": {},
     "output_type": "execute_result"
    }
   ],
   "source": [
    "Eq2.opemat('e',1) #  expanddddddddddddd.,and update"
   ]
  },
  {
   "cell_type": "code",
   "execution_count": 13,
   "id": "79ed980b-40c5-4388-a5d0-d081bb825445",
   "metadata": {},
   "outputs": [
    {
     "data": {
      "text/latex": [
       "$\\displaystyle Eq2\\;Add\\;->\\;- a^{2} + 2 a b + 2 a c - b^{2} + 2 b c - c^{2}\\;both\\;side\\;of\\;course\\;$"
      ],
      "text/plain": [
       "<IPython.core.display.Math object>"
      ]
     },
     "metadata": {},
     "output_type": "display_data"
    }
   ],
   "source": [
    "show_exp(['Eq2 Add ->', -a*a-b*b-c*c+2*a*b+2*b*c+2*c*a,' both side of course '])"
   ]
  },
  {
   "cell_type": "code",
   "execution_count": 14,
   "id": "f7a91943-18cc-41d0-9d4f-c04c868c5bcc",
   "metadata": {},
   "outputs": [
    {
     "data": {
      "image/png": "[encoded data removed]",
      "text/latex": [
       "$\\displaystyle 2 a b + 2 a c + 2 b c=a^{2} + b^{2} + c^{2}$"
      ],
      "text/plain": [
       "2*a*b + 2*a*c + 2*b*c=a**2 + b**2 + c**2"
      ]
     },
     "execution_count": 14,
     "metadata": {},
     "output_type": "execute_result"
    }
   ],
   "source": [
    "Eq2.ope4('S',-a*a-b*b-c*c+2*a*b+2*b*c+2*c*a)"
   ]
  },
  {
   "cell_type": "code",
   "execution_count": 15,
   "id": "6835179d-48b8-4b6e-942e-f90eb5af71c2",
   "metadata": {},
   "outputs": [
    {
     "data": {
      "image/png": "[encoded data removed]",
      "text/latex": [
       "$\\displaystyle 0=a^{2} - 2 a b - 2 a c + b^{2} - 2 b c + c^{2}$"
      ],
      "text/plain": [
       "0=a**2 - 2*a*b - 2*a*c + b**2 - 2*b*c + c**2"
      ]
     },
     "execution_count": 15,
     "metadata": {},
     "output_type": "execute_result"
    }
   ],
   "source": [
    "Eq2.ope4('S',-Eq2.q1,1) # to get 0 in left side  Add -(Eq2.q1)  = negative lft side"
   ]
  },
  {
   "cell_type": "code",
   "execution_count": 16,
   "id": "c7582fc8-3efa-470a-9721-8a1ef6bd84ef",
   "metadata": {},
   "outputs": [
    {
     "data": {
      "text/latex": [
       "$\\displaystyle upper\\;cell\\;we\\;make\\;a=x-y\\;,\\;b=y-z\\;and\\;c=\\;z-a\\;then\\;a+b+c\\;=\\;0\\;$"
      ],
      "text/plain": [
       "<IPython.core.display.Math object>"
      ]
     },
     "metadata": {},
     "output_type": "display_data"
    }
   ],
   "source": [
    "sE(['upper cell we make a=x-y , b=y-z and c= z-a','then  a+b+c = 0'])"
   ]
  },
  {
   "cell_type": "code",
   "execution_count": 17,
   "id": "3a747a6c-1ea3-4e01-ad49-cd20a8166e8d",
   "metadata": {},
   "outputs": [
    {
     "data": {
      "text/latex": [
       "$\\displaystyle if\\;a+b+c\\;=0,then\\;a^{2} + b^{2} + c^{2}\\;=\\;- 2 a b - 2 a c - 2 b c\\;$"
      ],
      "text/plain": [
       "<IPython.core.display.Math object>"
      ]
     },
     "metadata": {},
     "output_type": "display_data"
    },
    {
     "data": {
      "text/latex": [
       "$\\displaystyle NOTE\\;1:\\;a^{2} + b^{2} + c^{2}\\;=\\;- 2 a b - 2 a c - 2 b c\\;$"
      ],
      "text/plain": [
       "<IPython.core.display.Math object>"
      ]
     },
     "metadata": {},
     "output_type": "display_data"
    }
   ],
   "source": [
    "sE(['if a+b+c =0,then ',a*a+b*b+c*c,'=',-2*a*b-2*c*b-2*c*a])\n",
    "sE(['NOTE 1:',a*a+b*b+c*c,'=',-2*a*b-2*c*b-2*c*a])"
   ]
  },
  {
   "cell_type": "code",
   "execution_count": 18,
   "id": "8d218768-706e-49e4-b802-acec25647bd9",
   "metadata": {},
   "outputs": [
    {
     "data": {
      "text/latex": [
       "$\\displaystyle remeber\\;Eq2\\;?\\;0=a^{2} - 2 a b - 2 a c + b^{2} - 2 b c + c^{2}\\;$"
      ],
      "text/plain": [
       "<IPython.core.display.Math object>"
      ]
     },
     "metadata": {},
     "output_type": "display_data"
    }
   ],
   "source": [
    "sE(['remeber Eq2  ? ',Eq2.Q])"
   ]
  },
  {
   "cell_type": "code",
   "execution_count": 19,
   "id": "444e5f10-30b4-4276-b812-cd34d7b24035",
   "metadata": {},
   "outputs": [
    {
     "data": {
      "image/png": "[encoded data removed]",
      "text/latex": [
       "$\\displaystyle 0=- 4 a b - 4 a c - 4 b c$"
      ],
      "text/plain": [
       "0=-4*a*b - 4*a*c - 4*b*c"
      ]
     },
     "execution_count": 19,
     "metadata": {},
     "output_type": "execute_result"
    }
   ],
   "source": [
    "Eq2.subs(a*a+b*b+c*c,-2*a*b-2*c*b-2*c*a,1)"
   ]
  },
  {
   "cell_type": "code",
   "execution_count": 20,
   "id": "e9b7a292-091e-4382-ae12-543361d0a514",
   "metadata": {},
   "outputs": [
    {
     "data": {
      "image/png": "[encoded data removed]",
      "text/latex": [
       "$\\displaystyle 0=a b + a c + b c$"
      ],
      "text/plain": [
       "0=a*b + a*c + b*c"
      ]
     },
     "execution_count": 20,
     "metadata": {},
     "output_type": "execute_result"
    }
   ],
   "source": [
    "Eq2.ope4('D',-4,1,'s')"
   ]
  },
  {
   "cell_type": "code",
   "execution_count": 21,
   "id": "9121a559-11f6-4a29-84c2-51982b99f4bc",
   "metadata": {},
   "outputs": [
    {
     "data": {
      "text/latex": [
       "$\\displaystyle NOTE\\;2:\\;a b + a c + b c=0\\;$"
      ],
      "text/plain": [
       "<IPython.core.display.Math object>"
      ]
     },
     "metadata": {},
     "output_type": "display_data"
    }
   ],
   "source": [
    "sE(['NOTE 2:',Eq2.swap()]) # swap()= term left 2 right and right 2 left...."
   ]
  },
  {
   "cell_type": "code",
   "execution_count": 22,
   "id": "94ad2420-8510-4e03-b400-f574f8c85b0b",
   "metadata": {},
   "outputs": [
    {
     "data": {
      "image/png": "[encoded data removed]",
      "text/latex": [
       "$\\displaystyle \\left(- x + z\\right) \\left(x - y\\right) + \\left(- x + z\\right) \\left(y - z\\right) + \\left(x - y\\right) \\left(y - z\\right)=0$"
      ],
      "text/plain": [
       "(-x + z)*(x - y) + (-x + z)*(y - z) + (x - y)*(y - z)=0"
      ]
     },
     "execution_count": 22,
     "metadata": {},
     "output_type": "execute_result"
    }
   ],
   "source": [
    "Eq2.subsubs([a,b,c],[x-y,y-z,z-x],1)"
   ]
  },
  {
   "cell_type": "code",
   "execution_count": 23,
   "id": "0c263b0b-fb81-43fb-90a8-d91e9e296a09",
   "metadata": {},
   "outputs": [
    {
     "data": {
      "image/png": "[encoded data removed]",
      "text/latex": [
       "$\\displaystyle - x^{2} + x y + x z - y^{2} + y z - z^{2}=0$"
      ],
      "text/plain": [
       "-x**2 + x*y + x*z - y**2 + y*z - z**2=0"
      ]
     },
     "execution_count": 23,
     "metadata": {},
     "output_type": "execute_result"
    }
   ],
   "source": [
    "Eq2.opemat('es',1)"
   ]
  },
  {
   "cell_type": "code",
   "execution_count": 24,
   "id": "55c79532-ab89-4607-9b1a-46f6185dac2b",
   "metadata": {},
   "outputs": [
    {
     "data": {
      "image/png": "[encoded data removed]",
      "text/latex": [
       "$\\displaystyle x y + x z + y z=x^{2} + y^{2} + z^{2}$"
      ],
      "text/plain": [
       "x*y + x*z + y*z=x**2 + y**2 + z**2"
      ]
     },
     "execution_count": 24,
     "metadata": {},
     "output_type": "execute_result"
    }
   ],
   "source": [
    "Eq2.ope4('S',+x*x+y*y+z*z,1)"
   ]
  },
  {
   "cell_type": "code",
   "execution_count": 25,
   "id": "745fd6e4-4de6-4acb-815c-06818e25399c",
   "metadata": {},
   "outputs": [
    {
     "data": {
      "text/latex": [
       "$\\displaystyle corolario...:if\\;x y + x z + y z=x^{2} + y^{2} + z^{2}\\;then\\;x=y=z\\;$"
      ],
      "text/plain": [
       "<IPython.core.display.Math object>"
      ]
     },
     "metadata": {},
     "output_type": "display_data"
    }
   ],
   "source": [
    "sE([' corolario...:if ',Eq2.Q,'then x=y=z'])"
   ]
  },
  {
   "cell_type": "markdown",
   "id": "88afaa91-08c7-4639-9c49-f2948700fe61",
   "metadata": {},
   "source": [
    " <img src=\"images/p16a.png\" alt=\"ml\" style=\"width : 100%;\"/>"
   ]
  },
  {
   "cell_type": "code",
   "execution_count": 26,
   "id": "fa6c8ef1-80b4-4204-aa34-88ddea09f23f",
   "metadata": {},
   "outputs": [
    {
     "data": {
      "text/latex": [
       "$\\displaystyle e3=\\;x^{11} + 11 x^{3} y^{3} z^{3} \\left(x y + x z + y z\\right) + y^{11} + z^{11}\\;$"
      ],
      "text/plain": [
       "<IPython.core.display.Math object>"
      ]
     },
     "metadata": {},
     "output_type": "display_data"
    }
   ],
   "source": [
    "e3=kpow(x,11)+kpow(y,11)+kpow(z,11)+11*kpow(x,3)*kpow(y,3)*kpow(z,3)*(x*y+y*z+z*x)\n",
    "sE(['e3=',e3])"
   ]
  },
  {
   "cell_type": "code",
   "execution_count": 27,
   "id": "c24efe49-590b-43e8-b92a-ba79c7ebdabf",
   "metadata": {},
   "outputs": [
    {
     "data": {
      "text/latex": [
       "$\\displaystyle e4=\\;x y z \\left(x^{4} + y^{4} + z^{4}\\right)^{2}\\;$"
      ],
      "text/plain": [
       "<IPython.core.display.Math object>"
      ]
     },
     "metadata": {},
     "output_type": "display_data"
    }
   ],
   "source": [
    "e4=x*y*z*(kpow(x,4)+kpow(y,4)+kpow(z,4))**2;sE(['e4=',e4])"
   ]
  },
  {
   "cell_type": "code",
   "execution_count": 28,
   "id": "f54cd79a-75c6-4718-b66a-6075f2113003",
   "metadata": {},
   "outputs": [
    {
     "data": {
      "image/png": "[encoded data removed]",
      "text/latex": [
       "$\\displaystyle M=\\frac{x^{11} + 11 x^{3} y^{3} z^{3} \\left(x y + x z + y z\\right) + y^{11} + z^{11}}{x y z \\left(x^{4} + y^{4} + z^{4}\\right)^{2}}$"
      ],
      "text/plain": [
       "M=(x**11 + 11*x**3*y**3*z**3*(x*y + x*z + y*z) + y**11 + z**11)/(x*y*z*(x**4 + y**4 + z**4)**2)"
      ]
     },
     "execution_count": 28,
     "metadata": {},
     "output_type": "execute_result"
    }
   ],
   "source": [
    "M=symbols('M')\n",
    "Pm=polyclass(M,e3/e4);Pm.Q"
   ]
  },
  {
   "cell_type": "code",
   "execution_count": 29,
   "id": "7f148ea1-9a73-4067-9796-bc665abad384",
   "metadata": {},
   "outputs": [
    {
     "data": {
      "image/png": "[encoded data removed]",
      "text/latex": [
       "$\\displaystyle M=4$"
      ],
      "text/plain": [
       "M=4"
      ]
     },
     "execution_count": 29,
     "metadata": {},
     "output_type": "execute_result"
    }
   ],
   "source": [
    "Pm.subsubs([y,z],[x,x],1)"
   ]
  },
  {
   "cell_type": "code",
   "execution_count": 30,
   "id": "7d3b05dc-6278-4c9a-8e74-609e1c448f2a",
   "metadata": {},
   "outputs": [
    {
     "data": {
      "text/latex": [
       "$\\displaystyle Este\\;problema\\;fue\\;tremenndooo\\;Pichuloon,....!!!\\;$"
      ],
      "text/plain": [
       "<IPython.core.display.Math object>"
      ]
     },
     "metadata": {},
     "output_type": "display_data"
    },
    {
     "data": {
      "text/latex": [
       "$\\displaystyle translate:\\;This\\;example\\;was\\;little\\;long...\\;je\\;je\\;$"
      ],
      "text/plain": [
       "<IPython.core.display.Math object>"
      ]
     },
     "metadata": {},
     "output_type": "display_data"
    }
   ],
   "source": [
    "sE(['Este problema fue tremenndooo Pichuloon,....!!!'])\n",
    "sE(['translate: This example was little long...  je je'])"
   ]
  },
  {
   "cell_type": "markdown",
   "id": "fcf9ae5f-f91b-4130-8f5e-268e7e648e6b",
   "metadata": {
    "tags": []
   },
   "source": [
    " <img src=\"images/linep.png\" alt=\"ml\" style=\"width : 100%;\"/>"
   ]
  },
  {
   "cell_type": "markdown",
   "id": "19630c7c-5246-4b75-9947-ff908567db2d",
   "metadata": {
    "tags": []
   },
   "source": [
    " <img src=\"images/p21.png\" alt=\"ml\" style=\"width : 100%;\"/>"
   ]
  },
  {
   "cell_type": "markdown",
   "id": "45abe88b-bf30-421b-9f84-cc6e4ea419b6",
   "metadata": {},
   "source": [
    " <img src=\"images/lines.png\" alt=\"ml\" style=\"width : 100%;\"/>"
   ]
  },
  {
   "cell_type": "code",
   "execution_count": 2,
   "id": "22b13149-b69a-46e7-931c-af054325e444",
   "metadata": {},
   "outputs": [],
   "source": [
    "x,y,a,b,c,k =symbols('x y a b c k')\n",
    "def f(w):\n",
    "    return(kpow(w-1,2)/w+2/w)"
   ]
  },
  {
   "cell_type": "markdown",
   "id": "532edc52-4cb3-40cb-9422-595718a89e34",
   "metadata": {
    "tags": []
   },
   "source": [
    " <img src=\"images/p21a.png\" alt=\"ml\" style=\"width : 100%;\"/>"
   ]
  },
  {
   "cell_type": "code",
   "execution_count": 3,
   "id": "cfd162c9-0ae4-4163-bd0a-00ddb3151f27",
   "metadata": {},
   "outputs": [
    {
     "data": {
      "image/png": "[encoded data removed]",
      "text/latex": [
       "$\\displaystyle \\frac{\\left(c - 1\\right)^{2}}{c} + \\frac{2}{c} + \\frac{\\left(b - 1\\right)^{2}}{b} + \\frac{2}{b} + \\frac{\\left(a - 1\\right)^{2}}{a} + \\frac{2}{a}$"
      ],
      "text/plain": [
       "       2              2              2    \n",
       "(c - 1)    2   (b - 1)    2   (a - 1)    2\n",
       "──────── + ─ + ──────── + ─ + ──────── + ─\n",
       "   c       c      b       b      a       a"
      ]
     },
     "execution_count": 3,
     "metadata": {},
     "output_type": "execute_result"
    }
   ],
   "source": [
    "e1=f(a)+f(b)+f(c) ;e1"
   ]
  },
  {
   "cell_type": "code",
   "execution_count": 4,
   "id": "7d4ace71-c3bb-499c-8857-23bcbad9b022",
   "metadata": {},
   "outputs": [
    {
     "data": {
      "text/latex": [
       "$\\displaystyle if\\;\\frac{\\left(c - 1\\right)^{2}}{c} + \\frac{2}{c} + \\frac{\\left(b - 1\\right)^{2}}{b} + \\frac{2}{b} + \\frac{\\left(a - 1\\right)^{2}}{a} + \\frac{2}{a}\\;=\\;\\frac{2}{c} + \\frac{2}{b} + \\frac{2}{a}\\;$"
      ],
      "text/plain": [
       "<IPython.core.display.Math object>"
      ]
     },
     "metadata": {},
     "output_type": "display_data"
    },
    {
     "data": {
      "text/latex": [
       "$\\displaystyle then\\;\\frac{\\left(c - 1\\right)^{2}}{c} + \\frac{\\left(b - 1\\right)^{2}}{b} + \\frac{\\left(a - 1\\right)^{2}}{a}\\;=\\;0\\;$"
      ],
      "text/plain": [
       "<IPython.core.display.Math object>"
      ]
     },
     "metadata": {},
     "output_type": "display_data"
    }
   ],
   "source": [
    "sE(['if ',e1,'=',2*(1/a+1/b+1/c)])\n",
    "sE(['then',e1-2/a-2/b-2/c,'=',0])"
   ]
  },
  {
   "cell_type": "code",
   "execution_count": 5,
   "id": "339b3d95-e507-46e0-89e6-62902968c07d",
   "metadata": {},
   "outputs": [
    {
     "data": {
      "text/latex": [
       "$\\displaystyle And..\\;\\frac{\\left(a - 1\\right)^{2}}{a}\\;=\\;0\\;,\\;\\frac{\\left(b - 1\\right)^{2}}{b}\\;=\\;0\\;,\\;\\frac{\\left(c - 1\\right)^{2}}{c}\\;=\\;0\\;$"
      ],
      "text/plain": [
       "<IPython.core.display.Math object>"
      ]
     },
     "metadata": {},
     "output_type": "display_data"
    }
   ],
   "source": [
    "e2=e1-2/a-2/b-2/c \n",
    "sE(['And..',part(e2,[0]),'=',0,',',part(e2,[1]),'=',0,',',part(e2,[2]),'=',0])"
   ]
  },
  {
   "cell_type": "code",
   "execution_count": 6,
   "id": "eaac0acc-08b9-4eca-a405-8834def53dce",
   "metadata": {},
   "outputs": [
    {
     "data": {
      "text/latex": [
       "$\\displaystyle Finaly\\;..\\;\\frac{\\left(a - 1\\right)^{2}}{a}\\;=\\;0\\;,\\;\\frac{\\left(b - 1\\right)^{2}}{b}\\;=\\;0\\;,\\;\\frac{\\left(c - 1\\right)^{2}}{c}\\;=\\;0\\;$"
      ],
      "text/plain": [
       "<IPython.core.display.Math object>"
      ]
     },
     "metadata": {},
     "output_type": "display_data"
    },
    {
     "data": {
      "text/latex": [
       "$\\displaystyle and\\;solve\\;that\\;..a\\;=\\;1\\;,b=\\;1\\;,c\\;=\\;1\\;$"
      ],
      "text/plain": [
       "<IPython.core.display.Math object>"
      ]
     },
     "metadata": {},
     "output_type": "display_data"
    }
   ],
   "source": [
    "sE(['Finaly ..',part(e2,[0]),'=',0,',',part(e2,[1]),'=',0,',',part(e2,[2]),'=',0])\n",
    "sE(['and solve that ..a =',1,',b=',1,',c =',1])"
   ]
  },
  {
   "cell_type": "code",
   "execution_count": 7,
   "id": "efbf244b-3957-4de2-bef9-748d6c88c7bb",
   "metadata": {},
   "outputs": [],
   "source": [
    "def f3(n):\n",
    "    kk=kpow(a,n)+kpow(b,n)+kpow(c,n)\n",
    "    return(kpow(kk,n))"
   ]
  },
  {
   "cell_type": "code",
   "execution_count": 8,
   "id": "4a67a1a3-99f7-47c6-bcee-fc8683d4008d",
   "metadata": {},
   "outputs": [
    {
     "data": {
      "image/png": "[encoded data removed]",
      "text/latex": [
       "$\\displaystyle \\frac{\\left(a^{3} + b^{3} + c^{3}\\right)^{3} \\left(a^{6} + b^{6} + c^{6}\\right)^{6}}{\\left(a^{9} + b^{9} + c^{9}\\right)^{9}}$"
      ],
      "text/plain": [
       "              3               6\n",
       "⎛ 3    3    3⎞  ⎛ 6    6    6⎞ \n",
       "⎝a  + b  + c ⎠ ⋅⎝a  + b  + c ⎠ \n",
       "───────────────────────────────\n",
       "                      9        \n",
       "        ⎛ 9    9    9⎞         \n",
       "        ⎝a  + b  + c ⎠         "
      ]
     },
     "execution_count": 8,
     "metadata": {},
     "output_type": "execute_result"
    }
   ],
   "source": [
    "M=f3(3)*f3(6)/f3(9);M"
   ]
  },
  {
   "cell_type": "code",
   "execution_count": 9,
   "id": "bebd2080-b593-428e-aa2b-54a22495b48a",
   "metadata": {},
   "outputs": [
    {
     "data": {
      "text/latex": [
       "$\\displaystyle \\frac{\\left(a^{3} + b^{3} + c^{3}\\right)^{3} \\left(a^{6} + b^{6} + c^{6}\\right)^{6}}{\\left(a^{9} + b^{9} + c^{9}\\right)^{9}}\\;=\\;1\\;$"
      ],
      "text/plain": [
       "<IPython.core.display.Math object>"
      ]
     },
     "metadata": {},
     "output_type": "display_data"
    }
   ],
   "source": [
    "sE([M,'=',M.subs({a:1,b:1,c:1})])"
   ]
  },
  {
   "cell_type": "code",
   "execution_count": 11,
   "id": "e30cf958-8be3-4a68-a0a6-809b0e5f2bcc",
   "metadata": {},
   "outputs": [
    {
     "data": {
      "text/latex": [
       "$\\displaystyle M=\\;1\\;$"
      ],
      "text/plain": [
       "<IPython.core.display.Math object>"
      ]
     },
     "metadata": {},
     "output_type": "display_data"
    }
   ],
   "source": [
    "sE(['M=',1])"
   ]
  },
  {
   "cell_type": "markdown",
   "id": "3e05cb78-4df1-437b-a734-0e5f483c1b48",
   "metadata": {},
   "source": [
    " <img src=\"images/linep.png\" alt=\"ml\" style=\"width : 100%;\"/>"
   ]
  },
  {
   "cell_type": "markdown",
   "id": "31bb0106-6e1d-4f59-805d-1f3c85a064df",
   "metadata": {
    "tags": []
   },
   "source": [
    " <img src=\"images/p22.png\" alt=\"ml\" style=\"width : 100%;\"/>"
   ]
  },
  {
   "cell_type": "markdown",
   "id": "adb89ddb-cde1-4c31-b677-81cdac103796",
   "metadata": {},
   "source": [
    " <img src=\"images/lines.png\" alt=\"ml\" style=\"width : 100%;\"/>"
   ]
  },
  {
   "cell_type": "code",
   "execution_count": 2,
   "id": "8eb032fe-2aa1-4338-9f06-38ed436f2ae4",
   "metadata": {},
   "outputs": [
    {
     "data": {
      "image/png": "[encoded data removed]",
      "text/latex": [
       "$\\displaystyle 3 z \\left(z - 1\\right) + \\left(z - 1\\right)^{3}$"
      ],
      "text/plain": [
       "                     3\n",
       "3⋅z⋅(z - 1) + (z - 1) "
      ]
     },
     "execution_count": 2,
     "metadata": {},
     "output_type": "execute_result"
    }
   ],
   "source": [
    "# we will make z=x+y\n",
    "A= kpow(z-1,3)+3*z*(z-1) ;A"
   ]
  },
  {
   "cell_type": "code",
   "execution_count": 3,
   "id": "59f46d1c-49cc-4af9-af7c-19a741d4668a",
   "metadata": {},
   "outputs": [
    {
     "data": {
      "image/png": "[encoded data removed]",
      "text/latex": [
       "$\\displaystyle - 3 z \\left(z + 1\\right) + \\left(z + 1\\right)^{3}$"
      ],
      "text/plain": [
       "                      3\n",
       "-3⋅z⋅(z + 1) + (z + 1) "
      ]
     },
     "execution_count": 3,
     "metadata": {},
     "output_type": "execute_result"
    }
   ],
   "source": [
    "B= kpow(z+1,3)-3*z*(z+1) ;B"
   ]
  },
  {
   "cell_type": "code",
   "execution_count": 4,
   "id": "2971251d-f634-42b6-968f-e6f15acf4406",
   "metadata": {},
   "outputs": [
    {
     "data": {
      "image/png": "[encoded data removed]",
      "text/latex": [
       "$\\displaystyle \\left(z^{3} - 1\\right)^{2} + \\left(z^{3} + 1\\right)^{2}$"
      ],
      "text/plain": [
       "        2           2\n",
       "⎛ 3    ⎞    ⎛ 3    ⎞ \n",
       "⎝z  - 1⎠  + ⎝z  + 1⎠ "
      ]
     },
     "execution_count": 4,
     "metadata": {},
     "output_type": "execute_result"
    }
   ],
   "source": [
    "C= kpow(kpow(z,3)+1,2) + kpow(kpow(z,3)-1,2) ;C"
   ]
  },
  {
   "cell_type": "code",
   "execution_count": 5,
   "id": "3965c61a-3666-4fcd-bd4c-0cb1e8df43e6",
   "metadata": {},
   "outputs": [
    {
     "data": {
      "text/latex": [
       "$\\displaystyle Ans =-4$"
      ],
      "text/plain": [
       "<IPython.core.display.Math object>"
      ]
     },
     "metadata": {},
     "output_type": "display_data"
    }
   ],
   "source": [
    "show_res(opemat(2*A*B-C,'s'),'Ans')"
   ]
  },
  {
   "cell_type": "code",
   "execution_count": 6,
   "id": "22916e2a-1011-498c-95df-4cb8b426d237",
   "metadata": {
    "collapsed": true,
    "jupyter": {
     "outputs_hidden": true
    },
    "tags": []
   },
   "outputs": [
    {
     "data": {
      "text/latex": [
       "$\\displaystyle 2*A*B-C=\\;- \\left(z^{3} - 1\\right)^{2} - \\left(z^{3} + 1\\right)^{2} + \\left(6 z \\left(z - 1\\right) + 2 \\left(z - 1\\right)^{3}\\right) \\left(- 3 z \\left(z + 1\\right) + \\left(z + 1\\right)^{3}\\right)\\;$"
      ],
      "text/plain": [
       "<IPython.core.display.Math object>"
      ]
     },
     "metadata": {},
     "output_type": "display_data"
    },
    {
     "data": {
      "text/latex": [
       "$\\displaystyle 2*A*B-C=\\;-4\\;$"
      ],
      "text/plain": [
       "<IPython.core.display.Math object>"
      ]
     },
     "metadata": {},
     "output_type": "display_data"
    }
   ],
   "source": [
    "sE(['2*A*B-C=',2*A*B-C])\n",
    "sE(['2*A*B-C=',opemat(2*A*B-C,'s')])"
   ]
  },
  {
   "cell_type": "markdown",
   "id": "5f795ac6-8150-4c28-9c12-e7fbcb8aa574",
   "metadata": {},
   "source": [
    " <img src=\"images/linep.png\" alt=\"ml\" style=\"width : 100%;\"/>"
   ]
  },
  {
   "cell_type": "markdown",
   "id": "132f9c33-9ca3-450f-9aa9-4cf6b1dd540c",
   "metadata": {
    "tags": []
   },
   "source": [
    " <img src=\"images/p23.png\" alt=\"ml\" style=\"width : 100%;\"/>"
   ]
  },
  {
   "cell_type": "markdown",
   "id": "7e6a57b6-f075-496c-985d-aee45717971f",
   "metadata": {},
   "source": [
    " <img src=\"images/lines.png\" alt=\"ml\" style=\"width : 100%;\"/>"
   ]
  },
  {
   "cell_type": "code",
   "execution_count": 33,
   "id": "4afb2bf0-9637-4161-b6e1-a3d6cf2e7579",
   "metadata": {
    "jupyter": {
     "source_hidden": true
    },
    "tags": []
   },
   "outputs": [
    {
     "data": {
      "text/latex": [
       "$\\displaystyle This\\;problem\\;is\\;so\\;long\\;and\\;advance\\;level\\;to\\;solved\\;$"
      ],
      "text/plain": [
       "<IPython.core.display.Math object>"
      ]
     },
     "metadata": {},
     "output_type": "display_data"
    }
   ],
   "source": [
    "sE([' This problem is so long and advance level to solved'])"
   ]
  },
  {
   "cell_type": "code",
   "execution_count": 2,
   "id": "0a1208da-3a02-470c-a613-bf9904164c51",
   "metadata": {},
   "outputs": [],
   "source": [
    "a,b,c,p,q,x,y=symbols('a b c p q x y')"
   ]
  },
  {
   "cell_type": "code",
   "execution_count": 3,
   "id": "bc6a34cb-7d88-4edf-b3f8-86ff700dff3b",
   "metadata": {},
   "outputs": [],
   "source": [
    "def f3(a):\n",
    "    return(p+q*a)"
   ]
  },
  {
   "cell_type": "code",
   "execution_count": 4,
   "id": "7fbcf45f-d772-4e6b-b455-74ed1d6a2b71",
   "metadata": {},
   "outputs": [],
   "source": [
    "def f5(a):\n",
    "    return((p+q*a)*a**2)"
   ]
  },
  {
   "cell_type": "code",
   "execution_count": 6,
   "id": "ed31f4dc-fc11-4ac7-a15a-28d8530a30bd",
   "metadata": {},
   "outputs": [
    {
     "data": {
      "text/latex": [
       "$\\displaystyle Eq1...,\\;a^{5} + b^{5} + c^{5}=a^{3} q + a^{2} p + b^{3} q + b^{2} p + c^{3} q + c^{2} p\\;$"
      ],
      "text/plain": [
       "<IPython.core.display.Math object>"
      ]
     },
     "metadata": {},
     "output_type": "display_data"
    }
   ],
   "source": [
    "Eq1=polyclass(a**5+b**5+c**5,expand(f5(a)+f5(b)+f5(c)))\n",
    "show_exp(['Eq1...,',Eq1.Q])"
   ]
  },
  {
   "cell_type": "code",
   "execution_count": 7,
   "id": "ccf4ec45-211c-40d2-b9b3-ca215df39175",
   "metadata": {},
   "outputs": [
    {
     "data": {
      "image/png": "[encoded data removed]",
      "text/latex": [
       "$\\displaystyle a^{3} q + a^{2} p + b^{3} q + b^{2} p + c^{3} q + c^{2} p$"
      ],
      "text/plain": [
       " 3      2      3      2      3      2  \n",
       "a ⋅q + a ⋅p + b ⋅q + b ⋅p + c ⋅q + c ⋅p"
      ]
     },
     "execution_count": 7,
     "metadata": {},
     "output_type": "execute_result"
    }
   ],
   "source": [
    "M=Eq1.q2;M"
   ]
  },
  {
   "cell_type": "code",
   "execution_count": 9,
   "id": "6c1a4bd3-2a0c-44ab-857d-fb20dd3a3e2c",
   "metadata": {},
   "outputs": [
    {
     "data": {
      "image/png": "[encoded data removed]",
      "text/latex": [
       "$\\displaystyle a^{3} q + a^{2} p + b^{3} q + b^{2} p + c^{3} q + c^{2} p$"
      ],
      "text/plain": [
       " 3      2      3      2      3      2  \n",
       "a ⋅q + a ⋅p + b ⋅q + b ⋅p + c ⋅q + c ⋅p"
      ]
     },
     "execution_count": 9,
     "metadata": {},
     "output_type": "execute_result"
    }
   ],
   "source": [
    "factor(M) # whit sympy...  ??"
   ]
  },
  {
   "cell_type": "code",
   "execution_count": 12,
   "id": "cae4894f-31e7-42aa-8388-970ef3df7036",
   "metadata": {},
   "outputs": [
    {
     "data": {
      "image/png": "[encoded data removed]",
      "text/latex": [
       "$\\displaystyle p \\left(a^{2} + b^{2} + c^{2}\\right) + q \\left(a^{3} + b^{3} + c^{3}\\right)$"
      ],
      "text/plain": [
       "  ⎛ 2    2    2⎞     ⎛ 3    3    3⎞\n",
       "p⋅⎝a  + b  + c ⎠ + q⋅⎝a  + b  + c ⎠"
      ]
     },
     "execution_count": 12,
     "metadata": {},
     "output_type": "execute_result"
    }
   ],
   "source": [
    "M2=linear_fac(M,[p,q]);M2  # with lib_libaldo nice.. "
   ]
  },
  {
   "cell_type": "code",
   "execution_count": 103,
   "id": "abf3b8cb-dd76-4b24-aa56-23d66134a7d3",
   "metadata": {},
   "outputs": [
    {
     "data": {
      "image/png": "[encoded data removed]",
      "text/latex": [
       "$\\displaystyle \\left(b - c\\right) \\left(a + b + c\\right)$"
      ],
      "text/plain": [
       "(b - c)⋅(a + b + c)"
      ]
     },
     "execution_count": 103,
     "metadata": {},
     "output_type": "execute_result"
    }
   ],
   "source": [
    "M2"
   ]
  },
  {
   "cell_type": "code",
   "execution_count": 15,
   "id": "216e62df-d774-4e2f-a934-616d4aed0a9f",
   "metadata": {},
   "outputs": [],
   "source": [
    "A=polyclass(a**3,f3(a)) \n",
    "B=polyclass(b**3,f3(b)) \n",
    "C=polyclass(c**3,f3(c))"
   ]
  },
  {
   "cell_type": "code",
   "execution_count": 18,
   "id": "1f61794d-23cc-420c-a0fc-8776c8c68ec6",
   "metadata": {},
   "outputs": [
    {
     "data": {
      "image/png": "[encoded data removed]",
      "text/latex": [
       "$\\displaystyle a^{3} - b^{3}=a q - b q$"
      ],
      "text/plain": [
       "a**3 - b**3=a*q - b*q"
      ]
     },
     "execution_count": 18,
     "metadata": {},
     "output_type": "execute_result"
    }
   ],
   "source": [
    "AB=polyclass(A.Q-B.Q);AB.Q"
   ]
  },
  {
   "cell_type": "code",
   "execution_count": 27,
   "id": "6a6dfe65-cbe0-4bbd-8a05-b464ef9d528a",
   "metadata": {},
   "outputs": [
    {
     "data": {
      "image/png": "[encoded data removed]",
      "text/latex": [
       "$\\displaystyle \\left(a - b\\right) \\left(a^{2} + a b + b^{2}\\right)=q \\left(a - b\\right)$"
      ],
      "text/plain": [
       "(a - b)*(a**2 + a*b + b**2)=q*(a - b)"
      ]
     },
     "execution_count": 27,
     "metadata": {},
     "output_type": "execute_result"
    }
   ],
   "source": [
    "AB.opemat('f',1)"
   ]
  },
  {
   "cell_type": "code",
   "execution_count": 30,
   "id": "ebdd21bc-93d6-465f-81de-02c804e238a1",
   "metadata": {},
   "outputs": [
    {
     "data": {
      "image/png": "[encoded data removed]",
      "text/latex": [
       "$\\displaystyle a^{2} + a b + b^{2}=q$"
      ],
      "text/plain": [
       "a**2 + a*b + b**2=q"
      ]
     },
     "execution_count": 30,
     "metadata": {},
     "output_type": "execute_result"
    }
   ],
   "source": [
    "AB.ope4('D',a-b,1)"
   ]
  },
  {
   "cell_type": "code",
   "execution_count": 34,
   "id": "8baf2a7b-648e-4526-9a6f-8e54fab19c9f",
   "metadata": {},
   "outputs": [
    {
     "data": {
      "text/latex": [
       "$\\displaystyle idem\\;whit\\;BC,CA....\\;b^{2} + b c + c^{2}=q\\;and..\\;a^{2} + a c + c^{2}=q\\;$"
      ],
      "text/plain": [
       "<IPython.core.display.Math object>"
      ]
     },
     "metadata": {},
     "output_type": "display_data"
    }
   ],
   "source": [
    "BC=polyclass(b*b+b*c+c*c,q)\n",
    "CA=polyclass(c*c+c*a+a*a,q)\n",
    "show_exp(['idem whit BC,CA....',BC.Q,'and..',CA.Q])"
   ]
  },
  {
   "cell_type": "code",
   "execution_count": 54,
   "id": "00cc654f-e9c3-4e8e-9a2b-924761995462",
   "metadata": {},
   "outputs": [
    {
     "data": {
      "image/png": "[encoded data removed]",
      "text/latex": [
       "$\\displaystyle 2 a^{2} + a b + a c + 2 b^{2} + b c + 2 c^{2}=3 q$"
      ],
      "text/plain": [
       "2*a**2 + a*b + a*c + 2*b**2 + b*c + 2*c**2=3*q"
      ]
     },
     "execution_count": 54,
     "metadata": {},
     "output_type": "execute_result"
    }
   ],
   "source": [
    "Eq1=polyclass(AB.Q-CA.Q);Eq1.Q"
   ]
  },
  {
   "cell_type": "code",
   "execution_count": 38,
   "id": "357e344b-1658-44ee-bf7d-b0a688e76792",
   "metadata": {},
   "outputs": [
    {
     "data": {
      "image/png": "[encoded data removed]",
      "text/latex": [
       "$\\displaystyle a b - a c + b^{2} - c^{2}$"
      ],
      "text/plain": [
       "             2    2\n",
       "a⋅b - a⋅c + b  - c "
      ]
     },
     "execution_count": 38,
     "metadata": {},
     "output_type": "execute_result"
    }
   ],
   "source": [
    "M=Eq1.q1;M"
   ]
  },
  {
   "cell_type": "code",
   "execution_count": 43,
   "id": "1ace5220-16dd-43cf-845e-60e19012406c",
   "metadata": {},
   "outputs": [
    {
     "data": {
      "image/png": "[encoded data removed]",
      "text/latex": [
       "$\\displaystyle \\left(b - c\\right) \\left(a + b + c\\right)$"
      ],
      "text/plain": [
       "(b - c)⋅(a + b + c)"
      ]
     },
     "execution_count": 43,
     "metadata": {},
     "output_type": "execute_result"
    }
   ],
   "source": [
    "M2=factor(linear_fac(M,[a])-b*b+c*c+(b+c)*(b-c));M2"
   ]
  },
  {
   "cell_type": "code",
   "execution_count": 45,
   "id": "576392be-0336-4f86-90c8-47bf2eb55b8a",
   "metadata": {},
   "outputs": [
    {
     "data": {
      "text/latex": [
       "$\\displaystyle from\\;\\left(b - c\\right) \\left(a + b + c\\right)\\;-->\\;b - c\\;=\\;0\\;then\\;b=c\\;,but\\;the\\;problem\\;said\\;that\\;a,b,c\\;are\\;differents\\;$"
      ],
      "text/plain": [
       "<IPython.core.display.Math object>"
      ]
     },
     "metadata": {},
     "output_type": "display_data"
    }
   ],
   "source": [
    "sE(['from ',M2,'-->', b-c,'=',0,'then b=c',',but the problem said that a,b,c are differents '])"
   ]
  },
  {
   "cell_type": "code",
   "execution_count": 46,
   "id": "dc79e1b6-a060-4f2b-a87a-a4c991bfa815",
   "metadata": {},
   "outputs": [
    {
     "data": {
      "text/latex": [
       "$\\displaystyle then\\;a + b + c\\;=\\;0\\;$"
      ],
      "text/plain": [
       "<IPython.core.display.Math object>"
      ]
     },
     "metadata": {},
     "output_type": "display_data"
    }
   ],
   "source": [
    "sE([' then ',a+b+c,'= 0'])"
   ]
  },
  {
   "cell_type": "code",
   "execution_count": 47,
   "id": "12d9ea4e-6f09-439e-85f7-815915a59223",
   "metadata": {},
   "outputs": [
    {
     "data": {
      "image/png": "[encoded data removed]",
      "text/latex": [
       "$\\displaystyle a + b + c=0$"
      ],
      "text/plain": [
       "a + b + c=0"
      ]
     },
     "execution_count": 47,
     "metadata": {},
     "output_type": "execute_result"
    }
   ],
   "source": [
    "Eq3=polyclass(a+b+c,0);Eq3.Q"
   ]
  },
  {
   "cell_type": "code",
   "execution_count": 50,
   "id": "643e2608-6a4a-4e2b-be0d-6da4970da36c",
   "metadata": {},
   "outputs": [
    {
     "data": {
      "image/png": "[encoded data removed]",
      "text/latex": [
       "$\\displaystyle a^{2} + 2 a b + 2 a c + b^{2} + 2 b c + c^{2}=0$"
      ],
      "text/plain": [
       "a**2 + 2*a*b + 2*a*c + b**2 + 2*b*c + c**2=0"
      ]
     },
     "execution_count": 50,
     "metadata": {},
     "output_type": "execute_result"
    }
   ],
   "source": [
    "Eq3.ope4('P',2,1,'e')"
   ]
  },
  {
   "cell_type": "code",
   "execution_count": 52,
   "id": "f6aff9d4-435b-4d67-852e-c93691c62ecf",
   "metadata": {},
   "outputs": [
    {
     "data": {
      "image/png": "[encoded data removed]",
      "text/latex": [
       "$\\displaystyle 2 a b + 2 a c + 2 b c=- a^{2} - b^{2} - c^{2}$"
      ],
      "text/plain": [
       "2*a*b + 2*a*c + 2*b*c=-a**2 - b**2 - c**2"
      ]
     },
     "execution_count": 52,
     "metadata": {},
     "output_type": "execute_result"
    }
   ],
   "source": [
    "Eq3.ope4('S',-a*a-b*b-c*c,1)"
   ]
  },
  {
   "cell_type": "code",
   "execution_count": 53,
   "id": "4969d5ca-bc44-41f7-9c16-a44233bd3d3f",
   "metadata": {},
   "outputs": [
    {
     "data": {
      "image/png": "[encoded data removed]",
      "text/latex": [
       "$\\displaystyle a b + a c + b c=- \\frac{a^{2}}{2} - \\frac{b^{2}}{2} - \\frac{c^{2}}{2}$"
      ],
      "text/plain": [
       "a*b + a*c + b*c=-a**2/2 - b**2/2 - c**2/2"
      ]
     },
     "execution_count": 53,
     "metadata": {},
     "output_type": "execute_result"
    }
   ],
   "source": [
    "Eq3.ope4('D',2,1)"
   ]
  },
  {
   "cell_type": "code",
   "execution_count": 56,
   "id": "2af7426d-19b4-412e-8f83-df6d673ebe87",
   "metadata": {},
   "outputs": [
    {
     "data": {
      "image/png": "[encoded data removed]",
      "text/latex": [
       "$\\displaystyle a b + a c + b c=- \\frac{a^{2} + b^{2} + c^{2}}{2}$"
      ],
      "text/plain": [
       "a*b + a*c + b*c=-(a**2 + b**2 + c**2)/2"
      ]
     },
     "execution_count": 56,
     "metadata": {},
     "output_type": "execute_result"
    }
   ],
   "source": [
    "Eq3.opemat('f',1)"
   ]
  },
  {
   "cell_type": "code",
   "execution_count": 58,
   "id": "ffdc8c7c-9c1b-45d4-817a-55b1cb5fba82",
   "metadata": {},
   "outputs": [
    {
     "data": {
      "text/latex": [
       "$\\displaystyle Note\\;1\\;:\\;a b + a c + b c=- \\frac{a^{2} + b^{2} + c^{2}}{2}\\;continued\\;$"
      ],
      "text/plain": [
       "<IPython.core.display.Math object>"
      ]
     },
     "metadata": {},
     "output_type": "display_data"
    }
   ],
   "source": [
    "sE(['Note 1 :',Eq3.Q, 'continued '])"
   ]
  },
  {
   "cell_type": "code",
   "execution_count": 64,
   "id": "87134886-c951-4489-8a91-08cf80a144a5",
   "metadata": {},
   "outputs": [
    {
     "data": {
      "image/png": "[encoded data removed]",
      "text/latex": [
       "$\\displaystyle 2 a^{2} + a b + a c + 2 b^{2} + b c + 2 c^{2}=3 q$"
      ],
      "text/plain": [
       "2*a**2 + a*b + a*c + 2*b**2 + b*c + 2*c**2=3*q"
      ]
     },
     "execution_count": 64,
     "metadata": {},
     "output_type": "execute_result"
    }
   ],
   "source": [
    "Eq4=polyclass(AB.Q+BC.Q+CA.Q);Eq4.Q"
   ]
  },
  {
   "cell_type": "code",
   "execution_count": 66,
   "id": "c5bcc450-5e49-44c0-b86f-8dc4b1158fbc",
   "metadata": {},
   "outputs": [
    {
     "data": {
      "image/png": "[encoded data removed]",
      "text/latex": [
       "$\\displaystyle 2 a^{2} + 2 b^{2} + 2 c^{2} - \\frac{a^{2} + b^{2} + c^{2}}{2}=3 q$"
      ],
      "text/plain": [
       "2*a**2 + 2*b**2 + 2*c**2 - (a**2 + b**2 + c**2)/2=3*q"
      ]
     },
     "execution_count": 66,
     "metadata": {},
     "output_type": "execute_result"
    }
   ],
   "source": [
    "Eq4.subs(Eq3.q1,Eq3.q2,1)"
   ]
  },
  {
   "cell_type": "code",
   "execution_count": 68,
   "id": "6c3a1c59-3676-47d5-a88e-ebe1fe72d0d1",
   "metadata": {},
   "outputs": [
    {
     "data": {
      "image/png": "[encoded data removed]",
      "text/latex": [
       "$\\displaystyle \\frac{3 a^{2}}{2} + \\frac{3 b^{2}}{2} + \\frac{3 c^{2}}{2}=3 q$"
      ],
      "text/plain": [
       "3*a**2/2 + 3*b**2/2 + 3*c**2/2=3*q"
      ]
     },
     "execution_count": 68,
     "metadata": {},
     "output_type": "execute_result"
    }
   ],
   "source": [
    "Eq4.opemat('sf',1)"
   ]
  },
  {
   "cell_type": "code",
   "execution_count": 72,
   "id": "9a8c5eee-7a17-4235-a4a6-1bbac67260cc",
   "metadata": {},
   "outputs": [
    {
     "data": {
      "image/png": "[encoded data removed]",
      "text/latex": [
       "$\\displaystyle 3 a^{2} + 3 b^{2} + 3 c^{2}=6 q$"
      ],
      "text/plain": [
       "3*a**2 + 3*b**2 + 3*c**2=6*q"
      ]
     },
     "execution_count": 72,
     "metadata": {},
     "output_type": "execute_result"
    }
   ],
   "source": [
    "Eq4.ope4('M',2,1,'s')"
   ]
  },
  {
   "cell_type": "code",
   "execution_count": 73,
   "id": "e5c16a9c-0db9-41ab-89a9-f03f5cde2122",
   "metadata": {},
   "outputs": [
    {
     "data": {
      "image/png": "[encoded data removed]",
      "text/latex": [
       "$\\displaystyle a^{2} + b^{2} + c^{2}=2 q$"
      ],
      "text/plain": [
       "a**2 + b**2 + c**2=2*q"
      ]
     },
     "execution_count": 73,
     "metadata": {},
     "output_type": "execute_result"
    }
   ],
   "source": [
    "Eq4.ope4('D',3,1,'s')"
   ]
  },
  {
   "cell_type": "code",
   "execution_count": 74,
   "id": "4cd652a4-1115-41af-9821-f2fb7105a7d5",
   "metadata": {
    "tags": []
   },
   "outputs": [
    {
     "data": {
      "text/latex": [
       "$\\displaystyle Note\\;2\\;:\\;a^{2} + b^{2} + c^{2}=2 q\\;continued\\;$"
      ],
      "text/plain": [
       "<IPython.core.display.Math object>"
      ]
     },
     "metadata": {},
     "output_type": "display_data"
    }
   ],
   "source": [
    "sE(['Note 2 :',Eq4.Q, 'continued '])"
   ]
  },
  {
   "cell_type": "code",
   "execution_count": 94,
   "id": "3b808bbe-3244-4bba-85eb-c75b85b72b46",
   "metadata": {},
   "outputs": [
    {
     "data": {
      "image/png": "[encoded data removed]",
      "text/latex": [
       "$\\displaystyle a^{3} + b^{3} + c^{3}=a q + b q + c q + 3 p$"
      ],
      "text/plain": [
       "a**3 + b**3 + c**3=a*q + b*q + c*q + 3*p"
      ]
     },
     "execution_count": 94,
     "metadata": {},
     "output_type": "execute_result"
    }
   ],
   "source": [
    "Eq5=polyclass(A.Q+B.Q+C.Q);Eq5.Q"
   ]
  },
  {
   "cell_type": "code",
   "execution_count": 95,
   "id": "df555263-2fb1-4e10-a59a-11620e8b059c",
   "metadata": {},
   "outputs": [
    {
     "data": {
      "image/png": "[encoded data removed]",
      "text/latex": [
       "$\\displaystyle 3 p + q \\left(a + b + c\\right)$"
      ],
      "text/plain": [
       "3⋅p + q⋅(a + b + c)"
      ]
     },
     "execution_count": 95,
     "metadata": {},
     "output_type": "execute_result"
    }
   ],
   "source": [
    "linear_fac(Eq5.q2,[q])"
   ]
  },
  {
   "cell_type": "code",
   "execution_count": 96,
   "id": "1dceb8f5-c085-423c-a1ee-c4dbb5ec6865",
   "metadata": {},
   "outputs": [
    {
     "data": {
      "image/png": "[encoded data removed]",
      "text/latex": [
       "$\\displaystyle a^{3} + b^{3} + c^{3}=3 p + q \\left(a + b + c\\right)$"
      ],
      "text/plain": [
       "a**3 + b**3 + c**3=3*p + q*(a + b + c)"
      ]
     },
     "execution_count": 96,
     "metadata": {},
     "output_type": "execute_result"
    }
   ],
   "source": [
    "Eq5=polyclass(Eq5.q1,linear_fac(Eq5.q2,[q]));Eq5.Q"
   ]
  },
  {
   "cell_type": "code",
   "execution_count": 99,
   "id": "ad94d783-52b8-46ca-9662-faca98c3b59e",
   "metadata": {},
   "outputs": [
    {
     "data": {
      "image/png": "[encoded data removed]",
      "text/latex": [
       "$\\displaystyle a^{3} + b^{3} + c^{3}=3 p$"
      ],
      "text/plain": [
       "a**3 + b**3 + c**3=3*p"
      ]
     },
     "execution_count": 99,
     "metadata": {},
     "output_type": "execute_result"
    }
   ],
   "source": [
    "Eq5.subs(a+b+c,0,1)"
   ]
  },
  {
   "cell_type": "code",
   "execution_count": 100,
   "id": "a119a9d7-44f3-4712-9f37-e8b4681683ee",
   "metadata": {
    "tags": []
   },
   "outputs": [
    {
     "data": {
      "text/latex": [
       "$\\displaystyle Note\\;3\\;:\\;a^{3} + b^{3} + c^{3}=3 p\\;continued\\;$"
      ],
      "text/plain": [
       "<IPython.core.display.Math object>"
      ]
     },
     "metadata": {},
     "output_type": "display_data"
    }
   ],
   "source": [
    "sE(['Note 3 :',Eq5.Q, 'continued '])"
   ]
  },
  {
   "cell_type": "code",
   "execution_count": 111,
   "id": "a87499b4-bed1-4943-bd64-51e509446e49",
   "metadata": {},
   "outputs": [
    {
     "data": {
      "text/latex": [
       "$\\displaystyle Final\\;Resume\\;$"
      ],
      "text/plain": [
       "<IPython.core.display.Math object>"
      ]
     },
     "metadata": {},
     "output_type": "display_data"
    },
    {
     "data": {
      "text/latex": [
       "$\\displaystyle we\\;need\\;find\\;a^{5} + b^{5} + c^{5}\\;that\\;is\\;tha\\;same\\;that...\\;$"
      ],
      "text/plain": [
       "<IPython.core.display.Math object>"
      ]
     },
     "metadata": {},
     "output_type": "display_data"
    },
    {
     "data": {
      "text/latex": [
       "$\\displaystyle \\frac{p \\left(a^{2} + b^{2} + c^{2}\\right) + q \\left(a^{3} + b^{3} + c^{3}\\right)}{p q}\\;..........1\\;$"
      ],
      "text/plain": [
       "<IPython.core.display.Math object>"
      ]
     },
     "metadata": {},
     "output_type": "display_data"
    },
    {
     "data": {
      "text/latex": [
       "$\\displaystyle a^{2} + b^{2} + c^{2}=2 q\\;.........2\\;$"
      ],
      "text/plain": [
       "<IPython.core.display.Math object>"
      ]
     },
     "metadata": {},
     "output_type": "display_data"
    },
    {
     "data": {
      "text/latex": [
       "$\\displaystyle a^{3} + b^{3} + c^{3}=3 p\\;.........3\\;$"
      ],
      "text/plain": [
       "<IPython.core.display.Math object>"
      ]
     },
     "metadata": {},
     "output_type": "display_data"
    }
   ],
   "source": [
    "sE(['Final Resume'])\n",
    "sE(['we need find ',a**5+b**5+c**5 ,'that is tha same that...'])\n",
    "w=(p*(a*a+b*b+c*c)+q*(a**3+b**3+c**3))/(p*q)\n",
    "sE([w,'..........1'])\n",
    "sE([Eq4.Q,'.........2'])\n",
    "sE([Eq5.Q,'.........3'])"
   ]
  },
  {
   "cell_type": "code",
   "execution_count": 113,
   "id": "a36a27f0-7577-4bb1-8306-4c13c414ac27",
   "metadata": {},
   "outputs": [
    {
     "data": {
      "text/latex": [
       "$\\displaystyle finally\\;this\\;mierdon\\;is\\;equal\\;to..\\;5\\;$"
      ],
      "text/plain": [
       "<IPython.core.display.Math object>"
      ]
     },
     "metadata": {},
     "output_type": "display_data"
    }
   ],
   "source": [
    "kr=w.subs({Eq4.q1:2*q,Eq5.q1:3*p})\n",
    "sE(['finally this mierdon is equal to.. ',kr])"
   ]
  },
  {
   "cell_type": "markdown",
   "id": "8d116228-0c11-432e-a535-42b29fa1d39f",
   "metadata": {
    "tags": []
   },
   "source": [
    " <img src=\"images/pp2.png\" alt=\"ml\" style=\"width : 100%;\"/>"
   ]
  },
  {
   "cell_type": "code",
   "execution_count": null,
   "id": "2a492806-5677-4c3a-8490-2b8a46d7c902",
   "metadata": {},
   "outputs": [],
   "source": []
  }
 ],
 "metadata": {
  "kernelspec": {
   "display_name": "Python 3",
   "language": "python",
   "name": "python3"
  },
  "language_info": {
   "codemirror_mode": {
    "name": "ipython",
    "version": 3
   },
   "file_extension": ".py",
   "mimetype": "text/x-python",
   "name": "python",
   "nbconvert_exporter": "python",
   "pygments_lexer": "ipython3",
   "version": "3.6.6"
  }
 },
 "nbformat": 4,
 "nbformat_minor": 5
}
