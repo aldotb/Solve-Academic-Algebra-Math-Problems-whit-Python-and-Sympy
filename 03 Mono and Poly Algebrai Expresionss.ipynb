{
 "cells": [
  {
   "cell_type": "code",
   "execution_count": 3,
   "id": "0ca73c4b-6ba3-477a-80e3-96a416e8964a",
   "metadata": {
    "tags": []
   },
   "outputs": [],
   "source": [
    "from sympy import *   \n",
    "from libaldo_polyclass  import *\n",
    "from libaldo_lib import *\n",
    "from libaldo__util import *\n",
    "import lib_algebraEq as ae\n",
    "init_printing()"
   ]
  },
  {
   "cell_type": "code",
   "execution_count": 4,
   "id": "74fc70cb-8095-4e19-ba7d-ab8bfa0534bc",
   "metadata": {},
   "outputs": [
    {
     "data": {
      "text/latex": [
       "$\\displaystyle Sample\\;problems\\;for\\;not\\;nerds....\\;humm\\;Basic\\;levels..\\;$"
      ],
      "text/plain": [
       "<IPython.core.display.Math object>"
      ]
     },
     "metadata": {},
     "output_type": "display_data"
    }
   ],
   "source": [
    "show_exp(['Sample problems for not nerds.... humm Basic levels..'])"
   ]
  },
  {
   "cell_type": "markdown",
   "id": "a712a77f-fc3f-4bdd-a443-e5e97c994b57",
   "metadata": {},
   "source": [
    " <img src=\"images/linep.png\" alt=\"ml\" style=\"width : 100%;\"/>"
   ]
  },
  {
   "cell_type": "markdown",
   "id": "09dd69b9-999c-41be-a898-1a263d2f6778",
   "metadata": {},
   "source": [
    " <img src=\"images/p17.png\" alt=\"ml\" style=\"width : 100%;\"/>"
   ]
  },
  {
   "cell_type": "markdown",
   "id": "b2ea0a0b-33b2-47d8-bea3-abac070356ae",
   "metadata": {},
   "source": [
    " <img src=\"images/lines.png\" alt=\"ml\" style=\"width : 100%;\"/>"
   ]
  },
  {
   "cell_type": "markdown",
   "id": "16ef0c9c-0aa3-4163-b628-bdbae0fe60a2",
   "metadata": {},
   "source": [
    " <img src=\"images/p17a.png\" alt=\"ml\" style=\"width : 100%;\"/>"
   ]
  },
  {
   "cell_type": "code",
   "execution_count": 5,
   "id": "d16c2e7d-b44b-4c8a-970c-0731d6e3a84d",
   "metadata": {},
   "outputs": [
    {
     "data": {
      "image/png": "[encoded data removed]",
      "text/latex": [
       "$\\displaystyle \\frac{x^{3} + 3 x y + 3 x z + y^{3} + 3 y z + z^{3} - 1}{x y z}$"
      ],
      "text/plain": [
       " 3                    3            3    \n",
       "x  + 3⋅x⋅y + 3⋅x⋅z + y  + 3⋅y⋅z + z  - 1\n",
       "────────────────────────────────────────\n",
       "                 x⋅y⋅z                  "
      ]
     },
     "execution_count": 5,
     "metadata": {},
     "output_type": "execute_result"
    }
   ],
   "source": [
    "x,y,z ,w=symbols('x y z w')\n",
    "e1=kpow(x,3)+kpow(y,3)+kpow(z,3)\n",
    "e2=3*(x*y+x*z+y*z)\n",
    "e3=e1+e2-1\n",
    "e4=x*y*z\n",
    "e5=e3/e4;e5"
   ]
  },
  {
   "cell_type": "code",
   "execution_count": 6,
   "id": "b785faaf-a981-4d2b-be88-a1bddda19059",
   "metadata": {},
   "outputs": [
    {
     "data": {
      "image/png": "[encoded data removed]",
      "text/latex": [
       "$\\displaystyle w=\\frac{x^{3} + 3 x y + 3 x z + y^{3} + 3 y z + z^{3} - 1}{x y z}$"
      ],
      "text/plain": [
       "w=(x**3 + 3*x*y + 3*x*z + y**3 + 3*y*z + z**3 - 1)/(x*y*z)"
      ]
     },
     "execution_count": 6,
     "metadata": {},
     "output_type": "execute_result"
    }
   ],
   "source": [
    "P=polyclass(w,e5);P.Q"
   ]
  },
  {
   "cell_type": "code",
   "execution_count": 7,
   "id": "fe4aa99c-74d1-4085-bf89-459c0ad7952b",
   "metadata": {},
   "outputs": [
    {
     "data": {
      "image/png": "[encoded data removed]",
      "text/latex": [
       "$\\displaystyle w=\\frac{y^{3} + 3 y z + 3 y \\left(- y - z + 1\\right) + z^{3} + 3 z \\left(- y - z + 1\\right) + \\left(- y - z + 1\\right)^{3} - 1}{y z \\left(- y - z + 1\\right)}$"
      ],
      "text/plain": [
       "w=(y**3 + 3*y*z + 3*y*(-y - z + 1) + z**3 + 3*z*(-y - z + 1) + (-y - z + 1)**3 - 1)/(y*z*(-y - z + 1))"
      ]
     },
     "execution_count": 7,
     "metadata": {},
     "output_type": "execute_result"
    }
   ],
   "source": [
    "P.subs(x,1-z-y,1)"
   ]
  },
  {
   "cell_type": "code",
   "execution_count": 8,
   "id": "3b92ab7f-ab71-4e40-9bb7-ebdc2c576b1b",
   "metadata": {},
   "outputs": [
    {
     "data": {
      "image/png": "[encoded data removed]",
      "text/latex": [
       "$\\displaystyle w=3$"
      ],
      "text/plain": [
       "w=3"
      ]
     },
     "execution_count": 8,
     "metadata": {},
     "output_type": "execute_result"
    }
   ],
   "source": [
    "P.opemat('f')"
   ]
  },
  {
   "cell_type": "markdown",
   "id": "b02d5362-6892-407a-9469-00d52990f5b1",
   "metadata": {},
   "source": [
    " <img src=\"images/linep.png\" alt=\"ml\" style=\"width : 100%;\"/>"
   ]
  },
  {
   "cell_type": "markdown",
   "id": "8640f05e-9fe9-4cc7-95c8-881cdeb75cbd",
   "metadata": {},
   "source": [
    " <img src=\"images/p16.png\" alt=\"ml\" style=\"width : 100%;\"/>"
   ]
  },
  {
   "cell_type": "markdown",
   "id": "5293e655-2fec-4b2d-8e84-284f1f5cb69c",
   "metadata": {},
   "source": [
    " <img src=\"images/lines.png\" alt=\"ml\" style=\"width : 100%;\"/>"
   ]
  },
  {
   "cell_type": "code",
   "execution_count": 9,
   "id": "ef54b0fd-9438-4633-81dc-1d0e2f54cd34",
   "metadata": {},
   "outputs": [
    {
     "data": {
      "text/latex": [
       "$\\displaystyle we\\;make\\;e1=\\;\\left(- x + z\\right)^{2} + \\left(x - y\\right)^{2} + \\left(y - z\\right)^{2}\\;$"
      ],
      "text/plain": [
       "<IPython.core.display.Math object>"
      ]
     },
     "metadata": {},
     "output_type": "display_data"
    },
    {
     "data": {
      "text/latex": [
       "$\\displaystyle we\\;make\\;e2=\\;\\left(- 2 x + y + z\\right)^{2} + \\left(x - 2 y + z\\right)^{2} + \\left(x + y - 2 z\\right)^{2}\\;$"
      ],
      "text/plain": [
       "<IPython.core.display.Math object>"
      ]
     },
     "metadata": {},
     "output_type": "display_data"
    },
    {
     "data": {
      "text/latex": [
       "$\\displaystyle also..make\\;a=\\;x - y\\;,b=\\;y - z\\;,c=\\;- a + z\\;$"
      ],
      "text/plain": [
       "<IPython.core.display.Math object>"
      ]
     },
     "metadata": {},
     "output_type": "display_data"
    },
    {
     "data": {
      "image/png": "[encoded data removed]",
      "text/latex": [
       "$\\displaystyle \\left(- x + z\\right)^{2} + \\left(x - y\\right)^{2} + \\left(y - z\\right)^{2}=\\left(- 2 x + y + z\\right)^{2} + \\left(x - 2 y + z\\right)^{2} + \\left(x + y - 2 z\\right)^{2}$"
      ],
      "text/plain": [
       "(-x + z)**2 + (x - y)**2 + (y - z)**2=(-2*x + y + z)**2 + (x - 2*y + z)**2 + (x + y - 2*z)**2"
      ]
     },
     "execution_count": 9,
     "metadata": {},
     "output_type": "execute_result"
    }
   ],
   "source": [
    "x,y,z,w =symbols('x y z w')\n",
    "e1=kpow(x-y,2)+kpow(y-z,2)+kpow(z-x,2);show_exp(['we make e1=',e1])\n",
    "e2=kpow(x+y-2*z,2)+kpow(y+z-2*x,2)+kpow(z+x-2*y,2);show_exp(['we make e2=',e2])\n",
    "# a,b,c=x-y,y-z,z-x\n",
    "show_exp([' also..make a=',x-y,',b=',y-z,',c=',z-a])\n",
    "Eq1=polyclass(e1,e2);Eq1.Q"
   ]
  },
  {
   "cell_type": "code",
   "execution_count": 10,
   "id": "f52bb271-e5a4-46ff-b4a2-603e41dee035",
   "metadata": {},
   "outputs": [
    {
     "data": {
      "text/latex": [
       "$\\displaystyle if\\;follow\\;our\\;new\\;def..\\;then\\;(a-b)=\\;\\left(x + y - 2 z\\right)^{2}\\;,(b-c)=\\;\\left(- 2 x + y + z\\right)^{2}\\;and\\;(c-a)=\\;\\left(x - 2 y + z\\right)^{2}\\;$"
      ],
      "text/plain": [
       "<IPython.core.display.Math object>"
      ]
     },
     "metadata": {},
     "output_type": "display_data"
    }
   ],
   "source": [
    "show_exp(['if follow our new def.. then  (a-b)=',kpow(x+y-2*z,2),',(b-c)=',kpow(y+z-2*x,2),'and (c-a)=',kpow(z+x-2*y,2)])"
   ]
  },
  {
   "cell_type": "markdown",
   "id": "7f50f71c-2e54-49e7-b122-da5e4ec69ae5",
   "metadata": {},
   "source": [
    " <img src=\"images/p16b.png\" alt=\"ml\" style=\"width : 100%;\"/>"
   ]
  },
  {
   "cell_type": "code",
   "execution_count": 11,
   "id": "80e33462-e42f-49a0-947c-496b73e3250c",
   "metadata": {},
   "outputs": [
    {
     "data": {
      "text/latex": [
       "$\\displaystyle whit\\;all\\;this\\;redefine\\;Eq1\\;again\\;$"
      ],
      "text/plain": [
       "<IPython.core.display.Math object>"
      ]
     },
     "metadata": {},
     "output_type": "display_data"
    },
    {
     "data": {
      "image/png": "[encoded data removed]",
      "text/latex": [
       "$\\displaystyle a^{2} + b^{2} + c^{2}=\\left(- a + c\\right)^{2} + \\left(a - b\\right)^{2} + \\left(b - c\\right)^{2}$"
      ],
      "text/plain": [
       "a**2 + b**2 + c**2=(-a + c)**2 + (a - b)**2 + (b - c)**2"
      ]
     },
     "execution_count": 11,
     "metadata": {},
     "output_type": "execute_result"
    }
   ],
   "source": [
    "show_exp(['whit all this redefine Eq1 again'])\n",
    "Eq2=polyclass(a*a+b*b+c*c,kpow(a-b,2)+kpow(b-c,2)+kpow(c-a,2));Eq2.Q"
   ]
  },
  {
   "cell_type": "code",
   "execution_count": 12,
   "id": "2471c872-13d9-4db8-af10-fa24381c9afa",
   "metadata": {},
   "outputs": [
    {
     "data": {
      "image/png": "[encoded data removed]",
      "text/latex": [
       "$\\displaystyle a^{2} + b^{2} + c^{2}=2 a^{2} - 2 a b - 2 a c + 2 b^{2} - 2 b c + 2 c^{2}$"
      ],
      "text/plain": [
       "a**2 + b**2 + c**2=2*a**2 - 2*a*b - 2*a*c + 2*b**2 - 2*b*c + 2*c**2"
      ]
     },
     "execution_count": 12,
     "metadata": {},
     "output_type": "execute_result"
    }
   ],
   "source": [
    "Eq2.opemat('e',1) #  expanddddddddddddd.,and update"
   ]
  },
  {
   "cell_type": "code",
   "execution_count": 13,
   "id": "f7a91943-18cc-41d0-9d4f-c04c868c5bcc",
   "metadata": {},
   "outputs": [
    {
     "data": {
      "image/png": "[encoded data removed]",
      "text/latex": [
       "$\\displaystyle 2 a b + 2 a c + 2 b c=a^{2} + b^{2} + c^{2}$"
      ],
      "text/plain": [
       "2*a*b + 2*a*c + 2*b*c=a**2 + b**2 + c**2"
      ]
     },
     "execution_count": 13,
     "metadata": {},
     "output_type": "execute_result"
    }
   ],
   "source": [
    "Eq2.ope4('S',-a*a-b*b-c*c+2*a*b+2*b*c+2*c*a)"
   ]
  },
  {
   "cell_type": "code",
   "execution_count": 14,
   "id": "6835179d-48b8-4b6e-942e-f90eb5af71c2",
   "metadata": {},
   "outputs": [
    {
     "data": {
      "image/png": "[encoded data removed]",
      "text/latex": [
       "$\\displaystyle 0=a^{2} - 2 a b - 2 a c + b^{2} - 2 b c + c^{2}$"
      ],
      "text/plain": [
       "0=a**2 - 2*a*b - 2*a*c + b**2 - 2*b*c + c**2"
      ]
     },
     "execution_count": 14,
     "metadata": {},
     "output_type": "execute_result"
    }
   ],
   "source": [
    "Eq2.ope4('S',-Eq2.q1,1)"
   ]
  },
  {
   "cell_type": "code",
   "execution_count": 15,
   "id": "c7582fc8-3efa-470a-9721-8a1ef6bd84ef",
   "metadata": {},
   "outputs": [
    {
     "data": {
      "text/latex": [
       "$\\displaystyle upper\\;cell\\;we\\;make\\;a=x-y\\;,\\;b=y-z\\;and\\;c=\\;z-a\\;then\\;a+b+c\\;=\\;0\\;$"
      ],
      "text/plain": [
       "<IPython.core.display.Math object>"
      ]
     },
     "metadata": {},
     "output_type": "display_data"
    }
   ],
   "source": [
    "sE(['upper cell we make a=x-y , b=y-z and c= z-a','then  a+b+c = 0'])"
   ]
  },
  {
   "cell_type": "code",
   "execution_count": 16,
   "id": "3a747a6c-1ea3-4e01-ad49-cd20a8166e8d",
   "metadata": {},
   "outputs": [
    {
     "data": {
      "text/latex": [
       "$\\displaystyle if\\;a+b+c\\;=0,then\\;a^{2} + b^{2} + c^{2}\\;=\\;- 2 a b - 2 a c - 2 b c\\;$"
      ],
      "text/plain": [
       "<IPython.core.display.Math object>"
      ]
     },
     "metadata": {},
     "output_type": "display_data"
    },
    {
     "data": {
      "text/latex": [
       "$\\displaystyle NOTE\\;1:\\;a^{2} + b^{2} + c^{2}\\;=\\;- 2 a b - 2 a c - 2 b c\\;$"
      ],
      "text/plain": [
       "<IPython.core.display.Math object>"
      ]
     },
     "metadata": {},
     "output_type": "display_data"
    }
   ],
   "source": [
    "sE(['if a+b+c =0,then ',a*a+b*b+c*c,'=',-2*a*b-2*c*b-2*c*a])\n",
    "sE(['NOTE 1:',a*a+b*b+c*c,'=',-2*a*b-2*c*b-2*c*a])"
   ]
  },
  {
   "cell_type": "code",
   "execution_count": 17,
   "id": "8d218768-706e-49e4-b802-acec25647bd9",
   "metadata": {},
   "outputs": [
    {
     "data": {
      "text/latex": [
       "$\\displaystyle remeber\\;Eq2\\;?\\;0=a^{2} - 2 a b - 2 a c + b^{2} - 2 b c + c^{2}\\;$"
      ],
      "text/plain": [
       "<IPython.core.display.Math object>"
      ]
     },
     "metadata": {},
     "output_type": "display_data"
    }
   ],
   "source": [
    "sE(['remeber Eq2  ? ',Eq2.Q])"
   ]
  },
  {
   "cell_type": "code",
   "execution_count": 18,
   "id": "444e5f10-30b4-4276-b812-cd34d7b24035",
   "metadata": {},
   "outputs": [
    {
     "data": {
      "image/png": "[encoded data removed]",
      "text/latex": [
       "$\\displaystyle 0=- 4 a b - 4 a c - 4 b c$"
      ],
      "text/plain": [
       "0=-4*a*b - 4*a*c - 4*b*c"
      ]
     },
     "execution_count": 18,
     "metadata": {},
     "output_type": "execute_result"
    }
   ],
   "source": [
    "Eq2.subs(a*a+b*b+c*c,-2*a*b-2*c*b-2*c*a,1)"
   ]
  },
  {
   "cell_type": "code",
   "execution_count": 19,
   "id": "e9b7a292-091e-4382-ae12-543361d0a514",
   "metadata": {},
   "outputs": [
    {
     "data": {
      "image/png": "[encoded data removed]",
      "text/latex": [
       "$\\displaystyle 0=a b + a c + b c$"
      ],
      "text/plain": [
       "0=a*b + a*c + b*c"
      ]
     },
     "execution_count": 19,
     "metadata": {},
     "output_type": "execute_result"
    }
   ],
   "source": [
    "Eq2.ope4('D',-4,1,'s')"
   ]
  },
  {
   "cell_type": "code",
   "execution_count": 20,
   "id": "9121a559-11f6-4a29-84c2-51982b99f4bc",
   "metadata": {},
   "outputs": [
    {
     "data": {
      "text/latex": [
       "$\\displaystyle NOTE\\;2:\\;a b + a c + b c=0\\;$"
      ],
      "text/plain": [
       "<IPython.core.display.Math object>"
      ]
     },
     "metadata": {},
     "output_type": "display_data"
    }
   ],
   "source": [
    "sE(['NOTE 2:',Eq2.swap()]) # swap()= term left 2 right and right 2 left...."
   ]
  },
  {
   "cell_type": "code",
   "execution_count": 21,
   "id": "94ad2420-8510-4e03-b400-f574f8c85b0b",
   "metadata": {},
   "outputs": [
    {
     "data": {
      "image/png": "[encoded data removed]",
      "text/latex": [
       "$\\displaystyle \\left(- x + z\\right) \\left(x - y\\right) + \\left(- x + z\\right) \\left(y - z\\right) + \\left(x - y\\right) \\left(y - z\\right)=0$"
      ],
      "text/plain": [
       "(-x + z)*(x - y) + (-x + z)*(y - z) + (x - y)*(y - z)=0"
      ]
     },
     "execution_count": 21,
     "metadata": {},
     "output_type": "execute_result"
    }
   ],
   "source": [
    "Eq2.subsubs([a,b,c],[x-y,y-z,z-x],1)"
   ]
  },
  {
   "cell_type": "code",
   "execution_count": 22,
   "id": "0c263b0b-fb81-43fb-90a8-d91e9e296a09",
   "metadata": {},
   "outputs": [
    {
     "data": {
      "image/png": "[encoded data removed]",
      "text/latex": [
       "$\\displaystyle - x^{2} + x y + x z - y^{2} + y z - z^{2}=0$"
      ],
      "text/plain": [
       "-x**2 + x*y + x*z - y**2 + y*z - z**2=0"
      ]
     },
     "execution_count": 22,
     "metadata": {},
     "output_type": "execute_result"
    }
   ],
   "source": [
    "Eq2.opemat('es',1)"
   ]
  },
  {
   "cell_type": "code",
   "execution_count": 23,
   "id": "55c79532-ab89-4607-9b1a-46f6185dac2b",
   "metadata": {},
   "outputs": [
    {
     "data": {
      "image/png": "[encoded data removed]",
      "text/latex": [
       "$\\displaystyle x y + x z + y z=x^{2} + y^{2} + z^{2}$"
      ],
      "text/plain": [
       "x*y + x*z + y*z=x**2 + y**2 + z**2"
      ]
     },
     "execution_count": 23,
     "metadata": {},
     "output_type": "execute_result"
    }
   ],
   "source": [
    "Eq2.ope4('S',+x*x+y*y+z*z,1)"
   ]
  },
  {
   "cell_type": "code",
   "execution_count": 24,
   "id": "745fd6e4-4de6-4acb-815c-06818e25399c",
   "metadata": {},
   "outputs": [
    {
     "data": {
      "text/latex": [
       "$\\displaystyle corolario...:if\\;x y + x z + y z=x^{2} + y^{2} + z^{2}\\;then\\;x=y=z\\;$"
      ],
      "text/plain": [
       "<IPython.core.display.Math object>"
      ]
     },
     "metadata": {},
     "output_type": "display_data"
    }
   ],
   "source": [
    "sE([' corolario...:if ',Eq2.Q,'then x=y=z'])"
   ]
  },
  {
   "cell_type": "markdown",
   "id": "88afaa91-08c7-4639-9c49-f2948700fe61",
   "metadata": {},
   "source": [
    " <img src=\"images/p16a.png\" alt=\"ml\" style=\"width : 100%;\"/>"
   ]
  },
  {
   "cell_type": "code",
   "execution_count": 25,
   "id": "fa6c8ef1-80b4-4204-aa34-88ddea09f23f",
   "metadata": {},
   "outputs": [
    {
     "data": {
      "text/latex": [
       "$\\displaystyle e3=\\;x^{11} + 11 x^{3} y^{3} z^{3} \\left(x y + x z + y z\\right) + y^{11} + z^{11}\\;$"
      ],
      "text/plain": [
       "<IPython.core.display.Math object>"
      ]
     },
     "metadata": {},
     "output_type": "display_data"
    }
   ],
   "source": [
    "e3=kpow(x,11)+kpow(y,11)+kpow(z,11)+11*kpow(x,3)*kpow(y,3)*kpow(z,3)*(x*y+y*z+z*x)\n",
    "sE(['e3=',e3])"
   ]
  },
  {
   "cell_type": "code",
   "execution_count": 26,
   "id": "c24efe49-590b-43e8-b92a-ba79c7ebdabf",
   "metadata": {},
   "outputs": [
    {
     "data": {
      "text/latex": [
       "$\\displaystyle e4=\\;x y z \\left(x^{4} + y^{4} + z^{4}\\right)^{2}\\;$"
      ],
      "text/plain": [
       "<IPython.core.display.Math object>"
      ]
     },
     "metadata": {},
     "output_type": "display_data"
    }
   ],
   "source": [
    "e4=x*y*z*(kpow(x,4)+kpow(y,4)+kpow(z,4))**2;sE(['e4=',e4])"
   ]
  },
  {
   "cell_type": "code",
   "execution_count": 27,
   "id": "f54cd79a-75c6-4718-b66a-6075f2113003",
   "metadata": {},
   "outputs": [
    {
     "data": {
      "image/png": "[encoded data removed]",
      "text/latex": [
       "$\\displaystyle M=\\frac{x^{11} + 11 x^{3} y^{3} z^{3} \\left(x y + x z + y z\\right) + y^{11} + z^{11}}{x y z \\left(x^{4} + y^{4} + z^{4}\\right)^{2}}$"
      ],
      "text/plain": [
       "M=(x**11 + 11*x**3*y**3*z**3*(x*y + x*z + y*z) + y**11 + z**11)/(x*y*z*(x**4 + y**4 + z**4)**2)"
      ]
     },
     "execution_count": 27,
     "metadata": {},
     "output_type": "execute_result"
    }
   ],
   "source": [
    "M=symbols('M')\n",
    "Pm=polyclass(M,e3/e4);Pm.Q"
   ]
  },
  {
   "cell_type": "code",
   "execution_count": 28,
   "id": "7f148ea1-9a73-4067-9796-bc665abad384",
   "metadata": {},
   "outputs": [
    {
     "data": {
      "image/png": "[encoded data removed]",
      "text/latex": [
       "$\\displaystyle M=4$"
      ],
      "text/plain": [
       "M=4"
      ]
     },
     "execution_count": 28,
     "metadata": {},
     "output_type": "execute_result"
    }
   ],
   "source": [
    "Pm.subsubs([y,z],[x,x],1)"
   ]
  },
  {
   "cell_type": "code",
   "execution_count": 29,
   "id": "7d3b05dc-6278-4c9a-8e74-609e1c448f2a",
   "metadata": {},
   "outputs": [
    {
     "data": {
      "text/latex": [
       "$\\displaystyle Este\\;problema\\;fue\\;tremenndooo\\;Pichuloon,....!!!\\;$"
      ],
      "text/plain": [
       "<IPython.core.display.Math object>"
      ]
     },
     "metadata": {},
     "output_type": "display_data"
    },
    {
     "data": {
      "text/latex": [
       "$\\displaystyle translate:\\;This\\;example\\;was\\;little\\;long...\\;je\\;je\\;$"
      ],
      "text/plain": [
       "<IPython.core.display.Math object>"
      ]
     },
     "metadata": {},
     "output_type": "display_data"
    }
   ],
   "source": [
    "sE(['Este problema fue tremenndooo Pichuloon,....!!!'])\n",
    "sE(['translate: This example was little long...  je je'])"
   ]
  },
  {
   "cell_type": "code",
   "execution_count": 30,
   "id": "3f21b03e-8e9a-4b8b-aa16-8601f268f4e6",
   "metadata": {},
   "outputs": [
    {
     "data": {
      "text/latex": [
       "$\\displaystyle Ok\\;3\\;am\\;here\\;in\\;Lima\\;..\\;I\\;need\\;sleep..\\;continue\\;tommorrow,\\;if\\;are\\;you\\;here\\;yet\\;see\\;image\\;directory\\;to\\;see\\;what\\;goes\\;on..\\;Tu.May...\\;$"
      ],
      "text/plain": [
       "<IPython.core.display.Math object>"
      ]
     },
     "metadata": {},
     "output_type": "display_data"
    }
   ],
   "source": [
    "sE([' Ok 3 am here in Lima .. I need sleep.. continue tommorrow, if are you here yet see image directory to see what goes on.. Tu.May...'])"
   ]
  },
  {
   "cell_type": "code",
   "execution_count": null,
   "id": "2a492806-5677-4c3a-8490-2b8a46d7c902",
   "metadata": {},
   "outputs": [],
   "source": []
  }
 ],
 "metadata": {
  "kernelspec": {
   "display_name": "Python 3",
   "language": "python",
   "name": "python3"
  },
  "language_info": {
   "codemirror_mode": {
    "name": "ipython",
    "version": 3
   },
   "file_extension": ".py",
   "mimetype": "text/x-python",
   "name": "python",
   "nbconvert_exporter": "python",
   "pygments_lexer": "ipython3",
   "version": "3.6.6"
  }
 },
 "nbformat": 4,
 "nbformat_minor": 5
}
