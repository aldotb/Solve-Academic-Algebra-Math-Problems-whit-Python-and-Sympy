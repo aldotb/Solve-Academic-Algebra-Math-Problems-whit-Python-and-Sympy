{
 "cells": [
  {
   "cell_type": "code",
   "execution_count": 1,
   "id": "aa37e5c4-422d-46b1-862e-66288f3369c4",
   "metadata": {},
   "outputs": [],
   "source": [
    "from sympy import *   \n",
    "from libaldo_polyclass  import *\n",
    "from libaldo_lib import *\n",
    "from libaldo__util import *\n",
    "import lib_algebraEq as ae\n",
    "init_printing()"
   ]
  },
  {
   "cell_type": "markdown",
   "id": "77c04307-023f-4267-adaa-52b8e195064c",
   "metadata": {},
   "source": [
    " <img src=\"images/linep.png\" alt=\"ml\" style=\"width : 100%;\"/>"
   ]
  },
  {
   "cell_type": "markdown",
   "id": "93fd2000-eefc-4131-a67a-a76d6dc5f19f",
   "metadata": {},
   "source": [
    " <img src=\"images/p24.png\" alt=\"ml\" style=\"width : 100%;\"/>"
   ]
  },
  {
   "cell_type": "markdown",
   "id": "f5fe8d9e-e26b-45c9-8d0f-fa368c856457",
   "metadata": {},
   "source": [
    " <img src=\"images/lines.png\" alt=\"ml\" style=\"width : 100%;\"/>"
   ]
  },
  {
   "cell_type": "code",
   "execution_count": 2,
   "id": "365fa487-deb8-4399-8a25-f49b1cf9aeee",
   "metadata": {},
   "outputs": [],
   "source": [
    "x,y,z=symbols('x y z')"
   ]
  },
  {
   "cell_type": "code",
   "execution_count": 3,
   "id": "5e588408-2aa0-41b8-ad0c-2c4a7df68a6f",
   "metadata": {},
   "outputs": [],
   "source": [
    "ee=polyclass(x*y+y*z+z*x,x*y*z)\n",
    "e0=polyclass(x+y+z,1)\n",
    "e1=polyclass(x+y+z,1)"
   ]
  },
  {
   "cell_type": "code",
   "execution_count": 4,
   "id": "f57b9fdf-df49-4022-9d4b-5cef6d4bc3c6",
   "metadata": {},
   "outputs": [
    {
     "data": {
      "text/latex": [
       "$\\displaystyle Eq(ee)\\;:\\;x y + x z + y z=x y z\\;$"
      ],
      "text/plain": [
       "<IPython.core.display.Math object>"
      ]
     },
     "metadata": {},
     "output_type": "display_data"
    },
    {
     "data": {
      "text/latex": [
       "$\\displaystyle Eq(e0)\\;:\\;x + y + z=1\\;$"
      ],
      "text/plain": [
       "<IPython.core.display.Math object>"
      ]
     },
     "metadata": {},
     "output_type": "display_data"
    },
    {
     "data": {
      "text/latex": [
       "$\\displaystyle Eq(e1)\\;:\\;x + y + z=1\\;$"
      ],
      "text/plain": [
       "<IPython.core.display.Math object>"
      ]
     },
     "metadata": {},
     "output_type": "display_data"
    }
   ],
   "source": [
    "sE(['Eq(ee) :',ee.Q])\n",
    "sE(['Eq(e0) :',e0.Q])\n",
    "sE(['Eq(e1) :',e1.Q])"
   ]
  },
  {
   "cell_type": "code",
   "execution_count": 5,
   "id": "315303d1-3141-4a62-991e-bd0b8178dbf1",
   "metadata": {},
   "outputs": [
    {
     "data": {
      "image/png": "[encoded data removed]",
      "text/latex": [
       "$\\displaystyle x^{2} + 2 x y + 2 x z + y^{2} + 2 y z + z^{2}=1$"
      ],
      "text/plain": [
       "x**2 + 2*x*y + 2*x*z + y**2 + 2*y*z + z**2=1"
      ]
     },
     "execution_count": 5,
     "metadata": {},
     "output_type": "execute_result"
    }
   ],
   "source": [
    "e1.ope4('P',2,1,'e') # Pow e1 to 2"
   ]
  },
  {
   "cell_type": "code",
   "execution_count": 6,
   "id": "1c21c20c-64d8-4d66-8d46-4fa1048bd453",
   "metadata": {},
   "outputs": [
    {
     "data": {
      "image/png": "[encoded data removed]",
      "text/latex": [
       "$\\displaystyle x^{2} + y^{2} + z^{2} + 2 \\left(x y + x z + y z\\right)=1$"
      ],
      "text/plain": [
       "x**2 + y**2 + z**2 + 2*(x*y + x*z + y*z)=1"
      ]
     },
     "execution_count": 6,
     "metadata": {},
     "output_type": "execute_result"
    }
   ],
   "source": [
    "e1.make_grp(2,1) # make_grp factorize only number 2"
   ]
  },
  {
   "cell_type": "code",
   "execution_count": 7,
   "id": "bd2a6123-feda-480b-98ce-01772b1e5571",
   "metadata": {},
   "outputs": [
    {
     "data": {
      "image/png": "[encoded data removed]",
      "text/latex": [
       "$\\displaystyle x^{2} + 2 x y z + y^{2} + z^{2}=1$"
      ],
      "text/plain": [
       "x**2 + 2*x*y*z + y**2 + z**2=1"
      ]
     },
     "execution_count": 7,
     "metadata": {},
     "output_type": "execute_result"
    }
   ],
   "source": [
    "e1.subs(part(e1.Q,[0,3,1]),x*y*z,1)"
   ]
  },
  {
   "cell_type": "code",
   "execution_count": 8,
   "id": "1ae15f0c-bd86-4e6f-b3b1-32266175f273",
   "metadata": {},
   "outputs": [
    {
     "data": {
      "image/png": "[encoded data removed]",
      "text/latex": [
       "$\\displaystyle x^{2} + y^{2} + z^{2}=- 2 x y z + 1$"
      ],
      "text/plain": [
       "x**2 + y**2 + z**2=-2*x*y*z + 1"
      ]
     },
     "execution_count": 8,
     "metadata": {},
     "output_type": "execute_result"
    }
   ],
   "source": [
    "e1.ope4('S',-2*x*y*z,1)"
   ]
  },
  {
   "cell_type": "code",
   "execution_count": 9,
   "id": "a14a40b6-e15e-4264-b11a-12b27642eb0d",
   "metadata": {},
   "outputs": [
    {
     "data": {
      "text/latex": [
       "$\\displaystyle Note\\;1\\;Eq(ee):\\;x y + x z + y z=x y z\\;$"
      ],
      "text/plain": [
       "<IPython.core.display.Math object>"
      ]
     },
     "metadata": {},
     "output_type": "display_data"
    },
    {
     "data": {
      "text/latex": [
       "$\\displaystyle Note\\;2\\;Eq(e0)\\;:\\;x + y + z=1\\;$"
      ],
      "text/plain": [
       "<IPython.core.display.Math object>"
      ]
     },
     "metadata": {},
     "output_type": "display_data"
    },
    {
     "data": {
      "text/latex": [
       "$\\displaystyle Note\\;3\\;Eq(e1):\\;x^{2} + y^{2} + z^{2}=- 2 x y z + 1\\;$"
      ],
      "text/plain": [
       "<IPython.core.display.Math object>"
      ]
     },
     "metadata": {},
     "output_type": "display_data"
    }
   ],
   "source": [
    "sE(['Note 1 Eq(ee):',ee.Q])\n",
    "sE(['Note 2 Eq(e0) :',e0.Q])\n",
    "sE(['Note 3 Eq(e1):',e1.Q])"
   ]
  },
  {
   "cell_type": "code",
   "execution_count": 10,
   "id": "3c2d79d7-ac69-4954-b9ca-84180bb0eb31",
   "metadata": {},
   "outputs": [
    {
     "data": {
      "image/png": "[encoded data removed]",
      "text/latex": [
       "$\\displaystyle x + y + z=1$"
      ],
      "text/plain": [
       "x + y + z=1"
      ]
     },
     "execution_count": 10,
     "metadata": {},
     "output_type": "execute_result"
    }
   ],
   "source": [
    "e2=polyclass(x+y+z,1);e2.Q"
   ]
  },
  {
   "cell_type": "code",
   "execution_count": 11,
   "id": "e2291109-7b9b-4844-902f-fa2c2b2fed2c",
   "metadata": {},
   "outputs": [
    {
     "data": {
      "image/png": "[encoded data removed]",
      "text/latex": [
       "$\\displaystyle x^{3} + 3 x^{2} y + 3 x^{2} z + 3 x y^{2} + 6 x y z + 3 x z^{2} + y^{3} + 3 y^{2} z + 3 y z^{2} + z^{3}=1$"
      ],
      "text/plain": [
       "x**3 + 3*x**2*y + 3*x**2*z + 3*x*y**2 + 6*x*y*z + 3*x*z**2 + y**3 + 3*y**2*z + 3*y*z**2 + z**3=1"
      ]
     },
     "execution_count": 11,
     "metadata": {},
     "output_type": "execute_result"
    }
   ],
   "source": [
    "e2.ope4('P',3,1,'e')"
   ]
  },
  {
   "cell_type": "code",
   "execution_count": 12,
   "id": "1dbc6c5c-3613-46db-b542-d3db616c7859",
   "metadata": {},
   "outputs": [
    {
     "data": {
      "image/png": "[encoded data removed]",
      "text/latex": [
       "$\\displaystyle x^{3} + 3 x^{2} y + 3 x^{2} z + 3 x y^{2} + 3 x z^{2} + y^{3} + 3 y^{2} z + 3 y z^{2} + z^{3}=- 6 x y z + 1$"
      ],
      "text/plain": [
       "x**3 + 3*x**2*y + 3*x**2*z + 3*x*y**2 + 3*x*z**2 + y**3 + 3*y**2*z + 3*y*z**2 + z**3=-6*x*y*z + 1"
      ]
     },
     "execution_count": 12,
     "metadata": {},
     "output_type": "execute_result"
    }
   ],
   "source": [
    "e2.ope4('S',-6*x*y*z,1)"
   ]
  },
  {
   "cell_type": "code",
   "execution_count": 13,
   "id": "19dba0da-fc8a-4781-ab61-3240c70fe60c",
   "metadata": {},
   "outputs": [
    {
     "data": {
      "image/png": "[encoded data removed]",
      "text/latex": [
       "$\\displaystyle x^{3} + y^{3} + z^{3} + 3 \\left(x^{2} y + x^{2} z + x y^{2} + x z^{2} + y^{2} z + y z^{2}\\right)=- 6 x y z + 1$"
      ],
      "text/plain": [
       "x**3 + y**3 + z**3 + 3*(x**2*y + x**2*z + x*y**2 + x*z**2 + y**2*z + y*z**2)=-6*x*y*z + 1"
      ]
     },
     "execution_count": 13,
     "metadata": {},
     "output_type": "execute_result"
    }
   ],
   "source": [
    "e2.make_grp(3,1)"
   ]
  },
  {
   "cell_type": "code",
   "execution_count": 14,
   "id": "572996bf-4a3f-412d-a3f0-be04dca9a03a",
   "metadata": {},
   "outputs": [
    {
     "data": {
      "image/png": "[encoded data removed]",
      "text/latex": [
       "$\\displaystyle x^{2} y + x^{2} z + x y^{2} + x z^{2} + y^{2} z + y z^{2}$"
      ],
      "text/plain": [
       " 2      2        2      2    2        2\n",
       "x ⋅y + x ⋅z + x⋅y  + x⋅z  + y ⋅z + y⋅z "
      ]
     },
     "execution_count": 14,
     "metadata": {},
     "output_type": "execute_result"
    }
   ],
   "source": [
    "w2=part(e2.Q,[0,3,1]);w2"
   ]
  },
  {
   "cell_type": "code",
   "execution_count": 15,
   "id": "ba47753a-1232-4b52-afea-3cf3e5a37c60",
   "metadata": {},
   "outputs": [
    {
     "data": {
      "image/png": "[encoded data removed]",
      "text/latex": [
       "$\\displaystyle x^{2} \\left(y + z\\right) + y^{2} \\left(x + z\\right) + z^{2} \\left(x + y\\right)$"
      ],
      "text/plain": [
       " 2            2            2        \n",
       "x ⋅(y + z) + y ⋅(x + z) + z ⋅(x + y)"
      ]
     },
     "execution_count": 15,
     "metadata": {},
     "output_type": "execute_result"
    }
   ],
   "source": [
    "w3=make_grp(make_grp(make_grp(w2,x*x),y*y),z*z);w3"
   ]
  },
  {
   "cell_type": "code",
   "execution_count": 16,
   "id": "65613281-14fc-4469-b122-c769627cd0a8",
   "metadata": {},
   "outputs": [
    {
     "data": {
      "image/png": "[encoded data removed]",
      "text/latex": [
       "$\\displaystyle x^{2} \\left(1 - x\\right) + y^{2} \\left(1 - y\\right) + z^{2} \\left(1 - z\\right)$"
      ],
      "text/plain": [
       " 2            2            2        \n",
       "x ⋅(1 - x) + y ⋅(1 - y) + z ⋅(1 - z)"
      ]
     },
     "execution_count": 16,
     "metadata": {},
     "output_type": "execute_result"
    }
   ],
   "source": [
    "w4=w3.subs({y+z:1-x,x+z:1-y,x+y:1-z});w4"
   ]
  },
  {
   "cell_type": "code",
   "execution_count": 17,
   "id": "7263c39d-234d-47fc-a21f-2e93b769b93c",
   "metadata": {},
   "outputs": [
    {
     "data": {
      "image/png": "[encoded data removed]",
      "text/latex": [
       "$\\displaystyle - x^{3} + x^{2} - y^{3} + y^{2} - z^{3} + z^{2}$"
      ],
      "text/plain": [
       "   3    2    3    2    3    2\n",
       "- x  + x  - y  + y  - z  + z "
      ]
     },
     "execution_count": 17,
     "metadata": {},
     "output_type": "execute_result"
    }
   ],
   "source": [
    "w4=expand(w4);w4"
   ]
  },
  {
   "cell_type": "code",
   "execution_count": 18,
   "id": "703f1d4d-b3e3-48c8-ad85-a8bf6faa358c",
   "metadata": {},
   "outputs": [
    {
     "data": {
      "image/png": "[encoded data removed]",
      "text/latex": [
       "$\\displaystyle - x^{3} - 2 x y z - y^{3} - z^{3} + 1$"
      ],
      "text/plain": [
       "   3              3    3    \n",
       "- x  - 2⋅x⋅y⋅z - y  - z  + 1"
      ]
     },
     "execution_count": 18,
     "metadata": {},
     "output_type": "execute_result"
    }
   ],
   "source": [
    "w4=w4.subs(x*x+y*y+z*z,1-2*x*y*z);w4"
   ]
  },
  {
   "cell_type": "code",
   "execution_count": 19,
   "id": "6f482df9-7bb8-49a1-9209-fec434b1325b",
   "metadata": {},
   "outputs": [
    {
     "data": {
      "image/png": "[encoded data removed]",
      "text/latex": [
       "$\\displaystyle x^{3} + y^{3} + z^{3} + 3 \\left(x^{2} y + x^{2} z + x y^{2} + x z^{2} + y^{2} z + y z^{2}\\right)=- 6 x y z + 1$"
      ],
      "text/plain": [
       "x**3 + y**3 + z**3 + 3*(x**2*y + x**2*z + x*y**2 + x*z**2 + y**2*z + y*z**2)=-6*x*y*z + 1"
      ]
     },
     "execution_count": 19,
     "metadata": {},
     "output_type": "execute_result"
    }
   ],
   "source": [
    "e2.Q"
   ]
  },
  {
   "cell_type": "code",
   "execution_count": 20,
   "id": "021d130b-6619-488c-b6e2-f98e0977ba24",
   "metadata": {},
   "outputs": [
    {
     "data": {
      "image/png": "[encoded data removed]",
      "text/latex": [
       "$\\displaystyle x^{2} y + x^{2} z + x y^{2} + x z^{2} + y^{2} z + y z^{2}$"
      ],
      "text/plain": [
       " 2      2        2      2    2        2\n",
       "x ⋅y + x ⋅z + x⋅y  + x⋅z  + y ⋅z + y⋅z "
      ]
     },
     "execution_count": 20,
     "metadata": {},
     "output_type": "execute_result"
    }
   ],
   "source": [
    "w2"
   ]
  },
  {
   "cell_type": "code",
   "execution_count": 21,
   "id": "a2674f14-f5a7-4b1f-93ed-758c1df4eedc",
   "metadata": {},
   "outputs": [
    {
     "data": {
      "image/png": "[encoded data removed]",
      "text/latex": [
       "$\\displaystyle - x^{3} - 2 x y z - y^{3} - z^{3} + 1$"
      ],
      "text/plain": [
       "   3              3    3    \n",
       "- x  - 2⋅x⋅y⋅z - y  - z  + 1"
      ]
     },
     "execution_count": 21,
     "metadata": {},
     "output_type": "execute_result"
    }
   ],
   "source": [
    "w4"
   ]
  },
  {
   "cell_type": "code",
   "execution_count": 22,
   "id": "2aa51df9-c9d4-488c-9d46-b63d7ebefd23",
   "metadata": {},
   "outputs": [
    {
     "data": {
      "image/png": "[encoded data removed]",
      "text/latex": [
       "$\\displaystyle - 2 x^{3} - 6 x y z - 2 y^{3} - 2 z^{3} + 3=- 6 x y z + 1$"
      ],
      "text/plain": [
       "-2*x**3 - 6*x*y*z - 2*y**3 - 2*z**3 + 3=-6*x*y*z + 1"
      ]
     },
     "execution_count": 22,
     "metadata": {},
     "output_type": "execute_result"
    }
   ],
   "source": [
    "e2.subs(w2,w4,1)"
   ]
  },
  {
   "cell_type": "code",
   "execution_count": 23,
   "id": "4494c69d-8c7c-4116-a779-3af413ada6a8",
   "metadata": {},
   "outputs": [
    {
     "data": {
      "image/png": "[encoded data removed]",
      "text/latex": [
       "$\\displaystyle - 2 x^{3} - 2 y^{3} - 2 z^{3}=-2$"
      ],
      "text/plain": [
       "-2*x**3 - 2*y**3 - 2*z**3=-2"
      ]
     },
     "execution_count": 23,
     "metadata": {},
     "output_type": "execute_result"
    }
   ],
   "source": [
    "e2.ope4('S',6*x*y*z-3,1)"
   ]
  },
  {
   "cell_type": "code",
   "execution_count": 24,
   "id": "719b0cad-af5d-48d0-94c6-8b15ec991be4",
   "metadata": {},
   "outputs": [
    {
     "data": {
      "image/png": "[encoded data removed]",
      "text/latex": [
       "$\\displaystyle x^{3} + y^{3} + z^{3}=1$"
      ],
      "text/plain": [
       "x**3 + y**3 + z**3=1"
      ]
     },
     "execution_count": 24,
     "metadata": {},
     "output_type": "execute_result"
    }
   ],
   "source": [
    "e2.ope4('D',-2,1)"
   ]
  },
  {
   "cell_type": "code",
   "execution_count": 25,
   "id": "8f08ab1d-87ce-4e01-94ec-f42fc0b1c3a1",
   "metadata": {},
   "outputs": [
    {
     "data": {
      "text/latex": [
       "$\\displaystyle Note\\;1\\;Eq(ee):\\;x y + x z + y z=x y z\\;$"
      ],
      "text/plain": [
       "<IPython.core.display.Math object>"
      ]
     },
     "metadata": {},
     "output_type": "display_data"
    },
    {
     "data": {
      "text/latex": [
       "$\\displaystyle Note\\;2\\;Eq(e0)\\;:\\;x + y + z=1\\;$"
      ],
      "text/plain": [
       "<IPython.core.display.Math object>"
      ]
     },
     "metadata": {},
     "output_type": "display_data"
    },
    {
     "data": {
      "text/latex": [
       "$\\displaystyle Note\\;3\\;Eq(e1):\\;x^{2} + y^{2} + z^{2}=- 2 x y z + 1\\;$"
      ],
      "text/plain": [
       "<IPython.core.display.Math object>"
      ]
     },
     "metadata": {},
     "output_type": "display_data"
    },
    {
     "data": {
      "text/latex": [
       "$\\displaystyle Note\\;4\\;Eq(e2):\\;x^{3} + y^{3} + z^{3}=1\\;$"
      ],
      "text/plain": [
       "<IPython.core.display.Math object>"
      ]
     },
     "metadata": {},
     "output_type": "display_data"
    }
   ],
   "source": [
    "sE(['Note 1 Eq(ee):',ee.Q])\n",
    "sE(['Note 2 Eq(e0) :',e0.Q])\n",
    "sE(['Note 3 Eq(e1):',e1.Q])\n",
    "sE(['Note 4 Eq(e2):',e2.Q])"
   ]
  },
  {
   "cell_type": "code",
   "execution_count": 26,
   "id": "7162dd8c-6005-48f5-9f90-5738631412e0",
   "metadata": {},
   "outputs": [
    {
     "data": {
      "image/png": "[encoded data removed]",
      "text/latex": [
       "$\\displaystyle x^{2} + y^{2} + z^{2}=- 2 x y z + 1$"
      ],
      "text/plain": [
       "x**2 + y**2 + z**2=-2*x*y*z + 1"
      ]
     },
     "execution_count": 26,
     "metadata": {},
     "output_type": "execute_result"
    }
   ],
   "source": [
    "e3=polyclass(e1.Q);e3.Q"
   ]
  },
  {
   "cell_type": "code",
   "execution_count": 27,
   "id": "36d299f8-d6d0-4a49-98bf-45cb3f8b07dd",
   "metadata": {},
   "outputs": [
    {
     "data": {
      "image/png": "[encoded data removed]",
      "text/latex": [
       "$\\displaystyle x^{4} + 2 x^{2} y^{2} + 2 x^{2} z^{2} + y^{4} + 2 y^{2} z^{2} + z^{4}=4 x^{2} y^{2} z^{2} - 4 x y z + 1$"
      ],
      "text/plain": [
       "x**4 + 2*x**2*y**2 + 2*x**2*z**2 + y**4 + 2*y**2*z**2 + z**4=4*x**2*y**2*z**2 - 4*x*y*z + 1"
      ]
     },
     "execution_count": 27,
     "metadata": {},
     "output_type": "execute_result"
    }
   ],
   "source": [
    "e3.ope4('P',2,1,'e')"
   ]
  },
  {
   "cell_type": "code",
   "execution_count": 28,
   "id": "73a62ac6-c02d-4a6e-ae36-44102d5762dc",
   "metadata": {},
   "outputs": [
    {
     "data": {
      "image/png": "[encoded data removed]",
      "text/latex": [
       "$\\displaystyle x^{4} + y^{4} + z^{4} + 2 \\left(x^{2} y^{2} + x^{2} z^{2} + y^{2} z^{2}\\right)=4 x y z \\left(x y z - 1\\right) + 1$"
      ],
      "text/plain": [
       "x**4 + y**4 + z**4 + 2*(x**2*y**2 + x**2*z**2 + y**2*z**2)=4*x*y*z*(x*y*z - 1) + 1"
      ]
     },
     "execution_count": 28,
     "metadata": {},
     "output_type": "execute_result"
    }
   ],
   "source": [
    "e3.make_grp(2)"
   ]
  },
  {
   "cell_type": "code",
   "execution_count": 29,
   "id": "b37acba7-7709-4f5c-a333-f5d4a3222049",
   "metadata": {},
   "outputs": [
    {
     "data": {
      "image/png": "[encoded data removed]",
      "text/latex": [
       "$\\displaystyle x y + x z + y z=x y z$"
      ],
      "text/plain": [
       "x*y + x*z + y*z=x*y*z"
      ]
     },
     "execution_count": 29,
     "metadata": {},
     "output_type": "execute_result"
    }
   ],
   "source": [
    "e4=polyclass(ee.q1,ee.q2);e4.Q"
   ]
  },
  {
   "cell_type": "code",
   "execution_count": 30,
   "id": "5ac9f456-61eb-4c64-82f2-0c9c8befe462",
   "metadata": {},
   "outputs": [
    {
     "data": {
      "image/png": "[encoded data removed]",
      "text/latex": [
       "$\\displaystyle x^{2} y^{2} + 2 x^{2} y z + x^{2} z^{2} + 2 x y^{2} z + 2 x y z^{2} + y^{2} z^{2}=x^{2} y^{2} z^{2}$"
      ],
      "text/plain": [
       "x**2*y**2 + 2*x**2*y*z + x**2*z**2 + 2*x*y**2*z + 2*x*y*z**2 + y**2*z**2=x**2*y**2*z**2"
      ]
     },
     "execution_count": 30,
     "metadata": {},
     "output_type": "execute_result"
    }
   ],
   "source": [
    "e4.ope4('P',2,1,'e')"
   ]
  },
  {
   "cell_type": "code",
   "execution_count": 31,
   "id": "62c30e9b-ceac-4801-9015-c9620d9d4443",
   "metadata": {},
   "outputs": [
    {
     "data": {
      "image/png": "[encoded data removed]",
      "text/latex": [
       "$\\displaystyle x^{2} y^{2} + x^{2} z^{2} + 2 x y z \\left(x + y + z\\right) + y^{2} z^{2}=x^{2} y^{2} z^{2}$"
      ],
      "text/plain": [
       "x**2*y**2 + x**2*z**2 + 2*x*y*z*(x + y + z) + y**2*z**2=x**2*y**2*z**2"
      ]
     },
     "execution_count": 31,
     "metadata": {},
     "output_type": "execute_result"
    }
   ],
   "source": [
    "e4.make_grp(2*x*y*z,1)"
   ]
  },
  {
   "cell_type": "code",
   "execution_count": 32,
   "id": "58bcfffc-01f5-46e2-b08e-f24aa5fc3b06",
   "metadata": {},
   "outputs": [
    {
     "data": {
      "image/png": "[encoded data removed]",
      "text/latex": [
       "$\\displaystyle x^{2} y^{2} + x^{2} z^{2} + 2 x y z + y^{2} z^{2}=x^{2} y^{2} z^{2}$"
      ],
      "text/plain": [
       "x**2*y**2 + x**2*z**2 + 2*x*y*z + y**2*z**2=x**2*y**2*z**2"
      ]
     },
     "execution_count": 32,
     "metadata": {},
     "output_type": "execute_result"
    }
   ],
   "source": [
    "e4.subs(x+y+z,1,1)"
   ]
  },
  {
   "cell_type": "code",
   "execution_count": 33,
   "id": "a287a9df-0b11-45e4-b2ab-2638876a4880",
   "metadata": {},
   "outputs": [
    {
     "data": {
      "image/png": "[encoded data removed]",
      "text/latex": [
       "$\\displaystyle x^{2} y^{2} + x^{2} z^{2} + y^{2} z^{2}=x^{2} y^{2} z^{2} - 2 x y z$"
      ],
      "text/plain": [
       "x**2*y**2 + x**2*z**2 + y**2*z**2=x**2*y**2*z**2 - 2*x*y*z"
      ]
     },
     "execution_count": 33,
     "metadata": {},
     "output_type": "execute_result"
    }
   ],
   "source": [
    "e4.ope4('S',-2*x*y*z,1)"
   ]
  },
  {
   "cell_type": "code",
   "execution_count": 34,
   "id": "9a3fa2ed-1980-4202-8505-a4684310b233",
   "metadata": {},
   "outputs": [
    {
     "data": {
      "text/latex": [
       "$\\displaystyle Note\\;1\\;Eq(ee):\\;x y + x z + y z=x y z\\;$"
      ],
      "text/plain": [
       "<IPython.core.display.Math object>"
      ]
     },
     "metadata": {},
     "output_type": "display_data"
    },
    {
     "data": {
      "text/latex": [
       "$\\displaystyle Note\\;2\\;Eq(e0)\\;:\\;x + y + z=1\\;$"
      ],
      "text/plain": [
       "<IPython.core.display.Math object>"
      ]
     },
     "metadata": {},
     "output_type": "display_data"
    },
    {
     "data": {
      "text/latex": [
       "$\\displaystyle Note\\;3\\;Eq(e1):\\;x^{2} + y^{2} + z^{2}=- 2 x y z + 1\\;$"
      ],
      "text/plain": [
       "<IPython.core.display.Math object>"
      ]
     },
     "metadata": {},
     "output_type": "display_data"
    },
    {
     "data": {
      "text/latex": [
       "$\\displaystyle Note\\;4\\;Eq(e2):\\;x^{3} + y^{3} + z^{3}=1\\;$"
      ],
      "text/plain": [
       "<IPython.core.display.Math object>"
      ]
     },
     "metadata": {},
     "output_type": "display_data"
    },
    {
     "data": {
      "text/latex": [
       "$\\displaystyle Note\\;5\\;Eq(e4):\\;x^{2} y^{2} + x^{2} z^{2} + y^{2} z^{2}=x^{2} y^{2} z^{2} - 2 x y z\\;$"
      ],
      "text/plain": [
       "<IPython.core.display.Math object>"
      ]
     },
     "metadata": {},
     "output_type": "display_data"
    }
   ],
   "source": [
    "sE(['Note 1 Eq(ee):',ee.Q])\n",
    "sE(['Note 2 Eq(e0) :',e0.Q])\n",
    "sE(['Note 3 Eq(e1):',e1.Q])\n",
    "sE(['Note 4 Eq(e2):',e2.Q])\n",
    "sE(['Note 5 Eq(e4):',e4.Q])"
   ]
  },
  {
   "cell_type": "code",
   "execution_count": 35,
   "id": "c4b061c3-b674-47fc-ae4f-d74d98eaa46c",
   "metadata": {},
   "outputs": [
    {
     "data": {
      "image/png": "[encoded data removed]",
      "text/latex": [
       "$\\displaystyle x^{4} + y^{4} + z^{4} + 2 \\left(x^{2} y^{2} + x^{2} z^{2} + y^{2} z^{2}\\right)=4 x y z \\left(x y z - 1\\right) + 1$"
      ],
      "text/plain": [
       "x**4 + y**4 + z**4 + 2*(x**2*y**2 + x**2*z**2 + y**2*z**2)=4*x*y*z*(x*y*z - 1) + 1"
      ]
     },
     "execution_count": 35,
     "metadata": {},
     "output_type": "execute_result"
    }
   ],
   "source": [
    "e3.make_grp(2,1)"
   ]
  },
  {
   "cell_type": "code",
   "execution_count": 36,
   "id": "ec3598a0-9d0b-469c-9ada-4b064e0f8e40",
   "metadata": {},
   "outputs": [
    {
     "data": {
      "image/png": "[encoded data removed]",
      "text/latex": [
       "$\\displaystyle x^{4} + 2 x^{2} y^{2} z^{2} - 4 x y z + y^{4} + z^{4}=4 x y z \\left(x y z - 1\\right) + 1$"
      ],
      "text/plain": [
       "x**4 + 2*x**2*y**2*z**2 - 4*x*y*z + y**4 + z**4=4*x*y*z*(x*y*z - 1) + 1"
      ]
     },
     "execution_count": 36,
     "metadata": {},
     "output_type": "execute_result"
    }
   ],
   "source": [
    "e3.subs(e4.q1,e4.q2,1)"
   ]
  },
  {
   "cell_type": "code",
   "execution_count": 37,
   "id": "d4ad2a54-9d86-4edc-a1d9-57ce5639c6c2",
   "metadata": {},
   "outputs": [
    {
     "data": {
      "image/png": "[encoded data removed]",
      "text/latex": [
       "$\\displaystyle - 4 x y z$"
      ],
      "text/plain": [
       "-4⋅x⋅y⋅z"
      ]
     },
     "execution_count": 37,
     "metadata": {},
     "output_type": "execute_result"
    }
   ],
   "source": [
    "part(e3.Q,[0,3])"
   ]
  },
  {
   "cell_type": "code",
   "execution_count": 38,
   "id": "4c791b08-9436-41ca-928a-c00124455ffb",
   "metadata": {},
   "outputs": [
    {
     "data": {
      "image/png": "[encoded data removed]",
      "text/latex": [
       "$\\displaystyle 2 x^{2} y^{2} z^{2}$"
      ],
      "text/plain": [
       "   2  2  2\n",
       "2⋅x ⋅y ⋅z "
      ]
     },
     "execution_count": 38,
     "metadata": {},
     "output_type": "execute_result"
    }
   ],
   "source": [
    "part(e3.Q,[0,4])"
   ]
  },
  {
   "cell_type": "code",
   "execution_count": 39,
   "id": "d1588350-86dd-46bc-aeaf-2937b5237759",
   "metadata": {},
   "outputs": [
    {
     "data": {
      "image/png": "[encoded data removed]",
      "text/latex": [
       "$\\displaystyle x^{4} + y^{4} + z^{4}=- 2 x^{2} y^{2} z^{2} + 4 x y z \\left(x y z - 1\\right) + 4 x y z + 1$"
      ],
      "text/plain": [
       "x**4 + y**4 + z**4=-2*x**2*y**2*z**2 + 4*x*y*z*(x*y*z - 1) + 4*x*y*z + 1"
      ]
     },
     "execution_count": 39,
     "metadata": {},
     "output_type": "execute_result"
    }
   ],
   "source": [
    "e3.ope4('S',-1*(part(e3.Q,[0,3])+part(e3.Q,[0,4])),1)"
   ]
  },
  {
   "cell_type": "code",
   "execution_count": 40,
   "id": "53eee99e-13cc-4d8a-8693-012364a951f5",
   "metadata": {},
   "outputs": [
    {
     "data": {
      "image/png": "[encoded data removed]",
      "text/latex": [
       "$\\displaystyle x^{4} + y^{4} + z^{4}=2 x^{2} y^{2} z^{2} + 1$"
      ],
      "text/plain": [
       "x**4 + y**4 + z**4=2*x**2*y**2*z**2 + 1"
      ]
     },
     "execution_count": 40,
     "metadata": {},
     "output_type": "execute_result"
    }
   ],
   "source": [
    "e3.opemat('es',1)"
   ]
  },
  {
   "cell_type": "code",
   "execution_count": 41,
   "id": "245d797a-314f-4ebb-a00d-15fce68ab1a3",
   "metadata": {},
   "outputs": [
    {
     "data": {
      "text/latex": [
       "$\\displaystyle Note\\;1\\;Eq(ee):\\;x y + x z + y z=x y z\\;$"
      ],
      "text/plain": [
       "<IPython.core.display.Math object>"
      ]
     },
     "metadata": {},
     "output_type": "display_data"
    },
    {
     "data": {
      "text/latex": [
       "$\\displaystyle Note\\;2\\;Eq(e0)\\;:\\;x + y + z=1\\;$"
      ],
      "text/plain": [
       "<IPython.core.display.Math object>"
      ]
     },
     "metadata": {},
     "output_type": "display_data"
    },
    {
     "data": {
      "text/latex": [
       "$\\displaystyle Note\\;3\\;Eq(e1):\\;x^{2} + y^{2} + z^{2}=- 2 x y z + 1\\;$"
      ],
      "text/plain": [
       "<IPython.core.display.Math object>"
      ]
     },
     "metadata": {},
     "output_type": "display_data"
    },
    {
     "data": {
      "text/latex": [
       "$\\displaystyle Note\\;4\\;Eq(e2):\\;x^{3} + y^{3} + z^{3}=1\\;$"
      ],
      "text/plain": [
       "<IPython.core.display.Math object>"
      ]
     },
     "metadata": {},
     "output_type": "display_data"
    },
    {
     "data": {
      "text/latex": [
       "$\\displaystyle Note\\;5\\;Eq(e4):\\;x^{2} y^{2} + x^{2} z^{2} + y^{2} z^{2}=x^{2} y^{2} z^{2} - 2 x y z\\;$"
      ],
      "text/plain": [
       "<IPython.core.display.Math object>"
      ]
     },
     "metadata": {},
     "output_type": "display_data"
    },
    {
     "data": {
      "text/latex": [
       "$\\displaystyle Note\\;6\\;Eq(e3):\\;x^{4} + y^{4} + z^{4}=2 x^{2} y^{2} z^{2} + 1\\;$"
      ],
      "text/plain": [
       "<IPython.core.display.Math object>"
      ]
     },
     "metadata": {},
     "output_type": "display_data"
    }
   ],
   "source": [
    "sE(['Note 1 Eq(ee):',ee.Q])\n",
    "sE(['Note 2 Eq(e0) :',e0.Q])\n",
    "sE(['Note 3 Eq(e1):',e1.Q])\n",
    "sE(['Note 4 Eq(e2):',e2.Q])\n",
    "sE(['Note 5 Eq(e4):',e4.Q])\n",
    "sE(['Note 6 Eq(e3):',e3.Q])"
   ]
  },
  {
   "cell_type": "code",
   "execution_count": 42,
   "id": "de04e0f0-45df-40cf-9e19-58337396e832",
   "metadata": {},
   "outputs": [
    {
     "data": {
      "image/png": "[encoded data removed]",
      "text/latex": [
       "$\\displaystyle \\left(x^{2} + y^{2} + z^{2}\\right) \\left(x^{3} + y^{3} + z^{3}\\right)=- 2 x y z + 1$"
      ],
      "text/plain": [
       "(x**2 + y**2 + z**2)*(x**3 + y**3 + z**3)=-2*x*y*z + 1"
      ]
     },
     "execution_count": 42,
     "metadata": {},
     "output_type": "execute_result"
    }
   ],
   "source": [
    "e5=polyclass(e1.q1*e2.q1,e1.q2*e2.q2);e5.Q"
   ]
  },
  {
   "cell_type": "code",
   "execution_count": 43,
   "id": "4ec64dd9-2e39-4825-8ef5-ffb44f8a8985",
   "metadata": {},
   "outputs": [
    {
     "data": {
      "image/png": "[encoded data removed]",
      "text/latex": [
       "$\\displaystyle x^{5} + x^{3} y^{2} + x^{3} z^{2} + x^{2} y^{3} + x^{2} z^{3} + y^{5} + y^{3} z^{2} + y^{2} z^{3} + z^{5}=- 2 x y z + 1$"
      ],
      "text/plain": [
       "x**5 + x**3*y**2 + x**3*z**2 + x**2*y**3 + x**2*z**3 + y**5 + y**3*z**2 + y**2*z**3 + z**5=-2*x*y*z + 1"
      ]
     },
     "execution_count": 43,
     "metadata": {},
     "output_type": "execute_result"
    }
   ],
   "source": [
    "e5.opemat('e',1)"
   ]
  },
  {
   "cell_type": "code",
   "execution_count": 44,
   "id": "3c2a3180-d51f-40e5-8410-58d52e93ed80",
   "metadata": {},
   "outputs": [
    {
     "data": {
      "image/png": "[encoded data removed]",
      "text/latex": [
       "$\\displaystyle x^{5} + x^{2} y^{2} \\left(x + y\\right) + x^{2} z^{2} \\left(x + z\\right) + y^{5} + y^{2} z^{2} \\left(y + z\\right) + z^{5}=- 2 x y z + 1$"
      ],
      "text/plain": [
       "x**5 + x**2*y**2*(x + y) + x**2*z**2*(x + z) + y**5 + y**2*z**2*(y + z) + z**5=-2*x*y*z + 1"
      ]
     },
     "execution_count": 44,
     "metadata": {},
     "output_type": "execute_result"
    }
   ],
   "source": [
    "e5.make_grp_sec([x*x*y*y,x*x*z*z,y*y*z*z],1)"
   ]
  },
  {
   "cell_type": "code",
   "execution_count": 45,
   "id": "07b66e64-f59d-4748-aa11-50f5061a8749",
   "metadata": {},
   "outputs": [
    {
     "data": {
      "image/png": "[encoded data removed]",
      "text/latex": [
       "$\\displaystyle x^{2} y^{2} \\left(x + y\\right) + x^{2} z^{2} \\left(x + z\\right) + 2 x y z + y^{2} z^{2} \\left(y + z\\right) - 1=- x^{5} - y^{5} - z^{5}$"
      ],
      "text/plain": [
       "x**2*y**2*(x + y) + x**2*z**2*(x + z) + 2*x*y*z + y**2*z**2*(y + z) - 1=-x**5 - y**5 - z**5"
      ]
     },
     "execution_count": 45,
     "metadata": {},
     "output_type": "execute_result"
    }
   ],
   "source": [
    "e5.ope4('S',-x**5-y**5-z**5-1+2*x*y*z,1)"
   ]
  },
  {
   "cell_type": "code",
   "execution_count": 46,
   "id": "dba7b2f3-ddb5-4c4a-8c9e-72a0c4a622a0",
   "metadata": {},
   "outputs": [
    {
     "data": {
      "image/png": "[encoded data removed]",
      "text/latex": [
       "$\\displaystyle - x^{2} y^{2} \\left(x + y\\right) - x^{2} z^{2} \\left(x + z\\right) - 2 x y z - y^{2} z^{2} \\left(y + z\\right) + 1=x^{5} + y^{5} + z^{5}$"
      ],
      "text/plain": [
       "-x**2*y**2*(x + y) - x**2*z**2*(x + z) - 2*x*y*z - y**2*z**2*(y + z) + 1=x**5 + y**5 + z**5"
      ]
     },
     "execution_count": 46,
     "metadata": {},
     "output_type": "execute_result"
    }
   ],
   "source": [
    "e5.ope4('M',-1,1)"
   ]
  },
  {
   "cell_type": "code",
   "execution_count": 47,
   "id": "73161a67-bae1-484c-9d1a-9bcd24fed20d",
   "metadata": {},
   "outputs": [
    {
     "data": {
      "image/png": "[encoded data removed]",
      "text/latex": [
       "$\\displaystyle - x^{2} y^{2} \\left(1 - z\\right) - x^{2} z^{2} \\left(1 - y\\right) - 2 x y z - y^{2} z^{2} \\left(1 - x\\right) + 1=x^{5} + y^{5} + z^{5}$"
      ],
      "text/plain": [
       "-x**2*y**2*(1 - z) - x**2*z**2*(1 - y) - 2*x*y*z - y**2*z**2*(1 - x) + 1=x**5 + y**5 + z**5"
      ]
     },
     "execution_count": 47,
     "metadata": {},
     "output_type": "execute_result"
    }
   ],
   "source": [
    "e5=polyclass(e5.subs({y+z:1-x,x+z:1-y,x+y:1-z}));e5.Q"
   ]
  },
  {
   "cell_type": "code",
   "execution_count": 48,
   "id": "97b4a396-c4d7-4e6e-9179-82b9d1478817",
   "metadata": {},
   "outputs": [
    {
     "data": {
      "image/png": "[encoded data removed]",
      "text/latex": [
       "$\\displaystyle x^{2} y^{2} z - x^{2} y^{2} + x^{2} y z^{2} - x^{2} z^{2} + x y^{2} z^{2} - 2 x y z - y^{2} z^{2} + 1=x^{5} + y^{5} + z^{5}$"
      ],
      "text/plain": [
       "x**2*y**2*z - x**2*y**2 + x**2*y*z**2 - x**2*z**2 + x*y**2*z**2 - 2*x*y*z - y**2*z**2 + 1=x**5 + y**5 + z**5"
      ]
     },
     "execution_count": 48,
     "metadata": {},
     "output_type": "execute_result"
    }
   ],
   "source": [
    "e5.opemat('e',1)"
   ]
  },
  {
   "cell_type": "code",
   "execution_count": 49,
   "id": "75b20912-9900-4e53-92ab-ba20b5b9dee4",
   "metadata": {
    "tags": []
   },
   "outputs": [
    {
     "data": {
      "image/png": "[encoded data removed]",
      "text/latex": [
       "$\\displaystyle - x^{2} y^{2} - x^{2} z^{2} + x y z \\left(x y + x z + y z - 2\\right) - y^{2} z^{2} + 1=x^{5} + y^{5} + z^{5}$"
      ],
      "text/plain": [
       "-x**2*y**2 - x**2*z**2 + x*y*z*(x*y + x*z + y*z - 2) - y**2*z**2 + 1=x**5 + y**5 + z**5"
      ]
     },
     "execution_count": 49,
     "metadata": {},
     "output_type": "execute_result"
    }
   ],
   "source": [
    "e5.make_grp(x*y*z,1)"
   ]
  },
  {
   "cell_type": "code",
   "execution_count": 51,
   "id": "87f9cc95-6d9c-4510-98d6-292350749cb3",
   "metadata": {},
   "outputs": [
    {
     "data": {
      "text/latex": [
       "$\\displaystyle Note\\;1\\;Eq(ee):\\;x y + x z + y z=x y z\\;$"
      ],
      "text/plain": [
       "<IPython.core.display.Math object>"
      ]
     },
     "metadata": {},
     "output_type": "display_data"
    },
    {
     "data": {
      "text/latex": [
       "$\\displaystyle Note\\;2\\;Eq(e0)\\;:\\;x + y + z=1\\;$"
      ],
      "text/plain": [
       "<IPython.core.display.Math object>"
      ]
     },
     "metadata": {},
     "output_type": "display_data"
    },
    {
     "data": {
      "text/latex": [
       "$\\displaystyle Note\\;3\\;Eq(e1):\\;x^{2} + y^{2} + z^{2}=- 2 x y z + 1\\;$"
      ],
      "text/plain": [
       "<IPython.core.display.Math object>"
      ]
     },
     "metadata": {},
     "output_type": "display_data"
    },
    {
     "data": {
      "text/latex": [
       "$\\displaystyle Note\\;4\\;Eq(e2):\\;x^{3} + y^{3} + z^{3}=1\\;$"
      ],
      "text/plain": [
       "<IPython.core.display.Math object>"
      ]
     },
     "metadata": {},
     "output_type": "display_data"
    },
    {
     "data": {
      "text/latex": [
       "$\\displaystyle Note\\;5\\;Eq(e4):\\;x^{2} y^{2} + x^{2} z^{2} + y^{2} z^{2}=x^{2} y^{2} z^{2} - 2 x y z\\;$"
      ],
      "text/plain": [
       "<IPython.core.display.Math object>"
      ]
     },
     "metadata": {},
     "output_type": "display_data"
    },
    {
     "data": {
      "text/latex": [
       "$\\displaystyle Note\\;6\\;Eq(e3):\\;x^{4} + y^{4} + z^{4}=2 x^{2} y^{2} z^{2} + 1\\;$"
      ],
      "text/plain": [
       "<IPython.core.display.Math object>"
      ]
     },
     "metadata": {},
     "output_type": "display_data"
    }
   ],
   "source": [
    "sE(['Note 1 Eq(ee):',ee.Q])\n",
    "sE(['Note 2 Eq(e0) :',e0.Q])\n",
    "sE(['Note 3 Eq(e1):',e1.Q])\n",
    "sE(['Note 4 Eq(e2):',e2.Q])\n",
    "sE(['Note 5 Eq(e4):',e4.Q])\n",
    "sE(['Note 6 Eq(e3):',e3.Q])"
   ]
  },
  {
   "cell_type": "code",
   "execution_count": 52,
   "id": "b094dbee-aad1-4147-9fa2-e4cd8a818773",
   "metadata": {},
   "outputs": [
    {
     "data": {
      "image/png": "[encoded data removed]",
      "text/latex": [
       "$\\displaystyle - x^{2} y^{2} z^{2} + x y z \\left(x y z - 2\\right) + 2 x y z + 1=x^{5} + y^{5} + z^{5}$"
      ],
      "text/plain": [
       "-x**2*y**2*z**2 + x*y*z*(x*y*z - 2) + 2*x*y*z + 1=x**5 + y**5 + z**5"
      ]
     },
     "execution_count": 52,
     "metadata": {},
     "output_type": "execute_result"
    }
   ],
   "source": [
    "e5.subsubs([ee.q1,e4.q1],[ee.q2,e4.q2],1)"
   ]
  },
  {
   "cell_type": "code",
   "execution_count": 53,
   "id": "96a538d8-7c25-47aa-a0e3-4564c9e9f49f",
   "metadata": {},
   "outputs": [
    {
     "data": {
      "image/png": "[encoded data removed]",
      "text/latex": [
       "$\\displaystyle 1=x^{5} + y^{5} + z^{5}$"
      ],
      "text/plain": [
       "1=x**5 + y**5 + z**5"
      ]
     },
     "execution_count": 53,
     "metadata": {},
     "output_type": "execute_result"
    }
   ],
   "source": [
    "e5.opemat('es',1)"
   ]
  },
  {
   "cell_type": "code",
   "execution_count": 54,
   "id": "92503680-c6cb-4949-b803-a46696a3e76a",
   "metadata": {},
   "outputs": [
    {
     "data": {
      "text/latex": [
       "$\\displaystyle Note\\;1\\;Eq(ee):\\;x y + x z + y z=x y z\\;$"
      ],
      "text/plain": [
       "<IPython.core.display.Math object>"
      ]
     },
     "metadata": {},
     "output_type": "display_data"
    },
    {
     "data": {
      "text/latex": [
       "$\\displaystyle Note\\;2\\;Eq(e0)\\;:\\;x + y + z=1\\;$"
      ],
      "text/plain": [
       "<IPython.core.display.Math object>"
      ]
     },
     "metadata": {},
     "output_type": "display_data"
    },
    {
     "data": {
      "text/latex": [
       "$\\displaystyle Note\\;3\\;Eq(e1):\\;x^{2} + y^{2} + z^{2}=- 2 x y z + 1\\;$"
      ],
      "text/plain": [
       "<IPython.core.display.Math object>"
      ]
     },
     "metadata": {},
     "output_type": "display_data"
    },
    {
     "data": {
      "text/latex": [
       "$\\displaystyle Note\\;4\\;Eq(e2):\\;x^{3} + y^{3} + z^{3}=1\\;$"
      ],
      "text/plain": [
       "<IPython.core.display.Math object>"
      ]
     },
     "metadata": {},
     "output_type": "display_data"
    },
    {
     "data": {
      "text/latex": [
       "$\\displaystyle Note\\;5\\;Eq(e4):\\;x^{2} y^{2} + x^{2} z^{2} + y^{2} z^{2}=x^{2} y^{2} z^{2} - 2 x y z\\;$"
      ],
      "text/plain": [
       "<IPython.core.display.Math object>"
      ]
     },
     "metadata": {},
     "output_type": "display_data"
    },
    {
     "data": {
      "text/latex": [
       "$\\displaystyle Note\\;6\\;Eq(e3):\\;x^{4} + y^{4} + z^{4}=2 x^{2} y^{2} z^{2} + 1\\;$"
      ],
      "text/plain": [
       "<IPython.core.display.Math object>"
      ]
     },
     "metadata": {},
     "output_type": "display_data"
    },
    {
     "data": {
      "text/latex": [
       "$\\displaystyle Note\\;7\\;Eq(e5):\\;1=x^{5} + y^{5} + z^{5}\\;$"
      ],
      "text/plain": [
       "<IPython.core.display.Math object>"
      ]
     },
     "metadata": {},
     "output_type": "display_data"
    }
   ],
   "source": [
    "sE(['Note 1 Eq(ee):',ee.Q])\n",
    "sE(['Note 2 Eq(e0) :',e0.Q])\n",
    "sE(['Note 3 Eq(e1):',e1.Q])\n",
    "sE(['Note 4 Eq(e2):',e2.Q])\n",
    "sE(['Note 5 Eq(e4):',e4.Q])\n",
    "sE(['Note 6 Eq(e3):',e3.Q])\n",
    "sE(['Note 7 Eq(e5):',e5.Q])"
   ]
  },
  {
   "cell_type": "code",
   "execution_count": 55,
   "id": "0b0f0c5a-8505-4003-8d13-c281e17fd1ea",
   "metadata": {},
   "outputs": [
    {
     "data": {
      "image/png": "[encoded data removed]",
      "text/latex": [
       "$\\displaystyle x y + x z + y z=x y z$"
      ],
      "text/plain": [
       "x*y + x*z + y*z=x*y*z"
      ]
     },
     "execution_count": 55,
     "metadata": {},
     "output_type": "execute_result"
    }
   ],
   "source": [
    "e6=polyclass(ee.q1,ee.q2);e6.Q"
   ]
  },
  {
   "cell_type": "code",
   "execution_count": 56,
   "id": "e34a2498-d576-49c9-abec-b0565504b1d7",
   "metadata": {},
   "outputs": [
    {
     "data": {
      "image/png": "[encoded data removed]",
      "text/latex": [
       "$\\displaystyle x^{3} y^{3} + 3 x^{3} y^{2} z + 3 x^{3} y z^{2} + x^{3} z^{3} + 3 x^{2} y^{3} z + 6 x^{2} y^{2} z^{2} + 3 x^{2} y z^{3} + 3 x y^{3} z^{2} + 3 x y^{2} z^{3} + y^{3} z^{3}=x^{3} y^{3} z^{3}$"
      ],
      "text/plain": [
       "x**3*y**3 + 3*x**3*y**2*z + 3*x**3*y*z**2 + x**3*z**3 + 3*x**2*y**3*z + 6*x**2*y**2*z**2 + 3*x**2*y*z**3 + 3*x*y**3*z**2 + 3*x*y**2*z**3 + y**3*z**3=x**3*y**3*z**3"
      ]
     },
     "execution_count": 56,
     "metadata": {},
     "output_type": "execute_result"
    }
   ],
   "source": [
    "e6.ope4('P',3,1,'e')"
   ]
  },
  {
   "cell_type": "code",
   "execution_count": 57,
   "id": "8e1589cc-589b-452e-a78c-22a53a115aad",
   "metadata": {},
   "outputs": [
    {
     "data": {
      "image/png": "[encoded data removed]",
      "text/latex": [
       "$\\displaystyle x^{3} y^{3} + 3 x^{3} y^{2} z + 3 x^{3} y z^{2} + x^{3} z^{3} + 3 x^{2} y^{3} z + 3 x^{2} y z^{3} + 3 x y^{3} z^{2} + 3 x y^{2} z^{3} + y^{3} z^{3}=x^{3} y^{3} z^{3} - 6 x^{2} y^{2} z^{2}$"
      ],
      "text/plain": [
       "x**3*y**3 + 3*x**3*y**2*z + 3*x**3*y*z**2 + x**3*z**3 + 3*x**2*y**3*z + 3*x**2*y*z**3 + 3*x*y**3*z**2 + 3*x*y**2*z**3 + y**3*z**3=x**3*y**3*z**3 - 6*x**2*y**2*z**2"
      ]
     },
     "execution_count": 57,
     "metadata": {},
     "output_type": "execute_result"
    }
   ],
   "source": [
    "e6.ope4('S',-6*x*x*y*y*z*z,1)"
   ]
  },
  {
   "cell_type": "code",
   "execution_count": 58,
   "id": "2c39b3d0-ae0a-4300-b7b7-0b0e136c1955",
   "metadata": {},
   "outputs": [
    {
     "data": {
      "image/png": "[encoded data removed]",
      "text/latex": [
       "$\\displaystyle x^{3} y^{3} + x^{3} z^{3} + 3 x y z \\left(x^{2} y + x^{2} z + x y^{2} + x z^{2} + y^{2} z + y z^{2}\\right) + y^{3} z^{3}=x^{2} y^{2} z^{2} \\left(x y z - 6\\right)$"
      ],
      "text/plain": [
       "x**3*y**3 + x**3*z**3 + 3*x*y*z*(x**2*y + x**2*z + x*y**2 + x*z**2 + y**2*z + y*z**2) + y**3*z**3=x**2*y**2*z**2*(x*y*z - 6)"
      ]
     },
     "execution_count": 58,
     "metadata": {},
     "output_type": "execute_result"
    }
   ],
   "source": [
    "e6.make_grp(x*y*z,1)"
   ]
  },
  {
   "cell_type": "code",
   "execution_count": 59,
   "id": "14f8b488-aa55-42a0-bba6-2d93e4b9ec02",
   "metadata": {},
   "outputs": [
    {
     "data": {
      "image/png": "[encoded data removed]",
      "text/latex": [
       "$\\displaystyle x^{2} y + x^{2} z + x y^{2} + x z^{2} + y^{2} z + y z^{2}$"
      ],
      "text/plain": [
       " 2      2        2      2    2        2\n",
       "x ⋅y + x ⋅z + x⋅y  + x⋅z  + y ⋅z + y⋅z "
      ]
     },
     "execution_count": 59,
     "metadata": {},
     "output_type": "execute_result"
    }
   ],
   "source": [
    "w6=part(e6.Q,[0,3,4]);w6"
   ]
  },
  {
   "cell_type": "code",
   "execution_count": 60,
   "id": "0718c342-59e2-4db1-9fd2-836c56d12042",
   "metadata": {},
   "outputs": [
    {
     "data": {
      "image/png": "[encoded data removed]",
      "text/latex": [
       "$\\displaystyle x y \\left(x + y\\right) + x z \\left(x + z\\right) + y z \\left(y + z\\right)$"
      ],
      "text/plain": [
       "x⋅y⋅(x + y) + x⋅z⋅(x + z) + y⋅z⋅(y + z)"
      ]
     },
     "execution_count": 60,
     "metadata": {},
     "output_type": "execute_result"
    }
   ],
   "source": [
    "w6=make_grp(make_grp(make_grp(w6,x*y),x*z),y*z);w6"
   ]
  },
  {
   "cell_type": "code",
   "execution_count": 61,
   "id": "b4c67aaa-e1c0-4ac6-8b9c-f173fdaf90b6",
   "metadata": {},
   "outputs": [
    {
     "data": {
      "image/png": "[encoded data removed]",
      "text/latex": [
       "$\\displaystyle x y \\left(1 - z\\right) + x z \\left(1 - y\\right) + y z \\left(1 - x\\right)$"
      ],
      "text/plain": [
       "x⋅y⋅(1 - z) + x⋅z⋅(1 - y) + y⋅z⋅(1 - x)"
      ]
     },
     "execution_count": 61,
     "metadata": {},
     "output_type": "execute_result"
    }
   ],
   "source": [
    "w6=w6.subs({y+z:1-x,x+z:1-y,x+y:1-z});w6"
   ]
  },
  {
   "cell_type": "code",
   "execution_count": 62,
   "id": "7cd98b0d-544d-41e7-99f0-ef40576c01ae",
   "metadata": {},
   "outputs": [
    {
     "data": {
      "image/png": "[encoded data removed]",
      "text/latex": [
       "$\\displaystyle - 3 x y z + x y + x z + y z$"
      ],
      "text/plain": [
       "-3⋅x⋅y⋅z + x⋅y + x⋅z + y⋅z"
      ]
     },
     "execution_count": 62,
     "metadata": {},
     "output_type": "execute_result"
    }
   ],
   "source": [
    "w6=expand(w6);w6"
   ]
  },
  {
   "cell_type": "code",
   "execution_count": 63,
   "id": "09793ada-e2cf-43f6-bb74-58e1aa166fab",
   "metadata": {},
   "outputs": [
    {
     "data": {
      "image/png": "[encoded data removed]",
      "text/latex": [
       "$\\displaystyle - 2 x y z$"
      ],
      "text/plain": [
       "-2⋅x⋅y⋅z"
      ]
     },
     "execution_count": 63,
     "metadata": {},
     "output_type": "execute_result"
    }
   ],
   "source": [
    "w6=w6.subs(ee.q1,ee.q2);w6"
   ]
  },
  {
   "cell_type": "code",
   "execution_count": 64,
   "id": "712a7eb6-f807-4ba3-886e-9be03daf54fd",
   "metadata": {},
   "outputs": [
    {
     "data": {
      "image/png": "[encoded data removed]",
      "text/latex": [
       "$\\displaystyle x^{3} y^{3} + x^{3} z^{3} - 6 x^{2} y^{2} z^{2} + y^{3} z^{3}=x^{2} y^{2} z^{2} \\left(x y z - 6\\right)$"
      ],
      "text/plain": [
       "x**3*y**3 + x**3*z**3 - 6*x**2*y**2*z**2 + y**3*z**3=x**2*y**2*z**2*(x*y*z - 6)"
      ]
     },
     "execution_count": 64,
     "metadata": {},
     "output_type": "execute_result"
    }
   ],
   "source": [
    "e6.subsubs([part(e6.Q,[0,3,4])],[w6],1)"
   ]
  },
  {
   "cell_type": "code",
   "execution_count": 65,
   "id": "48ae757b-e2d8-44f9-b52f-d3160ca42fc3",
   "metadata": {},
   "outputs": [
    {
     "data": {
      "image/png": "[encoded data removed]",
      "text/latex": [
       "$\\displaystyle x^{3} y^{3} + x^{3} z^{3} + y^{3} z^{3}=x^{2} y^{2} z^{2} \\left(x y z - 6\\right) + 6 x^{2} y^{2} z^{2}$"
      ],
      "text/plain": [
       "x**3*y**3 + x**3*z**3 + y**3*z**3=x**2*y**2*z**2*(x*y*z - 6) + 6*x**2*y**2*z**2"
      ]
     },
     "execution_count": 65,
     "metadata": {},
     "output_type": "execute_result"
    }
   ],
   "source": [
    "e6.ope4('S',6*x*x*y*y*z*z,1)"
   ]
  },
  {
   "cell_type": "code",
   "execution_count": 66,
   "id": "61517f17-23f3-431e-8a66-54930c78aa03",
   "metadata": {},
   "outputs": [
    {
     "data": {
      "image/png": "[encoded data removed]",
      "text/latex": [
       "$\\displaystyle x^{3} y^{3} + x^{3} z^{3} + y^{3} z^{3}=x^{3} y^{3} z^{3}$"
      ],
      "text/plain": [
       "x**3*y**3 + x**3*z**3 + y**3*z**3=x**3*y**3*z**3"
      ]
     },
     "execution_count": 66,
     "metadata": {},
     "output_type": "execute_result"
    }
   ],
   "source": [
    "e6.opemat('e',1)"
   ]
  },
  {
   "cell_type": "code",
   "execution_count": 67,
   "id": "4f4fc467-01e0-45c1-8a85-9258d93ef585",
   "metadata": {},
   "outputs": [
    {
     "data": {
      "text/latex": [
       "$\\displaystyle Note\\;1\\;Eq(ee):\\;x y + x z + y z=x y z\\;$"
      ],
      "text/plain": [
       "<IPython.core.display.Math object>"
      ]
     },
     "metadata": {},
     "output_type": "display_data"
    },
    {
     "data": {
      "text/latex": [
       "$\\displaystyle Note\\;5\\;Eq(e4):\\;x^{2} y^{2} + x^{2} z^{2} + y^{2} z^{2}=x^{2} y^{2} z^{2} - 2 x y z\\;$"
      ],
      "text/plain": [
       "<IPython.core.display.Math object>"
      ]
     },
     "metadata": {},
     "output_type": "display_data"
    },
    {
     "data": {
      "text/latex": [
       "$\\displaystyle Note\\;8\\;Eq(e6):\\;x^{3} y^{3} + x^{3} z^{3} + y^{3} z^{3}=x^{3} y^{3} z^{3}\\;$"
      ],
      "text/plain": [
       "<IPython.core.display.Math object>"
      ]
     },
     "metadata": {},
     "output_type": "display_data"
    },
    {
     "data": {
      "text/latex": [
       "$\\displaystyle Note\\;2\\;Eq(e0)\\;:\\;x + y + z=1\\;$"
      ],
      "text/plain": [
       "<IPython.core.display.Math object>"
      ]
     },
     "metadata": {},
     "output_type": "display_data"
    },
    {
     "data": {
      "text/latex": [
       "$\\displaystyle Note\\;3\\;Eq(e1):\\;x^{2} + y^{2} + z^{2}=- 2 x y z + 1\\;$"
      ],
      "text/plain": [
       "<IPython.core.display.Math object>"
      ]
     },
     "metadata": {},
     "output_type": "display_data"
    },
    {
     "data": {
      "text/latex": [
       "$\\displaystyle Note\\;4\\;Eq(e2):\\;x^{3} + y^{3} + z^{3}=1\\;$"
      ],
      "text/plain": [
       "<IPython.core.display.Math object>"
      ]
     },
     "metadata": {},
     "output_type": "display_data"
    },
    {
     "data": {
      "text/latex": [
       "$\\displaystyle Note\\;6\\;Eq(e3):\\;x^{4} + y^{4} + z^{4}=2 x^{2} y^{2} z^{2} + 1\\;$"
      ],
      "text/plain": [
       "<IPython.core.display.Math object>"
      ]
     },
     "metadata": {},
     "output_type": "display_data"
    },
    {
     "data": {
      "text/latex": [
       "$\\displaystyle Note\\;7\\;Eq(e5):\\;1=x^{5} + y^{5} + z^{5}\\;$"
      ],
      "text/plain": [
       "<IPython.core.display.Math object>"
      ]
     },
     "metadata": {},
     "output_type": "display_data"
    }
   ],
   "source": [
    "sE(['Note 1 Eq(ee):',ee.Q])\n",
    "sE(['Note 5 Eq(e4):',e4.Q])\n",
    "sE(['Note 8 Eq(e6):',e6.Q])\n",
    "sE(['Note 2 Eq(e0) :',e0.Q])\n",
    "sE(['Note 3 Eq(e1):',e1.Q])\n",
    "sE(['Note 4 Eq(e2):',e2.Q])\n",
    "sE(['Note 6 Eq(e3):',e3.Q])\n",
    "sE(['Note 7 Eq(e5):',e5.Q])\n",
    " "
   ]
  },
  {
   "cell_type": "code",
   "execution_count": 68,
   "id": "92dab4e3-c6be-4eaa-a756-3c0102b39e48",
   "metadata": {},
   "outputs": [
    {
     "data": {
      "text/latex": [
       "$\\displaystyle for\\;all\\;finding\\;we\\;note\\;that\\;x^{n} + y^{n} + z^{n}\\;=\\;1\\;when\\;n\\;is\\;even\\;$"
      ],
      "text/plain": [
       "<IPython.core.display.Math object>"
      ]
     },
     "metadata": {},
     "output_type": "display_data"
    }
   ],
   "source": [
    "n=symbols('n')\n",
    "sE([ 'for all finding we note that ',kpow(x,n)+kpow(y,n)+kpow(z,n),'=',1,'when n is even'])"
   ]
  },
  {
   "cell_type": "markdown",
   "id": "36c79be8-ced2-40f0-bbf7-383d43d49170",
   "metadata": {},
   "source": [
    " <img src=\"images/p24.png\" alt=\"ml\" style=\"width : 100%;\"/>"
   ]
  },
  {
   "cell_type": "code",
   "execution_count": 69,
   "id": "c4841f1c-5d08-434c-91fa-1a666015d8bc",
   "metadata": {},
   "outputs": [],
   "source": [
    "def fP(n):\n",
    "    return(kpow(x,n)+kpow(y,n)+kpow(z,n))"
   ]
  },
  {
   "cell_type": "code",
   "execution_count": 70,
   "id": "2b2ee594-f888-46d4-a5a9-722c0964f52a",
   "metadata": {},
   "outputs": [
    {
     "data": {
      "text/latex": [
       "$\\displaystyle then...\\;x^{9} + y^{9} + z^{9}\\;=\\;x^{11} + y^{11} + z^{11}\\;=\\;1\\;$"
      ],
      "text/plain": [
       "<IPython.core.display.Math object>"
      ]
     },
     "metadata": {},
     "output_type": "display_data"
    }
   ],
   "source": [
    "sE(['then...',fP(9),'=',fP(11),'=',1])"
   ]
  },
  {
   "cell_type": "code",
   "execution_count": 71,
   "id": "cac2d31a-ea7f-49a2-a4d9-91dde5cfd1ec",
   "metadata": {},
   "outputs": [
    {
     "data": {
      "text/latex": [
       "$\\displaystyle \\frac{x^{9} + y^{9} + z^{9}}{x^{11} + y^{11} + z^{11} + 1}\\;=\\;\\frac{1}{2}\\;$"
      ],
      "text/plain": [
       "<IPython.core.display.Math object>"
      ]
     },
     "metadata": {},
     "output_type": "display_data"
    }
   ],
   "source": [
    "sE([fP(9)/(fP(11)+1),'=',frs(1,2)])"
   ]
  },
  {
   "cell_type": "code",
   "execution_count": null,
   "id": "1f394a01-2bb5-49cf-a7c0-800213c37e4c",
   "metadata": {},
   "outputs": [],
   "source": []
  }
 ],
 "metadata": {
  "kernelspec": {
   "display_name": "Python 3",
   "language": "python",
   "name": "python3"
  },
  "language_info": {
   "codemirror_mode": {
    "name": "ipython",
    "version": 3
   },
   "file_extension": ".py",
   "mimetype": "text/x-python",
   "name": "python",
   "nbconvert_exporter": "python",
   "pygments_lexer": "ipython3",
   "version": "3.6.6"
  }
 },
 "nbformat": 4,
 "nbformat_minor": 5
}
