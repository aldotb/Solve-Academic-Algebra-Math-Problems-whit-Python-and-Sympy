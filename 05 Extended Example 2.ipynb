{
 "cells": [
  {
   "cell_type": "code",
   "execution_count": 1,
   "id": "aa37e5c4-422d-46b1-862e-66288f3369c4",
   "metadata": {},
   "outputs": [],
   "source": [
    "from sympy import *   \n",
    "from libaldo_polyclass  import *\n",
    "from libaldo_lib import *\n",
    "from libaldo__util import *\n",
    "import lib_algebraEq as ae\n",
    "init_printing()"
   ]
  },
  {
   "cell_type": "markdown",
   "id": "b67dd10b-53e0-4464-ac0f-263c7591aa7a",
   "metadata": {
    "tags": []
   },
   "source": [
    " <img src=\"images/linep.png\" alt=\"ml\" style=\"width : 100%;\"/>"
   ]
  },
  {
   "cell_type": "markdown",
   "id": "9ec5d316-43be-4a1a-887b-c2e4a1493bfd",
   "metadata": {
    "tags": []
   },
   "source": [
    " <img src=\"images/p21.png\" alt=\"ml\" style=\"width : 100%;\"/>"
   ]
  },
  {
   "cell_type": "markdown",
   "id": "c8483899-2040-49a4-b7f4-14a801def20c",
   "metadata": {},
   "source": [
    " <img src=\"images/lines.png\" alt=\"ml\" style=\"width : 100%;\"/>"
   ]
  },
  {
   "cell_type": "code",
   "execution_count": 2,
   "id": "28ce3196-174b-4a35-801b-a103fa2f1536",
   "metadata": {},
   "outputs": [],
   "source": [
    "x,y,a,b,c,k =symbols('x y a b c k')\n",
    "def f(w):\n",
    "    return(kpow(w-1,2)/w+2/w)"
   ]
  },
  {
   "cell_type": "markdown",
   "id": "9d4f3648-6c9d-497b-ba18-da25a75b58ba",
   "metadata": {
    "tags": []
   },
   "source": [
    " <img src=\"images/p21a.png\" alt=\"ml\" style=\"width : 100%;\"/>"
   ]
  },
  {
   "cell_type": "code",
   "execution_count": 3,
   "id": "da8c1a90-0fef-4a0f-965f-baa7c44cf110",
   "metadata": {},
   "outputs": [
    {
     "data": {
      "image/png": "[encoded data removed]",
      "text/latex": [
       "$\\displaystyle \\frac{\\left(c - 1\\right)^{2}}{c} + \\frac{2}{c} + \\frac{\\left(b - 1\\right)^{2}}{b} + \\frac{2}{b} + \\frac{\\left(a - 1\\right)^{2}}{a} + \\frac{2}{a}$"
      ],
      "text/plain": [
       "       2              2              2    \n",
       "(c - 1)    2   (b - 1)    2   (a - 1)    2\n",
       "──────── + ─ + ──────── + ─ + ──────── + ─\n",
       "   c       c      b       b      a       a"
      ]
     },
     "execution_count": 3,
     "metadata": {},
     "output_type": "execute_result"
    }
   ],
   "source": [
    "e1=f(a)+f(b)+f(c) ;e1"
   ]
  },
  {
   "cell_type": "code",
   "execution_count": 4,
   "id": "15059a4a-7612-4be0-979e-a5d2ce60d8d3",
   "metadata": {},
   "outputs": [
    {
     "data": {
      "text/latex": [
       "$\\displaystyle if\\;\\frac{\\left(c - 1\\right)^{2}}{c} + \\frac{2}{c} + \\frac{\\left(b - 1\\right)^{2}}{b} + \\frac{2}{b} + \\frac{\\left(a - 1\\right)^{2}}{a} + \\frac{2}{a}\\;=\\;\\frac{2}{c} + \\frac{2}{b} + \\frac{2}{a}\\;$"
      ],
      "text/plain": [
       "<IPython.core.display.Math object>"
      ]
     },
     "metadata": {},
     "output_type": "display_data"
    },
    {
     "data": {
      "text/latex": [
       "$\\displaystyle then\\;\\frac{\\left(c - 1\\right)^{2}}{c} + \\frac{\\left(b - 1\\right)^{2}}{b} + \\frac{\\left(a - 1\\right)^{2}}{a}\\;=\\;0\\;$"
      ],
      "text/plain": [
       "<IPython.core.display.Math object>"
      ]
     },
     "metadata": {},
     "output_type": "display_data"
    }
   ],
   "source": [
    "sE(['if ',e1,'=',2*(1/a+1/b+1/c)])\n",
    "sE(['then',e1-2/a-2/b-2/c,'=',0])"
   ]
  },
  {
   "cell_type": "code",
   "execution_count": 5,
   "id": "f9ee3aef-6947-4e41-8566-9d7c566752a9",
   "metadata": {},
   "outputs": [
    {
     "data": {
      "text/latex": [
       "$\\displaystyle And..\\;\\frac{\\left(a - 1\\right)^{2}}{a}\\;=\\;0\\;,\\;\\frac{\\left(b - 1\\right)^{2}}{b}\\;=\\;0\\;,\\;\\frac{\\left(c - 1\\right)^{2}}{c}\\;=\\;0\\;$"
      ],
      "text/plain": [
       "<IPython.core.display.Math object>"
      ]
     },
     "metadata": {},
     "output_type": "display_data"
    }
   ],
   "source": [
    "e2=e1-2/a-2/b-2/c \n",
    "sE(['And..',part(e2,[0]),'=',0,',',part(e2,[1]),'=',0,',',part(e2,[2]),'=',0])"
   ]
  },
  {
   "cell_type": "code",
   "execution_count": 6,
   "id": "17b5836a-076f-455a-85df-accbbbf3334e",
   "metadata": {},
   "outputs": [
    {
     "data": {
      "text/latex": [
       "$\\displaystyle Finaly\\;..\\;\\frac{\\left(a - 1\\right)^{2}}{a}\\;=\\;0\\;,\\;\\frac{\\left(b - 1\\right)^{2}}{b}\\;=\\;0\\;,\\;\\frac{\\left(c - 1\\right)^{2}}{c}\\;=\\;0\\;$"
      ],
      "text/plain": [
       "<IPython.core.display.Math object>"
      ]
     },
     "metadata": {},
     "output_type": "display_data"
    },
    {
     "data": {
      "text/latex": [
       "$\\displaystyle and\\;solve\\;that\\;..a\\;=\\;1\\;,b=\\;1\\;,c\\;=\\;1\\;$"
      ],
      "text/plain": [
       "<IPython.core.display.Math object>"
      ]
     },
     "metadata": {},
     "output_type": "display_data"
    }
   ],
   "source": [
    "sE(['Finaly ..',part(e2,[0]),'=',0,',',part(e2,[1]),'=',0,',',part(e2,[2]),'=',0])\n",
    "sE(['and solve that ..a =',1,',b=',1,',c =',1])"
   ]
  },
  {
   "cell_type": "code",
   "execution_count": 7,
   "id": "ab6a5039-47ae-4e52-8e7e-49ef664e2910",
   "metadata": {},
   "outputs": [],
   "source": [
    "def f3(n):\n",
    "    kk=kpow(a,n)+kpow(b,n)+kpow(c,n)\n",
    "    return(kpow(kk,n))"
   ]
  },
  {
   "cell_type": "code",
   "execution_count": 8,
   "id": "bff13755-34f1-471a-85b2-33416750e348",
   "metadata": {},
   "outputs": [
    {
     "data": {
      "image/png": "[encoded data removed]",
      "text/latex": [
       "$\\displaystyle \\frac{\\left(a^{3} + b^{3} + c^{3}\\right)^{3} \\left(a^{6} + b^{6} + c^{6}\\right)^{6}}{\\left(a^{9} + b^{9} + c^{9}\\right)^{9}}$"
      ],
      "text/plain": [
       "              3               6\n",
       "⎛ 3    3    3⎞  ⎛ 6    6    6⎞ \n",
       "⎝a  + b  + c ⎠ ⋅⎝a  + b  + c ⎠ \n",
       "───────────────────────────────\n",
       "                      9        \n",
       "        ⎛ 9    9    9⎞         \n",
       "        ⎝a  + b  + c ⎠         "
      ]
     },
     "execution_count": 8,
     "metadata": {},
     "output_type": "execute_result"
    }
   ],
   "source": [
    "M=f3(3)*f3(6)/f3(9);M"
   ]
  },
  {
   "cell_type": "code",
   "execution_count": 9,
   "id": "9b7525b5-96ea-41c6-9629-58927e7d22a8",
   "metadata": {},
   "outputs": [
    {
     "data": {
      "text/latex": [
       "$\\displaystyle \\frac{\\left(a^{3} + b^{3} + c^{3}\\right)^{3} \\left(a^{6} + b^{6} + c^{6}\\right)^{6}}{\\left(a^{9} + b^{9} + c^{9}\\right)^{9}}\\;=\\;1\\;$"
      ],
      "text/plain": [
       "<IPython.core.display.Math object>"
      ]
     },
     "metadata": {},
     "output_type": "display_data"
    }
   ],
   "source": [
    "sE([M,'=',M.subs({a:1,b:1,c:1})])"
   ]
  },
  {
   "cell_type": "code",
   "execution_count": 11,
   "id": "d8e74439-2516-4872-a8e8-ef2ca2c0fd06",
   "metadata": {},
   "outputs": [
    {
     "data": {
      "text/latex": [
       "$\\displaystyle M=\\;1\\;$"
      ],
      "text/plain": [
       "<IPython.core.display.Math object>"
      ]
     },
     "metadata": {},
     "output_type": "display_data"
    }
   ],
   "source": [
    "sE(['M=',1])"
   ]
  },
  {
   "cell_type": "markdown",
   "id": "b8f6d541-e6a4-475e-b2b8-d53c369c49d9",
   "metadata": {},
   "source": [
    " <img src=\"images/linep.png\" alt=\"ml\" style=\"width : 100%;\"/>"
   ]
  },
  {
   "cell_type": "markdown",
   "id": "8e9f1977-4ed5-47f8-83c4-5095469c7b4c",
   "metadata": {
    "tags": []
   },
   "source": [
    " <img src=\"images/p28.png\" alt=\"ml\" style=\"width : 100%;\"/>"
   ]
  },
  {
   "cell_type": "markdown",
   "id": "35849418-d861-4c04-9431-df3e5fdb3faa",
   "metadata": {},
   "source": [
    " <img src=\"images/lines.png\" alt=\"ml\" style=\"width : 100%;\"/>"
   ]
  },
  {
   "cell_type": "code",
   "execution_count": 27,
   "id": "57d61efe-c0fe-46a8-a7e2-fb22ac29b721",
   "metadata": {},
   "outputs": [],
   "source": [
    "e1,e2,e3= (a*a-b*c)/(b*c),(b*b-a*c)/(a*c),(c*c-a*b)/(a*b) "
   ]
  },
  {
   "cell_type": "code",
   "execution_count": 28,
   "id": "64f9eb3a-52b2-40f9-a9ba-c7255a3fe807",
   "metadata": {},
   "outputs": [
    {
     "data": {
      "image/png": "[encoded data removed]",
      "text/latex": [
       "$\\displaystyle \\frac{a^{2} - b c}{b c} + \\frac{- a c + b^{2}}{a c} + \\frac{- a b + c^{2}}{a b}=0$"
      ],
      "text/plain": [
       "(a**2 - b*c)/(b*c) + (-a*c + b**2)/(a*c) + (-a*b + c**2)/(a*b)=0"
      ]
     },
     "execution_count": 28,
     "metadata": {},
     "output_type": "execute_result"
    }
   ],
   "source": [
    "P=polyclass(e1+e2+e3,0);P.Q"
   ]
  },
  {
   "cell_type": "code",
   "execution_count": 29,
   "id": "2bc7c0fd-76d8-483c-b217-4baf2002f0aa",
   "metadata": {},
   "outputs": [
    {
     "data": {
      "image/png": "[encoded data removed]",
      "text/latex": [
       "$\\displaystyle \\frac{\\left(a + b + c\\right) \\left(a^{2} - a b - a c + b^{2} - b c + c^{2}\\right)}{a b c}=0$"
      ],
      "text/plain": [
       "(a + b + c)*(a**2 - a*b - a*c + b**2 - b*c + c**2)/(a*b*c)=0"
      ]
     },
     "execution_count": 29,
     "metadata": {},
     "output_type": "execute_result"
    }
   ],
   "source": [
    "P.opemat('f',1)"
   ]
  },
  {
   "cell_type": "code",
   "execution_count": 63,
   "id": "f62e9ac5-c5ed-4cc1-8cb1-eeab9b5b682c",
   "metadata": {},
   "outputs": [
    {
     "data": {
      "image/png": "[encoded data removed]",
      "text/latex": [
       "$\\displaystyle a + b + c$"
      ],
      "text/plain": [
       "a + b + c"
      ]
     },
     "execution_count": 63,
     "metadata": {},
     "output_type": "execute_result"
    }
   ],
   "source": [
    "part(P.Q,[0,3])"
   ]
  },
  {
   "cell_type": "code",
   "execution_count": 64,
   "id": "b34fea7e-674d-44bb-9563-e60a74d8cd83",
   "metadata": {},
   "outputs": [
    {
     "data": {
      "image/png": "[encoded data removed]",
      "text/latex": [
       "$\\displaystyle a^{2} - a b - a c + b^{2} - b c + c^{2}$"
      ],
      "text/plain": [
       " 2                2          2\n",
       "a  - a⋅b - a⋅c + b  - b⋅c + c "
      ]
     },
     "execution_count": 64,
     "metadata": {},
     "output_type": "execute_result"
    }
   ],
   "source": [
    "part(P.Q,[0,4])"
   ]
  },
  {
   "cell_type": "code",
   "execution_count": 65,
   "id": "57c709df-f559-438a-a2be-020f510dad36",
   "metadata": {
    "tags": []
   },
   "outputs": [
    {
     "data": {
      "text/latex": [
       "$\\displaystyle if\\;\\frac{\\left(a + b + c\\right) \\left(a^{2} - a b - a c + b^{2} - b c + c^{2}\\right)}{a b c}=0\\;then\\;a + b + c\\;=\\;0\\;or\\;a^{2} - a b - a c + b^{2} - b c + c^{2}\\;=\\;0\\;$"
      ],
      "text/plain": [
       "<IPython.core.display.Math object>"
      ]
     },
     "metadata": {},
     "output_type": "display_data"
    }
   ],
   "source": [
    "sE(['if ',P.Q, 'then ',part(P.Q,[0,3]),'=',0,'or',part(P.Q,[0,4]),'=',0])"
   ]
  },
  {
   "cell_type": "code",
   "execution_count": 66,
   "id": "a8d4f6d9-e7db-4d8f-871c-3d272fb6bb1e",
   "metadata": {
    "tags": []
   },
   "outputs": [
    {
     "data": {
      "text/latex": [
       "$\\displaystyle a + b + c\\;=\\;0\\;then\\;a\\;=-b-c\\;,\\;b\\;=\\;-a-c,\\;c\\;=\\;-a-b\\;$"
      ],
      "text/plain": [
       "<IPython.core.display.Math object>"
      ]
     },
     "metadata": {},
     "output_type": "display_data"
    }
   ],
   "source": [
    "sE([ part(P.Q,[0,3]),'=',0,'then a =-b-c , b = -a-c, c = -a-b '])  "
   ]
  },
  {
   "cell_type": "markdown",
   "id": "50d735c8-da5f-4358-85be-b1a0f5794a59",
   "metadata": {
    "tags": []
   },
   "source": [
    " <img src=\"images/p28.png\" alt=\"ml\" style=\"width : 100%;\"/>"
   ]
  },
  {
   "cell_type": "code",
   "execution_count": 68,
   "id": "1e701041-0d73-4e9b-80b2-bbc70aee1946",
   "metadata": {},
   "outputs": [
    {
     "data": {
      "image/png": "[encoded data removed]",
      "text/latex": [
       "$\\displaystyle M=\\frac{a + b}{c} + \\frac{a + c}{b} + \\frac{b + c}{a}$"
      ],
      "text/plain": [
       "M=(a + b)/c + (a + c)/b + (b + c)/a"
      ]
     },
     "execution_count": 68,
     "metadata": {},
     "output_type": "execute_result"
    }
   ],
   "source": [
    "M=symbols('M')\n",
    "P2=polyclass(M, (b+c)/a+(c+a)/b+(a+b)/c);P2.Q"
   ]
  },
  {
   "cell_type": "code",
   "execution_count": 69,
   "id": "6c77d3fe-a3da-4a1c-99e8-a06286a132bd",
   "metadata": {
    "tags": []
   },
   "outputs": [
    {
     "data": {
      "image/png": "[encoded data removed]",
      "text/latex": [
       "$\\displaystyle M=-3$"
      ],
      "text/plain": [
       "M=-3"
      ]
     },
     "execution_count": 69,
     "metadata": {},
     "output_type": "execute_result"
    }
   ],
   "source": [
    "P2.subsubs([a+b,a+c,b+c],[-c,-b,-a])"
   ]
  },
  {
   "cell_type": "code",
   "execution_count": 71,
   "id": "f8d1160c-dca3-4c84-88b0-ed96112bcffa",
   "metadata": {
    "tags": []
   },
   "outputs": [
    {
     "data": {
      "text/latex": [
       "$\\displaystyle if\\;a^{2} - a b - a c + b^{2} - b c + c^{2}\\;=\\;0\\;then\\;a\\;=\\;b\\;=\\;c\\;$"
      ],
      "text/plain": [
       "<IPython.core.display.Math object>"
      ]
     },
     "metadata": {},
     "output_type": "display_data"
    }
   ],
   "source": [
    "sE(['if ',part(P.Q,[0,4]),'=',0,'then a = b = c'])"
   ]
  },
  {
   "cell_type": "code",
   "execution_count": 72,
   "id": "12dfdbf7-5979-4e52-bc01-b6b289469ce0",
   "metadata": {
    "tags": []
   },
   "outputs": [
    {
     "data": {
      "image/png": "[encoded data removed]",
      "text/latex": [
       "$\\displaystyle M=6$"
      ],
      "text/plain": [
       "M=6"
      ]
     },
     "execution_count": 72,
     "metadata": {},
     "output_type": "execute_result"
    }
   ],
   "source": [
    "P2.subsubs([a+b,a+c,b+c],[2*c,2*b,2*a])"
   ]
  },
  {
   "cell_type": "markdown",
   "id": "29d2d038-6388-4ddc-91ac-c76ff191b48c",
   "metadata": {
    "tags": []
   },
   "source": [
    " <img src=\"images/linep.png\" alt=\"ml\" style=\"width : 100%;\"/>"
   ]
  },
  {
   "cell_type": "markdown",
   "id": "56668eed-58be-4548-940d-145fa7d3309c",
   "metadata": {
    "tags": []
   },
   "source": [
    " <img src=\"images/p29.png\" alt=\"ml\" style=\"width : 100%;\"/>"
   ]
  },
  {
   "cell_type": "markdown",
   "id": "e2e6fc77-56c4-4da2-af03-9e09992c5b8d",
   "metadata": {},
   "source": [
    " <img src=\"images/lines.png\" alt=\"ml\" style=\"width : 100%;\"/>"
   ]
  },
  {
   "cell_type": "code",
   "execution_count": 27,
   "id": "851a62e1-e199-4451-bddb-ee13019b5ebc",
   "metadata": {},
   "outputs": [],
   "source": [
    "e1,e2,e3= (a*a-b*c)/(b*c),(b*b-a*c)/(a*c),(c*c-a*b)/(a*b) "
   ]
  },
  {
   "cell_type": "code",
   "execution_count": 28,
   "id": "ac167971-3420-425d-90d6-6f22540bb0e9",
   "metadata": {},
   "outputs": [
    {
     "data": {
      "image/png": "[encoded data removed]",
      "text/latex": [
       "$\\displaystyle \\frac{a^{2} - b c}{b c} + \\frac{- a c + b^{2}}{a c} + \\frac{- a b + c^{2}}{a b}=0$"
      ],
      "text/plain": [
       "(a**2 - b*c)/(b*c) + (-a*c + b**2)/(a*c) + (-a*b + c**2)/(a*b)=0"
      ]
     },
     "execution_count": 28,
     "metadata": {},
     "output_type": "execute_result"
    }
   ],
   "source": [
    "P=polyclass(e1+e2+e3,0);P.Q"
   ]
  },
  {
   "cell_type": "code",
   "execution_count": 29,
   "id": "8bcef559-71ce-4040-bbe2-1f5ad8183bcb",
   "metadata": {},
   "outputs": [
    {
     "data": {
      "image/png": "[encoded data removed]",
      "text/latex": [
       "$\\displaystyle \\frac{\\left(a + b + c\\right) \\left(a^{2} - a b - a c + b^{2} - b c + c^{2}\\right)}{a b c}=0$"
      ],
      "text/plain": [
       "(a + b + c)*(a**2 - a*b - a*c + b**2 - b*c + c**2)/(a*b*c)=0"
      ]
     },
     "execution_count": 29,
     "metadata": {},
     "output_type": "execute_result"
    }
   ],
   "source": [
    "P.opemat('f',1)"
   ]
  },
  {
   "cell_type": "code",
   "execution_count": 63,
   "id": "5b288664-2de5-45e9-a2c2-0177180e6c80",
   "metadata": {},
   "outputs": [
    {
     "data": {
      "image/png": "[encoded data removed]",
      "text/latex": [
       "$\\displaystyle a + b + c$"
      ],
      "text/plain": [
       "a + b + c"
      ]
     },
     "execution_count": 63,
     "metadata": {},
     "output_type": "execute_result"
    }
   ],
   "source": [
    "part(P.Q,[0,3])"
   ]
  },
  {
   "cell_type": "code",
   "execution_count": 64,
   "id": "8be51601-297a-45e3-863f-2f977973cbba",
   "metadata": {},
   "outputs": [
    {
     "data": {
      "image/png": "[encoded data removed]",
      "text/latex": [
       "$\\displaystyle a^{2} - a b - a c + b^{2} - b c + c^{2}$"
      ],
      "text/plain": [
       " 2                2          2\n",
       "a  - a⋅b - a⋅c + b  - b⋅c + c "
      ]
     },
     "execution_count": 64,
     "metadata": {},
     "output_type": "execute_result"
    }
   ],
   "source": [
    "part(P.Q,[0,4])"
   ]
  },
  {
   "cell_type": "code",
   "execution_count": 65,
   "id": "75916f6a-b8c4-418e-9ec3-26ec6598874f",
   "metadata": {
    "tags": []
   },
   "outputs": [
    {
     "data": {
      "text/latex": [
       "$\\displaystyle if\\;\\frac{\\left(a + b + c\\right) \\left(a^{2} - a b - a c + b^{2} - b c + c^{2}\\right)}{a b c}=0\\;then\\;a + b + c\\;=\\;0\\;or\\;a^{2} - a b - a c + b^{2} - b c + c^{2}\\;=\\;0\\;$"
      ],
      "text/plain": [
       "<IPython.core.display.Math object>"
      ]
     },
     "metadata": {},
     "output_type": "display_data"
    }
   ],
   "source": [
    "sE(['if ',P.Q, 'then ',part(P.Q,[0,3]),'=',0,'or',part(P.Q,[0,4]),'=',0])"
   ]
  },
  {
   "cell_type": "code",
   "execution_count": 66,
   "id": "275d027a-f760-400d-8f6a-8a88feb717e1",
   "metadata": {
    "tags": []
   },
   "outputs": [
    {
     "data": {
      "text/latex": [
       "$\\displaystyle a + b + c\\;=\\;0\\;then\\;a\\;=-b-c\\;,\\;b\\;=\\;-a-c,\\;c\\;=\\;-a-b\\;$"
      ],
      "text/plain": [
       "<IPython.core.display.Math object>"
      ]
     },
     "metadata": {},
     "output_type": "display_data"
    }
   ],
   "source": [
    "sE([ part(P.Q,[0,3]),'=',0,'then a =-b-c , b = -a-c, c = -a-b '])  "
   ]
  },
  {
   "cell_type": "code",
   "execution_count": 68,
   "id": "a5c17d42-89db-45a9-b2a5-97c317ccbfdc",
   "metadata": {},
   "outputs": [
    {
     "data": {
      "image/png": "[encoded data removed]",
      "text/latex": [
       "$\\displaystyle M=\\frac{a + b}{c} + \\frac{a + c}{b} + \\frac{b + c}{a}$"
      ],
      "text/plain": [
       "M=(a + b)/c + (a + c)/b + (b + c)/a"
      ]
     },
     "execution_count": 68,
     "metadata": {},
     "output_type": "execute_result"
    }
   ],
   "source": [
    "M=symbols('M')\n",
    "P2=polyclass(M, (b+c)/a+(c+a)/b+(a+b)/c);P2.Q"
   ]
  },
  {
   "cell_type": "code",
   "execution_count": 69,
   "id": "8f6704bf-f1dd-4402-b285-c649931b0db4",
   "metadata": {
    "tags": []
   },
   "outputs": [
    {
     "data": {
      "image/png": "[encoded data removed]",
      "text/latex": [
       "$\\displaystyle M=-3$"
      ],
      "text/plain": [
       "M=-3"
      ]
     },
     "execution_count": 69,
     "metadata": {},
     "output_type": "execute_result"
    }
   ],
   "source": [
    "P2.subsubs([a+b,a+c,b+c],[-c,-b,-a])"
   ]
  },
  {
   "cell_type": "code",
   "execution_count": 71,
   "id": "fae0a1d3-0686-400b-8bb9-8f85a71c6e0f",
   "metadata": {
    "tags": []
   },
   "outputs": [
    {
     "data": {
      "text/latex": [
       "$\\displaystyle if\\;a^{2} - a b - a c + b^{2} - b c + c^{2}\\;=\\;0\\;then\\;a\\;=\\;b\\;=\\;c\\;$"
      ],
      "text/plain": [
       "<IPython.core.display.Math object>"
      ]
     },
     "metadata": {},
     "output_type": "display_data"
    }
   ],
   "source": [
    "sE(['if ',part(P.Q,[0,4]),'=',0,'then a = b = c'])"
   ]
  },
  {
   "cell_type": "code",
   "execution_count": 72,
   "id": "0a4abc97-7663-4620-97df-3f749e6492cc",
   "metadata": {
    "tags": []
   },
   "outputs": [
    {
     "data": {
      "image/png": "[encoded data removed]",
      "text/latex": [
       "$\\displaystyle M=6$"
      ],
      "text/plain": [
       "M=6"
      ]
     },
     "execution_count": 72,
     "metadata": {},
     "output_type": "execute_result"
    }
   ],
   "source": [
    "P2.subsubs([a+b,a+c,b+c],[2*c,2*b,2*a])"
   ]
  },
  {
   "cell_type": "markdown",
   "id": "ce0410e5-2ea1-45df-9ef4-bdc480edf407",
   "metadata": {},
   "source": [
    " <img src=\"images/linep.png\" alt=\"ml\" style=\"width : 100%;\"/>"
   ]
  },
  {
   "cell_type": "markdown",
   "id": "40ac633b-c179-4dff-82d1-de4109c80295",
   "metadata": {
    "tags": []
   },
   "source": [
    " <img src=\"images/p30.png\" alt=\"ml\" style=\"width : 100%;\"/>"
   ]
  },
  {
   "cell_type": "markdown",
   "id": "a9915a11-7407-4a3c-aede-0dd55828d182",
   "metadata": {},
   "source": [
    " <img src=\"images/lines.png\" alt=\"ml\" style=\"width : 100%;\"/>"
   ]
  },
  {
   "cell_type": "code",
   "execution_count": 2,
   "id": "8bd89f61-4c5a-44c5-825f-a5e00ebd7eab",
   "metadata": {},
   "outputs": [
    {
     "data": {
      "image/png": "[encoded data removed]",
      "text/latex": [
       "$\\displaystyle \\frac{a}{b} + \\frac{b}{a}=1$"
      ],
      "text/plain": [
       "a/b + b/a=1"
      ]
     },
     "execution_count": 2,
     "metadata": {},
     "output_type": "execute_result"
    }
   ],
   "source": [
    "a,b,=symbols('a b')\n",
    "P=polyclass(a/b+b/a,1);P.Q"
   ]
  },
  {
   "cell_type": "code",
   "execution_count": 3,
   "id": "4a4e8a04-0f82-4236-954e-783ca26995d8",
   "metadata": {},
   "outputs": [
    {
     "data": {
      "image/png": "[encoded data removed]",
      "text/latex": [
       "$\\displaystyle \\frac{a^{2} + b^{2}}{a b}=1$"
      ],
      "text/plain": [
       "(a**2 + b**2)/(a*b)=1"
      ]
     },
     "execution_count": 3,
     "metadata": {},
     "output_type": "execute_result"
    }
   ],
   "source": [
    "P.opemat('f',1)"
   ]
  },
  {
   "cell_type": "code",
   "execution_count": 4,
   "id": "c983221b-a1eb-44b8-a5f5-f8fcf752a494",
   "metadata": {},
   "outputs": [
    {
     "data": {
      "image/png": "[encoded data removed]",
      "text/latex": [
       "$\\displaystyle a^{2} + b^{2}=a b$"
      ],
      "text/plain": [
       "a**2 + b**2=a*b"
      ]
     },
     "execution_count": 4,
     "metadata": {},
     "output_type": "execute_result"
    }
   ],
   "source": [
    "P.ope4('M',a*b,1)"
   ]
  },
  {
   "cell_type": "code",
   "execution_count": 5,
   "id": "ab77d7ea-3030-496d-85c2-183397a86e57",
   "metadata": {},
   "outputs": [
    {
     "data": {
      "image/png": "[encoded data removed]",
      "text/latex": [
       "$\\displaystyle a^{2} - a b + b^{2}=0$"
      ],
      "text/plain": [
       "a**2 - a*b + b**2=0"
      ]
     },
     "execution_count": 5,
     "metadata": {},
     "output_type": "execute_result"
    }
   ],
   "source": [
    "exp1=P.ope4('S',-a*b,1);exp1"
   ]
  },
  {
   "cell_type": "code",
   "execution_count": 6,
   "id": "885a3356-3253-4610-9554-deca2aecd004",
   "metadata": {},
   "outputs": [
    {
     "data": {
      "image/png": "[encoded data removed]",
      "text/latex": [
       "$\\displaystyle a^{3} + b^{3}=0$"
      ],
      "text/plain": [
       "a**3 + b**3=0"
      ]
     },
     "execution_count": 6,
     "metadata": {},
     "output_type": "execute_result"
    }
   ],
   "source": [
    "P.ope4('M',a+b,1,'es')"
   ]
  },
  {
   "cell_type": "code",
   "execution_count": 10,
   "id": "1ec28f80-3351-47a3-a685-de4da77e49cd",
   "metadata": {},
   "outputs": [
    {
     "data": {
      "text/latex": [
       "$\\displaystyle if\\;a^{3} + b^{3}=0\\;then..\\;a^{3}\\;=\\;- b^{3}\\;$"
      ],
      "text/plain": [
       "<IPython.core.display.Math object>"
      ]
     },
     "metadata": {},
     "output_type": "display_data"
    }
   ],
   "source": [
    "sE([ 'if ',P.Q,'then..', a**3,'=',-b**3])"
   ]
  },
  {
   "cell_type": "code",
   "execution_count": 11,
   "id": "398a136c-9a43-43c8-9df3-6a471481556d",
   "metadata": {
    "tags": []
   },
   "outputs": [],
   "source": [
    "def f1(a,b):\n",
    "    return(   kpow(2*(a/b)+ kpow(b,3)/kpow(a,3),3))"
   ]
  },
  {
   "cell_type": "code",
   "execution_count": 12,
   "id": "b094fe40-2218-4a94-a31c-4d74c6e5219d",
   "metadata": {},
   "outputs": [
    {
     "data": {
      "image/png": "[encoded data removed]",
      "text/latex": [
       "$\\displaystyle \\left(\\frac{2 a}{b} + \\frac{b^{3}}{a^{3}}\\right)^{3} + \\left(\\frac{a^{3}}{b^{3}} + \\frac{2 b}{a}\\right)^{3}$"
      ],
      "text/plain": [
       "          3             3\n",
       "⎛       3⎞    ⎛ 3      ⎞ \n",
       "⎜2⋅a   b ⎟    ⎜a    2⋅b⎟ \n",
       "⎜─── + ──⎟  + ⎜── + ───⎟ \n",
       "⎜ b     3⎟    ⎜ 3    a ⎟ \n",
       "⎝      a ⎠    ⎝b       ⎠ "
      ]
     },
     "execution_count": 12,
     "metadata": {},
     "output_type": "execute_result"
    }
   ],
   "source": [
    "M=f1(a,b)+f1(b,a);M"
   ]
  },
  {
   "cell_type": "code",
   "execution_count": 13,
   "id": "3a6cd606-512e-4c60-8975-de5d693a5bc5",
   "metadata": {},
   "outputs": [
    {
     "data": {
      "image/png": "[encoded data removed]",
      "text/latex": [
       "$\\displaystyle \\left(-1 + \\frac{2 b}{a}\\right)^{3} + \\left(\\frac{2 a}{b} - 1\\right)^{3}$"
      ],
      "text/plain": [
       "          3            3\n",
       "⎛     2⋅b⎞    ⎛2⋅a    ⎞ \n",
       "⎜-1 + ───⎟  + ⎜─── - 1⎟ \n",
       "⎝      a ⎠    ⎝ b     ⎠ "
      ]
     },
     "execution_count": 13,
     "metadata": {},
     "output_type": "execute_result"
    }
   ],
   "source": [
    "M=M.subs(b**3,-a**3);M"
   ]
  },
  {
   "cell_type": "code",
   "execution_count": 14,
   "id": "db772514-5ace-4d1e-a766-3562f6c2ee3e",
   "metadata": {},
   "outputs": [
    {
     "data": {
      "text/latex": [
       "$\\displaystyle we\\;will\\;make\\;..\\;\\frac{2 a}{b} - 1\\;=\\;x\\;and\\;-1 + \\frac{2 b}{a}\\;=y\\;$"
      ],
      "text/plain": [
       "<IPython.core.display.Math object>"
      ]
     },
     "metadata": {},
     "output_type": "display_data"
    }
   ],
   "source": [
    "sE(['we will make ..',part(M,[0,0]),'= x and',part(M,[1,0]),'=y'])"
   ]
  },
  {
   "cell_type": "code",
   "execution_count": 15,
   "id": "5c9954c0-7370-42c6-b167-2c6f02f658de",
   "metadata": {},
   "outputs": [
    {
     "data": {
      "text/latex": [
       "$\\displaystyle remember\\;that\\;\\left(x + y\\right)^{3}\\;=\\;\\left(x + y\\right) \\left(x^{2} - x y + y^{2}\\right)\\;$"
      ],
      "text/plain": [
       "<IPython.core.display.Math object>"
      ]
     },
     "metadata": {},
     "output_type": "display_data"
    }
   ],
   "source": [
    " sE([ 'remember that',kpow((x+y),3),'=',(x+y)*(x*x-x*y+y*y)]) "
   ]
  },
  {
   "cell_type": "code",
   "execution_count": 16,
   "id": "a0050037-3686-419e-a750-a7e7e7bae5a5",
   "metadata": {},
   "outputs": [
    {
     "data": {
      "image/png": "[encoded data removed]",
      "text/latex": [
       "$\\displaystyle \\left(x + y\\right) \\left(x^{2} - x y + y^{2}\\right)$"
      ],
      "text/plain": [
       "        ⎛ 2          2⎞\n",
       "(x + y)⋅⎝x  - x⋅y + y ⎠"
      ]
     },
     "execution_count": 16,
     "metadata": {},
     "output_type": "execute_result"
    }
   ],
   "source": [
    "w1=(x+y)*(x*x-x*y+y*y);w1"
   ]
  },
  {
   "cell_type": "code",
   "execution_count": 17,
   "id": "d1e70a2b-cd49-4c59-92c6-96c5f6d6fa8d",
   "metadata": {},
   "outputs": [
    {
     "data": {
      "image/png": "[encoded data removed]",
      "text/latex": [
       "$\\displaystyle \\frac{2 a}{b} - 1$"
      ],
      "text/plain": [
       "2⋅a    \n",
       "─── - 1\n",
       " b     "
      ]
     },
     "execution_count": 17,
     "metadata": {},
     "output_type": "execute_result"
    }
   ],
   "source": [
    "w11=part(M,[0,0]);w11"
   ]
  },
  {
   "cell_type": "code",
   "execution_count": 18,
   "id": "2bf5c96f-c628-426f-89a0-5893a6e26139",
   "metadata": {},
   "outputs": [
    {
     "data": {
      "image/png": "[encoded data removed]",
      "text/latex": [
       "$\\displaystyle -1 + \\frac{2 b}{a}$"
      ],
      "text/plain": [
       "     2⋅b\n",
       "-1 + ───\n",
       "      a "
      ]
     },
     "execution_count": 18,
     "metadata": {},
     "output_type": "execute_result"
    }
   ],
   "source": [
    "w12=part(M,[1,0]);w12"
   ]
  },
  {
   "cell_type": "code",
   "execution_count": 19,
   "id": "9d48824f-6ee6-4859-bc3c-35dd2ca270f1",
   "metadata": {},
   "outputs": [
    {
     "data": {
      "image/png": "[encoded data removed]",
      "text/latex": [
       "$\\displaystyle Q=\\left(x + y\\right) \\left(x^{2} - x y + y^{2}\\right)$"
      ],
      "text/plain": [
       "Q=(x + y)*(x**2 - x*y + y**2)"
      ]
     },
     "execution_count": 19,
     "metadata": {},
     "output_type": "execute_result"
    }
   ],
   "source": [
    "Q=symbols('Q')\n",
    "M2=polyclass(Q,w1);M2.Q"
   ]
  },
  {
   "cell_type": "code",
   "execution_count": 22,
   "id": "2660b530-1787-4abb-bf54-4ae6e6de3a01",
   "metadata": {},
   "outputs": [
    {
     "data": {
      "text/latex": [
       "$\\displaystyle remplacement....\\;x\\;=\\;\\frac{2 a}{b} - 1\\;and\\;y=\\;-1 + \\frac{2 b}{a}\\;$"
      ],
      "text/plain": [
       "<IPython.core.display.Math object>"
      ]
     },
     "metadata": {},
     "output_type": "display_data"
    }
   ],
   "source": [
    "sE(['remplacement.... x =',part(M,[0,0]),'and y=',part(M,[1,0])])"
   ]
  },
  {
   "cell_type": "code",
   "execution_count": 23,
   "id": "9f3592d8-b1fa-460f-a2c4-4bd7c4192a41",
   "metadata": {},
   "outputs": [
    {
     "data": {
      "image/png": "[encoded data removed]",
      "text/latex": [
       "$\\displaystyle Q=\\left(\\frac{2 a}{b} - 2 + \\frac{2 b}{a}\\right) \\left(\\left(-1 + \\frac{2 b}{a}\\right)^{2} - \\left(-1 + \\frac{2 b}{a}\\right) \\left(\\frac{2 a}{b} - 1\\right) + \\left(\\frac{2 a}{b} - 1\\right)^{2}\\right)$"
      ],
      "text/plain": [
       "Q=(2*a/b - 2 + 2*b/a)*((-1 + 2*b/a)**2 - (-1 + 2*b/a)*(2*a/b - 1) + (2*a/b - 1)**2)"
      ]
     },
     "execution_count": 23,
     "metadata": {},
     "output_type": "execute_result"
    }
   ],
   "source": [
    "M2.subsubs([x,y],[w11,w12],1) "
   ]
  },
  {
   "cell_type": "code",
   "execution_count": 24,
   "id": "02835951-3614-41ba-91e2-30a0326d6b7d",
   "metadata": {},
   "outputs": [
    {
     "data": {
      "image/png": "[encoded data removed]",
      "text/latex": [
       "$\\displaystyle \\frac{2 a}{b} - 2 + \\frac{2 b}{a}$"
      ],
      "text/plain": [
       "2⋅a       2⋅b\n",
       "─── - 2 + ───\n",
       " b         a "
      ]
     },
     "execution_count": 24,
     "metadata": {},
     "output_type": "execute_result"
    }
   ],
   "source": [
    "# get the first monomie\n",
    "w3=part(M2.Q,[1,0]);w3"
   ]
  },
  {
   "cell_type": "code",
   "execution_count": 25,
   "id": "b1d27f13-1646-4095-aab0-7462c5d14abc",
   "metadata": {},
   "outputs": [
    {
     "data": {
      "image/png": "[encoded data removed]",
      "text/latex": [
       "$\\displaystyle \\frac{2 \\left(a^{2} - a b + b^{2}\\right)}{a b}$"
      ],
      "text/plain": [
       "  ⎛ 2          2⎞\n",
       "2⋅⎝a  - a⋅b + b ⎠\n",
       "─────────────────\n",
       "       a⋅b       "
      ]
     },
     "execution_count": 25,
     "metadata": {},
     "output_type": "execute_result"
    }
   ],
   "source": [
    "w3=factor(w3);w3"
   ]
  },
  {
   "cell_type": "code",
   "execution_count": 32,
   "id": "a454ab8e-1da1-4016-b813-501ceb753411",
   "metadata": {},
   "outputs": [
    {
     "data": {
      "text/latex": [
       "$\\displaystyle if\\;a^{2} - a b + b^{2}=0\\;then..\\;\\frac{2 \\left(a^{2} - a b + b^{2}\\right)}{a b}\\;=\\;0\\;also..\\;$"
      ],
      "text/plain": [
       "<IPython.core.display.Math object>"
      ]
     },
     "metadata": {},
     "output_type": "display_data"
    },
    {
     "data": {
      "text/latex": [
       "$\\displaystyle \\left(\\frac{2 a}{b} - 2 + \\frac{2 b}{a}\\right) \\left(\\left(-1 + \\frac{2 b}{a}\\right)^{2} - \\left(-1 + \\frac{2 b}{a}\\right) \\left(\\frac{2 a}{b} - 1\\right) + \\left(\\frac{2 a}{b} - 1\\right)^{2}\\right)\\;=0\\;$"
      ],
      "text/plain": [
       "<IPython.core.display.Math object>"
      ]
     },
     "metadata": {},
     "output_type": "display_data"
    },
    {
     "data": {
      "text/latex": [
       "$\\displaystyle finally..\\;\\left(\\frac{2 a}{b} + \\frac{b^{3}}{a^{3}}\\right)^{3} + \\left(\\frac{a^{3}}{b^{3}} + \\frac{2 b}{a}\\right)^{3}\\;=0\\;$"
      ],
      "text/plain": [
       "<IPython.core.display.Math object>"
      ]
     },
     "metadata": {},
     "output_type": "display_data"
    }
   ],
   "source": [
    "sE(['if  ',exp1,'then..', w3,'= 0 also..'])\n",
    "sE([M2.q2,'=0'])\n",
    "sE(['finally.. ',f1(a,b)+f1(b,a),'=0'])"
   ]
  },
  {
   "cell_type": "markdown",
   "id": "94016870-d1d0-4f55-8790-e617bad60177",
   "metadata": {},
   "source": [
    " <img src=\"images/linep.png\" alt=\"ml\" style=\"width : 100%;\"/>"
   ]
  },
  {
   "cell_type": "markdown",
   "id": "73391682-6b29-4464-ac69-c0816d51ad0d",
   "metadata": {
    "tags": []
   },
   "source": [
    " <img src=\"images/p31.png\" alt=\"ml\" style=\"width : 100%;\"/>"
   ]
  },
  {
   "cell_type": "markdown",
   "id": "06cf9b86-63e9-4097-bc2f-0fd271eca1d4",
   "metadata": {},
   "source": [
    " <img src=\"images/lines.png\" alt=\"ml\" style=\"width : 100%;\"/>"
   ]
  },
  {
   "cell_type": "code",
   "execution_count": 18,
   "id": "de636695-25e8-4dd2-8ee0-2e2fe782c796",
   "metadata": {},
   "outputs": [
    {
     "data": {
      "image/png": "[encoded data removed]",
      "text/latex": [
       "$\\displaystyle \\frac{1}{y} - \\frac{1}{x}=2$"
      ],
      "text/plain": [
       "1/y - 1/x=2"
      ]
     },
     "execution_count": 18,
     "metadata": {},
     "output_type": "execute_result"
    }
   ],
   "source": [
    "x,y,=symbols('x y')\n",
    "P1=polyclass(1/y-1/x,2);P1.Q"
   ]
  },
  {
   "cell_type": "code",
   "execution_count": 19,
   "id": "0a9dad8e-685a-4a17-baf2-a3e604b90294",
   "metadata": {},
   "outputs": [
    {
     "data": {
      "image/png": "[encoded data removed]",
      "text/latex": [
       "$\\displaystyle \\frac{x - y}{x y}=2$"
      ],
      "text/plain": [
       "(x - y)/(x*y)=2"
      ]
     },
     "execution_count": 19,
     "metadata": {},
     "output_type": "execute_result"
    }
   ],
   "source": [
    "P1.opemat('f',1)"
   ]
  },
  {
   "cell_type": "code",
   "execution_count": 20,
   "id": "b2a012da-17e1-4a8b-8724-92311a3b0828",
   "metadata": {},
   "outputs": [
    {
     "data": {
      "image/png": "[encoded data removed]",
      "text/latex": [
       "$\\displaystyle x - y=2 x y$"
      ],
      "text/plain": [
       "x - y=2*x*y"
      ]
     },
     "execution_count": 20,
     "metadata": {},
     "output_type": "execute_result"
    }
   ],
   "source": [
    "P1.ope4('M',x*y,1)"
   ]
  },
  {
   "cell_type": "code",
   "execution_count": 21,
   "id": "bd1cc58e-708d-4ffa-a49e-67c1423714a1",
   "metadata": {},
   "outputs": [
    {
     "data": {
      "image/png": "[encoded data removed]",
      "text/latex": [
       "$\\displaystyle x^{2} - y^{2}=2 x^{2} y + 2 x y^{2}$"
      ],
      "text/plain": [
       "x**2 - y**2=2*x**2*y + 2*x*y**2"
      ]
     },
     "execution_count": 21,
     "metadata": {},
     "output_type": "execute_result"
    }
   ],
   "source": [
    "P2=polyclass(P1.ope4('M',(x+y),'e'));P2.Q"
   ]
  },
  {
   "cell_type": "markdown",
   "id": "c19abe16-cb53-4d9c-819e-8d26038b0dc5",
   "metadata": {
    "tags": []
   },
   "source": [
    " <img src=\"images/p31.png\" alt=\"ml\" style=\"width : 100%;\"/>"
   ]
  },
  {
   "cell_type": "code",
   "execution_count": 24,
   "id": "c03fb590-1663-46a2-a65b-ebe54b47b9a6",
   "metadata": {},
   "outputs": [],
   "source": [
    "def fxy(n1,n2):\n",
    "    return(kpow(x,n1)*kpow(y,n2))"
   ]
  },
  {
   "cell_type": "code",
   "execution_count": 25,
   "id": "c2b9dce2-328a-4ac8-8374-7c3447d4bf50",
   "metadata": {},
   "outputs": [
    {
     "data": {
      "image/png": "[encoded data removed]",
      "text/latex": [
       "$\\displaystyle \\frac{16 x^{4} y^{4} + \\left(2 x^{2} y + 2 x y^{2}\\right)^{2}}{x^{4} y^{2} + x^{2} y^{4}}$"
      ],
      "text/plain": [
       "                            2\n",
       "    4  4   ⎛   2          2⎞ \n",
       "16⋅x ⋅y  + ⎝2⋅x ⋅y + 2⋅x⋅y ⎠ \n",
       "─────────────────────────────\n",
       "         4  2    2  4        \n",
       "        x ⋅y  + x ⋅y         "
      ]
     },
     "execution_count": 25,
     "metadata": {},
     "output_type": "execute_result"
    }
   ],
   "source": [
    "(16*fxy(4,4)+kpow(P2.q2,2))/(fxy(4,2)+fxy(2,4))"
   ]
  },
  {
   "cell_type": "code",
   "execution_count": 33,
   "id": "c5314f68-ce1c-426f-858c-1291ddbbfad0",
   "metadata": {},
   "outputs": [
    {
     "data": {
      "image/png": "[encoded data removed]",
      "text/latex": [
       "$\\displaystyle \\frac{4 \\left(4 x^{2} y^{2} + \\left(x + y\\right)^{2}\\right)}{x^{2} + y^{2}}$"
      ],
      "text/plain": [
       "  ⎛   2  2          2⎞\n",
       "4⋅⎝4⋅x ⋅y  + (x + y) ⎠\n",
       "──────────────────────\n",
       "        2    2        \n",
       "       x  + y         "
      ]
     },
     "execution_count": 33,
     "metadata": {},
     "output_type": "execute_result"
    }
   ],
   "source": [
    "kres=simplify((16*fxy(4,4)+kpow(P2.q2,2))/(fxy(4,2)+fxy(2,4)));kres"
   ]
  },
  {
   "cell_type": "code",
   "execution_count": 39,
   "id": "074176c6-d5ec-47de-a6db-04809ceee6b9",
   "metadata": {},
   "outputs": [
    {
     "data": {
      "image/png": "[encoded data removed]",
      "text/latex": [
       "$\\displaystyle \\left(x - y\\right)^{2}=4 x^{2} y^{2}$"
      ],
      "text/plain": [
       "(x - y)**2=4*x**2*y**2"
      ]
     },
     "execution_count": 39,
     "metadata": {},
     "output_type": "execute_result"
    }
   ],
   "source": [
    "P3=polyclass(P.ope4('P',2));P3.Q"
   ]
  },
  {
   "cell_type": "code",
   "execution_count": 40,
   "id": "c1d131b0-66e7-4920-9159-7dfee84e1680",
   "metadata": {},
   "outputs": [
    {
     "data": {
      "image/png": "[encoded data removed]",
      "text/latex": [
       "$\\displaystyle x^{2} - 2 x y + y^{2}=4 x^{2} y^{2}$"
      ],
      "text/plain": [
       "x**2 - 2*x*y + y**2=4*x**2*y**2"
      ]
     },
     "execution_count": 40,
     "metadata": {},
     "output_type": "execute_result"
    }
   ],
   "source": [
    "P3.opemat('e',1)"
   ]
  },
  {
   "cell_type": "code",
   "execution_count": 41,
   "id": "706900fd-829f-4824-ae06-b1e10d1aeb45",
   "metadata": {},
   "outputs": [
    {
     "data": {
      "image/png": "[encoded data removed]",
      "text/latex": [
       "$\\displaystyle x^{2} + y^{2}=2 x y \\left(2 x y + 1\\right)$"
      ],
      "text/plain": [
       "x**2 + y**2=2*x*y*(2*x*y + 1)"
      ]
     },
     "execution_count": 41,
     "metadata": {},
     "output_type": "execute_result"
    }
   ],
   "source": [
    "P3.ope4('S',+2*x*y,1,'f')"
   ]
  },
  {
   "cell_type": "code",
   "execution_count": 42,
   "id": "86519d45-0b7b-422d-b50b-1b3ce61d66ac",
   "metadata": {},
   "outputs": [
    {
     "data": {
      "image/png": "[encoded data removed]",
      "text/latex": [
       "$\\displaystyle x^{2} + y^{2}$"
      ],
      "text/plain": [
       " 2    2\n",
       "x  + y "
      ]
     },
     "execution_count": 42,
     "metadata": {},
     "output_type": "execute_result"
    }
   ],
   "source": [
    "r1=P3.q1;r1"
   ]
  },
  {
   "cell_type": "code",
   "execution_count": 43,
   "id": "b392d166-89d5-4285-8d16-7bcc0002a0c0",
   "metadata": {},
   "outputs": [
    {
     "data": {
      "image/png": "[encoded data removed]",
      "text/latex": [
       "$\\displaystyle 4 x^{2} y^{2} + 2 x y$"
      ],
      "text/plain": [
       "   2  2        \n",
       "4⋅x ⋅y  + 2⋅x⋅y"
      ]
     },
     "execution_count": 43,
     "metadata": {},
     "output_type": "execute_result"
    }
   ],
   "source": [
    "r2=expand(P3.q2);r2"
   ]
  },
  {
   "cell_type": "code",
   "execution_count": 44,
   "id": "022deff9-8ef3-496d-8405-6065fe45cdcf",
   "metadata": {},
   "outputs": [
    {
     "data": {
      "image/png": "[encoded data removed]",
      "text/latex": [
       "$\\displaystyle \\left(x + y\\right)^{2}=4 x y \\left(x y + 1\\right)$"
      ],
      "text/plain": [
       "(x + y)**2=4*x*y*(x*y + 1)"
      ]
     },
     "execution_count": 44,
     "metadata": {},
     "output_type": "execute_result"
    }
   ],
   "source": [
    "P3.ope4('S',+2*x*y,1,'f')"
   ]
  },
  {
   "cell_type": "code",
   "execution_count": 45,
   "id": "1d59feb1-b589-4c9f-93a1-8bfd3b91762e",
   "metadata": {},
   "outputs": [
    {
     "data": {
      "image/png": "[encoded data removed]",
      "text/latex": [
       "$\\displaystyle \\left(x + y\\right)^{2}$"
      ],
      "text/plain": [
       "       2\n",
       "(x + y) "
      ]
     },
     "execution_count": 45,
     "metadata": {},
     "output_type": "execute_result"
    }
   ],
   "source": [
    "r3=P3.q1;r3"
   ]
  },
  {
   "cell_type": "code",
   "execution_count": 46,
   "id": "c348c7f7-d2b6-4d32-b445-0bbc0b8be2cd",
   "metadata": {},
   "outputs": [
    {
     "data": {
      "image/png": "[encoded data removed]",
      "text/latex": [
       "$\\displaystyle 4 x^{2} y^{2} + 4 x y$"
      ],
      "text/plain": [
       "   2  2        \n",
       "4⋅x ⋅y  + 4⋅x⋅y"
      ]
     },
     "execution_count": 46,
     "metadata": {},
     "output_type": "execute_result"
    }
   ],
   "source": [
    "r4=expand(P3.q2);r4"
   ]
  },
  {
   "cell_type": "code",
   "execution_count": 47,
   "id": "71f2b318-0a62-4e9d-a0d6-6adf0ee44186",
   "metadata": {},
   "outputs": [
    {
     "data": {
      "image/png": "[encoded data removed]",
      "text/latex": [
       "$\\displaystyle \\frac{4 \\left(4 x^{2} y^{2} + \\left(x + y\\right)^{2}\\right)}{x^{2} + y^{2}}$"
      ],
      "text/plain": [
       "  ⎛   2  2          2⎞\n",
       "4⋅⎝4⋅x ⋅y  + (x + y) ⎠\n",
       "──────────────────────\n",
       "        2    2        \n",
       "       x  + y         "
      ]
     },
     "execution_count": 47,
     "metadata": {},
     "output_type": "execute_result"
    }
   ],
   "source": [
    "kres "
   ]
  },
  {
   "cell_type": "code",
   "execution_count": 48,
   "id": "67dd1886-3491-418b-9db9-4dc91d83f841",
   "metadata": {},
   "outputs": [
    {
     "data": {
      "image/png": "[encoded data removed]",
      "text/latex": [
       "$\\displaystyle \\frac{4 \\left(4 x^{2} y^{2} + \\left(x + y\\right)^{2}\\right)}{4 x^{2} y^{2} + 2 x y}$"
      ],
      "text/plain": [
       "  ⎛   2  2          2⎞\n",
       "4⋅⎝4⋅x ⋅y  + (x + y) ⎠\n",
       "──────────────────────\n",
       "      2  2            \n",
       "   4⋅x ⋅y  + 2⋅x⋅y    "
      ]
     },
     "execution_count": 48,
     "metadata": {},
     "output_type": "execute_result"
    }
   ],
   "source": [
    "kres=kres.subs(r1,r2);kres"
   ]
  },
  {
   "cell_type": "code",
   "execution_count": 51,
   "id": "4840fa11-ee5f-4ad3-a49e-b4d082f4df0a",
   "metadata": {},
   "outputs": [
    {
     "data": {
      "image/png": "[encoded data removed]",
      "text/latex": [
       "$\\displaystyle \\frac{4 \\left(8 x^{2} y^{2} + 4 x y\\right)}{4 x^{2} y^{2} + 2 x y}$"
      ],
      "text/plain": [
       "  ⎛   2  2        ⎞\n",
       "4⋅⎝8⋅x ⋅y  + 4⋅x⋅y⎠\n",
       "───────────────────\n",
       "     2  2          \n",
       "  4⋅x ⋅y  + 2⋅x⋅y  "
      ]
     },
     "execution_count": 51,
     "metadata": {},
     "output_type": "execute_result"
    }
   ],
   "source": [
    "kres=kres.subs(r3,r4);kres"
   ]
  },
  {
   "cell_type": "code",
   "execution_count": 52,
   "id": "517fb83a-cc83-46d1-9b3d-512bf7b7afda",
   "metadata": {
    "tags": []
   },
   "outputs": [
    {
     "data": {
      "image/png": "[encoded data removed]",
      "text/latex": [
       "$\\displaystyle 8$"
      ],
      "text/plain": [
       "8"
      ]
     },
     "execution_count": 52,
     "metadata": {},
     "output_type": "execute_result"
    }
   ],
   "source": [
    "simplify(kres)"
   ]
  },
  {
   "cell_type": "markdown",
   "id": "795d2551-f65c-4001-a5bc-3d20c4b9f470",
   "metadata": {
    "tags": []
   },
   "source": [
    " <img src=\"images/p31.png\" alt=\"ml\" style=\"width : 100%;\"/>"
   ]
  },
  {
   "cell_type": "code",
   "execution_count": 55,
   "id": "a212ccd4-3f47-4c5d-828d-93a854c2319b",
   "metadata": {},
   "outputs": [
    {
     "data": {
      "text/latex": [
       "$\\displaystyle \\frac{16 x^{4} y^{4} + \\left(x^{2} - y^{2}\\right)^{2}}{x^{4} y^{2} + x^{2} y^{4}}\\;=\\;8\\;$"
      ],
      "text/plain": [
       "<IPython.core.display.Math object>"
      ]
     },
     "metadata": {},
     "output_type": "display_data"
    }
   ],
   "source": [
    "sE([(16*fxy(4,4)+kpow(x*x-y*y,2))/(fxy(4,2)+fxy(2,4)),'=',8])"
   ]
  },
  {
   "cell_type": "markdown",
   "id": "adafe16e-04f4-4131-afba-92098e0b18d0",
   "metadata": {},
   "source": [
    " <img src=\"images/linep.png\" alt=\"ml\" style=\"width : 100%;\"/>"
   ]
  },
  {
   "cell_type": "markdown",
   "id": "51070cd0-cf35-4244-b3f1-e6f2325b62f7",
   "metadata": {},
   "source": [
    " <img src=\"images/p33.png\" alt=\"ml\" style=\"width : 100%;\"/>"
   ]
  },
  {
   "cell_type": "markdown",
   "id": "127ed665-e77d-40a8-aee4-fb2012ab9821",
   "metadata": {},
   "source": [
    " <img src=\"images/lines.png\" alt=\"ml\" style=\"width : 100%;\"/>"
   ]
  },
  {
   "cell_type": "code",
   "execution_count": 4,
   "id": "ac4593e4-fa6c-48c0-9329-2c0ad28766e1",
   "metadata": {},
   "outputs": [],
   "source": [
    "x,y,z,k,w=symbols('x y z k w')"
   ]
  },
  {
   "cell_type": "code",
   "execution_count": 5,
   "id": "efe88d3b-01d7-407f-a758-f7c7bd6a0a4f",
   "metadata": {},
   "outputs": [
    {
     "data": {
      "image/png": "[encoded data removed]",
      "text/latex": [
       "$\\displaystyle x + y + z$"
      ],
      "text/plain": [
       "x + y + z"
      ]
     },
     "execution_count": 5,
     "metadata": {},
     "output_type": "execute_result"
    }
   ],
   "source": [
    "e1=x+y+z;e1"
   ]
  },
  {
   "cell_type": "code",
   "execution_count": 6,
   "id": "2024876c-52d2-4ffb-afe0-21421812c1e0",
   "metadata": {},
   "outputs": [
    {
     "data": {
      "image/png": "[encoded data removed]",
      "text/latex": [
       "$\\displaystyle x + y + z=1$"
      ],
      "text/plain": [
       "x + y + z=1"
      ]
     },
     "execution_count": 6,
     "metadata": {},
     "output_type": "execute_result"
    }
   ],
   "source": [
    "P=polyclass(e1,1);P.Q"
   ]
  },
  {
   "cell_type": "code",
   "execution_count": 7,
   "id": "7839827f-5031-4bf3-b9b3-1d11e4929829",
   "metadata": {},
   "outputs": [
    {
     "data": {
      "text/latex": [
       "$\\displaystyle if\\;x + y + z\\;=\\;0\\;then..\\;x^{3} + y^{3} + z^{3}\\;=\\;3 x y z\\;$"
      ],
      "text/plain": [
       "<IPython.core.display.Math object>"
      ]
     },
     "metadata": {},
     "output_type": "display_data"
    }
   ],
   "source": [
    "sE(['if ',x+y+z,'= 0 then.. ',x**3+y**3+z**3,'=',3*x*y*z])"
   ]
  },
  {
   "cell_type": "code",
   "execution_count": 8,
   "id": "0fb85e29-2e34-4b86-895f-7beedbbc52e3",
   "metadata": {},
   "outputs": [
    {
     "data": {
      "image/png": "[encoded data removed]",
      "text/latex": [
       "$\\displaystyle x + y + z - 1=0$"
      ],
      "text/plain": [
       "x + y + z - 1=0"
      ]
     },
     "execution_count": 8,
     "metadata": {},
     "output_type": "execute_result"
    }
   ],
   "source": [
    "P.ope4('S',-1,1)"
   ]
  },
  {
   "cell_type": "code",
   "execution_count": 9,
   "id": "b704c6e8-4397-48bf-85f9-0cb0335de687",
   "metadata": {},
   "outputs": [
    {
     "data": {
      "image/png": "[encoded data removed]",
      "text/latex": [
       "$\\displaystyle x^{3} + y^{3} + \\left(z - 1\\right)^{3}=3 x y \\left(z - 1\\right)$"
      ],
      "text/plain": [
       "x**3 + y**3 + (z - 1)**3=3*x*y*(z - 1)"
      ]
     },
     "execution_count": 9,
     "metadata": {},
     "output_type": "execute_result"
    }
   ],
   "source": [
    "# we will usee z-1  \n",
    "P1=polyclass(x**3+y**3+(z-1)**3,3*x*y*(z-1));P1.Q"
   ]
  },
  {
   "cell_type": "code",
   "execution_count": 10,
   "id": "8347255d-6103-464d-a0e5-b264cff4b961",
   "metadata": {},
   "outputs": [
    {
     "data": {
      "image/png": "[encoded data removed]",
      "text/latex": [
       "$\\displaystyle x^{3} + y^{3} + z^{3} - 3 z^{2} + 3 z - 1=3 x y \\left(z - 1\\right)$"
      ],
      "text/plain": [
       "x**3 + y**3 + z**3 - 3*z**2 + 3*z - 1=3*x*y*(z - 1)"
      ]
     },
     "execution_count": 10,
     "metadata": {},
     "output_type": "execute_result"
    }
   ],
   "source": [
    "P1=polyclass(opemat(P1.q1,'e'),3*x*y*(z-1));P1.Q"
   ]
  },
  {
   "cell_type": "code",
   "execution_count": 11,
   "id": "d9d6478f-7ad1-48c7-afd9-ceeec182a17c",
   "metadata": {},
   "outputs": [
    {
     "data": {
      "image/png": "[encoded data removed]",
      "text/latex": [
       "$\\displaystyle - 3 z^{2} + 3 z + 3=3 x y \\left(z - 1\\right)$"
      ],
      "text/plain": [
       "-3*z**2 + 3*z + 3=3*x*y*(z - 1)"
      ]
     },
     "execution_count": 11,
     "metadata": {},
     "output_type": "execute_result"
    }
   ],
   "source": [
    "P1.ope1('S',-x**3-y**3-z**3+4,1)"
   ]
  },
  {
   "cell_type": "code",
   "execution_count": 12,
   "id": "a66d0214-9a2c-4e2a-988e-7973b94f4683",
   "metadata": {},
   "outputs": [
    {
     "data": {
      "image/png": "[encoded data removed]",
      "text/latex": [
       "$\\displaystyle 3=3 x y \\left(z - 1\\right) + 3 z^{2} - 3 z$"
      ],
      "text/plain": [
       "3=3*x*y*(z - 1) + 3*z**2 - 3*z"
      ]
     },
     "execution_count": 12,
     "metadata": {},
     "output_type": "execute_result"
    }
   ],
   "source": [
    "P1.ope4('S',-P1.q1+3,1)"
   ]
  },
  {
   "cell_type": "code",
   "execution_count": 13,
   "id": "f1265275-6df0-4ba6-b050-8fc567e31f0a",
   "metadata": {},
   "outputs": [
    {
     "data": {
      "image/png": "[encoded data removed]",
      "text/latex": [
       "$\\displaystyle 3 \\left(z - 1\\right) \\left(x y + z\\right)$"
      ],
      "text/plain": [
       "3⋅(z - 1)⋅(x⋅y + z)"
      ]
     },
     "execution_count": 13,
     "metadata": {},
     "output_type": "execute_result"
    }
   ],
   "source": [
    "factor(P1.q2)"
   ]
  },
  {
   "cell_type": "code",
   "execution_count": 14,
   "id": "6e1fab22-de0f-4796-bf8b-9d4db4f48d0e",
   "metadata": {},
   "outputs": [
    {
     "data": {
      "image/png": "[encoded data removed]",
      "text/latex": [
       "$\\displaystyle 3=3 \\left(z - 1\\right) \\left(x y + z\\right)$"
      ],
      "text/plain": [
       "3=3*(z - 1)*(x*y + z)"
      ]
     },
     "execution_count": 14,
     "metadata": {},
     "output_type": "execute_result"
    }
   ],
   "source": [
    "P2=polyclass(3,factor(P1.q2));P2.Q"
   ]
  },
  {
   "cell_type": "code",
   "execution_count": 15,
   "id": "7c75d1bb-310a-49ed-9fc0-619c6151005c",
   "metadata": {},
   "outputs": [
    {
     "data": {
      "image/png": "[encoded data removed]",
      "text/latex": [
       "$\\displaystyle 1=\\left(z - 1\\right) \\left(x y + z\\right)$"
      ],
      "text/plain": [
       "1=(z - 1)*(x*y + z)"
      ]
     },
     "execution_count": 15,
     "metadata": {},
     "output_type": "execute_result"
    }
   ],
   "source": [
    "P2.ope4('D',3,1)"
   ]
  },
  {
   "cell_type": "code",
   "execution_count": 16,
   "id": "97113c3b-1857-44f7-a43e-36e4336bfa1b",
   "metadata": {},
   "outputs": [
    {
     "data": {
      "image/png": "[encoded data removed]",
      "text/latex": [
       "$\\displaystyle \\frac{1}{x y + z}=z - 1$"
      ],
      "text/plain": [
       "1/(x*y + z)=z - 1"
      ]
     },
     "execution_count": 16,
     "metadata": {},
     "output_type": "execute_result"
    }
   ],
   "source": [
    "P2.ope4('D',x*y+z,1)"
   ]
  },
  {
   "cell_type": "markdown",
   "id": "ee46d358-7133-4f51-a76e-5ba0298cd532",
   "metadata": {},
   "source": [
    " <img src=\"images/p33.png\" alt=\"ml\" style=\"width : 100%;\"/>"
   ]
  },
  {
   "cell_type": "code",
   "execution_count": 17,
   "id": "5e1d7763-97b8-49a2-919e-ea3d4ae51d49",
   "metadata": {},
   "outputs": [],
   "source": [
    "a1,a2,a3=1/(x+y*z),1/(y+x*z),1/(z+x*y)"
   ]
  },
  {
   "cell_type": "code",
   "execution_count": 18,
   "id": "8f8ff794-7aec-4544-a1df-f049fc9c916a",
   "metadata": {
    "tags": []
   },
   "outputs": [
    {
     "data": {
      "text/latex": [
       "$\\displaystyle if\\;\\frac{1}{x y + z}=z - 1\\;then\\;\\frac{1}{x + y z}\\;=\\;x - 1\\;and\\;\\frac{1}{x z + y}\\;=\\;y - 1\\;$"
      ],
      "text/plain": [
       "<IPython.core.display.Math object>"
      ]
     },
     "metadata": {},
     "output_type": "display_data"
    }
   ],
   "source": [
    "show_exp(['if',P2.Q,'then',a1,'=',x-1,'and',a2,'=',y-1])"
   ]
  },
  {
   "cell_type": "code",
   "execution_count": 19,
   "id": "adab340b-c09d-44eb-ba4a-12cda5a72347",
   "metadata": {},
   "outputs": [
    {
     "data": {
      "image/png": "[encoded data removed]",
      "text/latex": [
       "$\\displaystyle \\frac{1}{x z + y} + \\frac{1}{x y + z} + \\frac{1}{x + y z}=x + y + z - 3$"
      ],
      "text/plain": [
       "1/(x*z + y) + 1/(x*y + z) + 1/(x + y*z)=x + y + z - 3"
      ]
     },
     "execution_count": 19,
     "metadata": {},
     "output_type": "execute_result"
    }
   ],
   "source": [
    "P3=polyclass(a1+a2+a3,x-1+y-1+z-1);P3.Q"
   ]
  },
  {
   "cell_type": "code",
   "execution_count": 20,
   "id": "fc7b0efd-0783-4cde-a474-e77d78463734",
   "metadata": {},
   "outputs": [
    {
     "data": {
      "text/latex": [
       "$\\displaystyle if\\;x + y + z\\;=\\;1\\;then...\\;$"
      ],
      "text/plain": [
       "<IPython.core.display.Math object>"
      ]
     },
     "metadata": {},
     "output_type": "display_data"
    }
   ],
   "source": [
    "show_exp(['if',x+y+z,'=',1,'then...'])"
   ]
  },
  {
   "cell_type": "code",
   "execution_count": 21,
   "id": "e172060e-271d-4dfd-ad88-00c202a35d57",
   "metadata": {
    "tags": []
   },
   "outputs": [
    {
     "data": {
      "image/png": "[encoded data removed]",
      "text/latex": [
       "$\\displaystyle \\frac{1}{x z + y} + \\frac{1}{x y + z} + \\frac{1}{x + y z}=-2$"
      ],
      "text/plain": [
       "1/(x*z + y) + 1/(x*y + z) + 1/(x + y*z)=-2"
      ]
     },
     "execution_count": 21,
     "metadata": {},
     "output_type": "execute_result"
    }
   ],
   "source": [
    "P3=polyclass(a1+a2+a3,-2);P3.Q"
   ]
  },
  {
   "cell_type": "markdown",
   "id": "762eba06-02b9-4cd0-8993-a8c4e01fa3eb",
   "metadata": {},
   "source": [
    " <img src=\"images/linep.png\" alt=\"ml\" style=\"width : 100%;\"/>"
   ]
  },
  {
   "cell_type": "markdown",
   "id": "8b4ecb13-89a9-4592-980f-6e0a4ffa9960",
   "metadata": {
    "tags": []
   },
   "source": [
    " <img src=\"images/p34.png\" alt=\"ml\" style=\"width : 100%;\"/>"
   ]
  },
  {
   "cell_type": "markdown",
   "id": "0468cfd6-4669-4393-862a-a72ddc4b9151",
   "metadata": {},
   "source": [
    " <img src=\"images/lines.png\" alt=\"ml\" style=\"width : 100%;\"/>"
   ]
  },
  {
   "cell_type": "code",
   "execution_count": 2,
   "id": "d50b8324-2913-4541-9e65-c6f0307451c0",
   "metadata": {},
   "outputs": [
    {
     "data": {
      "image/png": "[encoded data removed]",
      "text/latex": [
       "$\\displaystyle \\frac{a}{a b + a + 1}$"
      ],
      "text/plain": [
       "     a     \n",
       "───────────\n",
       "a⋅b + a + 1"
      ]
     },
     "execution_count": 2,
     "metadata": {},
     "output_type": "execute_result"
    }
   ],
   "source": [
    "a,b,c=symbols('a b c')\n",
    "e1= a/(a*b+a+1);e1"
   ]
  },
  {
   "cell_type": "code",
   "execution_count": 3,
   "id": "89fa8345-8223-430f-b059-d6aa87f95d17",
   "metadata": {},
   "outputs": [
    {
     "data": {
      "image/png": "[encoded data removed]",
      "text/latex": [
       "$\\displaystyle \\frac{b}{b c + b + 1}$"
      ],
      "text/plain": [
       "     b     \n",
       "───────────\n",
       "b⋅c + b + 1"
      ]
     },
     "execution_count": 3,
     "metadata": {},
     "output_type": "execute_result"
    }
   ],
   "source": [
    "e2= b/(b*c+b+1);e2"
   ]
  },
  {
   "cell_type": "code",
   "execution_count": 4,
   "id": "61d670a7-52cf-4319-a4de-9c3c7dad8d21",
   "metadata": {},
   "outputs": [
    {
     "data": {
      "image/png": "[encoded data removed]",
      "text/latex": [
       "$\\displaystyle \\frac{c}{a c + c + 1}$"
      ],
      "text/plain": [
       "     c     \n",
       "───────────\n",
       "a⋅c + c + 1"
      ]
     },
     "execution_count": 4,
     "metadata": {},
     "output_type": "execute_result"
    }
   ],
   "source": [
    "e3=c/(a*c+c+1);e3"
   ]
  },
  {
   "cell_type": "code",
   "execution_count": 5,
   "id": "6f822d02-ebd1-440b-8bdf-dd595cc34a03",
   "metadata": {},
   "outputs": [
    {
     "data": {
      "image/png": "[encoded data removed]",
      "text/latex": [
       "$\\displaystyle \\frac{a}{a b + a + 1} + \\frac{b}{b c + b + 1} + \\frac{c}{a c + c + 1}$"
      ],
      "text/plain": [
       "     a             b             c     \n",
       "─────────── + ─────────── + ───────────\n",
       "a⋅b + a + 1   b⋅c + b + 1   a⋅c + c + 1"
      ]
     },
     "execution_count": 5,
     "metadata": {},
     "output_type": "execute_result"
    }
   ],
   "source": [
    "e4=e1+e2+e3;e4"
   ]
  },
  {
   "cell_type": "code",
   "execution_count": 7,
   "id": "dafe65ae-127b-4d30-94d8-1728f3507311",
   "metadata": {},
   "outputs": [
    {
     "data": {
      "image/png": "[encoded data removed]",
      "text/latex": [
       "$\\displaystyle 1$"
      ],
      "text/plain": [
       "1"
      ]
     },
     "execution_count": 7,
     "metadata": {},
     "output_type": "execute_result"
    }
   ],
   "source": [
    "simplify(e4.subs(a,1/(b*c)))"
   ]
  },
  {
   "cell_type": "code",
   "execution_count": 8,
   "id": "b4dd0cd6-b998-4c82-a21c-a15a7243ea63",
   "metadata": {},
   "outputs": [
    {
     "data": {
      "text/latex": [
       "$\\displaystyle \\frac{a}{a b + a + 1} + \\frac{b}{b c + b + 1} + \\frac{c}{a c + c + 1}\\;=\\;1\\;$"
      ],
      "text/plain": [
       "<IPython.core.display.Math object>"
      ]
     },
     "metadata": {},
     "output_type": "display_data"
    }
   ],
   "source": [
    "sE([e1+e2+e3,'=',1])"
   ]
  }
 ],
 "metadata": {
  "kernelspec": {
   "display_name": "Python 3",
   "language": "python",
   "name": "python3"
  },
  "language_info": {
   "codemirror_mode": {
    "name": "ipython",
    "version": 3
   },
   "file_extension": ".py",
   "mimetype": "text/x-python",
   "name": "python",
   "nbconvert_exporter": "python",
   "pygments_lexer": "ipython3",
   "version": "3.6.6"
  }
 },
 "nbformat": 4,
 "nbformat_minor": 5
}
