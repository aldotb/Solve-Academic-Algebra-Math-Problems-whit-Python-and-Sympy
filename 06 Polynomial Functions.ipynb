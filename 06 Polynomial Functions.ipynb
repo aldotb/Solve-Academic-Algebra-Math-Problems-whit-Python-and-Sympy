{
 "cells": [
  {
   "cell_type": "code",
   "execution_count": 1,
   "id": "fb1e0c82-5172-459b-847d-a62f8b5c99a8",
   "metadata": {},
   "outputs": [],
   "source": [
    "from sympy import *   \n",
    "from libaldo_polyclass  import *\n",
    "from libaldo_lib import *\n",
    "from libaldo__util import *\n",
    "import lib_algebraEq as ae\n",
    "init_printing()"
   ]
  },
  {
   "cell_type": "markdown",
   "id": "57b9de1f-e246-484b-ac01-19c9f49f573f",
   "metadata": {},
   "source": [
    " <img src=\"images/linep.png\" alt=\"ml\" style=\"width : 100%;\"/>"
   ]
  },
  {
   "cell_type": "markdown",
   "id": "cffc6021-bd72-4a64-9dcb-ff1d23f4d66e",
   "metadata": {},
   "source": [
    " <img src=\"images/p36.png\" alt=\"ml\" style=\"width : 100%;\"/>"
   ]
  },
  {
   "cell_type": "markdown",
   "id": "dd4387bc-1933-4ab0-88cd-c645cd153d12",
   "metadata": {},
   "source": [
    " <img src=\"images/lines.png\" alt=\"ml\" style=\"width : 100%;\"/>"
   ]
  },
  {
   "cell_type": "code",
   "execution_count": 33,
   "id": "e53b291d-7e36-4391-ae4a-0a4a5daf07c3",
   "metadata": {},
   "outputs": [],
   "source": [
    "def fp(n):\n",
    "    return(kpow(x,n))"
   ]
  },
  {
   "cell_type": "code",
   "execution_count": 34,
   "id": "4351f012-3b9a-483f-b806-a4d09ede9cae",
   "metadata": {},
   "outputs": [
    {
     "data": {
      "text/latex": [
       "$\\displaystyle We\\;will\\;take\\;P(-1)=P(\\;x^{3} - x^{2}\\;)\\;then\\;-1=\\;x^{3} - x^{2}\\;$"
      ],
      "text/plain": [
       "<IPython.core.display.Math object>"
      ]
     },
     "metadata": {},
     "output_type": "display_data"
    }
   ],
   "source": [
    "sE(['We  will take P(-1)=P(',x**3-x**2,') then -1=',x**3-x**2])"
   ]
  },
  {
   "cell_type": "code",
   "execution_count": 35,
   "id": "bac2f864-d184-483f-a67f-42ed1012945f",
   "metadata": {},
   "outputs": [
    {
     "data": {
      "image/png": "[encoded data removed]",
      "text/latex": [
       "$\\displaystyle x^{3} - x^{2}=-1$"
      ],
      "text/plain": [
       "x**3 - x**2=-1"
      ]
     },
     "execution_count": 35,
     "metadata": {},
     "output_type": "execute_result"
    }
   ],
   "source": [
    "P=polyclass(x**3-x**2,-1);P.Q"
   ]
  },
  {
   "cell_type": "code",
   "execution_count": 36,
   "id": "4391479a-096d-4933-8bc5-4bfe5a4a4446",
   "metadata": {},
   "outputs": [
    {
     "data": {
      "image/png": "[encoded data removed]",
      "text/latex": [
       "$\\displaystyle x^{2} - 1$"
      ],
      "text/plain": [
       " 2    \n",
       "x  - 1"
      ]
     },
     "execution_count": 36,
     "metadata": {},
     "output_type": "execute_result"
    }
   ],
   "source": [
    "e2=x*x-1;e2"
   ]
  },
  {
   "cell_type": "code",
   "execution_count": 39,
   "id": "4af944f0-b364-4794-bf50-34d7b2ae98ff",
   "metadata": {},
   "outputs": [
    {
     "data": {
      "image/png": "[encoded data removed]",
      "text/latex": [
       "$\\displaystyle x^{7} + x^{6} + x^{5} + x^{3} + 2 x^{2} + 2 x$"
      ],
      "text/plain": [
       " 7    6    5    3      2      \n",
       "x  + x  + x  + x  + 2⋅x  + 2⋅x"
      ]
     },
     "execution_count": 39,
     "metadata": {},
     "output_type": "execute_result"
    }
   ],
   "source": [
    "M=fp(7)+fp(6)+fp(5)+fp(3)+2*fp(2)+2*x;M"
   ]
  },
  {
   "cell_type": "code",
   "execution_count": 31,
   "id": "6dbec936-8ea9-425d-8cd1-69d21f1e3899",
   "metadata": {},
   "outputs": [],
   "source": [
    "# e7  or x**7= x**3* x**3 *x -> e2*e2*x\n",
    "# e6  or x**6= x**3* x**3    -> e2*e2 \n",
    "# ......\n",
    "# ...\n",
    "e7,e6,e5,e4,e3=e2*e2*x,e2*e2,e2*x*x,e2*x,e2 # asigne all eeeessss"
   ]
  },
  {
   "cell_type": "code",
   "execution_count": 40,
   "id": "b5aa3827-f4dc-4f83-994b-7f9141284685",
   "metadata": {},
   "outputs": [
    {
     "data": {
      "text/latex": [
       "$\\displaystyle whit\\;e\\;7\\;M=\\;x^{6} + 2 x^{5} - x^{3} + 2 x^{2} + 3 x\\;$"
      ],
      "text/plain": [
       "<IPython.core.display.Math object>"
      ]
     },
     "metadata": {},
     "output_type": "display_data"
    },
    {
     "data": {
      "text/latex": [
       "$\\displaystyle whit\\;e\\;6\\;M=\\;2 x^{5} + x^{4} - x^{3} + 3 x + 1\\;$"
      ],
      "text/plain": [
       "<IPython.core.display.Math object>"
      ]
     },
     "metadata": {},
     "output_type": "display_data"
    },
    {
     "data": {
      "text/latex": [
       "$\\displaystyle whit\\;e\\;5\\;M=\\;3 x^{4} - x^{3} - 2 x^{2} + 3 x + 1\\;$"
      ],
      "text/plain": [
       "<IPython.core.display.Math object>"
      ]
     },
     "metadata": {},
     "output_type": "display_data"
    },
    {
     "data": {
      "text/latex": [
       "$\\displaystyle whit\\;e\\;4\\;M=\\;2 x^{3} - 2 x^{2} + 1\\;$"
      ],
      "text/plain": [
       "<IPython.core.display.Math object>"
      ]
     },
     "metadata": {},
     "output_type": "display_data"
    },
    {
     "data": {
      "text/latex": [
       "$\\displaystyle whit\\;e\\;3\\;M=\\;-1\\;$"
      ],
      "text/plain": [
       "<IPython.core.display.Math object>"
      ]
     },
     "metadata": {},
     "output_type": "display_data"
    }
   ],
   "source": [
    "vec=[e7,e6,e5,e4,e3]\n",
    "kk=7\n",
    "for i in vec:\n",
    "    i2=expand(i)\n",
    "    M=expand(M.subs(x**kk,i2))\n",
    "    sE(['whit  e',str(kk),'M=',M])\n",
    "    kk-=1 "
   ]
  },
  {
   "cell_type": "markdown",
   "id": "6b953341-9b2d-4b61-9775-f0e1d9006a99",
   "metadata": {},
   "source": [
    " <img src=\"images/linep.png\" alt=\"ml\" style=\"width : 100%;\"/>"
   ]
  },
  {
   "cell_type": "markdown",
   "id": "7c9f27b7-ccfe-411f-8e6e-6b4fc4c602b0",
   "metadata": {},
   "source": [
    " <img src=\"images/p38.png\" alt=\"ml\" style=\"width : 100%;\"/>"
   ]
  },
  {
   "cell_type": "markdown",
   "id": "b139b0ac-dc75-4fad-b5d2-b27d2c77ef66",
   "metadata": {},
   "source": [
    " <img src=\"images/lines.png\" alt=\"ml\" style=\"width : 100%;\"/>"
   ]
  },
  {
   "cell_type": "code",
   "execution_count": 38,
   "id": "46486d04-e4dc-46a8-bdbc-48355698e0a4",
   "metadata": {},
   "outputs": [
    {
     "data": {
      "text/latex": [
       "$\\displaystyle if\\;f(y)=2f(y-1)\\;then\\;..\\;f(y+1)=2f(y)...\\;also\\;$"
      ],
      "text/plain": [
       "<IPython.core.display.Math object>"
      ]
     },
     "metadata": {},
     "output_type": "display_data"
    },
    {
     "data": {
      "text/latex": [
       "$\\displaystyle f(x)=2f(x-1)\\;then\\;..\\;f(x+1)=2f(x)\\;$"
      ],
      "text/plain": [
       "<IPython.core.display.Math object>"
      ]
     },
     "metadata": {},
     "output_type": "display_data"
    },
    {
     "data": {
      "text/latex": [
       "$\\displaystyle then\\;f(x+1)=2f(x)\\;and\\;..\\;f(x+2)=2f(x+1)\\;$"
      ],
      "text/plain": [
       "<IPython.core.display.Math object>"
      ]
     },
     "metadata": {},
     "output_type": "display_data"
    }
   ],
   "source": [
    "sE(['if','f(y)=2f(y-1)','then ..','f(y+1)=2f(y)...  also'])\n",
    "sE(['f(x)=2f(x-1)','then ..','f(x+1)=2f(x)'])\n",
    "sE(['then','f(x+1)=2f(x)','and ..','f(x+2)=2f(x+1)'])"
   ]
  },
  {
   "cell_type": "code",
   "execution_count": 41,
   "id": "060fd37f-0165-48d0-b25a-dcc860235eb2",
   "metadata": {},
   "outputs": [
    {
     "data": {
      "text/latex": [
       "$\\displaystyle f(x+2)=x\\;+f(x)+f(x+1)\\;data\\;from\\;problem\\;$"
      ],
      "text/plain": [
       "<IPython.core.display.Math object>"
      ]
     },
     "metadata": {},
     "output_type": "display_data"
    },
    {
     "data": {
      "text/latex": [
       "$\\displaystyle replace\\;f(x+2)\\;by\\;2f(x+1)\\;$"
      ],
      "text/plain": [
       "<IPython.core.display.Math object>"
      ]
     },
     "metadata": {},
     "output_type": "display_data"
    }
   ],
   "source": [
    "sE(['f(x+2)=x +f(x)+f(x+1)  data from problem']) \n",
    "sE(['replace  f(x+2) by 2f(x+1)']) "
   ]
  },
  {
   "cell_type": "code",
   "execution_count": 42,
   "id": "cc0c4748-8175-43ad-97c3-63528092481d",
   "metadata": {},
   "outputs": [
    {
     "data": {
      "text/latex": [
       "$\\displaystyle 2f(x+1)=x\\;+f(x)+f(x+1)\\;$"
      ],
      "text/plain": [
       "<IPython.core.display.Math object>"
      ]
     },
     "metadata": {},
     "output_type": "display_data"
    }
   ],
   "source": [
    "sE(['2f(x+1)=x +f(x)+f(x+1)'])"
   ]
  },
  {
   "cell_type": "code",
   "execution_count": 43,
   "id": "c5151ca1-f72a-428e-8d9b-16f252cc538b",
   "metadata": {},
   "outputs": [
    {
     "data": {
      "text/latex": [
       "$\\displaystyle f(x+1)=x\\;+f(x)\\;$"
      ],
      "text/plain": [
       "<IPython.core.display.Math object>"
      ]
     },
     "metadata": {},
     "output_type": "display_data"
    }
   ],
   "source": [
    "sE(['f(x+1)=x +f(x)'])"
   ]
  },
  {
   "cell_type": "code",
   "execution_count": 44,
   "id": "4a192423-0b83-4d8f-a82a-84450bab891d",
   "metadata": {},
   "outputs": [
    {
     "data": {
      "text/latex": [
       "$\\displaystyle replace\\;f(x+1)=2f(x)\\;$"
      ],
      "text/plain": [
       "<IPython.core.display.Math object>"
      ]
     },
     "metadata": {},
     "output_type": "display_data"
    },
    {
     "data": {
      "text/latex": [
       "$\\displaystyle 2f(x)=x\\;+f(x)\\;$"
      ],
      "text/plain": [
       "<IPython.core.display.Math object>"
      ]
     },
     "metadata": {},
     "output_type": "display_data"
    }
   ],
   "source": [
    "sE(['replace  f(x+1)=2f(x)'])\n",
    "sE(['2f(x)=x +f(x)'])"
   ]
  },
  {
   "cell_type": "code",
   "execution_count": 45,
   "id": "5082b1df-e584-42f6-8ed8-4aeb0d154808",
   "metadata": {},
   "outputs": [
    {
     "data": {
      "text/latex": [
       "$\\displaystyle find\\;that\\;f(x)=x\\;$"
      ],
      "text/plain": [
       "<IPython.core.display.Math object>"
      ]
     },
     "metadata": {},
     "output_type": "display_data"
    }
   ],
   "source": [
    "sE([' find that f(x)=x'])"
   ]
  },
  {
   "cell_type": "code",
   "execution_count": 46,
   "id": "cd42c299-0438-4b23-825b-d463ce14baaa",
   "metadata": {},
   "outputs": [
    {
     "data": {
      "text/latex": [
       "$\\displaystyle f(-3)+f(4)=\\;-3+4\\;=\\;1\\;$"
      ],
      "text/plain": [
       "<IPython.core.display.Math object>"
      ]
     },
     "metadata": {},
     "output_type": "display_data"
    }
   ],
   "source": [
    "sE(['f(-3)+f(4)= -3+4 =',1])"
   ]
  },
  {
   "cell_type": "markdown",
   "id": "ef255d21-01ae-4515-b20e-3a69e78e923e",
   "metadata": {},
   "source": [
    " <img src=\"images/linep.png\" alt=\"ml\" style=\"width : 100%;\"/>"
   ]
  },
  {
   "cell_type": "markdown",
   "id": "472e9610-2269-4ff8-afc0-e377cb7ca606",
   "metadata": {},
   "source": [
    " <img src=\"images/p39.png\" alt=\"ml\" style=\"width : 100%;\"/>"
   ]
  },
  {
   "cell_type": "markdown",
   "id": "b5e02550-1461-43b0-a8e0-b9845a4b8a2b",
   "metadata": {},
   "source": [
    " <img src=\"images/lines.png\" alt=\"ml\" style=\"width : 100%;\"/>"
   ]
  },
  {
   "cell_type": "code",
   "execution_count": 2,
   "id": "5e4c8845-6569-4619-9f07-8b847eece767",
   "metadata": {},
   "outputs": [],
   "source": [
    "def fx(x):\n",
    "    return(exp(x)+kpow(pi,x))"
   ]
  },
  {
   "cell_type": "code",
   "execution_count": 3,
   "id": "6a12245a-eea9-4d89-bdd2-b5888f675584",
   "metadata": {},
   "outputs": [
    {
     "data": {
      "image/png": "[encoded data removed]",
      "text/latex": [
       "$\\displaystyle e + \\pi$"
      ],
      "text/plain": [
       "ℯ + π"
      ]
     },
     "execution_count": 3,
     "metadata": {},
     "output_type": "execute_result"
    }
   ],
   "source": [
    "fx(1)"
   ]
  },
  {
   "cell_type": "code",
   "execution_count": 4,
   "id": "f6ca344d-789d-41eb-9dd1-821d3c935d23",
   "metadata": {},
   "outputs": [
    {
     "data": {
      "image/png": "[encoded data removed]",
      "text/latex": [
       "$\\displaystyle e^{3} + \\pi^{3}$"
      ],
      "text/plain": [
       " 3    3\n",
       "ℯ  + π "
      ]
     },
     "execution_count": 4,
     "metadata": {},
     "output_type": "execute_result"
    }
   ],
   "source": [
    "fx(3)"
   ]
  },
  {
   "cell_type": "code",
   "execution_count": 7,
   "id": "5a047363-238b-48d4-a048-d1bbb470f564",
   "metadata": {},
   "outputs": [],
   "source": [
    "eq1=1-kpow(pi,3);eq2=1-exp(3)"
   ]
  },
  {
   "cell_type": "code",
   "execution_count": 9,
   "id": "12a88de0-5157-47db-aa13-9cdbeee2ceda",
   "metadata": {},
   "outputs": [
    {
     "data": {
      "text/latex": [
       "$\\displaystyle we\\;have\\;the\\;followin\\;data:\\;$"
      ],
      "text/plain": [
       "<IPython.core.display.Math object>"
      ]
     },
     "metadata": {},
     "output_type": "display_data"
    },
    {
     "data": {
      "text/latex": [
       "$\\displaystyle e^{3}\\;=\\;1 - \\pi^{3}\\;and\\;\\pi^{3}\\;=\\;1 - e^{3}\\;$"
      ],
      "text/plain": [
       "<IPython.core.display.Math object>"
      ]
     },
     "metadata": {},
     "output_type": "display_data"
    }
   ],
   "source": [
    "sE([' we have the followin data:'])\n",
    "sE([exp(3),'=',eq1,' and ',kpow(pi,3),'=',eq2])"
   ]
  },
  {
   "cell_type": "markdown",
   "id": "279d9e76-2677-47cd-80bd-7703d4d289b7",
   "metadata": {},
   "source": [
    " <img src=\"images/p39.png\" alt=\"ml\" style=\"width : 100%;\"/>"
   ]
  },
  {
   "cell_type": "code",
   "execution_count": 10,
   "id": "a89f6573-ee9c-4421-bfd3-33984478d005",
   "metadata": {},
   "outputs": [
    {
     "data": {
      "image/png": "[encoded data removed]",
      "text/latex": [
       "$\\displaystyle - \\pi^{7} - e^{7} + e^{4} + \\pi^{4}$"
      ],
      "text/plain": [
       "   7    7    4    4\n",
       "- π  - ℯ  + ℯ  + π "
      ]
     },
     "execution_count": 10,
     "metadata": {},
     "output_type": "execute_result"
    }
   ],
   "source": [
    "M=fx(4)-fx(7);M"
   ]
  },
  {
   "cell_type": "code",
   "execution_count": 11,
   "id": "8f56a8e8-fabe-4dd1-9ff1-e878f2b64c8e",
   "metadata": {},
   "outputs": [
    {
     "data": {
      "image/png": "[encoded data removed]",
      "text/latex": [
       "$\\displaystyle \\left[ \\pi^{4}, \\  - \\pi^{7}, \\  - e^{7}, \\  e^{4}\\right]$"
      ],
      "text/plain": [
       "⎡ 4    7    7   4⎤\n",
       "⎣π , -π , -ℯ , ℯ ⎦"
      ]
     },
     "execution_count": 11,
     "metadata": {},
     "output_type": "execute_result"
    }
   ],
   "source": [
    "fpoly(M,'list')"
   ]
  },
  {
   "cell_type": "code",
   "execution_count": 12,
   "id": "75ff3dfc-f795-4e8f-95d2-5e6576359b91",
   "metadata": {},
   "outputs": [
    {
     "data": {
      "image/png": "[encoded data removed]",
      "text/latex": [
       "$\\displaystyle \\pi^{4} \\left(1 - \\pi^{3}\\right)$"
      ],
      "text/plain": [
       " 4 ⎛     3⎞\n",
       "π ⋅⎝1 - π ⎠"
      ]
     },
     "execution_count": 12,
     "metadata": {},
     "output_type": "execute_result"
    }
   ],
   "source": [
    "e1=pi**4*(opemat(fpoly(M,'gets','01')/pi**4,'s'));e1"
   ]
  },
  {
   "cell_type": "code",
   "execution_count": 13,
   "id": "283bbc19-76a8-4cee-bf90-a1e9cc82c784",
   "metadata": {},
   "outputs": [
    {
     "data": {
      "image/png": "[encoded data removed]",
      "text/latex": [
       "$\\displaystyle \\left(1 - e^{3}\\right) e^{4}$"
      ],
      "text/plain": [
       "⎛     3⎞  4\n",
       "⎝1 - ℯ ⎠⋅ℯ "
      ]
     },
     "execution_count": 13,
     "metadata": {},
     "output_type": "execute_result"
    }
   ],
   "source": [
    "e2=exp(1)**4*(opemat(fpoly(M,'gets','23')/exp(1)**4,'s'));e2"
   ]
  },
  {
   "cell_type": "code",
   "execution_count": 14,
   "id": "8a77519b-62fa-45b0-9663-aafe1a57cb02",
   "metadata": {},
   "outputs": [
    {
     "data": {
      "image/png": "[encoded data removed]",
      "text/latex": [
       "$\\displaystyle \\pi^{4} \\left(1 - \\pi^{3}\\right) + \\left(1 - e^{3}\\right) e^{4}$"
      ],
      "text/plain": [
       " 4 ⎛     3⎞   ⎛     3⎞  4\n",
       "π ⋅⎝1 - π ⎠ + ⎝1 - ℯ ⎠⋅ℯ "
      ]
     },
     "execution_count": 14,
     "metadata": {},
     "output_type": "execute_result"
    }
   ],
   "source": [
    "e3=e1+e2;e3"
   ]
  },
  {
   "cell_type": "code",
   "execution_count": 16,
   "id": "40320552-1051-4a55-9bd0-040fa27b8bc9",
   "metadata": {},
   "outputs": [
    {
     "data": {
      "image/png": "[encoded data removed]",
      "text/latex": [
       "$\\displaystyle \\left(1 - e^{3}\\right) e^{4} + \\pi^{4} e^{3}$"
      ],
      "text/plain": [
       "⎛     3⎞  4    4  3\n",
       "⎝1 - ℯ ⎠⋅ℯ  + π ⋅ℯ "
      ]
     },
     "execution_count": 16,
     "metadata": {},
     "output_type": "execute_result"
    }
   ],
   "source": [
    "e3=e3.subs(eq1,exp(3));e3"
   ]
  },
  {
   "cell_type": "code",
   "execution_count": 17,
   "id": "4dae7a4d-1f28-4bb8-b648-7d43d2ed3ff9",
   "metadata": {},
   "outputs": [
    {
     "data": {
      "image/png": "[encoded data removed]",
      "text/latex": [
       "$\\displaystyle \\pi^{3} e^{4} + \\pi^{4} e^{3}$"
      ],
      "text/plain": [
       " 3  4    4  3\n",
       "π ⋅ℯ  + π ⋅ℯ "
      ]
     },
     "execution_count": 17,
     "metadata": {},
     "output_type": "execute_result"
    }
   ],
   "source": [
    "e3=e3.subs(eq2,pi**3);e3"
   ]
  },
  {
   "cell_type": "code",
   "execution_count": 19,
   "id": "a6d94181-d28f-4267-b2c8-3fd2bb7ca054",
   "metadata": {},
   "outputs": [
    {
     "data": {
      "image/png": "[encoded data removed]",
      "text/latex": [
       "$\\displaystyle \\pi^{3} \\left(e + \\pi\\right) e^{3}$"
      ],
      "text/plain": [
       " 3          3\n",
       "π ⋅(ℯ + π)⋅ℯ "
      ]
     },
     "execution_count": 19,
     "metadata": {},
     "output_type": "execute_result"
    }
   ],
   "source": [
    "e3=factor(e3);e3"
   ]
  },
  {
   "cell_type": "markdown",
   "id": "de7543e2-4a0b-468e-a9ae-e59504bcd4b5",
   "metadata": {},
   "source": [
    " <img src=\"images/p39.png\" alt=\"ml\" style=\"width : 100%;\"/>"
   ]
  },
  {
   "cell_type": "code",
   "execution_count": 20,
   "id": "aaa72527-b813-40e9-9e93-20111487f65c",
   "metadata": {},
   "outputs": [
    {
     "data": {
      "image/png": "[encoded data removed]",
      "text/latex": [
       "$\\displaystyle \\frac{1}{\\pi^{3} e^{3}}$"
      ],
      "text/plain": [
       " -3\n",
       "ℯ  \n",
       "───\n",
       "  3\n",
       " π "
      ]
     },
     "execution_count": 20,
     "metadata": {},
     "output_type": "execute_result"
    }
   ],
   "source": [
    "e4=fx(1)/e3;e4"
   ]
  },
  {
   "cell_type": "code",
   "execution_count": 22,
   "id": "4b9f8230-347f-4bd1-a03b-61ab4e736221",
   "metadata": {},
   "outputs": [
    {
     "data": {
      "image/png": "[encoded data removed]",
      "text/latex": [
       "$\\displaystyle \\frac{1}{e \\pi}$"
      ],
      "text/plain": [
       " -1\n",
       "ℯ  \n",
       "───\n",
       " π "
      ]
     },
     "execution_count": 22,
     "metadata": {},
     "output_type": "execute_result"
    }
   ],
   "source": [
    "e5=rpow(e4,3);e5"
   ]
  },
  {
   "cell_type": "markdown",
   "id": "37010a5d-6dfb-4a3b-8050-4b8d50a423ac",
   "metadata": {},
   "source": [
    " <img src=\"images/p39.png\" alt=\"ml\" style=\"width : 100%;\"/>"
   ]
  },
  {
   "cell_type": "code",
   "execution_count": 27,
   "id": "c7bda7fc-9ab9-47fb-8639-41ea5c1cee4f",
   "metadata": {},
   "outputs": [
    {
     "data": {
      "text/latex": [
       "$\\displaystyle \\sqrt[3]{e + \\pi} \\sqrt[3]{\\frac{1}{- \\pi^{7} - e^{7} + e^{4} + \\pi^{4}}}\\;=\\;\\frac{1}{e \\pi}\\;$"
      ],
      "text/plain": [
       "<IPython.core.display.Math object>"
      ]
     },
     "metadata": {},
     "output_type": "display_data"
    }
   ],
   "source": [
    "sE([rpow(((fx(1)/(fx(4)-fx(7)))),3),'=',e5])"
   ]
  },
  {
   "cell_type": "markdown",
   "id": "977880fb-268a-433c-a863-cbbefc9c07ac",
   "metadata": {},
   "source": [
    " <img src=\"images/linep.png\" alt=\"ml\" style=\"width : 100%;\"/>"
   ]
  },
  {
   "cell_type": "markdown",
   "id": "f2168a7c-c748-49c3-a8bc-291321e8fd6d",
   "metadata": {},
   "source": [
    " <img src=\"images/p40.png\" alt=\"ml\" style=\"width : 100%;\"/>"
   ]
  },
  {
   "cell_type": "markdown",
   "id": "9854ce07-b259-4ce9-b9ac-54c377dbc604",
   "metadata": {},
   "source": [
    " <img src=\"images/lines.png\" alt=\"ml\" style=\"width : 100%;\"/>"
   ]
  },
  {
   "cell_type": "code",
   "execution_count": 2,
   "id": "f505f445-7654-49f6-bd57-465da157abba",
   "metadata": {},
   "outputs": [],
   "source": [
    "x,n=symbols('x n')"
   ]
  },
  {
   "cell_type": "code",
   "execution_count": 33,
   "id": "46b6f092-d4c1-4bc3-9a26-1e03d6cb31fd",
   "metadata": {},
   "outputs": [],
   "source": [
    "def f(x):\n",
    "        kres=kpow(x+1,n)+kpow(x+2,n)+kpow(x+3,n)\n",
    "        kres=kpow(x+n-1,n)+kpow(x+n,n)+kpow(x+n+1,n)+kres\n",
    "        kres=kpow(x+2*n-3,n)+kpow(x+2*n-2,n)+kpow(x+2*n-1,n)+kres\n",
    "        return(kres)\n"
   ]
  },
  {
   "cell_type": "code",
   "execution_count": 42,
   "id": "f2c564f2-2338-49d7-94ba-59846df383c0",
   "metadata": {},
   "outputs": [
    {
     "data": {
      "image/png": "[encoded data removed]",
      "text/latex": [
       "$\\displaystyle \\left(-1\\right)^{n} + 0^{n} + \\left(1 - n\\right)^{n} + \\left(2 - n\\right)^{n} + \\left(3 - n\\right)^{n} + \\left(n - 3\\right)^{n} + \\left(n - 2\\right)^{n} + \\left(n - 1\\right)^{n} + 1$"
      ],
      "text/plain": [
       "    n    n          n          n          n          n          n          n  \n",
       "(-1)  + 0  + (1 - n)  + (2 - n)  + (3 - n)  + (n - 3)  + (n - 2)  + (n - 1)  +\n",
       "\n",
       "  \n",
       " 1"
      ]
     },
     "execution_count": 42,
     "metadata": {},
     "output_type": "execute_result"
    }
   ],
   "source": [
    "kk=f(-n);kk"
   ]
  },
  {
   "cell_type": "code",
   "execution_count": 48,
   "id": "458bd404-5c8a-48d9-8d96-e6149ddce334",
   "metadata": {},
   "outputs": [
    {
     "data": {
      "image/png": "[encoded data removed]",
      "text/latex": [
       "$\\displaystyle 0$"
      ],
      "text/plain": [
       "0"
      ]
     },
     "execution_count": 48,
     "metadata": {},
     "output_type": "execute_result"
    }
   ],
   "source": [
    "kk.subs(n,1)"
   ]
  },
  {
   "cell_type": "code",
   "execution_count": 49,
   "id": "324e0b8d-ab3b-4f84-9ddf-2b482600e3c2",
   "metadata": {},
   "outputs": [
    {
     "data": {
      "image/png": "[encoded data removed]",
      "text/latex": [
       "$\\displaystyle 0$"
      ],
      "text/plain": [
       "0"
      ]
     },
     "execution_count": 49,
     "metadata": {},
     "output_type": "execute_result"
    }
   ],
   "source": [
    "kk.subs(n,3)"
   ]
  },
  {
   "cell_type": "code",
   "execution_count": 50,
   "id": "2fdb77e0-5b5a-4d86-ba2a-ec75034f42e1",
   "metadata": {},
   "outputs": [
    {
     "data": {
      "image/png": "[encoded data removed]",
      "text/latex": [
       "$\\displaystyle 0$"
      ],
      "text/plain": [
       "0"
      ]
     },
     "execution_count": 50,
     "metadata": {},
     "output_type": "execute_result"
    }
   ],
   "source": [
    "kk.subs(n,81)"
   ]
  },
  {
   "cell_type": "markdown",
   "id": "d38b457a-6ce5-4c90-8dd3-c13f68f58040",
   "metadata": {},
   "source": [
    " <img src=\"images/linep.png\" alt=\"ml\" style=\"width : 100%;\"/>"
   ]
  },
  {
   "cell_type": "markdown",
   "id": "f9fa6896-2e2c-40b9-b32c-a092bf7a3d74",
   "metadata": {},
   "source": [
    " <img src=\"images/p45.png\" alt=\"ml\" style=\"width : 100%;\"/>"
   ]
  },
  {
   "cell_type": "markdown",
   "id": "e297d6bf-07e7-4aad-a2f6-58d8c0908160",
   "metadata": {},
   "source": [
    " <img src=\"images/lines.png\" alt=\"ml\" style=\"width : 100%;\"/>"
   ]
  },
  {
   "cell_type": "code",
   "execution_count": 4,
   "id": "09401fc8-0dd8-461a-b89d-992a8dd754d8",
   "metadata": {},
   "outputs": [],
   "source": [
    "def fx(x):\n",
    "    return((x+1)/(x-1))"
   ]
  },
  {
   "cell_type": "code",
   "execution_count": 12,
   "id": "43dbb900-75b4-47ce-8b1e-4d680dd70577",
   "metadata": {},
   "outputs": [
    {
     "data": {
      "text/latex": [
       "$\\displaystyle From\\;data\\;f(1/2)=\\;-3\\;.f(\\;-3\\;)+3\\;$"
      ],
      "text/plain": [
       "<IPython.core.display.Math object>"
      ]
     },
     "metadata": {},
     "output_type": "display_data"
    }
   ],
   "source": [
    "sE(['From','data','f(1/2)=',fx(frs(1,2)),'.f(',fx(frs(1,2)),')+3'])"
   ]
  },
  {
   "cell_type": "code",
   "execution_count": 16,
   "id": "398227a5-81d9-4a95-957a-478c4617be64",
   "metadata": {},
   "outputs": [
    {
     "data": {
      "text/latex": [
       "$\\displaystyle Also..\\;f(-3)=\\;0.5\\;.f(\\;0.5\\;)+3\\;$"
      ],
      "text/plain": [
       "<IPython.core.display.Math object>"
      ]
     },
     "metadata": {},
     "output_type": "display_data"
    }
   ],
   "source": [
    "sE(['Also..','f(-3)=',fx(-3),'.f(',fx(-3),')+3'])"
   ]
  },
  {
   "cell_type": "code",
   "execution_count": 17,
   "id": "7c3590c3-09aa-4434-abc0-d586216a1f88",
   "metadata": {},
   "outputs": [
    {
     "data": {
      "image/png": "[encoded data removed]",
      "text/latex": [
       "$\\displaystyle \\frac{x}{2} + 3$"
      ],
      "text/plain": [
       "x    \n",
       "─ + 3\n",
       "2    "
      ]
     },
     "execution_count": 17,
     "metadata": {},
     "output_type": "execute_result"
    }
   ],
   "source": [
    "# f(-3)  = y\n",
    "# f(1/2) = x then\n",
    "x,y = symbols('x y')\n",
    "csolve(y-x/2-3,y)"
   ]
  },
  {
   "cell_type": "code",
   "execution_count": 18,
   "id": "afd26738-6d3c-44a7-a386-7eb72b4f545a",
   "metadata": {},
   "outputs": [
    {
     "data": {
      "image/png": "[encoded data removed]",
      "text/latex": [
       "$\\displaystyle - \\frac{12}{5}$"
      ],
      "text/plain": [
       "-12/5"
      ]
     },
     "execution_count": 18,
     "metadata": {},
     "output_type": "execute_result"
    }
   ],
   "source": [
    "csolve(x -(-3*(x/2+3)+3),x)"
   ]
  },
  {
   "cell_type": "markdown",
   "id": "e092ee94-3762-4f1f-a23c-f8841c23fb70",
   "metadata": {},
   "source": [
    " <img src=\"images/linep.png\" alt=\"ml\" style=\"width : 100%;\"/>"
   ]
  },
  {
   "cell_type": "markdown",
   "id": "916c1537-102e-4f35-bcb4-8a9dcabefb6a",
   "metadata": {},
   "source": [
    " <img src=\"images/p47.png\" alt=\"ml\" style=\"width : 100%;\"/>"
   ]
  },
  {
   "cell_type": "markdown",
   "id": "20246984-bc28-4f0d-a654-4bd522f52caf",
   "metadata": {},
   "source": [
    " <img src=\"images/lines.png\" alt=\"ml\" style=\"width : 100%;\"/>"
   ]
  },
  {
   "cell_type": "code",
   "execution_count": 2,
   "id": "08e18b62-6af8-4af4-b3d3-4e2b66f50e0e",
   "metadata": {},
   "outputs": [],
   "source": [
    "a,b,c,x=symbols('a b c x')"
   ]
  },
  {
   "cell_type": "code",
   "execution_count": 3,
   "id": "8819a0fc-fa09-4297-8af0-7d69d76f09c6",
   "metadata": {},
   "outputs": [],
   "source": [
    "def P(x):\n",
    "    return(opemat(x*x+a,'esfs'))"
   ]
  },
  {
   "cell_type": "code",
   "execution_count": 4,
   "id": "0251885b-2972-4c93-a715-3c93c2bcc202",
   "metadata": {},
   "outputs": [
    {
     "data": {
      "image/png": "[encoded data removed]",
      "text/latex": [
       "$\\displaystyle a^{4} + 4 a^{3} x^{2} + 2 a^{3} + 6 a^{2} x^{4} + 4 a^{2} x^{2} + a^{2} + 4 a x^{6} + 2 a x^{4} + a + x^{8}$"
      ],
      "text/plain": [
       " 4      3  2      3      2  4      2  2    2        6        4        8\n",
       "a  + 4⋅a ⋅x  + 2⋅a  + 6⋅a ⋅x  + 4⋅a ⋅x  + a  + 4⋅a⋅x  + 2⋅a⋅x  + a + x "
      ]
     },
     "execution_count": 4,
     "metadata": {},
     "output_type": "execute_result"
    }
   ],
   "source": [
    "a1=P(P(P(x)));a1 # n=3"
   ]
  },
  {
   "cell_type": "markdown",
   "id": "c2580920-e176-448e-926b-ad9ae729a9b7",
   "metadata": {},
   "source": [
    " <img src=\"images/p47a.png\" alt=\"ml\" style=\"width : 80%;\"/>"
   ]
  },
  {
   "cell_type": "code",
   "execution_count": 5,
   "id": "4b8e8db2-2bcf-44c8-b89e-ea9a8831bdd1",
   "metadata": {},
   "outputs": [
    {
     "data": {
      "image/png": "[encoded data removed]",
      "text/latex": [
       "$\\displaystyle a^{4} + 2 a^{3} + a^{2} + a$"
      ],
      "text/plain": [
       " 4      3    2    \n",
       "a  + 2⋅a  + a  + a"
      ]
     },
     "execution_count": 5,
     "metadata": {},
     "output_type": "execute_result"
    }
   ],
   "source": [
    "fpoly(a1,'unfilt',x) # return al monom if dont have x..."
   ]
  },
  {
   "cell_type": "code",
   "execution_count": 6,
   "id": "4bd2d171-e4f7-4eeb-bda8-f68be9028013",
   "metadata": {},
   "outputs": [
    {
     "data": {
      "text/latex": [
       "$\\displaystyle if\\;a^{4} + 2 a^{3} + a^{2} + a\\;=\\;5\\;then\\;a\\;=\\;1\\;$"
      ],
      "text/plain": [
       "<IPython.core.display.Math object>"
      ]
     },
     "metadata": {},
     "output_type": "display_data"
    }
   ],
   "source": [
    "show_exp(['if',fpoly(a1,'unfilt',x),'=',5,'then',a,'=',1])"
   ]
  },
  {
   "cell_type": "code",
   "execution_count": 7,
   "id": "8874aef5-c00f-4cb1-b950-07ac0c194ffc",
   "metadata": {},
   "outputs": [],
   "source": [
    "def P(x):\n",
    "    return(opemat(x*x+1,'esfs'))"
   ]
  },
  {
   "cell_type": "code",
   "execution_count": 8,
   "id": "40d54979-5d6f-40b9-b095-8674c509e904",
   "metadata": {},
   "outputs": [
    {
     "data": {
      "image/png": "[encoded data removed]",
      "text/latex": [
       "$\\displaystyle x^{8} + 4 x^{6} + 8 x^{4} + 8 x^{2} + 5$"
      ],
      "text/plain": [
       " 8      6      4      2    \n",
       "x  + 4⋅x  + 8⋅x  + 8⋅x  + 5"
      ]
     },
     "execution_count": 8,
     "metadata": {},
     "output_type": "execute_result"
    }
   ],
   "source": [
    "P(P(P(x)))"
   ]
  },
  {
   "cell_type": "code",
   "execution_count": 9,
   "id": "1dfdac16-5102-4bbe-a24e-dfbdeecd5072",
   "metadata": {},
   "outputs": [
    {
     "data": {
      "image/png": "[encoded data removed]",
      "text/latex": [
       "$\\displaystyle 1226$"
      ],
      "text/plain": [
       "1226"
      ]
     },
     "execution_count": 9,
     "metadata": {},
     "output_type": "execute_result"
    }
   ],
   "source": [
    "P(35)"
   ]
  },
  {
   "cell_type": "markdown",
   "id": "08a14fcd-8233-4e84-a1ef-18199ebc1d7e",
   "metadata": {},
   "source": [
    " <img src=\"images/linep.png\" alt=\"ml\" style=\"width : 100%;\"/>"
   ]
  },
  {
   "cell_type": "markdown",
   "id": "cc22dd6a-d1b9-465d-8e7c-2cd2b9504be4",
   "metadata": {},
   "source": [
    " <img src=\"images/p48.png\" alt=\"ml\" style=\"width : 100%;\"/>"
   ]
  },
  {
   "cell_type": "markdown",
   "id": "69b2d40e-60de-4384-b62f-887acc214879",
   "metadata": {},
   "source": [
    " <img src=\"images/lines.png\" alt=\"ml\" style=\"width : 100%;\"/>"
   ]
  },
  {
   "cell_type": "markdown",
   "id": "aab24d18-7a58-4418-9147-13271305b42c",
   "metadata": {},
   "source": [
    " <img src=\"images/p48a.png\" alt=\"ml\" style=\"width : 50%;\"/>"
   ]
  },
  {
   "cell_type": "code",
   "execution_count": 38,
   "id": "f15992d9-c7ca-44e8-92f3-e13349e51db7",
   "metadata": {},
   "outputs": [],
   "source": [
    "a=rpow(3*x);b=rpow(x+2)"
   ]
  },
  {
   "cell_type": "code",
   "execution_count": 39,
   "id": "af6990c9-9607-4830-8af4-5863f61a1bc1",
   "metadata": {},
   "outputs": [
    {
     "data": {
      "image/png": "[encoded data removed]",
      "text/latex": [
       "$\\displaystyle 2 \\sqrt{3} \\sqrt{x} \\sqrt{x + 2} + 4 x + 2$"
      ],
      "text/plain": [
       "          _______          \n",
       "2⋅√3⋅√x⋅╲╱ x + 2  + 4⋅x + 2"
      ]
     },
     "execution_count": 39,
     "metadata": {},
     "output_type": "execute_result"
    }
   ],
   "source": [
    "e1=expand(kpow(a+b,2));e1 #pow a+b to 2"
   ]
  },
  {
   "cell_type": "code",
   "execution_count": 15,
   "id": "3e9f4ebb-c452-4053-8486-fe88cd4636cb",
   "metadata": {},
   "outputs": [
    {
     "data": {
      "image/png": "[encoded data removed]",
      "text/latex": [
       "$\\displaystyle \\sqrt{3} \\sqrt{x} \\sqrt{x + 2} + 2 x + 1$"
      ],
      "text/plain": [
       "        _______          \n",
       "√3⋅√x⋅╲╱ x + 2  + 2⋅x + 1"
      ]
     },
     "execution_count": 15,
     "metadata": {},
     "output_type": "execute_result"
    }
   ],
   "source": [
    "e2=e1/2;e2 #divide by 2"
   ]
  },
  {
   "cell_type": "code",
   "execution_count": 16,
   "id": "7f7fec41-b9b5-4d21-acda-f27b40c61cd4",
   "metadata": {},
   "outputs": [
    {
     "data": {
      "image/png": "[encoded data removed]",
      "text/latex": [
       "$\\displaystyle \\sqrt{3} \\sqrt{x} \\sqrt{x + 2} + 2 x$"
      ],
      "text/plain": [
       "        _______      \n",
       "√3⋅√x⋅╲╱ x + 2  + 2⋅x"
      ]
     },
     "execution_count": 16,
     "metadata": {},
     "output_type": "execute_result"
    }
   ],
   "source": [
    "e3=e2-1;e3 #Add -1 and get tha same eq from question "
   ]
  },
  {
   "cell_type": "code",
   "execution_count": 79,
   "id": "69671396-0fc4-4164-b129-b5332b75ffdd",
   "metadata": {},
   "outputs": [],
   "source": [
    "# creatinf func whit the same step\n",
    "def f(y):\n",
    "    return(kpow(y,2)/2-1)"
   ]
  },
  {
   "cell_type": "code",
   "execution_count": 80,
   "id": "8dec6e5b-a45e-46bf-89c3-58dac633c905",
   "metadata": {},
   "outputs": [
    {
     "data": {
      "image/png": "[encoded data removed]",
      "text/latex": [
       "$\\displaystyle \\frac{x^{2}}{2} - 1$"
      ],
      "text/plain": [
       " 2    \n",
       "x     \n",
       "── - 1\n",
       "2     "
      ]
     },
     "execution_count": 80,
     "metadata": {},
     "output_type": "execute_result"
    }
   ],
   "source": [
    "f(x) # whi x"
   ]
  },
  {
   "cell_type": "code",
   "execution_count": 81,
   "id": "7357d837-62f5-4446-a12b-6f60d1326f95",
   "metadata": {},
   "outputs": [
    {
     "data": {
      "image/png": "[encoded data removed]",
      "text/latex": [
       "$\\displaystyle \\sqrt{3} \\sqrt{x} + \\sqrt{x + 2}$"
      ],
      "text/plain": [
       "          _______\n",
       "√3⋅√x + ╲╱ x + 2 "
      ]
     },
     "execution_count": 81,
     "metadata": {},
     "output_type": "execute_result"
    }
   ],
   "source": [
    "a+b # a+b ?"
   ]
  },
  {
   "cell_type": "code",
   "execution_count": 82,
   "id": "58b6074d-8094-4d3a-bf4f-992d9ad7c59b",
   "metadata": {},
   "outputs": [
    {
     "data": {
      "image/png": "[encoded data removed]",
      "text/latex": [
       "$\\displaystyle \\sqrt{3} \\sqrt{x} \\sqrt{x + 2} + 2 x$"
      ],
      "text/plain": [
       "        _______      \n",
       "√3⋅√x⋅╲╱ x + 2  + 2⋅x"
      ]
     },
     "execution_count": 82,
     "metadata": {},
     "output_type": "execute_result"
    }
   ],
   "source": [
    "simplify(expand(f(a+b))) # test the func ok"
   ]
  },
  {
   "cell_type": "markdown",
   "id": "b4c3cb04-6ef6-402b-9abe-002311fe6d94",
   "metadata": {},
   "source": [
    " <img src=\"images/p48b.png\" alt=\"ml\" style=\"width : 50%;\"/>"
   ]
  },
  {
   "cell_type": "code",
   "execution_count": 83,
   "id": "9b088f73-790f-4ca9-81e5-2eef55a5a227",
   "metadata": {},
   "outputs": [
    {
     "data": {
      "image/png": "[encoded data removed]",
      "text/latex": [
       "$\\displaystyle \\frac{x^{2} + 4 x - 2}{2}$"
      ],
      "text/plain": [
       " 2          \n",
       "x  + 4⋅x - 2\n",
       "────────────\n",
       "     2      "
      ]
     },
     "execution_count": 83,
     "metadata": {},
     "output_type": "execute_result"
    }
   ],
   "source": [
    "eq3=factor(expand(f(x)-f(x-1)+f(x+1)));eq3"
   ]
  },
  {
   "cell_type": "code",
   "execution_count": 84,
   "id": "4b382abf-a88c-4d46-8f32-e86bfb6d33fe",
   "metadata": {},
   "outputs": [],
   "source": [
    "g,G=symbols('g G')"
   ]
  },
  {
   "cell_type": "markdown",
   "id": "9c5bc181-a42f-43bd-8c44-c0914f78a355",
   "metadata": {},
   "source": [
    " <img src=\"images/p48b.png\" alt=\"ml\" style=\"width : 50%;\"/>"
   ]
  },
  {
   "cell_type": "code",
   "execution_count": 86,
   "id": "b9d79d44-12ea-44fd-b444-39d7c57c1be0",
   "metadata": {},
   "outputs": [
    {
     "data": {
      "image/png": "[encoded data removed]",
      "text/latex": [
       "$\\displaystyle \\frac{x^{2} + 4 x - 2}{2 \\left(x + 2\\right)^{2}}=\\frac{G - 6}{2 G}$"
      ],
      "text/plain": [
       "(x**2 + 4*x - 2)/(2*(x + 2)**2)=(G - 6)/(2*G)"
      ]
     },
     "execution_count": 86,
     "metadata": {},
     "output_type": "execute_result"
    }
   ],
   "source": [
    "P=polyclass(eq3/kpow(x+2,2),(G-6)/(2*G));P.Q"
   ]
  },
  {
   "cell_type": "code",
   "execution_count": 94,
   "id": "aac46645-f754-4c5c-8f71-9ddaff3c780c",
   "metadata": {},
   "outputs": [
    {
     "data": {
      "image/png": "[encoded data removed]",
      "text/latex": [
       "$\\displaystyle 2 G x^{2} + 8 G x - 4 G$"
      ],
      "text/plain": [
       "     2              \n",
       "2⋅G⋅x  + 8⋅G⋅x - 4⋅G"
      ]
     },
     "execution_count": 94,
     "metadata": {},
     "output_type": "execute_result"
    }
   ],
   "source": [
    "eq4=expand(numer(P.q1)*denom(P.q2));eq4"
   ]
  },
  {
   "cell_type": "code",
   "execution_count": 95,
   "id": "17dd48d3-875f-4b88-aab8-24f0a2f3b327",
   "metadata": {},
   "outputs": [
    {
     "data": {
      "image/png": "[encoded data removed]",
      "text/latex": [
       "$\\displaystyle 2 G x^{2} + 8 G x + 8 G - 12 x^{2} - 48 x - 48$"
      ],
      "text/plain": [
       "     2                     2            \n",
       "2⋅G⋅x  + 8⋅G⋅x + 8⋅G - 12⋅x  - 48⋅x - 48"
      ]
     },
     "execution_count": 95,
     "metadata": {},
     "output_type": "execute_result"
    }
   ],
   "source": [
    "eq5=expand(numer(P.q2)*denom(P.q1));eq5"
   ]
  },
  {
   "cell_type": "code",
   "execution_count": 99,
   "id": "f62a7b72-5f3d-42c1-a3f4-b63f4a15fffb",
   "metadata": {},
   "outputs": [
    {
     "data": {
      "image/png": "[encoded data removed]",
      "text/latex": [
       "$\\displaystyle \\left(x + 2\\right)^{2}$"
      ],
      "text/plain": [
       "       2\n",
       "(x + 2) "
      ]
     },
     "execution_count": 99,
     "metadata": {},
     "output_type": "execute_result"
    }
   ],
   "source": [
    "factor(csolve((eq4-eq5)/12,G))"
   ]
  },
  {
   "cell_type": "code",
   "execution_count": 100,
   "id": "0bca8b59-bc03-4e51-b3ba-c07e1dd5cfa1",
   "metadata": {},
   "outputs": [],
   "source": [
    "def g(x):\n",
    "    return(kpow(x+2,2))"
   ]
  },
  {
   "cell_type": "markdown",
   "id": "627afd73-3896-4a13-a45c-0165b2f386fc",
   "metadata": {},
   "source": [
    " <img src=\"images/p48c.png\" alt=\"ml\" style=\"width : 50%;\"/>"
   ]
  },
  {
   "cell_type": "code",
   "execution_count": 119,
   "id": "8a91180c-75a5-434b-9b36-3f5a53ad8a75",
   "metadata": {},
   "outputs": [],
   "source": [
    "def M(x):\n",
    "    return( 2*( simple_m(rpow(x)  ,'O') )-1) "
   ]
  },
  {
   "cell_type": "code",
   "execution_count": 120,
   "id": "e3b6f729-58df-4039-801b-f5846f873b39",
   "metadata": {},
   "outputs": [
    {
     "data": {
      "image/png": "[encoded data removed]",
      "text/latex": [
       "$\\displaystyle 2 x + 3$"
      ],
      "text/plain": [
       "2⋅x + 3"
      ]
     },
     "execution_count": 120,
     "metadata": {},
     "output_type": "execute_result"
    }
   ],
   "source": [
    "M(g(x))"
   ]
  },
  {
   "cell_type": "code",
   "execution_count": 121,
   "id": "b82ca90c-9b50-4d89-a94e-d69dcdc2f9d2",
   "metadata": {},
   "outputs": [
    {
     "data": {
      "text/latex": [
       "$\\displaystyle M(x)=\\;2 \\sqrt{x} - 1\\;$"
      ],
      "text/plain": [
       "<IPython.core.display.Math object>"
      ]
     },
     "metadata": {},
     "output_type": "display_data"
    }
   ],
   "source": [
    "sE(['M(x)=',M(x)])"
   ]
  },
  {
   "cell_type": "markdown",
   "id": "a0c61f9f-af8a-458f-a4e7-3d7ec0e7c3a4",
   "metadata": {},
   "source": [
    " <img src=\"images/linep.png\" alt=\"ml\" style=\"width : 100%;\"/>"
   ]
  },
  {
   "cell_type": "markdown",
   "id": "3fde1f19-c623-445c-936b-ca2c9badd90c",
   "metadata": {},
   "source": [
    " <img src=\"images/p49.png\" alt=\"ml\" style=\"width : 100%;\"/>"
   ]
  },
  {
   "cell_type": "markdown",
   "id": "8111a399-1aba-4e19-98e3-945c6efaaf28",
   "metadata": {},
   "source": [
    " <img src=\"images/lines.png\" alt=\"ml\" style=\"width : 100%;\"/>"
   ]
  },
  {
   "cell_type": "code",
   "execution_count": 2,
   "id": "af80b428-0b29-452f-ac3f-d820eb636bd9",
   "metadata": {
    "tags": []
   },
   "outputs": [],
   "source": [
    "x,B,a,b,n=symbols('x B a b n')"
   ]
  },
  {
   "cell_type": "code",
   "execution_count": 3,
   "id": "5c4c418e-470a-4aaf-a84f-5ed53752b26e",
   "metadata": {},
   "outputs": [],
   "source": [
    "def P(x):\n",
    "    return(simplify(factor(a*x+b)))"
   ]
  },
  {
   "cell_type": "markdown",
   "id": "b08ca69a-a200-4851-8b47-263156da6fa9",
   "metadata": {},
   "source": [
    " <img src=\"images/p49.png\" alt=\"ml\" style=\"width : 100%;\"/>"
   ]
  },
  {
   "cell_type": "code",
   "execution_count": 4,
   "id": "ede84a25-010a-4468-862b-52a3f0a5c9ea",
   "metadata": {},
   "outputs": [
    {
     "data": {
      "image/png": "[encoded data removed]",
      "text/latex": [
       "$\\displaystyle - \\frac{a^{- n} b \\left(a^{n} - 1\\right)}{a - 1}$"
      ],
      "text/plain": [
       "  -n   ⎛ n    ⎞ \n",
       "-a  ⋅b⋅⎝a  - 1⎠ \n",
       "────────────────\n",
       "     a - 1      "
      ]
     },
     "execution_count": 4,
     "metadata": {},
     "output_type": "execute_result"
    }
   ],
   "source": [
    "B1= (-b*(kpow(a,n)-1))/(kpow(a,n)*(a-1));B1"
   ]
  },
  {
   "cell_type": "markdown",
   "id": "bae39746-f8ec-4490-8e42-246b54de925e",
   "metadata": {},
   "source": [
    " <img src=\"images/p49.png\" alt=\"ml\" style=\"width : 100%;\"/>"
   ]
  },
  {
   "cell_type": "code",
   "execution_count": 5,
   "id": "711e15d5-a322-4f0a-98c8-32ea0b8251de",
   "metadata": {},
   "outputs": [
    {
     "data": {
      "image/png": "[encoded data removed]",
      "text/latex": [
       "$\\displaystyle \\frac{a^{- n} b \\left(a - a^{n}\\right)}{a - 1}$"
      ],
      "text/plain": [
       " -n   ⎛     n⎞\n",
       "a  ⋅b⋅⎝a - a ⎠\n",
       "──────────────\n",
       "    a - 1     "
      ]
     },
     "execution_count": 5,
     "metadata": {},
     "output_type": "execute_result"
    }
   ],
   "source": [
    "P(B1)"
   ]
  },
  {
   "cell_type": "code",
   "execution_count": 6,
   "id": "f0282b53-6065-488d-93b7-c67d1aebce0a",
   "metadata": {},
   "outputs": [
    {
     "data": {
      "image/png": "[encoded data removed]",
      "text/latex": [
       "$\\displaystyle \\frac{a^{- n} b \\left(a^{2} - a^{n}\\right)}{a - 1}$"
      ],
      "text/plain": [
       " -n   ⎛ 2    n⎞\n",
       "a  ⋅b⋅⎝a  - a ⎠\n",
       "───────────────\n",
       "     a - 1     "
      ]
     },
     "execution_count": 6,
     "metadata": {},
     "output_type": "execute_result"
    }
   ],
   "source": [
    "P(P(B1))"
   ]
  },
  {
   "cell_type": "code",
   "execution_count": 7,
   "id": "860bdcc3-838f-4848-b6ef-a19d17c92ec6",
   "metadata": {},
   "outputs": [
    {
     "data": {
      "image/png": "[encoded data removed]",
      "text/latex": [
       "$\\displaystyle \\frac{a^{- n} b \\left(a^{3} - a^{n}\\right)}{a - 1}$"
      ],
      "text/plain": [
       " -n   ⎛ 3    n⎞\n",
       "a  ⋅b⋅⎝a  - a ⎠\n",
       "───────────────\n",
       "     a - 1     "
      ]
     },
     "execution_count": 7,
     "metadata": {},
     "output_type": "execute_result"
    }
   ],
   "source": [
    "P(P(P(B1)))"
   ]
  },
  {
   "cell_type": "code",
   "execution_count": 8,
   "id": "e419f1aa-9f88-42c6-bc38-850fe9029a2d",
   "metadata": {},
   "outputs": [],
   "source": [
    "def Pn(x):\n",
    "    return(a**-n*b*(a**x-a**n)/(a-1))"
   ]
  },
  {
   "cell_type": "code",
   "execution_count": 9,
   "id": "32641529-9051-403c-a9c5-f6bd56fc1090",
   "metadata": {},
   "outputs": [
    {
     "data": {
      "image/png": "[encoded data removed]",
      "text/latex": [
       "$\\displaystyle \\frac{a^{- n} b \\left(- a^{n} + a^{x}\\right)}{a - 1}$"
      ],
      "text/plain": [
       " -n   ⎛   n    x⎞\n",
       "a  ⋅b⋅⎝- a  + a ⎠\n",
       "─────────────────\n",
       "      a - 1      "
      ]
     },
     "execution_count": 9,
     "metadata": {},
     "output_type": "execute_result"
    }
   ],
   "source": [
    "Pn(x)"
   ]
  },
  {
   "cell_type": "code",
   "execution_count": 11,
   "id": "6fae425b-9a50-456a-ba0f-61a814003cc0",
   "metadata": {},
   "outputs": [
    {
     "data": {
      "text/latex": [
       "$\\displaystyle P(P(P....P(B)...)) =0$"
      ],
      "text/plain": [
       "<IPython.core.display.Math object>"
      ]
     },
     "metadata": {},
     "output_type": "display_data"
    }
   ],
   "source": [
    "show_res(Pn(n),'P(P(P....P(B)...))')"
   ]
  }
 ],
 "metadata": {
  "kernelspec": {
   "display_name": "Python 3",
   "language": "python",
   "name": "python3"
  },
  "language_info": {
   "codemirror_mode": {
    "name": "ipython",
    "version": 3
   },
   "file_extension": ".py",
   "mimetype": "text/x-python",
   "name": "python",
   "nbconvert_exporter": "python",
   "pygments_lexer": "ipython3",
   "version": "3.6.6"
  }
 },
 "nbformat": 4,
 "nbformat_minor": 5
}
